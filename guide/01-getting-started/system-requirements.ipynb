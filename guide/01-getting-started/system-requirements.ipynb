{
 "cells": [
  {
   "cell_type": "markdown",
   "metadata": {},
   "source": [
    "# System requirements"
   ]
  },
  {
   "cell_type": "markdown",
   "metadata": {
    "toc": true
   },
   "source": [
    "<h1>Table of Contents<span class=\"tocSkip\"></span></h1>\n",
    "<div class=\"toc\"><ul class=\"toc-item\"><li><span><a href=\"#System-requirements\" data-toc-modified-id=\"System-requirements-1\"><span class=\"toc-item-num\">1&nbsp;&nbsp;</span>System requirements</a></span><ul class=\"toc-item\"><li><span><a href=\"#Operating-System\" data-toc-modified-id=\"Operating-System-1.1\"><span class=\"toc-item-num\">1.1&nbsp;&nbsp;</span>Operating System</a></span></li><li><span><a href=\"#Python-Version\" data-toc-modified-id=\"Python-Version-1.2\"><span class=\"toc-item-num\">1.2&nbsp;&nbsp;</span>Python Version</a></span></li><li><span><a href=\"#Dependencies\" data-toc-modified-id=\"Dependencies-1.3\"><span class=\"toc-item-num\">1.3&nbsp;&nbsp;</span>Dependencies</a></span><ul class=\"toc-item\"><li><span><a href=\"#Optional-Dependencies\" data-toc-modified-id=\"Optional-Dependencies-1.3.1\"><span class=\"toc-item-num\">1.3.1&nbsp;&nbsp;</span>Optional Dependencies</a></span></li></ul></li></ul></li></ul></div>"
   ]
  },
  {
   "cell_type": "markdown",
   "metadata": {},
   "source": [
    "## Operating System \n",
    "The ArcGIS API for Python 2.3.0 is compatible with 64-bit versions of Windows, macOS, and Linux. Note that, 32-bit versions of Windows and Linux are no longer supported for API versions later than 1.7.1.\n",
    "\n",
    "## Python Version\n",
    "Python 3.9.x to 3.11.x is required to use the ArcGIS API for Python 2.3.0.\n",
    "\n",
    "## Dependencies\n",
    "The full power of the ArcGIS API for Python is best experienced when all its dependencies are installed. However, specific tasks such as GIS administration and content management can be accomplished with a subset of dependencies installed. See [Install with minimum Dependencies](../install-and-set-up#install-with-minimum-dependencies) to install the `arcgis` package in this manner.\n",
    "\n",
    "It is recommended to install the `arcgis` package the default way of either `conda install -c esri arcgis` or `pipenv install arcgis`. When version 2.3.0 is installed in this manner, all the below dependencies are automatically installed. \n",
    "\n",
    "> __Note__ Most of these packages have dependencies of their own. For a full list of packages installed:\n",
    "  > * conda environment, type `conda list -n <environment_name>`.  \n",
    "  > * pipenv virtual environment: See [`Pipfile` and `Pipfile.lock`](https://pipenv.pypa.io/en/latest/pipfile/) for details. \n",
    "\n",
    "* [six](https://anaconda.org/esri/six)\n",
    "* [pandas>=2.2.0](https://anaconda.org/Esri/pandas) \n",
    "* [numpy>=1.21.6](https://anaconda.org/Esri/numpy) \n",
    "* [pyshp>=2](https://anaconda.org/conda-forge/pyshp/) \n",
    "* [matplotlib](https://anaconda.org/esri/matplotlib)\n",
    "* [matplotlib-inline](https://anaconda.org/anaconda/matplotlib-inline/)\n",
    "* [notebook](https://anaconda.org/esri/notebook)\n",
    "* [ipywidgets >=7,<8](https://anaconda.org/esri/ipywidgets)\n",
    "* [widgetsnbextension >=3](https://anaconda.org/esri/widgetsnbextension)\n",
    "* [keyring>=23.3.0](https://anaconda.org/esri/keyring)\n",
    "* [urllib3<2](https://anaconda.org/conda-forge/urllib3/)\n",
    "* [cachetools](https://anaconda.org/conda-forge/cachetools)\n",
    "* [lxml](https://anaconda.org/esri/lxml)\n",
    "* [cryptography](https://anaconda.org/esri/cryptography)\n",
    "* [jupyter-client<=6.1.12](https://anaconda.org/conda-forge/jupyter-client/)\n",
    "* [lerc](https://anaconda.org/esri/lerc/)\n",
    "* [ujson>=3](https://anaconda.org/conda-forge/ujson/)\n",
    "* [geomet](https://anaconda.org/esri/geomet/)\n",
    "* [requests>=2.27.1](https://anaconda.org/conda-forge/requests/)\n",
    "* [requests-oauthlib](https://anaconda.org/conda-forge/requests-oauthlib/)\n",
    "* [requests-toolbelt](https://anaconda.org/esri/requests-toolbelt/)\n",
    "* [requests_ntlm](https://anaconda.org/esri/requests_ntlm/)\n",
    "* [requests-gssapi](https://anaconda.org/esri/requests-gssapi/)\n",
    "* [truststore](https://anaconda.org/esri/truststore/)\n",
    "* [dask>=2023.3.2](https://anaconda.org/esri/dask/)\n",
    "* [pyspnego>=0.8.0](https://anaconda.org/conda-forge/pyspnego/)\n",
    "  * Python>=3.10\n",
    "* **Windows only:**\n",
    "  * [winkerberos](https://anaconda.org/esri/winkerberos)\n",
    "  * [python-certifi-win32](https://anaconda.org/esri/python-certifi-win32/)\n",
    "    * Python < 3.10\n",
    "  * [pywin32>=223](https://anaconda.org/conda-forge/pywin32/)\n",
    "  * [requests-negotiate-sspi](https://anaconda.org/esri/requests-negotiate-sspi/)\n",
    "  * [requests-kerberos](https://anaconda.org/esri/requests-kerberos/)\n",
    "\n",
    "> Note: if `arcpy` is found in the current python environment, it may be used in various locations. Otherwise, `pyshp` will be used. See [Spatially Enabled DataFrame](https://developers.arcgis.com/python/api-reference/arcgis.features.toc.html?highlight=geoaccessor#arcgis.features.GeoAccessor) for more information.\n",
    "\n",
    "### Optional Dependencies\n",
    "\n",
    "There are some other python packages that may be required to use certain functionality in the API, but are __not__ automatically installed. To use that functionality, you must manually call `conda install {package_name}` or `pipenv install {package_name}` for such optional packages."
   ]
  }
 ],
 "metadata": {
  "kernelspec": {
   "display_name": "Python 3 (ipykernel)",
   "language": "python",
   "name": "python3"
  },
  "language_info": {
   "codemirror_mode": {
    "name": "ipython",
    "version": 3
   },
   "file_extension": ".py",
   "mimetype": "text/x-python",
   "name": "python",
   "nbconvert_exporter": "python",
   "pygments_lexer": "ipython3",
   "version": "3.9.17"
  },
  "toc": {
   "base_numbering": 1,
   "nav_menu": {},
   "number_sections": true,
   "sideBar": true,
   "skip_h1_title": false,
   "title_cell": "Table of Contents",
   "title_sidebar": "Contents",
   "toc_cell": true,
   "toc_position": {},
   "toc_section_display": true,
   "toc_window_display": true
  },
  "varInspector": {
   "cols": {
    "lenName": 16,
    "lenType": 16,
    "lenVar": 40
   },
   "kernels_config": {
    "python": {
     "delete_cmd_postfix": "",
     "delete_cmd_prefix": "del ",
     "library": "var_list.py",
     "varRefreshCmd": "print(var_dic_list())"
    },
    "r": {
     "delete_cmd_postfix": ") ",
     "delete_cmd_prefix": "rm(",
     "library": "var_list.r",
     "varRefreshCmd": "cat(var_dic_list()) "
    }
   },
   "types_to_exclude": [
    "module",
    "function",
    "builtin_function_or_method",
    "instance",
    "_Feature"
   ],
   "window_display": false
  }
 },
 "nbformat": 4,
 "nbformat_minor": 1
}
