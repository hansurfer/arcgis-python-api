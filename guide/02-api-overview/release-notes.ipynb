{
 "cells": [
  {
   "cell_type": "markdown",
   "metadata": {},
   "source": [
    "# What's new in version 1.9.1"
   ]
  },
  {
   "cell_type": "markdown",
   "metadata": {},
   "source": [
    "## New\n",
    "* API-Reference documentation updates across many modules\n",
    "  * Adds hyperlinks to return value objects\n",
    "  * Adds text emphasis to terms within class, property, method and function descriptions\n",
    "  * Adds and expands upon code snippets\n",
    "  * Adds conceptual grouping of classes and submodules in [`mapping`](https://developers.arcgis.com/python/api-reference/arcgis.mapping.toc.html) module instead of presenting members alphabetically"
   ]
  },
  {
   "cell_type": "markdown",
   "metadata": {},
   "source": [
    "### [`Guides`](https://developers.arcgis.com/python/guide/)\n",
    "* Working with geometries\n",
    " * [Part 3 - Spatial operations on geometries](https://developers.arcgis.com/python/guide/part3-spatial-operations-on-geometries/)\n",
    "   * Adds `Area and Lengths` sections to `Pattern using arcgis.geometry.functions: uses server-side geometry engine` section\n",
    "* Deep Learning with ArcGIS\n",
    " * [Deep learning on time series data](https://developers.arcgis.com/python/guide/dl-on-time-series-data)\n",
    "   * Adds `Sequence Length` section\n",
    "\n",
    "**New Guides**:\n",
    "   * Adds [Using MMSegmentation with `arcgis.learn`](https://developers.arcgis.com/python/guide/using-mmsegmentation-with-arcgis-learn)\n",
    "   * Adds [Part 1 - Introduction to the Spatially Enabled DataFrame](https://developers.arcgis.com/python/guide/part1-introduction-to-sedf/). Subsequent parts are to be published in upcoming releases."
   ]
  },
  {
   "cell_type": "markdown",
   "metadata": {},
   "source": [
    "### [`Samples`](https://developers.arcgis.com/python/sample-notebooks/)\n",
    "* [`GIS analysts and data scientists`](https://developers.arcgis.com/python/sample-notebooks/)\n",
    " * **New Samples**:\n",
    "   * [Wildlife Species Identification in Camera Trap Images](https://developers.arcgis.com/python/sample-notebooks/wildlife-species-identification-in-camera-trap-images)\n",
    "   * [Multi-class change detection using image segmentation deep learning models](https://developers.arcgis.com/python/sample-notebooks/multi-class-change-detection-using-segmentation-deep-learning-models)\n",
    "   * [Detecting deforestation in the Amazon rainforest using unsupervised K-means clustering on satellite imagery](https://developers.arcgis.com/python/sample-notebooks/detecting-deforestation-using-kmeans-clustering-on-sentinel-imagery)\n",
    "   * [Coastline classification using Feature Classifier](https://developers.arcgis.com/python/sample-notebooks/coastline-classification-using-feature-classifier)\n",
    "   * [Classification of SfM-derived point clouds using deep learning](https://developers.arcgis.com/python/sample-notebooks/classification-of-sfm-derived-point-clouds-using-deep-learning/)\n",
    "   * [Glacial Terminus Extraction using HRNet](https://developers.arcgis.com/python/sample-notebooks/glacial-terminus-extraction-using-hrnet/)\n",
    "   * [Finetuning Pre-trained Building Footprint Model](https://developers.arcgis.com/python/sample-notebooks/finetuning-pre-trained-building-footprint-model)"
   ]
  },
  {
   "cell_type": "markdown",
   "metadata": {},
   "source": [
    "#### [`arcgis.gis`](https://developers.arcgis.com/python/api-reference/arcgis.gis.toc.html#)\n",
    "* Enhances security through added checks to update `certifi` library \n",
    "* [`GIS`](https://developers.arcgis.com/python/api-reference/arcgis.gis.toc.html#gis)\n",
    "  * Adds `proxy` keyword argument documentation to handle either `http` or `https` protocols\n",
    "* [`ContentManager`](https://developers.arcgis.com/python/api-reference/arcgis.gis.toc.html#contentmanager)\n",
    "  * [`clone_items()`](https://developers.arcgis.com/python/api-reference/arcgis.gis.toc.html#arcgis.gis.ContentManager.clone_items)\n",
    "   * Extends support for unhandled [`Item`](https://developers.arcgis.com/python/api-reference/arcgis.gis.toc.html#item) types by allowing for definition, registration and unregistration of custom classes\n",
    "   * Adds support for hosted `Map Services`\n",
    "* [`User`](https://developers.arcgis.com/python/api-reference/arcgis.gis.toc.html#user)\n",
    "  * Adds code snippet to [`folders`](https://developers.arcgis.com/python/api-reference/arcgis.gis.toc.html#arcgis.gis.User.folders) property "
   ]
  },
  {
   "cell_type": "markdown",
   "metadata": {},
   "source": [
    "#### [`arcgis.gis.server`](https://developers.arcgis.com/python/api-reference/arcgis.gis.server.html)\n",
    "* Add documentation to clarify return values for `list()` methods on [`ServerManager`](https://developers.arcgis.com/python/api-reference/arcgis.gis.server.html#arcgis.gis.server.ServerManager.list), [`ServicesDirectory`](https://developers.arcgis.com/python/api-reference/arcgis.gis.server.html#arcgis.gis.server.catalog.ServicesDirectory.list), and [`ServiceManager`](https://developers.arcgis.com/python/api-reference/arcgis.gis.server.html#arcgis.gis.server.ServiceManager.list)"
   ]
  },
  {
   "cell_type": "markdown",
   "metadata": {},
   "source": [
    "#### [`arcgis.gis.nb`](https://developers.arcgis.com/python/api-reference/arcgis.gis.nb.html)\n",
    "* **New Classes**\n",
    " * [`NotebookDataAccess`](https://developers.arcgis.com/python/api-reference/arcgis.gis.nb.html#notebookdataacess)\n",
    "   * accessed with the [`NotebookServer.data_access`](https://developers.arcgis.com/python/api-reference/arcgis.gis.nb.html#arcgis.gis.nb.NotebookServer.data_access) property\n",
    " * [`NotebookFile`](https://developers.arcgis.com/python/api-reference/arcgis.gis.nb.html#notebookfile)\n",
    "* [`NotebookServer`](https://developers.arcgis.com/python/api-reference/arcgis.gis.nb.html#notebookserver)\n",
    " * Adds [`data_access`](https://developers.arcgis.com/python/api-reference/arcgis.gis.nb.html#arcgis.gis.nb.NotebookServer.data_access) property"
   ]
  },
  {
   "cell_type": "markdown",
   "metadata": {},
   "source": [
    "#### [`arcgis.gis.workflowmanager`](https://developers.arcgis.com/python/api-reference/arcgis.gis.workflowmanager.html)\n",
    "* Adds documentation for:\n",
    " * [`JobLocation`](https://developers.arcgis.com/python/api-reference/arcgis.gis.workflowmanager.html#joblocation)\n",
    " * [`JobTemplate`](https://developers.arcgis.com/python/api-reference/arcgis.gis.workflowmanager.html#jobtemplate)\n",
    " * [`Group`](https://developers.arcgis.com/python/api-reference/arcgis.gis.workflowmanager.html#group)\n",
    " * [`SavedSearchesManager`](https://developers.arcgis.com/python/api-reference/arcgis.gis.workflowmanager.html#savedsearchesmanager)\n",
    " * [`WMRole`](https://developers.arcgis.com/python/api-reference/arcgis.gis.workflowmanager.html#wmrole)"
   ]
  },
  {
   "cell_type": "markdown",
   "metadata": {},
   "source": [
    "#### [`arcgis.gis.features`](https://developers.arcgis.com/python/api-reference/arcgis.features.toc.html)\n",
    "* **New Class**\n",
    " * [`EditFeatureJob`](https://developers.arcgis.com/python/api-reference/arcgis.features.toc.html#editfeaturejob)\n",
    "   * returned when `edit_features(future=True)`\n",
    "* [`FeatureLayer`](https://developers.arcgis.com/python/api-reference/arcgis.features.toc.html#featurelayer)\n",
    "   * Adds `future` parameter to [`edit_features()`](https://developers.arcgis.com/python/api-reference/arcgis.features.toc.html#arcgis.features.FeatureLayer.edit_features) so function can run asynchronously\n",
    " * Adds ability to create a Spatially Enabled DataFrame from the Protocol Buffer Format\n",
    "* [`FeatureSet`](https://developers.arcgis.com/python/api-reference/arcgis.features.toc.html#featureset)\n",
    " * Fixes issue where initializing an object from a file incorrectly formats date fields"
   ]
  },
  {
   "cell_type": "markdown",
   "metadata": {},
   "source": [
    "#### [`arcgis.features.managers`](https://developers.arcgis.com/python/api-reference/arcgis.features.managers.html)\n",
    "* [`FeatureLayerCollectionManager`](https://developers.arcgis.com/python/api-reference/arcgis.features.managers.html#featurelayercollectionmanager)\n",
    " * Fixes BUG-000133695 where [`overwrite()`](https://developers.arcgis.com/python/api-reference/arcgis.features.managers.html#arcgis.features.managers.FeatureLayerCollectionManager.overwrite) converts a [hosted Feature Layer](https://developers.arcgis.com/python/api-reference/arcgis.features.toc.html#featurelayer) to a [hosted Table](https://developers.arcgis.com/python/api-reference/arcgis.features.toc.html#table) when the source data is Excel"
   ]
  },
  {
   "cell_type": "markdown",
   "metadata": {},
   "source": [
    "#### [`arcgis.raster`](https://developers.arcgis.com/python/api-reference/arcgis.raster.toc.html#)\n",
    "* [`ImageryLayer()`](https://developers.arcgis.com/python/api-reference/arcgis.raster.toc.html#imagerylayer)\n",
    "  * Adds properties:\n",
    "   * [`item_info`](https://developers.arcgis.com/python/api-reference/arcgis.raster.toc.html#arcgis.raster.ImageryLayer.item_info)\n",
    "   * [`metadata`](https://developers.arcgis.com/python/api-reference/arcgis.raster.toc.html#arcgis.raster.ImageryLayer.metadata)\n",
    "  * Adds method:\n",
    "   * [`thumbnail()`](https://developers.arcgis.com/python/api-reference/arcgis.raster.toc.html#arcgis.raster.ImageryLayer.thumbnail)"
   ]
  },
  {
   "cell_type": "markdown",
   "metadata": {},
   "source": [
    "#### [`arcgis.raster.analytics`](https://developers.arcgis.com/python/api-reference/arcgis.raster.analytics.html)\n",
    "* Adds `md_to_upload` parameter to allow publishing `ImageryLayers` from existing mosaic datasets in `ArcGIS Online` to:\n",
    "  * [`create_image_collection()`](https://developers.arcgis.com/python/api-reference/arcgis.raster.analytics.html#create-image-collection)\n",
    "  * [`copy_raster()`](https://developers.arcgis.com/python/api-reference/arcgis.raster.analytics.html#copy-raster)\n",
    "* Adds code snippets for:\n",
    "  * [`optimal_path_as_line()`](https://developers.arcgis.com/python/api-reference/arcgis.raster.analytics.html#optimal-path-as-line)\n",
    "  * [`optimal_region_connections()`](https://developers.arcgis.com/python/api-reference/arcgis.raster.analytics.html#optimal-regional-connections),\n",
    "  * [`manage_multidimensional_raster()`](https://developers.arcgis.com/python/api-reference/arcgis.raster.analytics.html#manage-multidimensional-raster)\n",
    "  * [`sample()`](https://developers.arcgis.com/python/api-reference/arcgis.raster.analytics.html#sample)\n",
    "  * [`zonal_statistics_as_table()`](https://developers.arcgis.com/python/api-reference/arcgis.raster.analytics.html#zonal-statistics-as-table)\n",
    "* [`create_image_collection()`](https://developers.arcgis.com/python/api-reference/arcgis.raster.analytics.html#create-image-collection)\n",
    "  * Adds documentation to highlight support for local rasters as `input_rasters` argument"
   ]
  },
  {
   "cell_type": "markdown",
   "metadata": {},
   "source": [
    "#### [`arcgis.raster.functions`](https://developers.arcgis.com/python/api-reference/arcgis.raster.functions.html#)\n",
    "* Enhances API Reference documentation with more details and converts parameter lists to tabular format\n",
    "* [`convolution()`](https://developers.arcgis.com/python/api-reference/arcgis.raster.functions.html#convolution)\n",
    " * Adds NumPy array as an option for the `kernel` parameter\n",
    "* [`stretch()`](https://developers.arcgis.com/python/api-reference/arcgis.raster.functions.html#stretch)\n",
    " * Adds `colorramp` parameter\n",
    "* [`wndwi()`](https://developers.arcgis.com/python/api-reference/arcgis.raster.functions.html#wndwi)\n",
    " * Adds documentation "
   ]
  },
  {
   "cell_type": "markdown",
   "metadata": {},
   "source": [
    "#### [`arcgis.geoanalytics`](https://developers.arcgis.com/python/api-reference/arcgis.geoanalytics.toc.html)\n",
    "* [`use_proximity`](https://developers.arcgis.com/python/api-reference/arcgis.geoanalytics.use_proximity.html)\n",
    " * Adds [`group_by_proximity()`](https://developers.arcgis.com/python/api-reference/arcgis.geoanalytics.use_proximity.html#group-by-proximity) tool"
   ]
  },
  {
   "cell_type": "markdown",
   "metadata": {},
   "source": [
    "#### [`arcgis.geometry.functions`](https://developers.arcgis.com/python/api-reference/arcgis.geometry.functions.html)\n",
    "* Simplifies how units are specified by introducing two Enumerations. See code snippet for area_and_lengths: [`area_and_lengths`](https://developers.arcgis.com/python/api-reference/arcgis.geometry.functions.html#areas-and-lengths):\n",
    "  * [`AreaUnits`](https://developers.arcgis.com/python/api-reference/arcgis.geometry.functions.html#areaunits) for input as the `area_unit` parameter\n",
    "  * [`LengthUnits`](https://developers.arcgis.com/python/api-reference/arcgis.geometry.functions.html#lengthunits) for input as the `length_unit` parameter"
   ]
  },
  {
   "cell_type": "markdown",
   "metadata": {},
   "source": [
    "#### [`arcgis.widgets`](https://developers.arcgis.com/python/api-reference/arcgis.widgets.toc.html)\n",
    "* Adds note and code snippet for using [`MapView`](https://developers.arcgis.com/python/api-reference/arcgis.widgets.html#mapview) in a Jupyter Notebook running over `http`"
   ]
  },
  {
   "cell_type": "markdown",
   "metadata": {},
   "source": [
    "#### [`arcgis.learn`](https://developers.arcgis.com/python/api-reference/arcgis.learn.toc.html)\n",
    "* Blocks model training and adds error when training is not supported in ArcGIS Online Notebooks\n",
    "* Suppresses warning and info messages in ArcGIS Pro when tool execution is not impacted\n",
    "* Adds support for `torch.distributed` on Windows machines with the `gloo` backend\n",
    "* Adds data checks when searching across multiple folders to data to initialize object\n",
    "* Adds warning message when training classes do not match validation classes for data\n",
    "---\n",
    "* [`Data Preparation Methods`](https://developers.arcgis.com/python/api-reference/arcgis.learn.toc.html#data-preparation-methods)\n",
    " * [`prepare_data()`](https://developers.arcgis.com/python/api-reference/arcgis.learn.toc.html#prepare-data)\n",
    "   * Adds warning message when using [`prepare_data()`](https://developers.arcgis.com/python/api-reference/arcgis.learn.toc.html#prepare-data) for [`Tabular`](https://developers.arcgis.com/python/api-reference/arcgis.learn.toc.html#feature-tabular-and-timeseries-models) models with a batch size less than default because subsequent `lr_find()` operations fail\n",
    "   * Adds support for multiple image types when `dataset_type=ObjectTracking`\n",
    "   * Deprecates unnecessary keyword arguments. See API reference for warning\n",
    " * [`prepare_textdata()`](https://developers.arcgis.com/python/api-reference/arcgis.learn.toc.html#prepare-textdata)\n",
    "   * Adds parameter table to reference documentation\n",
    "* [`Object Classification Models`](https://developers.arcgis.com/python/api-reference/arcgis.learn.toc.html#object-classification-models)\n",
    " * [`FeatureClassifier`](https://developers.arcgis.com/python/api-reference/arcgis.learn.toc.html#featureclassifier)\n",
    "   * Adds parameter table to [`show_results()`](https://developers.arcgis.com/python/api-reference/arcgis.learn.toc.html#arcgis.learn.FeatureClassifier.show_results) documentation\n",
    "   * Deprecates following methods:\n",
    "     * [`categorize_features()`](https://developers.arcgis.com/python/api-reference/arcgis.learn.toc.html#arcgis.learn.FeatureClassifier.categorize_features)\n",
    "     * [`classify_features()`](https://developers.arcgis.com/python/api-reference/arcgis.learn.toc.html#arcgis.learn.FeatureClassifier.classify_features)\n",
    "* [`Object Detection Models`](https://developers.arcgis.com/python/api-reference/arcgis.learn.toc.html#object-detection-models)\n",
    " * [`SingleShotDetector`](https://developers.arcgis.com/python/api-reference/arcgis.learn.toc.html#singleshotdetector)\n",
    "   * Fixes `OverflowError` when training that occurs because of error initializing object\n",
    "* [`Pixel Classification Models`](https://developers.arcgis.com/python/api-reference/arcgis.learn.toc.html#pixel-classification-models)\n",
    " * [`ChangeDetector`](https://developers.arcgis.com/python/api-reference/arcgis.learn.toc.html#changedetector)\n",
    "   * Adds `Classified Tiles` to [`supported_datasets`](https://developers.arcgis.com/python/api-reference/arcgis.learn.toc.html#arcgis.learn.ChangeDetector.supported_datasets)\n",
    "* [`Image Translation Models`](https://developers.arcgis.com/python/api-reference/arcgis.learn.toc.html#image-translation-models)\n",
    "  * **New Models**\n",
    "    * [`Pix2PixHD`](https://developers.arcgis.com/python/api-reference/arcgis.learn.toc.html#pix2pixhd)\n",
    "  * Fixes `predict()` not working for Multispectral images of more than 4 bands for:\n",
    "     * [`CylceGAN`](https://developers.arcgis.com/python/api-reference/arcgis.learn.toc.html#cyclegan)\n",
    "     * [`Pix2Pix`](https://developers.arcgis.com/python/api-reference/arcgis.learn.toc.html#pix2pix)\n",
    "  * [`Pix2Pix`](https://developers.arcgis.com/python/api-reference/arcgis.learn.toc.html#pix2pix)\n",
    "    * Enhances `show_batch()` and `show_results()` by adding gap between ground truth and predictions for similar images\n",
    "    * Enhances code for [`predict()`](https://developers.arcgis.com/python/api-reference/arcgis.learn.toc.html#arcgis.learn.Pix2Pix.predict) and [`from_model()`](https://developers.arcgis.com/python/api-reference/arcgis.learn.toc.html#arcgis.learn.Pix2Pix.from_model)\n",
    "  * [`ImageCaptioner`](https://developers.arcgis.com/python/api-reference/arcgis.learn.toc.html?highlight=automl#imagecaptioner)\n",
    "    * Adds support for data exported from `ArcGIS Pro`\n",
    "* [`Object Tracking Models`](https://developers.arcgis.com/python/api-reference/arcgis.learn.toc.html#object-tracking-models)\n",
    " * Adds support for data exported from `ArcGIS Pro` to:\n",
    "   * [`SiamMask`](https://developers.arcgis.com/python/api-reference/arcgis.learn.toc.html#siammask)\n",
    "   * [`DeepSort`](https://developers.arcgis.com/python/api-reference/arcgis.learn.toc.html#arcgis.learn.DeepSort)\n",
    " * [`DeepSort`](https://developers.arcgis.com/python/api-reference/arcgis.learn.toc.html#arcgis.learn.DeepSort)\n",
    "   * Adds evaluation metrics in addition to `valid_loss`\n",
    "* [`Feature, Tabular and Timeseries Models`](https://developers.arcgis.com/python/api-reference/arcgis.learn.toc.html#feature-tabular-and-timeseries-models`)\n",
    "  * [`AutoML`](https://developers.arcgis.com/python/api-reference/arcgis.learn.toc.html?highlight=automl#automl)\n",
    "     * Enhances [`from_model()`](https://developers.arcgis.com/python/api-reference/arcgis.learn.toc.html?) to handle `empty_data` parameter internally\n",
    "     * Enhances [`fit()`](https://developers.arcgis.com/python/api-reference/arcgis.learn.toc.html?highlight=automl#arcgis.learn.AutoML.fit) method to save model in `temp` directory"
   ]
  },
  {
   "cell_type": "markdown",
   "metadata": {},
   "source": [
    "## Fixes"
   ]
  },
  {
   "cell_type": "markdown",
   "metadata": {},
   "source": [
    "### [`Guides`](https://developers.arcgis.com/python/guide/)\n",
    "* [`Get Started`](https://developers.arcgis.com/python/guide/)\n",
    " * [Install and set up](https://developers.arcgis.com/python/guide/install-and-set-up/)\n",
    "   * Updates `Install deep learning dependencies` and `Install using Python Command Prompt or Anaconda` section\n",
    "* [`Mapping and visualization`](https://developers.arcgis.com/python/guide/)\n",
    " * [Smart Mapping](https://developers.arcgis.com/python/guide/smart-mapping/)\n",
    "   * Updates search string for `USA freeway system` layer\n",
    "* [`Deep Learning with ArcGIS`](https://developers.arcgis.com/python/guide/)\n",
    " * [Point cloud classification using PointCNN](https://developers.arcgis.com/python/point_could_segmentation_using_pointcnn)\n",
    "   * Updates terminology to `classification` from `segmentation`\n",
    "   * Adds tips for new features\n",
    "   * Adds 3D tool information\n",
    "   * Refines environment setup steps\n",
    "   * Adds information about deprecated features\n",
    " * [How Multi-Task Road Extractor works ?](https://developers.arcgis.com/python/guide/how-multi-task-road-extractor-works/)\n",
    "   * Updates `Implementation in arcgis.learn` and `Setting up the environment` sections\n",
    " * [Classification of Raw Point Clouds using Deep Learning & generating 3D Building Models](https://developers.arcgis.com/python/sample-notebooks/creating-building-models-using-point-cloud-classification/)\n",
    "   * Updates workflow to reflect enhancements and deprecation in API\n",
    "   * Updates public data to reflect new geoprocessing workflow\n",
    "   * Expands information about parameters and formatting"
   ]
  },
  {
   "cell_type": "markdown",
   "metadata": {},
   "source": [
    "#### [`arcgis.gis`](https://developers.arcgis.com/python/api-reference/arcgis.gis.toc.html#)\n",
    "* [`GIS`](https://developers.arcgis.com/python/api-reference/arcgis.gis.toc.html#gis)\n",
    "  * Fixes issue with proxy servers that do not support `https`\n",
    "  * Fixes issue when initializing with `GIS(\"Pro\")` if not signed into an organization in `ArcGIS Pro`\n",
    "  * Fixes issue when initializing with `GIS(\"Pro\")` if active organization uses Integrated Windows Authentication\n",
    "* [`Item`](https://developers.arcgis.com/python/api-reference/arcgis.gis.toc.html#item)\n",
    "  * [`publish()`](https://developers.arcgis.com/python/api-reference/arcgis.gis.toc.html#arcgis.gis.Item.publish)\n",
    "    * Fixes failure for `file_type='excel'`\n",
    "    * Fixes inconsistencies in publishing csv and excel files to ArcGIS Online and ArcGIS Enterprise\n",
    "  * Fixes BUG-000123987 where [`download`](https://developers.arcgis.com/python/api-reference/arcgis.gis.toc.html#arcgis.gis.Item.download) method stripped non-alphanumeric characters from the file name on `ArcGIS Online` "
   ]
  },
  {
   "cell_type": "markdown",
   "metadata": {},
   "source": [
    "#### [`arcgis.gis.admin`](https://developers.arcgis.com/python/api-reference/arcgis.gis.admin.html)\n",
    "* [`EnterpriseUsers`](https://developers.arcgis.com/python/api-reference/arcgis.gis.admin.html#arcgis.gis.admin.EnterpriseUsers.get)\n",
    " * Fixes incorrect request format sent by [`get()`](https://developers.arcgis.com/python/api-reference/arcgis.gis.admin.html#arcgis.gis.admin.EnterpriseUsers.get) method\n",
    " * Fixes BUG-000141402 where [`create()`](https://developers.arcgis.com/python/api-reference/arcgis.gis.admin.html#arcgis.gis.admin.EnterpriseUsers.create) returns `AttributeError` when creating `builtin` user"
   ]
  },
  {
   "cell_type": "markdown",
   "metadata": {},
   "source": [
    "#### [`arcgis.gis.server`](https://developers.arcgis.com/python/api-reference/arcgis.gis.server.html)\n",
    "* [`LogManager`](https://developers.arcgis.com/python/api-reference/arcgis.gis.server.html#logmanager)\n",
    " * Fixes BUG-000141231 where [`query(export=True, export_type='CSV')`](https://developers.arcgis.com/python/api-reference/arcgis.gis.server.html#arcgis.gis.server.LogManager.query) returns `TypeError`"
   ]
  },
  {
   "cell_type": "markdown",
   "metadata": {},
   "source": [
    "#### [`arcgis.gis.mission`](https://developers.arcgis.com/python/api-reference/arcgis.gis.mission.html)\n",
    "* [`LogManager`](https://developers.arcgis.com/python/api-reference/arcgis.gis.mission.html#logmanager)\n",
    " * Fixes BUG-000141231 where [`query(export=True, export_type='CSV')`](https://developers.arcgis.com/python/api-reference/arcgis.gis.mission.html#arcgis.gis.mission._logs.LogManager.query) returns `TypeError`"
   ]
  },
  {
   "cell_type": "markdown",
   "metadata": {},
   "source": [
    "#### [`arcgis.gis.nb`](https://developers.arcgis.com/python/api-reference/arcgis.gis.nb.html)\n",
    "* [`LogManager`](https://developers.arcgis.com/python/api-reference/arcgis.gis.nb.html#logmanager)\n",
    " * Fixes `NameError` when `start_time` and `end_time` arguments are used with [`query()`](https://developers.arcgis.com/python/api-reference/arcgis.gis.nb.html#arcgis.gis.nb.LogManager.query)\n",
    " * Fixes BUG-000141231 where [`query(export=True, export_type='CSV')`](https://developers.arcgis.com/python/api-reference/arcgis.gis.nb.html#arcgis.gis.nb.LogManager.query) returns `TypeError`"
   ]
  },
  {
   "cell_type": "markdown",
   "metadata": {},
   "source": [
    "#### [`arcgis.gis.features`](https://developers.arcgis.com/python/api-reference/arcgis.features.toc.html)\n",
    "* Optimizes request sent to server for default `where` clause of `query()` method for:\n",
    " * [`FeatureLayer`](https://developers.arcgis.com/python/api-reference/arcgis.features.toc.html#featurelayer)\n",
    " * [`Table`](https://developers.arcgis.com/python/api-reference/arcgis.features.toc.html#table)\n",
    "* [`FeatureLayer`](https://developers.arcgis.com/python/api-reference/arcgis.features.toc.html#featurelayer)\n",
    " * Fixes [`edit_features()`](https://developers.arcgis.com/python/api-reference/arcgis.features.toc.html#arcgis.features.FeatureLayer.edit_features) to accept `Geometry.JSON` as input format for geometries\n",
    " * Fixes `AttributeError` when [`query()`](https://developers.arcgis.com/python/api-reference/arcgis.features.toc.html#arcgis.features.FeatureLayer.query) used on services that do not cache results\n",
    "* [`GeoAccessor`](https://developers.arcgis.com/python/api-reference/arcgis.features.toc.html#geoaccessor) - the Spatially Enabled DataFrame\n",
    " * Fixes issue with [`plot()`](https://developers.arcgis.com/python/api-reference/arcgis.features.toc.html#arcgis.features.GeoAccessor.plot) and the `Class Breaks Renderer` where largest value in the classifiction becomes a class by itself\n",
    " * Fixes issue with [`to_featureclass()`](https://developers.arcgis.com/python/api-reference/arcgis.features.toc.html#arcgis.features.GeoAccessor.to_featureclass) changing field names upon export\n",
    "* [`FeatureCollection`](https://developers.arcgis.com/python/api-reference/arcgis.features.toc.html#featurecollection)\n",
    " * Removes hard-coded image link for default symbology code"
   ]
  },
  {
   "cell_type": "markdown",
   "metadata": {},
   "source": [
    "#### [`arcgis.features.analysis`](https://developers.arcgis.com/python/api-reference/arcgis.analysis.toc.html)\n",
    "* [`arcgis.features.use_proximity`](https://developers.arcgis.com/python/api-reference/arcgis.features.use_proximity.html)\n",
    " * Fixes issue with multiple functions when using dictionaries as input to various parameters\n",
    "* [`arcgis.features.analyze_patterns`](https://developers.arcgis.com/python/api-reference/arcgis.features.analyze_patterns.html)\n",
    " * [`find_point_clusters()`](https://developers.arcgis.com/python/api-reference/arcgis.features.analyze_patterns.html#find-point-clusters)\n",
    "   * Fixes ENH-000140250 where `Failed to execute error` returned if the `output_name` argument has spaces in it"
   ]
  },
  {
   "cell_type": "markdown",
   "metadata": {},
   "source": [
    "#### [`arcgis.features.managers`](https://developers.arcgis.com/python/api-reference/arcgis.features.managers.html)\n",
    "* [`ParcelFabricManager`](https://developers.arcgis.com/python/api-reference/arcgis.features.managers.html#parcelfabricmanager)\n",
    " * Fixes incorrect property check with [`duplicate()`](https://developers.arcgis.com/python/api-reference/arcgis.features.managers.html#arcgis.features._parcel.ParcelFabricManager.duplicate) method"
   ]
  },
  {
   "cell_type": "markdown",
   "metadata": {},
   "source": [
    "#### [`arcgis.raster`](https://developers.arcgis.com/python/api-reference/arcgis.raster.toc.html#)\n",
    "* [`RasterCollection`](https://developers.arcgis.com/python/api-reference/arcgis.raster.toc.html#rastercollection)\n",
    "  * Fixes code snippet for [`map()`](https://developers.arcgis.com/python/api-reference/arcgis.raster.toc.html#arcgis.raster.RasterCollection.map) method\n",
    "  * Fixes [`max()`](https://developers.arcgis.com/python/api-reference/arcgis.raster.toc.html#arcgis.raster.RasterCollection.max) failure on object created from an `ImageryLayer` url\n",
    "* [`ImageryLayer`]()\n",
    "  * Fixes [`compute_histograms()`](https://developers.arcgis.com/python/api-reference/arcgis.raster.toc.html#arcgis.raster.ImageryLayer.compute_histograms) to properly work with time extent passed as a list of `datetime.date` objects"
   ]
  },
  {
   "cell_type": "markdown",
   "metadata": {},
   "source": [
    "#### [`arcgis.raster.analytics`](https://developers.arcgis.com/python/api-reference/arcgis.raster.analytics.html)\n",
    "* [`predict_using_trend_raster`](https://developers.arcgis.com/python/api-reference/arcgis.raster.analytics.html#predict-using-trend-raster)\n",
    " * Fixes incorrect format used in the request sent with a `dimension_values` argument for ArcGIS Online"
   ]
  },
  {
   "cell_type": "markdown",
   "metadata": {},
   "source": [
    "#### [`arcgis.raster.functions`](https://developers.arcgis.com/python/api-reference/arcgis.raster.functions.html#)\n",
    "* [`convolution()`](https://developers.arcgis.com/python/api-reference/arcgis.raster.functions.html#convolution)\n",
    " * Fixes issue with incorrect output for user-defined kernels\n",
    "* [`multidimensional_filter()`](https://developers.arcgis.com/python/api-reference/arcgis.raster.functions.html#arcgis.raster.functions.multidimensional_filter)\n",
    " * Fixes issue where function returns the same data if the input is reclusively aggregated data\n",
    "* [`compute_change()`](https://developers.arcgis.com/python/api-reference/arcgis.raster.functions.html#compute-change)\n",
    " * Fixes issue when chaining with other functions"
   ]
  },
  {
   "cell_type": "markdown",
   "metadata": {},
   "source": [
    "#### [`arcgis.geometry`](https://developers.arcgis.com/python/api-reference/arcgis.geometry.toc.html)\n",
    "* Fixes BUG-000135965 where [`WKT`](https://developers.arcgis.com/python/api-reference/arcgis.geometry.html#arcgis.geometry.Geometry.WKT) and [`WKB`](https://developers.arcgis.com/python/api-reference/arcgis.geometry.html#arcgis.geometry.Geometry.WKT) properties of `Geometry` objects were returning non-standard `ogc` formatting\n",
    "  * implements [`GeoMet`](https://github.com/geomet/geomet) library to address issue\n",
    "* Fixes issue where [`JSON`](https://developers.arcgis.com/python/api-reference/arcgis.geometry.html#arcgis.geometry.Geometry.JSON) property returned incorrect format"
   ]
  },
  {
   "cell_type": "markdown",
   "metadata": {},
   "source": [
    "#### [`arcgis.geometry.functions`](https://developers.arcgis.com/python/api-reference/arcgis.geometry.functions.html)\n",
    "* Fixes missing `distance_unit` parameter and logic to [`distance()`](https://developers.arcgis.com/python/api-reference/arcgis.geometry.html#distance)\n",
    "* Corrects [`areas_and_lengths()`](https://developers.arcgis.com/python/api-reference/arcgis.geometry.functions.html#areas-and-lengths) documentation"
   ]
  },
  {
   "cell_type": "markdown",
   "metadata": {},
   "source": [
    "#### [`arcgis.mapping`](https://developers.arcgis.com/python/api-reference/arcgis.mapping.toc.html)\n",
    "* [`WebMap`](https://developers.arcgis.com/python/api-reference/arcgis.mapping.toc.html#webmap)\n",
    " * Fixes BUG-000133736 where a `Vector Tile Service` item saved in a WebMap returned \"The item you requested cannot be found. The item may have been deleted or you may have entered an incorrect URL\" when attempting to open it\n",
    "* [`OfflineMapAreaManager`](https://developers.arcgis.com/python/api-reference/arcgis.mapping.toc.html#offlinemapareamanager)\n",
    " * Fixes issue with [`create()`](https://developers.arcgis.com/python/api-reference/arcgis.mapping.toc.html#arcgis.mapping.OfflineMapAreaManager.create) using the `active_gis` instead of the `WebMap` item's gis\n",
    " * Fixes issue where `tile_services` argument is ignored"
   ]
  },
  {
   "cell_type": "markdown",
   "metadata": {},
   "source": [
    "#### [`arcgis.learn`](https://developers.arcgis.com/python/api-reference/arcgis.learn.toc.html)\n",
    "* Fixes extra checkpoint getting saved with `fit(checkpoint='all', early_stopping=True)` on models\n",
    "* Fixes inferencing with multiple `GPUs` on Linux servers\n",
    "* Fixes `OSError: Too many files open` error when calling `save()` on:\n",
    "  * [`SuperResolution`](https://developers.arcgis.com/python/api-reference/arcgis.learn.toc.html#superresolution)\n",
    "  * [`Pix2Pix`](https://developers.arcgis.com/python/api-reference/arcgis.learn.toc.html#pix2pix)\n",
    "  * [`ChangeDetector`](https://developers.arcgis.com/python/api-reference/arcgis.learn.toc.html#changedetector)\n",
    "  * [`MultiTaskRoadExtractor`](https://developers.arcgis.com/python/api-reference/arcgis.learn.toc.html#multitaskroadextractor)\n",
    "* Fixes `IndexError` when training of models is interrupted during the first epoch\n",
    "---\n",
    "* [`Data Preparation Methods`](https://developers.arcgis.com/python/api-reference/arcgis.learn.toc.html#data-preparation-methods)\n",
    " * [`prepare_data()`](https://developers.arcgis.com/python/api-reference/arcgis.learn.toc.html#arcgis.learn.prepare_data)\n",
    "   * Fixes incorrect format for `downsample_factor` keyword parameter\n",
    "   * Fixes incomplete progress when applying transformations for `dataset_type='ObjectTracking'`\n",
    "   * Fixes issue where function exits cleanly even when no valid images are provided\n",
    "* [`Object Classification Models`](https://developers.arcgis.com/python/api-reference/arcgis.learn.toc.html#object-classification-models)\n",
    " * [`FeatureClassifier`](https://developers.arcgis.com/python/api-reference/arcgis.learn.toc.html#featureclassifier)\n",
    "    * Suppresses unnecessary warning messages and lack of predicted images when visualizing with:\n",
    "       * [`plot_hard_examples()`](https://developers.arcgis.com/python/api-reference/arcgis.learn.toc.html#arcgis.learn.FeatureClassifier.plot_hard_examples)\n",
    "       * [`predict()`](https://developers.arcgis.com/python/api-reference/arcgis.learn.toc.html#arcgis.learn.FeatureClassifier.predict)\n",
    "    * Fixes `AttributeError` on model intialized with `MultiLabel RGB` or `MultiSpectral` data and subsequently running [`fit(epochs = 10,monitor='multi_label_fbeta')`](https://developers.arcgis.com/python/api-reference/arcgis.learn.toc.html#arcgis.learn.FeatureClassifier.fit)\n",
    "    * Fixes `RuntimeError` when using training data created with images of different sizes\n",
    "* [`Object Detection Models`](https://developers.arcgis.com/python/api-reference/arcgis.learn.toc.html#object-detection-models)\n",
    " * [`MMDetection`](https://developers.arcgis.com/python/api-reference/arcgis.learn.toc.html#mmdetection)\n",
    "   * Fixes initialization with `fcos` and `vfnet` models with an `ArcGIS Pro` environment\n",
    "   * Suppresses unnecessary warning messages when intializing using data in  `cascade_rpn`, `fcos`, `nas_fcos`, or `vfnet` formats\n",
    "* [`Pixel Classifiction Models`](https://developers.arcgis.com/python/api-reference/arcgis.learn.toc.html#pixel-classification-models)\n",
    " * [`MMSegmentation`](https://developers.arcgis.com/python/api-reference/arcgis.learn.toc.html#mmsegmentation)\n",
    "   * Fixes issue with `lr_find()` and `fit()` failing when a customer configuration is passed as the `model` argument during initialization\n",
    "   * Suppresses unncessary warning when initializing with the `dmnet` model\n",
    " * [`PSPNetClassifier`](https://developers.arcgis.com/python/api-reference/arcgis.learn.toc.html#pspnetclassifier)\n",
    "   * Fixes issue with incorrect `accuracy` score written to the emd file \n",
    "* [`Object Tracking Models`](https://developers.arcgis.com/python/api-reference/arcgis.learn.toc.html#object-tracking-models)\n",
    " * [`SiamMask`](https://developers.arcgis.com/python/api-reference/arcgis.learn.toc.html#siammask)\n",
    "   * Fixes [`from_model()`](https://developers.arcgis.com/python/api-reference/arcgis.learn.toc.html#arcgis.learn.SiamMask.from_model) when used with a model output from [`save()`](https://developers.arcgis.com/python/api-reference/arcgis.learn.toc.html#arcgis.learn.SiamMask.save)\n",
    " * [`DeepSort`](https://developers.arcgis.com/python/api-reference/arcgis.learn.toc.html#deepsort)\n",
    "   * Fixes output format for [`supported_backbones`](https://developers.arcgis.com/python/api-reference/arcgis.learn.toc.html#arcgis.learn.DeepSort.supported_backbones)\n",
    "   * Fixes issue where `accuracy` is returning binary values for [`show_results()`](https://developers.arcgis.com/python/api-reference/arcgis.learn.toc.html#arcgis.learn.DeepSort.show_results)\n",
    "* [`Feature, Tabular and Timeseries Models`](https://developers.arcgis.com/python/api-reference/arcgis.learn.toc.html#feature-tabular-and-timeseries-models`)\n",
    " * [`MLModel`](https://developers.arcgis.com/python/api-reference/arcgis.learn.toc.html#mlmodel)\n",
    "     * Fixes issue with [feature_importances_](https://developers.arcgis.com/python/api-reference/arcgis.learn.toc.html#arcgis.learn.MLModel.feature_importances_) property returning no output\n",
    " * [`AutoML`](https://developers.arcgis.com/python/api-reference/arcgis.learn.toc.html?highlight=automl#automl)\n",
    "    * Fixes [`from_model()`](https://developers.arcgis.com/python/api-reference/arcgis.learn.toc.html?) to handle `empty_data` to correctly search when notebook is in a different directory than model\n",
    "    * Fixes [`predict_proba()`](https://developers.arcgis.com/python/api-reference/arcgis.learn.toc.html?highlight=automl#arcgis.learn.AutoML.predict_proba) to correctly search field names used as explanatory variables\n",
    " * [`FullyConnectedNewtork`](https://developers.arcgis.com/python/api-reference/arcgis.learn.toc.html#fullyconnectednetwork)\n",
    "    * Fixes [`show_results()`](https://developers.arcgis.com/python/api-reference/arcgis.learn.toc.html#arcgis.learn.FullyConnectedNetwork.show_results) ignoring `rows` argument\n",
    "    * Fixes [`save(publish=True)`](https://developers.arcgis.com/python/api-reference/arcgis.learn.toc.html#arcgis.learn.FullyConnectedNetwork.save) properly returning the `dlpk` item id\n",
    "    * Removes unintended warnings from [`predict()`](https://developers.arcgis.com/python/api-reference/arcgis.learn.toc.html#arcgis.learn.FullyConnectedNetwork.predict) and [`feature_importances_()`](https://developers.arcgis.com/python/api-reference/arcgis.learn.toc.html#arcgis.learn.FullyConnectedNetwork.feature_importances_)\n",
    "    * Disables `explain` argument on [`predict()`](https://developers.arcgis.com/python/api-reference/arcgis.learn.toc.html#arcgis.learn.FullyConnectedNetwork.predict) which fails with a `TypeError` when `True`"
   ]
  },
  {
   "cell_type": "markdown",
   "metadata": {},
   "source": [
    "# What's new in version 1.9.0\n",
    "* Adds support for [**ArcGIS Enterprise on Kubernetes**](https://www.esri.com/arcgis-blog/products/arcgis-enterprise/announcements/what-is-arcgis-enterprise-on-kubernetes/)\n",
    "* Adds standardized `output_names` for all [`arcgis.geoanalytics`](https://developers.arcgis.com/python/api-reference/arcgis.geoanalytics.toc.html) and [`arcgis.features.analysis`](https://developers.arcgis.com/python/api-reference/arcgis.features.analysis.html) analysis tools\n",
    "* Updates the [`map widget`](https://developers.arcgis.com/python/api-reference/arcgis.widgets.html#mapview) to use JavaScript 4.19\n",
    "* Adds classes to manage [`ArcGIS Velocity`](https://doc.arcgis.com/en/iot/get-started/what-is-arcgis-velocity.htm) functionality\n",
    "* Enhances [API Reference for the ArcGIS API for Python](https://developers.arcgis.com/python/api-reference/)\n",
    "  * Adds text emphasis, links to class documentation when objects are returned, and code snippets:\n",
    "    * [`arcgis.features`](https://developers.arcgis.com/python/api-reference/arcgis.features.toc.html)\n",
    "    * [`arcgis.geometry`](https://developers.arcgis.com/python/api-reference/arcgis.geometry.html)\n",
    "    * [`arcgis.widgets`](https://developers.arcgis.com/python/api-reference/arcgis.widgets.html)"
   ]
  },
  {
   "cell_type": "markdown",
   "metadata": {},
   "source": [
    "## New"
   ]
  },
  {
   "cell_type": "markdown",
   "metadata": {},
   "source": [
    "### [`Guides`](https://developers.arcgis.com/python/guide/)\n",
    "* [Imagery and raster analysis](https://developers.arcgis.com/python/guide/)\n",
    "  * New Guides:\n",
    "    * [Create Imagery Layers](https://developers.arcgis.com/python/guide/creating-imagery-layers)\n",
    "* [Deep Learning with ArcGIS](https://developers.arcgis.com/python/guide/)\n",
    "  * Updates guides for default unfrozen backbone in text models\n",
    "  * New Guides:\n",
    "    * [Track objects using SiamMask](https://developers.arcgis.com/python/guide/track-objects-using-siammask)\n",
    "    * [Multi-object Tracking using ObjectTracker](https://developers.arcgis.com/python/guide/multi-object-tracking-using-object-tracker)\n",
    "  * [Inference only Text Models in [`arcgis.learn`](https://developers.arcgis.com/python/api-reference/arcgis.learn.toc.html)](https://developers.arcgis.com/python/guide/inference-only-text-models-in-arcgis-learn/)\n",
    "    * Adds _Choosing a different backbone than the default_ section and various text edits\n",
    "* [Geocoding guides](https://developers.arcgis.com/python/guide)\n",
    "  * [Part 1 - What is geocoding?](https://developers.arcgis.com/python/guide/part1-what-is-geocoding)\n",
    "  * [Part 2 - Locating addresses](https://developers.arcgis.com/python/guide/part2-locating-addresses)\n",
    "  * [Part 3 - Finding points of interest](https://developers.arcgis.com/python/guide/part3-finding-point-of-interests)\n",
    "  * [Part 4 - Batch geocode](https://developers.arcgis.com/python/guide/part4-batch-geocoding)\n",
    "  * [Part 5 - Reverse geocode](https://developers.arcgis.com/python/guide/part5-reverse-geocoding)\n",
    "  * [Part 6 - Custom geocoders](https://developers.arcgis.com/python/guide/part6-working-with-custom-geocoders)\n",
    "  * [Part 7 - Utility functions for geocoding](https://developers.arcgis.com/python/guide/part7-utility-functions-for-geocoding)"
   ]
  },
  {
   "cell_type": "markdown",
   "metadata": {},
   "source": [
    "### [`Samples`](https://developers.arcgis.com/python/sample-notebooks/)\n",
    "* Updates Runtime used in `Try It Live` Notebooks to 5.0\n",
    "* [GIS analysts and data scientists](https://developers.arcgis.com/python/sample-notebooks)\n",
    "  * Updates samples for default unfrozen backbone in text models\n",
    "  * New Samples:\n",
    "    * [Determining site suitability for oil palm plantation](https://developers.arcgis.com/python/sample-notebooks/determining-site-suitability-for-oil-palm-plantation)\n",
    "    * [Model explainibility for ML Models](https://developers.arcgis.com/python/sample-notebooks/model-explainability-using-shap-for-tabular_data)\n",
    "    * [Supervised learning of tabular data using AutoML](https://developers.arcgis.com/python/sample-notebooks/tabular-data-supervised-learning-using-automl)\n",
    "  * Updates symbols used in [Identifying suitable sites for new ALS clinics using location allocation analysis](https://developers.arcgis.com/python/sample-notebooks/identifying-suitable-sites-for-als-clinics-using-location-allocation-analysis/)\n",
    "  * Updates [SAR to RGB image translation using CycleGAN](https://developers.arcgis.com/python/sample-notebooks/sar-to-rgb-image-translation-using-cyclegan/) to include additional explanation and minor modifications to functions\n",
    "* [Content publishers](https://developers.arcgis.com/python/sample-notebooks)  \n",
    "  * Updates to [Publishing web maps and web scenes](https://developers.arcgis.com/python/sample-notebooks/publishing-web-maps-and-web-scenes/)"
   ]
  },
  {
   "cell_type": "markdown",
   "metadata": {},
   "source": [
    "#### [`arcgis.gis`](https://developers.arcgis.com/python/api-reference/arcgis.gis.toc.html#)\n",
    "* [`GIS`](https://developers.arcgis.com/python/api-reference/arcgis.gis.toc.html#gis)\n",
    "  * Adds [`notebook_server`](https://developers.arcgis.com/python/api-reference/arcgis.gis.toc.html#arcgis.gis.GIS.notebook_server) property to return the [`NotebookServer`](https://developers.arcgis.com/python/api-reference/arcgis.gis.nb.html#notebookserver) registered with the organization\n",
    "  * Adds Usage Examples for connecting with `token` and `api_key` parameters\n",
    "  * Adds Note to [`map()`](https://developers.arcgis.com/python/api-reference/arcgis.gis.toc.html#arcgis.gis.GIS.map) documentation that IE 11 is no longer supported\n",
    "  * Adds note on certificate path to `verify_cert` parameter\n",
    "  * Adds [`velocity`](https://developers.arcgis.com/python/api-reference/arcgis.gis.toc.html#arcgis.gis.GIS.velocity) property to manage `ArcGIS Velocity` functionality\n",
    "  * Adds properties:\n",
    "    * `servers`\n",
    "    * `languages`\n",
    "    * `regions`\n",
    "* [`Item`](https://developers.arcgis.com/python/api-reference/arcgis.gis.toc.html#item)\n",
    "  * Enhances [`usage()`](https://developers.arcgis.com/python/api-reference/arcgis.gis.toc.html#arcgis.gis.Item.usage) method to allow entering custom date ranges\n",
    "  * Adds ability to publish OGC Feature Service from existing Feature Layer `item` using the `output_type` parameter\n",
    "  * Adds [`snapshots`](https://developers.arcgis.com/python/api-reference/arcgis.gis.toc.html#arcgis.gis.Item.snapshots) property to return notebook item snapshots\n",
    "  * Adds `can_delete` property to check for ability to remove item\n",
    "* [`InvitationManager`](https://developers.arcgis.com/python/api-reference/arcgis.gis.toc.html#invitationmanager)\n",
    "  * Adds [`manage_invitations`](https://developers.arcgis.com/python/api-reference/arcgis.gis.toc.html#arcgis.gis._impl._invitations.InvitationManager.manage_invitations) method to allow users to accept or deny invitations by `invitationId`\n",
    "* [`ContentManager`](https://developers.arcgis.com/python/api-reference/arcgis.gis.toc.html#contentmanager)\n",
    "  * Adds `preserve_item_id` parameter to [`clone_items()`](https://developers.arcgis.com/python/api-reference/arcgis.gis.toc.html#arcgis.gis.ContentManager.clone_items) to keep the same `item_id` when target organization is **ArcGIS Enterprise 10.9 or later**\n",
    "* [`User`]()\n",
    "  * Adds `culture_format` parameter to [`update()`](https://developers.arcgis.com/python/api-reference/arcgis.gis.toc.html#arcgis.gis.User.update) method"
   ]
  },
  {
   "cell_type": "markdown",
   "metadata": {},
   "source": [
    "#### [`arcgis.gis.admin`](https://developers.arcgis.com/python/api-reference/arcgis.gis.admin.html)\n",
    "  * [`AGOLAdminManager`](https://developers.arcgis.com/python/api-reference/arcgis.gis.admin.html#agoladminmanager)\n",
    "    * Adds [`scheduled_tasks()`](https://developers.arcgis.com/python/api-reference/arcgis.gis.admin.html#arcgis.gis.admin.AGOLAdminManager.scheduled_tasks) method to allow `org_admins` to view scheduled [`tasks`](https://developers.arcgis.com/python/api-reference/arcgis.gis.tasks.html#task)"
   ]
  },
  {
   "cell_type": "markdown",
   "metadata": {},
   "source": [
    "#### [`arcgis.gis.server`](https://developers.arcgis.com/python/api-reference/arcgis.gis.server.html)\n",
    "* Adds documentation for:\n",
    "  * [`JobManager`](https://developers.arcgis.com/python/api-reference/arcgis.gis.server.html#jobmanager)\n",
    "  * [`Job`](https://developers.arcgis.com/python/api-reference/arcgis.gis.server.html#job)"
   ]
  },
  {
   "cell_type": "markdown",
   "metadata": {},
   "source": [
    "#### [`arcgis.gis.mission`](https://developers.arcgis.com/python/api-reference/arcgis.gis.mission.html#)\n",
    "* Adds documentation for:\n",
    "  * [`Mission`](https://developers.arcgis.com/python/api-reference/arcgis.gis.mission.html#mission)\n",
    "  * [`MissionCatalog`](https://developers.arcgis.com/python/api-reference/arcgis.gis.mission.html#missioncatalog)\n",
    "  * [`MissionJob`](https://developers.arcgis.com/python/api-reference/arcgis.gis.mission.html#missionjob)"
   ]
  },
  {
   "cell_type": "markdown",
   "metadata": {},
   "source": [
    "#### [`arcgis.gis.nb`](https://developers.arcgis.com/python/api-reference/arcgis.gis.nb.html#)\n",
    "* Adds classes to module:\n",
    "  * [`SnapshotManager`](https://developers.arcgis.com/python/api-reference/arcgis.gis.nb.html#snapshotmanager) class to manage [Notebook Snapshots](https://enterprise.arcgis.com/en/notebook/latest/use/windows/notebook-snapshots.htm#:~:text=Introduced%20at%20ArcGIS%20Enterprise%2010.9,files%20on%20the%20notebook%20item.)\n",
    "  * [`SnapShot`](https://developers.arcgis.com/python/api-reference/arcgis.gis.nb.html#snapshot) class to represent individual notebook item snapshot\n",
    "  * [`SystemManager`](https://developers.arcgis.com/python/api-reference/arcgis.gis.nb.html#systemmanager)\n",
    "  * [`DirectoryManager`](https://developers.arcgis.com/python/api-reference/arcgis.gis.nb.html#directorymanager)\n",
    "  * [`Container`](https://developers.arcgis.com/python/api-reference/arcgis.gis.nb.html#container)\n",
    "  * [`ContainerNotebook`](https://developers.arcgis.com/python/api-reference/arcgis.gis.nb.html#containernotebook)\n",
    "  * [`WebAdaptor`](https://developers.arcgis.com/python/api-reference/arcgis.gis.nb.html#webadaptor)\n",
    "  * [`WebAdaptorManager`](https://developers.arcgis.com/python/api-reference/arcgis.gis.nb.html#webadaptormanager)\n",
    "  * [`LogManager`](https://developers.arcgis.com/python/api-reference/arcgis.gis.nb.html#logmanager)\n",
    "  * [`SiteManager`](https://developers.arcgis.com/python/api-reference/arcgis.gis.nb.html#sitemanager)\n",
    "  * [`MachineManager`](https://developers.arcgis.com/python/api-reference/arcgis.gis.nb.html#machinemanager)\n",
    "  * [`Machine`](https://developers.arcgis.com/python/api-reference/arcgis.gis.nb.html#machine)\n",
    "  * [`SecurityManager`](https://developers.arcgis.com/python/api-reference/arcgis.gis.nb.html#securitymanager)"
   ]
  },
  {
   "cell_type": "markdown",
   "metadata": {},
   "source": [
    "#### [`arcgis.env`](https://developers.arcgis.com/python/api-reference/arcgis.env.html)\n",
    "* Adds `WKT` support to [`process_spatial_reference`](https://developers.arcgis.com/python/api-reference/arcgis.env.html#process-spatial-reference) and [`out_spatial_reference`](https://developers.arcgis.com/python/api-reference/arcgis.env.html#out-spatial-reference)"
   ]
  },
  {
   "cell_type": "markdown",
   "metadata": {},
   "source": [
    "#### [`arcgis.features`](https://developers.arcgis.com/python/api-reference/arcgis.features.toc.html#)\n",
    "* Adds internal job status checks for asynchronous jobs that impact many methods in the module\n",
    "* [`FeatureLayer`](https://developers.arcgis.com/python/api-reference/arcgis.features.toc.html#featurelayer)\n",
    "  * Adds incremental checking of job status to [`append()`](https://developers.arcgis.com/python/api-reference/arcgis.features.toc.html#arcgis.features.FeatureLayer.append) when run asynchronously\n",
    "  * Adds _required_ to the `source_table_name` parameter in the API Reference documentation for [`append()`](https://developers.arcgis.com/python/api-reference/arcgis.features.toc.html#arcgis.features.FeatureLayer.append)\n",
    "  * Adds capability to run following methods asynchronously:\n",
    "    * [`append()`](https://developers.arcgis.com/python/api-reference/arcgis.features.toc.html#arcgis.features.FeatureLayer.append)\n",
    "  * Updates how [`edit_features()`](https://developers.arcgis.com/python/api-reference/arcgis.features.toc.html#arcgis.features.FeatureLayer.edit_features) sends request with large amounts of data\n",
    "  * Adds support for a list of [`feature`](https://developers.arcgis.com/python/api-reference/arcgis.features.toc.html#feature) objects as `adds` argument to [`edit_features()`](https://developers.arcgis.com/python/api-reference/arcgis.features.toc.html#arcgis.features.FeatureLayer.edit_features)\n",
    "* [`Spatially Enabled DataFrame`](https://developers.arcgis.com/python/api-reference/arcgis.features.toc.html#geoaccessor)\n",
    "  * Adds `ValueError` to [`from_featureclass()`](https://developers.arcgis.com/python/api-reference/arcgis.features.toc.html#arcgis.features.GeoAccessor.from_featureclass) if `location` argument is not correct format"
   ]
  },
  {
   "cell_type": "markdown",
   "metadata": {},
   "source": [
    "#### [`arcgis.features.managers`](https://developers.arcgis.com/python/api-reference/arcgis.features.managers.html#)\n",
    "* [`FeatureLayerCollectionManager`](https://developers.arcgis.com/python/api-reference/arcgis.features.managers.html#featurelayercollectionmanager)\n",
    "  * Adds parameters to [`create_view()`](https://developers.arcgis.com/python/api-reference/arcgis.features.managers.html#arcgis.features.managers.FeatureLayerCollectionManager.create_view)\n",
    "    * `overwrite`\n",
    "    * `description`\n",
    "    * `tags`\n",
    "    * `snippet`\n",
    "    * `set_item_id`\n",
    "  * Adds ability to run following functions asynchronously:\n",
    "    * [`add_to_definition()`](https://developers.arcgis.com/python/api-reference/arcgis.features.managers.html#arcgis.features.managers.FeatureLayerCollectionManager.add_to_definition)\n",
    "    * [`delete_from_definition()`](https://developers.arcgis.com/python/api-reference/arcgis.features.managers.html#arcgis.features.managers.FeatureLayerCollectionManager.delete_from_definition)\n",
    "    * [`update_definition()`](https://developers.arcgis.com/python/api-reference/arcgis.features.managers.html#arcgis.features.managers.FeatureLayerCollectionManager.update_definition)\n",
    "  * Improves error messaging with [`overwrite()`](https://developers.arcgis.com/python/api-reference/arcgis.features.managers.html#arcgis.features.managers.FeatureLayerCollectionManager.overwrite) if outstanding replicas exist\n",
    "* [`FeatureLayerManager`](https://developers.arcgis.com/python/api-reference/arcgis.features.managers.html#featurelayermanager)\n",
    "  * Adds ability to run following functions asynchronously:\n",
    "    * [`add_to_definition()`](https://developers.arcgis.com/python/api-reference/arcgis.features.managers.html#arcgis.features.managers.FeatureLayerManager.add_to_definition)\n",
    "    * [`delete_from_definition()`](https://developers.arcgis.com/python/api-reference/arcgis.features.managers.html#arcgis.features.managers.FeatureLayerManager.delete_from_definition)\n",
    "    * [`update_definition()`](https://developers.arcgis.com/python/api-reference/arcgis.features.managers.html#arcgis.features.managers.FeatureLayerManager.update_definition)\n",
    "* [`ParcelFabricManager`](https://developers.arcgis.com/python/api-reference/arcgis.features.managers.html#parcelfabricmanager)\n",
    "  * Adds [`divide()`](https://developers.arcgis.com/python/api-reference/arcgis.features.managers.html#arcgis.features._parcel.ParcelFabricManager.divide) method\n",
    "* [`AttachmentManager`](https://developers.arcgis.com/python/api-reference/arcgis.features.managers.html#attachmentmanager)\n",
    "  * Adds parameters to the [`search()`](https://developers.arcgis.com/python/api-reference/arcgis.features.managers.html#attachmentmanager.search) method\n",
    "    * `return_metadata`\n",
    "    * `return_url`\n",
    "    * `max_records`\n",
    "    * `offset`"
   ]
  },
  {
   "cell_type": "markdown",
   "metadata": {},
   "source": [
    "#### [`arcgis.raster`](https://developers.arcgis.com/python/api-reference/arcgis.raster.toc.html#)\n",
    "* Adds numerous code snippets, documentation improvements and corrections to module and all submodules\n",
    "* Adds support for publishing a single image\n",
    "* Adds support for [_SpatioTemporal Asset Catalogs_](https://stacspec.org/)\n",
    "  * [Raster](https://developers.arcgis.com/python/api-reference/arcgis.raster.toc.html#raster)\n",
    "    * create Raster objects from stac items with [`from_stac_item()`](https://developers.arcgis.com/python/api-reference/arcgis.raster.toc.html#arcgis.raster.Raster.from_stac_item)\n",
    "  * [RasterCollection](https://developers.arcgis.com/python/api-reference/arcgis.raster.toc.html#rastercollection)\n",
    "    * create RasterCollection objects from stac api search queries with [`from_stac_api()`](https://developers.arcgis.com/python/api-reference/arcgis.raster.toc.html#arcgis.raster.RasterCollection.from_stac_api)\n",
    "    * create RasterCollection objects from stac catalogs with [`from_stac_catalog()`](https://developers.arcgis.com/python/api-reference/arcgis.raster.toc.html#arcgis.raster.RasterCollection.from_stac_catlog)\n",
    "* [`ImageryLayer`](https://developers.arcgis.com/python/api-reference/arcgis.raster.toc.html#imagerylayer)\n",
    "  * Adds [`plot_histograms()`](https://developers.arcgis.com/python/api-reference/arcgis.raster.toc.html#arcgis.raster.ImageryLayer.project) method\n",
    "  * Updates `nodata` values to appear white with tiles only services\n",
    "  * Updates [`export_image()`](https://developers.arcgis.com/python/api-reference/arcgis.raster.toc.html#arcgis.raster.ImageryLayer.export_image) to include `numpy_array` as an option for the `f` argument\n",
    "  * Adds full support for creating Dynamic Imagery Layers with the [`save(tiles_only=False)`](https://developers.arcgis.com/python/api-reference/arcgis.raster.toc.html#arcgis.raster.ImageryLayer.save) argument"
   ]
  },
  {
   "cell_type": "markdown",
   "metadata": {},
   "source": [
    "#### [`arcgis.raster.analytics`](https://developers.arcgis.com/python/api-reference/arcgis.raster.analytics.html)\n",
    "* Adds full support for creating Dynamic Imagery Layers to ArcGIS Online with `tiles_only=False` argument with those functions accepting it\n",
    "* [`aggregate_multidimensional_raster()`](https://developers.arcgis.com/python/api-reference/arcgis.raster.analytics.html#aggregate-multidimensional-raster)\n",
    "  * Corrects example for `interval_ranges` parameter\n",
    "  * New parameters:\n",
    "    * `dimensionless`\n",
    "    * `percentile_value`\n",
    "    * `percentile_interpolation_type`\n",
    "  * Adds `PERCENTILE` as option for `aggregation_method` argument\n",
    "* Adds following to [`create_image_collection()`](https://developers.arcgis.com/python/api-reference/arcgis.raster.analytics.html#create-image-collection) and [`copy_raster()`](https://developers.arcgis.com/python/api-reference/arcgis.raster.analytics.html#copy-raster)\n",
    "  * Updates `context` parameter documentation with  `upload_properties` key for parallel processing and progress bar\n",
    "  * Adds `Tiled Imagery Layer` as an option for the `raster_type_name` argument\n",
    "  * Adds numerous Usage Examples to the reference documentation\n",
    "* [`create_image_collection()`](https://developers.arcgis.com/python/api-reference/arcgis.raster.analytics.html#create-image-collection)\n",
    "  * Removes `tiles_only` parameter"
   ]
  },
  {
   "cell_type": "markdown",
   "metadata": {},
   "source": [
    "#### [`arcgis.raster.functions`](https://developers.arcgis.com/python/api-reference/arcgis.raster.functions.html#)\n",
    "* Adds to [`aggregate()`](https://developers.arcgis.com/python/api-reference/arcgis.raster.functions.html#aggregate):\n",
    "  * `PERCENTILE` as option for `aggregate_function` argument \n",
    "  * New parameters:\n",
    "    * `dimensionless`\n",
    "    * `percentile_value`\n",
    "    * `percentile_interpolation_type`\n",
    "* Adds to [`max()`](https://developers.arcgis.com/python/api-reference/arcgis.raster.functions.html#max)\n",
    "  * `ignore_nodata` parameter"
   ]
  },
  {
   "cell_type": "markdown",
   "metadata": {},
   "source": [
    "#### [`arcgis.raster.functions.gbl`](https://developers.arcgis.com/python/api-reference/arcgis.raster.functions.gbl.html)\n",
    "* Adds function:\n",
    "  * [`viewshed()`](https://developers.arcgis.com/python/api-reference/arcgis.raster.functions.gbl.html#viewshed)\n",
    "* Deprecates [`least_cost_path()`](https://developers.arcgis.com/python/api-reference/arcgis.raster.functions.gbl.html?#arcgis.raster.functions.gbl.least_cost_path) function"
   ]
  },
  {
   "cell_type": "markdown",
   "metadata": {},
   "source": [
    "#### [`arcgis.raster.utils`](https://developers.arcgis.com/python/api-reference/arcgis.raster.utils.html)\n",
    "* [`upload_imagery_to_agol_userstore()`](https://developers.arcgis.com/python/api-reference/arcgis.raster.utils.html#upload-imagery-to-agol-userstore)\n",
    "  * Adds documentation and code snippet\n",
    "  * Adds parameters:\n",
    "    * `auto_renew`\n",
    "    * `upload_properties` - to support parallel processing and provide option for progress bar"
   ]
  },
  {
   "cell_type": "markdown",
   "metadata": {},
   "source": [
    "#### [`arcgis.network`](https://developers.arcgis.com/python/api-reference/arcgis.network.html#)\n",
    "* Updates how methods handle setting default `travel_mode` when not supplied"
   ]
  },
  {
   "cell_type": "markdown",
   "metadata": {},
   "source": [
    "#### [`arcgis.geoanalytics`](https://developers.arcgis.com/python/api-reference/arcgis.geoanalytics.toc.html)\n",
    "* Adds `WKT` support for `context` parameter in all functions\n",
    "\n",
    "* [`summarize_data`](https://developers.arcgis.com/python/api-reference/arcgis.geoanalytics.summarize_data.html#)\n",
    "  * Adds `keep_target` parameter to [`join_features()`](https://developers.arcgis.com/python/api-reference/arcgis.geoanalytics.summarize_data.html#join-features)\n",
    "  * Adds parameters to [`reconstruct_tracks()`](https://developers.arcgis.com/python/api-reference/arcgis.geoanalytics.summarize_data.html#reconstruct-tracks)\n",
    "    * `arcade_split`\n",
    "    * `split_boundary`\n",
    "* [`manage_data`](https://developers.arcgis.com/python/api-reference/arcgis.geoanalytics.manage_data.html#)\n",
    "  * [`overlay_data()`](https://developers.arcgis.com/python/api-reference/arcgis.geoanalytics.manage_data.html#overlay-data)\n",
    "    * Updates `include_overlaps` parameter documentation \n",
    "  * [`append_data()`](https://developers.arcgis.com/python/api-reference/arcgis.geoanalytics.manage_data.html#append_data)\n",
    "    * Adds code sample for the `field_mappings` parameter"
   ]
  },
  {
   "cell_type": "markdown",
   "metadata": {},
   "source": [
    "#### [`arcgis.mapping.ogc`](https://developers.arcgis.com/python/api-reference/arcgis.mapping.ogc.html#)\n",
    "* Adds submodule documentation:\n",
    "  * [`arcgis.mapping.forms`](https://developers.arcgis.com/python/api-reference/arcgis.mapping.forms.html)\n",
    "* Adds new classes:\n",
    "  * [`OGCFeatureService`](https://developers.arcgis.com/python/api-reference/arcgis.mapping.ogc.html#ogcfeatureservice) to represent an OGC Feature Server\n",
    "  * [`OGCCollection`](https://developers.arcgis.com/python/api-reference/arcgis.mapping.ogc.html#ogccollection) to represent an individual OGC dataset\n",
    "* [`WebMap`](https://developers.arcgis.com/python/api-reference/arcgis.mapping.toc.html#webmap)\n",
    "  * Adds reference documentation for:\n",
    "    * [`forms`](https://developers.arcgis.com/python/api-reference/arcgis.mapping.toc.html#arcgis.mapping.WebMap.forms) property\n",
    "    * [`print()`](https://developers.arcgis.com/python/api-reference/arcgis.mapping.toc.html#arcgis.mapping.WebMap.print) method\n",
    "  "
   ]
  },
  {
   "cell_type": "markdown",
   "metadata": {},
   "source": [
    "#### [`arcgis.realtime`](https://developers.arcgis.com/python/api-reference/arcgis.realtime.html#)\n",
    "* Adds new classes:\n",
    "  * [`Velocity`](https://developers.arcgis.com/python/api-reference/arcgis.realtime.html#velocity)\n",
    "  * [`FeedsManager`](https://developers.arcgis.com/python/api-reference/arcgis.realtime.html#feedsmanager)\n",
    "  * [`RealTimeAnalyticsManager`](https://developers.arcgis.com/python/api-reference/arcgis.realtime.html#realtimeanalyticsmanager)\n",
    "  * [`BigDataAnalyticsManager`](https://developers.arcgis.com/python/api-reference/arcgis.realtime.html#bigdataanalyticsmanager)\n",
    "  * [`Feed`](https://developers.arcgis.com/python/api-reference/arcgis.realtime.html#feed)\n",
    "  * [`RealTimeAnalytics`](https://developers.arcgis.com/python/api-reference/arcgis.realtime.html#realtimeanalytics)\n",
    "  * [`BigDataAnalytics`](https://developers.arcgis.com/python/api-reference/arcgis.realtime.html#bigdataanalytics)"
   ]
  },
  {
   "cell_type": "markdown",
   "metadata": {},
   "source": [
    "#### [`arcgis.learn`](https://developers.arcgis.com/python/api-reference/arcgis.learn.toc.html)\n",
    "* Enhances training (`fit()` method) for all models to add the `average precision score` as an option for the `monitor` parameter\n",
    "* Enhances `available_metrics` property to report in `ArcGIS Pro`\n",
    "* Adds support for loading pre-trained Imagery models in an offline mode\n",
    "* Adds `Experimental` support for `tflite` as the framework for:\n",
    "  * [`FeatureClassifier`](https://developers.arcgis.com/python/api-reference/arcgis.learn.toc.html#featureclassifier)\n",
    "  * [`SingleShotDetector`](https://developers.arcgis.com/python/api-reference/arcgis.learn.toc.html#singleshotdetector)\n",
    "  * [`RetinaNet`](https://developers.arcgis.com/python/api-reference/arcgis.learn.toc.html#retinanet)\n",
    "\n",
    "* [`Data Preparation Methods`](https://developers.arcgis.com/python/api-reference/arcgis.learn.toc.html#data-preparation-methods)\n",
    "  * Adds capability to select specific raster bands in  [`prepare_tabulardata()`](https://developers.arcgis.com/python/api-reference/arcgis.learn.toc.html#arcgis.learn.prepare_tabulardata) by using the `explanatory_rasters` parameter\n",
    "* [`Object Classification Models`](https://developers.arcgis.com/python/api-reference/arcgis.learn.toc.html#object-classification-models)\n",
    "  * Adds support for custom `DataBunch`\n",
    "* [`Object Detection Models`](https://developers.arcgis.com/python/api-reference/arcgis.learn.toc.html#object-detection-models)\n",
    "  * **New Models**\n",
    "    * [MMDetection](https://developers.arcgis.com/python/api-reference/arcgis.learn.toc.html#mmdetection)  \n",
    "* [`Feature, Tabular, and TimeSeries Models`](https://developers.arcgis.com/python/api-reference/arcgis.learn.toc.html#feature-tabular-and-timeseries-models)\n",
    "  * Adds note to `predict()` and `predict_video()` methods that support is only for RGB images\n",
    "  * **New Models**\n",
    "    * [`AutoML`](https://developers.arcgis.com/python/api-reference/arcgis.learn.toc.html#automl)\n",
    "  * Adds [SHAP Interpretability](https://towardsdatascience.com/shap-a-reliable-way-to-analyze-your-model-interpretability-874294d30af6) to `predict()` with new `explain` and `explain_index` parameters\n",
    "    * [FullyConnectedNetwork](https://developers.arcgis.com/python/api-reference/arcgis.learn.toc.html#fullyconnectednetwork)\n",
    "    * [MLModel](https://developers.arcgis.com/python/api-reference/arcgis.learn.toc.html#mlmodel)\n",
    "  * [`MLModel`](https://developers.arcgis.com/python/api-reference/arcgis.learn.toc.html#mlmodel)\n",
    "    * Adds publishing [`predict(prediction_type=\"raster\")`](https://developers.arcgis.com/python/api-reference/arcgis.learn.toc.html#arcgis.learn.MLModel.predict) output directly to organization rather than locally\n",
    "* Change [`Inferencing Methods (Image Server)`](https://developers.arcgis.com/python/api-reference/arcgis.learn.toc.html#inferencing-methods-image-server) to [`Inferencing Methods`](https://developers.arcgis.com/python/api-reference/arcgis.learn.toc.html#inferencing-methods)\n",
    "  * **New Class**\n",
    "    * [`Embeddings`](https://developers.arcgis.com/python/api-reference/arcgis.learn.toc.html#embeddings)\n",
    "* [`Pixel Classification Models`](https://developers.arcgis.com/python/api-reference/arcgis.learn.toc.html#pixel-classification-models)\n",
    "  * **New Models**\n",
    "    * [MMSegmentation](https://developers.arcgis.com/python/api-reference/arcgis.learn.toc.html#mmsegmentation)\n",
    "* [`Unstructured Text Models`](https://developers.arcgis.com/python/api-reference/arcgis.learn.toc.html#unstructured-text-models)\n",
    "  * [`arcgis.learn.text module`](https://developers.arcgis.com/python/api-reference/arcgis.learn.toc.html#arcgis-learn-text-module)\n",
    "    * Adds `rows` and `max_len` parameters to the `show_batch()` utility function\n",
    "    * Adds `freeze()` method to transformer based models\n",
    "    * [`EntityRecognizer`](https://developers.arcgis.com/python/api-reference/arcgis.learn.text.html#entityrecognizer)\n",
    "      * adds support for custom labels\n",
    "      * adds `allow_plot` documentation for [`lr_find()`](https://developers.arcgis.com/python/api-reference/arcgis.learn.text.html#arcgis.learn.text.EntityRecognizer.lr_find)\n",
    "      * adds `show_progress` parameter to [`extract_entities()`](https://developers.arcgis.com/python/api-reference/arcgis.learn.text.html#arcgis.learn.text.EntityRecognizer.extract_entities) method\n",
    "      * removes using `FastTokenizers` from transformer backbones \n",
    "    * [`Inferencing Only Models`](https://developers.arcgis.com/python/api-reference/arcgis.learn.text.html#inference-only-models)\n",
    "      * adds `pretrained_path` and `working_dir` parameters as keyword argument options\n",
    "* [`Model Management`](https://developers.arcgis.com/python/api-reference/arcgis.learn.toc.html?highlight=train_model#model-management)\n",
    "  * Adds warning to [`train_model()`](https://developers.arcgis.com/python/api-reference/arcgis.learn.toc.html#train-model) that it is not supported for ArcGIS Online\n",
    "  * Updates [`train_model()`](https://developers.arcgis.com/python/api-reference/arcgis.learn.toc.html#train-model) to process asynchronously\n",
    "* [`Image Translation Models`](https://developers.arcgis.com/python/api-reference/arcgis.learn.toc.html#image-translation-models)\n",
    "  * Adds support for loading models that were saved with `save_inference_file` argument set to False\n",
    "  * [`ImageCaptioner`](https://developers.arcgis.com/python/api-reference/arcgis.learn.toc.html#imagecaptioner)\n",
    "    * Adds additional documentation to `framework` parameter of the [`save()`](https://developers.arcgis.com/python/api-reference/arcgis.learn.toc.html#arcgis.learn.ImageCaptioner.save) method\n",
    "  * [`Pix2Pix`](https://developers.arcgis.com/python/api-reference/arcgis.learn.toc.html#pix2pix)\n",
    "    * Adds [`supported_datasets`](https://developers.arcgis.com/python/api-reference/arcgis.learn.toc.html#arcgis.learn.Pix2Pix.supported_datasets) property"
   ]
  },
  {
   "cell_type": "markdown",
   "metadata": {},
   "source": [
    "#### [`arcgis.widgets`](https://developers.arcgis.com/python/api-reference/arcgis.widgets.html)\n",
    "* Adds capability to view Tiled Imagery Layers in ArcGIS Online with the [`map widget`](https://developers.arcgis.com/python/api-reference/arcgis.widgets.html#mapview)"
   ]
  },
  {
   "cell_type": "markdown",
   "metadata": {},
   "source": [
    "## Fixes"
   ]
  },
  {
   "cell_type": "markdown",
   "metadata": {},
   "source": [
    "### [`Guides`](https://developers.arcgis.com/python/guide/)\n",
    "* [Get Started](https://developers.arcgis.com/python/guide/)\n",
    "  * [Install and set up](https://developers.arcgis.com/python/guide/install-and-set-up/) \n",
    "    * Updates to Table of Contents\n",
    "    * Updates links to Deep Learning installer and instructions\n",
    "    * Adds link to [Deep Learning Essentials](https://anaconda.org/esri/deep-learning-essentials) as alternative for installing Deep Learning Frameworks\n",
    "* [Deep Learning with ArcGIS](https://developers.arcgis.com/python/guide/)\n",
    "  * [Inference only Text Models in [`arcgis.learn`](https://developers.arcgis.com/python/api-reference/arcgis.learn.toc.html)](https://developers.arcgis.com/python/guide/inference-only-text-models-in-arcgis-learn/)\n",
    "* [Working with the Spatially Enabled DataFrame](https://developers.arcgis.com/python/guide/)\n",
    "  * Spelling and grammar edits to [Introduction to the Spatially Enabled DataFrame ](https://developers.arcgis.com/python/guide/introduction-to-the-spatially-enabled-dataframe/)"
   ]
  },
  {
   "cell_type": "markdown",
   "metadata": {},
   "source": [
    "### [`Samples`](https://developers.arcgis.com/python/sample-notebooks/)\n",
    "* [GIS analysts and data scientists](https://developers.arcgis.com/python/sample-notebooks)\n",
    "  * Batch size reduced in ChangeDetector samples to avoid `cuda` errors\n",
    "  * Connection edits in [Land Parcel Extraction using Edge Detection model](https://developers.arcgis.com/python/sample-notebooks/land-parcel-extraction-using-edge-detection-deep-learning-model/)\n",
    "  * Fixes `ValueError` errors in [Time Series Analysis of the 2019 Novel Coronavirus Pandemic](https://developers.arcgis.com/python/sample-notebooks/covid19-part2-timeseries-analysis/)"
   ]
  },
  {
   "cell_type": "markdown",
   "metadata": {},
   "source": [
    "#### [`arcgis.gis`](https://developers.arcgis.com/python/api-reference/arcgis.gis.toc.html#)\n",
    "* [`GIS`](https://developers.arcgis.com/python/api-reference/arcgis.gis.toc.html#gis)\n",
    "  * Fixes response handling when `GIS` object initialized with either the `api_key` or `client_id` parameter\n",
    "* [`Item`](https://developers.arcgis.com/python/api-reference/arcgis.gis.toc.html#item)\n",
    "  * Fixes error with `tables` property on items sourced from cached Map Services\n",
    "  * Fixes [`share()`](https://developers.arcgis.com/python/api-reference/arcgis.gis.toc.html#arcgis.gis.Item.share) method when item is part of a [Hub](https://doc.arcgis.com/en/hub/get-started/what-is-arcgis-hub-.htm) and item is in a [`Group`](https://developers.arcgis.com/python/api-reference/arcgis.gis.toc.html#group) and members can edit the item\n",
    "  * Fixes BUG-000136169 [`share()`](https://developers.arcgis.com/python/api-reference/arcgis.gis.toc.html#arcgis.gis.Item.share) method fails to share item to shared update group when run by non-owner admin\n",
    "  * Fixes [`download()`](https://developers.arcgis.com/python/api-reference/arcgis.gis.toc.html#arcgis.gis.Item.download) failures for `csv` files output from ArcGIS Online usage reports\n",
    "  * Fixes [`usage()`](https://developers.arcgis.com/python/api-reference/arcgis.gis.toc.html#arcgis.gis.Item.usage) issues if input Feature Service is empty or contains only [`Tables`](https://developers.arcgis.com/python/api-reference/arcgis.features.toc.html#table)\n",
    "* [`ContentManager`](https://developers.arcgis.com/python/api-reference/arcgis.gis.toc.html#contentmanager)\n",
    "  * Fixes failures when trying to use [`clone_items()`](https://developers.arcgis.com/python/api-reference/arcgis.gis.toc.html#arcgis.gis.ContentManager.clone_items) on items with optimized layers\n",
    "* [`UserManager`](https://developers.arcgis.com/python/api-reference/arcgis.gis.toc.html#usermanager)\n",
    "  * Fixes [`search()`](https://developers.arcgis.com/python/api-reference/arcgis.gis.toc.html#arcgis.gis.UserManager.search) method return values to populate the `provider` property"
   ]
  },
  {
   "cell_type": "markdown",
   "metadata": {},
   "source": [
    "#### [`arcgis.features`](https://developers.arcgis.com/python/api-reference/arcgis.features.toc.html#)\n",
    "* [`FeatureLayer`](https://developers.arcgis.com/python/api-reference/arcgis.features.toc.html#featurelayer)\n",
    "  * Fixes issue with [`query(as_df=True)`](https://developers.arcgis.com/python/api-reference/arcgis.features.toc.html#arcgis.features.FeatureLayer.query) failing if `FeatureLayer` has null geometries\n",
    "* [`Spatially Enabled DataFrame`](https://developers.arcgis.com/python/api-reference/arcgis.features.toc.html#geoaccessor)\n",
    "  * Fixes [`to_featureset()`](https://developers.arcgis.com/python/api-reference/arcgis.features.toc.html#arcgis.features.GeoAccessor.to_featureset) failure if DataFrame contains a `DateTime` field with all `NaT` values\n",
    "  * Fixes issue with object created using the [`from_layer()`](https://developers.arcgis.com/python/api-reference/arcgis.features.toc.html#table) method on a layer with undefined Geometry column ([`Table`](https://developers.arcgis.com/python/api-reference/arcgis.features.toc.html#table)) was not passing an empty renderer"
   ]
  },
  {
   "cell_type": "markdown",
   "metadata": {},
   "source": [
    "#### [`arcgis.features.analysis`](https://developers.arcgis.com/python/api-reference/arcgis.features.analysis.html)\n",
    "* [`arcgis.features.use_proximity`](https://developers.arcgis.com/python/api-reference/arcgis.features.use_proximity.html#)\n",
    "  * Fixes run failures with `measurement_type=StraightLine` on:\n",
    "    * [`connect_origins_to_destinations()`](https://developers.arcgis.com/python/api-reference/arcgis.features.analysis.html#connect-origins-to-destinations)\n",
    "    * [`find_nearest()`](https://developers.arcgis.com/python/api-reference/arcgis.features.analysis.html#find-nearest)\n",
    "* [`arcgis.features.summarize_data()`](https://developers.arcgis.com/python/api-reference/arcgis.features.summarize_data.html#)\n",
    "  * Fixes [`summarize_within()`](https://developers.arcgis.com/python/api-reference/arcgis.features.summarize_data.html#summarize-within) to make `sum_within_layer` optional so `bin_type`, `bin_size`, and `bin_size_unit` can be used"
   ]
  },
  {
   "cell_type": "markdown",
   "metadata": {},
   "source": [
    "#### [`arcgis.raster`](https://developers.arcgis.com/python/api-reference/arcgis.raster.toc.html#)\n",
    "* [`ImageryLayer`](https://developers.arcgis.com/python/api-reference/arcgis.raster.toc.html#imagerylayer)\n",
    "  * Fixes [`identify()`](https://developers.arcgis.com/python/api-reference/arcgis.raster.toc.html#arcgis.raster.ImageryLayer.identify) to accept a dictionary as the `geometry` argument\n",
    "  * Fixes issue when [`colormap()`](0https://developers.arcgis.com/python/api-reference/arcgis.raster.toc.html#arcgis.raster.ImageryLayer.colormap) was not used for tiles only services\n",
    "  * Fixes `Unable to complete operation` error when `from_geometry` argument is a dictionary\n",
    "  * Removes internal properties from documentation\n",
    "* [`Raster`](https://developers.arcgis.com/python/api-reference/arcgis.raster.toc.html#raster)\n",
    "  * Fixes failurs with applying or calling operations on `ArcPy` engine Raster objects with raster functions applied\n",
    "* [`RasterCollection`](https://developers.arcgis.com/python/api-reference/arcgis.raster.toc.html#rastercollection)\n",
    "  * Fixes issue initializing an object in environments with `ArcPy`if all the input rasters point to the same Raster object\n",
    "  * Fixes issue initializing an object from local `mosaic datasets` where output object is missing `Raster` key\n",
    "  * Fixes [`select_bands()`](https://developers.arcgis.com/python/api-reference/arcgis.raster.toc.html#arcgis.raster.RasterCollection.select_bands) error **AttributeError:** _'RasterCollection' object has no attribute '_ras_coll_engine_obj'_\n",
    "  * Fixes issues with [`mosaic()`](https://developers.arcgis.com/python/api-reference/arcgis.raster.toc.html#arcgis.raster.RasterCollection.mosaic) method \n",
    "    * default value _FIRST_ not set if not value is provided\n",
    "    * output is not for object created from image services\n",
    "  * Fixes issues with applying or calling operations on individual `raster` objects from a `RasterCollection` created  from an [`ImageryLayer`](https://developers.arcgis.com/python/api-reference/arcgis.raster.toc.html#imagerylayer) that was the output of [`create_image_collection()`](https://developers.arcgis.com/python/api-reference/arcgis.raster.analytics.html#create-image-collection) in ArcGIS Online"
   ]
  },
  {
   "cell_type": "markdown",
   "metadata": {},
   "source": [
    "#### [`arcgis.raster.analytics`](https://developers.arcgis.com/python/api-reference/arcgis.raster.analytics.html)\n",
    "* Fixes failures caused by missing response information in job results when analyzing `ArcGIS Online` content \n",
    "* [`create_image_collection()`](https://developers.arcgis.com/python/api-reference/arcgis.raster.analytics.html#create-image-collection) \n",
    "  * Fixes issues when data to upload exceeds 2GB\n",
    "  * Fixes `GIS('pro')` or `GIS('home')` authentication while logged into ArcGIS Online and creating hosted imagery from local raster datasets \n",
    "* [`copy_raster()`](https://developers.arcgis.com/python/api-reference/arcgis.raster.analytics.html#copy-raster) \n",
    "  * Fixes `GIS('pro')` or `GIS('home')` authentication while logged into ArcGIS Online and creating hosted imagery from local raster datasets\n",
    "* [`manage_multidimensional_raster()`](https://developers.arcgis.com/python/api-reference/arcgis.raster.analytics.html#manage-multidimensional-raster)\n",
    "  * Fixes `NameError` when using the `input_multidimensional_rasters` parameter"
   ]
  },
  {
   "cell_type": "markdown",
   "metadata": {},
   "source": [
    "#### [`arcgis.geoanalytics`](https://developers.arcgis.com/python/api-reference/arcgis.geoanalytics.toc.html)\n",
    "* [`analyze_patterns`](https://developers.arcgis.com/python/api-reference/arcgis.geoanalytics.analyze_patterns.html#)\n",
    "  * Fixes `AttributeError` for [`find_point_clusters()`](https://developers.arcgis.com/python/api-reference/arcgis.geoanalytics.analyze_patterns.html#find-point-clusters) from improperly formatted request\n",
    "  * Fixes issue with [`forest()`](https://developers.arcgis.com/python/api-reference/arcgis.geoanalytics.analyze_patterns.html#forest) method not handling response results correctly\n",
    "* [`find_locations`](https://developers.arcgis.com/python/api-reference/arcgis.geoanalytics.find_locations.html#)\n",
    "  * Fixes [`geocode_locations`](https://developers.arcgis.com/python/api-reference/arcgis.geoanalytics.find_locations.html#geocode-locations) to properly send the `country` parameter\n",
    "* [`manage_data`]()\n",
    "  * Fixes issue with [`run_python_script()`](https://developers.arcgis.com/python/api-reference/arcgis.geoanalytics.manage_data.html#run-python-script) tool not properly passing `code` argument\n",
    "* [`summarize_data`](https://developers.arcgis.com/python/api-reference/arcgis.geoanalytics.summarize_data.html)\n",
    "  * Fixes error with [`aggregate_points()`](https://developers.arcgis.com/python/api-reference/arcgis.geoanalytics.summarize_data.html#aggregate-points) when using `bins` as the aggregation type"
   ]
  },
  {
   "cell_type": "markdown",
   "metadata": {},
   "source": [
    "#### [`arcgis.geocoding`](https://developers.arcgis.com/python/api-reference/arcgis.geocoding.html#get-geocoders)\n",
    "* Fixes issue with `properties` returned from ArcGIS Enterprise configuration when accessed from [Notebook Server](https://enterprise.arcgis.com/en/notebook/)\n",
    "* Modifies internal workings of [`batch_geocode()`](https://developers.arcgis.com/python/api-reference/arcgis.geocoding.html#batch-geocode) to handle large tables"
   ]
  },
  {
   "cell_type": "markdown",
   "metadata": {},
   "source": [
    "#### [`arcgis.learn`](https://developers.arcgis.com/python/api-reference/arcgis.learn.toc.html)\n",
    "* Fixes `FileExistsErrors` when training models (`fit()`) with MultiGPU machines\n",
    "* [`Data Preparation Methods`](https://developers.arcgis.com/python/api-reference/arcgis.learn.toc.html#data-preparation-methods)\n",
    "  * Fixes `ValueError` when [`prepare_tabulardata()`](https://developers.arcgis.com/python/api-reference/arcgis.learn.toc.html#prepare-tabulardata) is run with a string as the `variable_predict` argument \n",
    "* [`Object Classification Models`](https://developers.arcgis.com/python/api-reference/arcgis.learn.toc.html#object-classification-models)\n",
    "  * Fixes `AttributeError: _is_multispectral` when using [`FeatureClassifier(backend='tensorflow')`](https://developers.arcgis.com/python/api-reference/arcgis.learn.toc.html#featureclassifier) and a `DataBunch` created outside of the ArcGIS Platform\n",
    "* [`Feature, Tabular and TimeSeries Models`](https://developers.arcgis.com/python/api-reference/arcgis.learn.toc.html#feature-tabular-and-timeseries-models)\n",
    "  * [`MLModel`](https://developers.arcgis.com/python/api-reference/arcgis.learn.toc.html#arcgis.learn.MLModel)\n",
    "    * Fixes missing `publish` parameter in [`save()`](https://developers.arcgis.com/python/api-reference/arcgis.learn.toc.html#arcgis.learn.MLModel.save) method\n",
    "    * Fixes errors with [`show_results()`](https://developers.arcgis.com/python/api-reference/arcgis.learn.toc.html#arcgis.learn.MLModel.show_results) and `data.show_batch()` when used with dataframe obtained using train_test_split from `sklearn`\n",
    "    * Fixes error with [`predict()`](https://developers.arcgis.com/python/api-reference/arcgis.learn.toc.html#arcgis.learn.MLModel.predict) not publishing if `prediction_type=raster`\n",
    "* [`PixelClassfication`](https://developers.arcgis.com/python/api-reference/arcgis.learn.toc.html#pixel-classification-models)\n",
    "  * Fixes `AttributeError` with segmentation models' improper handling of fastai databunches\n",
    "  * Fixes edge detection models' inferencing output that does not display output raster without changing symbology to `Classify` if the training data has discontinuous classes\n",
    "  * [`ConnectNet`](https://developers.arcgis.com/python/api-reference/arcgis.learn.toc.html#connectnet)\n",
    "    * Fixes failure to return the mean IOU when loading [`from_model()`](https://developers.arcgis.com/python/api-reference/arcgis.learn.toc.html#arcgis.learn.ConnectNet.from_model) without `data` parameter\n",
    "  * [`MultiTaskRoadExtractor`](https://developers.arcgis.com/python/api-reference/arcgis.learn.toc.html#multitaskroadextractor)\n",
    "    * Removes `UserWarning` when using `linknet` architecture to create model\n",
    "* [`Object Detection Models`](https://developers.arcgis.com/python/api-reference/arcgis.learn.toc.html#object-detection-models)\n",
    "  * Fixes `predict()` failures when databunch is prepared with `resize_to` parameter\n",
    "  * Fixes training failures with the `resnet18` and `resnet34` backbones:\n",
    "    * [`MaskRCNN`](https://developers.arcgis.com/python/api-reference/arcgis.learn.toc.html#maskrcnn)\n",
    "    * [`FasterRCNN`](https://developers.arcgis.com/python/api-reference/arcgis.learn.toc.html#fasterrcnn)\n",
    "  * [`YOLOv3`](https://developers.arcgis.com/python/api-reference/arcgis.learn.toc.html#yolov3)\n",
    "    * Fixes issue when using [Detect Objects Using Deep Learning](https://pro.arcgis.com/en/pro-app/latest/tool-reference/image-analyst/detect-objects-using-deep-learning.htm) tool in ArcGIS Pro on model trained with ArcGIS API for Python\n",
    "  * [`FasterRCNN`](https://developers.arcgis.com/python/api-reference/arcgis.learn.toc.html#fasterrcnn)\n",
    "    * Fixes `AttributeError` failures when running [`fit(tensorboard=True)`](https://developers.arcgis.com/python/api-reference/arcgis.learn.toc.html#arcgis.learn.FasterRCNN.fit)\n",
    "    * Fixes `RuntimeError` when using save as tflite if data is kitti type in object detection\n",
    "* [`Object Tracking Models`](https://developers.arcgis.com/python/api-reference/arcgis.learn.toc.html#object-tracking-models)\n",
    "  * [`SiamMask`](https://developers.arcgis.com/python/api-reference/arcgis.learn.toc.html#siammask)\n",
    "    * Fixes errors when running `import arcgis` caused by internal import statements \n",
    "    * Fixes [`save()`]() method when object initialized without `data`\n",
    "    * Fixes issue when running [`prepare_data()`](https://developers.arcgis.com/python/api-reference/arcgis.learn.toc.html#prepare-data) on Linux\n",
    "* [`3D Models`](https://developers.arcgis.com/python/api-reference/arcgis.learn.toc.html#d-models)\n",
    "  * [`PointCNN`](https://developers.arcgis.com/python/api-reference/arcgis.learn.toc.html#pointcnn)\n",
    "    * Fixes remapping issue in the [`predict_h5()`](https://developers.arcgis.com/python/api-reference/arcgis.learn.toc.html#arcgis.learn.PointCNN.predict_h5) method when used with output from [`prepare_data()`](https://developers.arcgis.com/python/api-reference/arcgis.learn.toc.html#prepare-data) with `remap_classes` and `background_classcodes` arguments, and then exported by the API\n",
    "* [`Image Translation Models`](https://developers.arcgis.com/python/api-reference/arcgis.learn.toc.html#image-translation-models)\n",
    " * Fixes incorrect output with `rows` parameter in `show_results()` when using the `hourglass` architecture:\n",
    "   * [`CycleGAN`](https://developers.arcgis.com/python/api-reference/arcgis.learn.toc.html#cyclegan)\n",
    "   * [`Pix2Pix`](https://developers.arcgis.com/python/api-reference/arcgis.learn.toc.html#pix2pix)\n",
    "  * [`CycleGAN`](https://developers.arcgis.com/python/api-reference/arcgis.learn.toc.html#cyclegan)\n",
    "    * Fixes incorrect output issues when:\n",
    "      * calling [`fit()`](https://developers.arcgis.com/python/api-reference/arcgis.learn.toc.html#arcgis.learn.CycleGAN.fit) directly after [`lr_find()`](https://developers.arcgis.com/python/api-reference/arcgis.learn.toc.html#arcgis.learn.CycleGAN.lr_find)\n",
    "      * calling [`fit()`](https://developers.arcgis.com/python/api-reference/arcgis.learn.toc.html#arcgis.learn.CycleGAN.fit) 2 or more times on the same model\n",
    "  * [`Pix2Pix`](https://developers.arcgis.com/python/api-reference/arcgis.learn.toc.html#pix2pix)\n",
    "    * Fixes error with [`fit()`](https://developers.arcgis.com/python/api-reference/arcgis.learn.toc.html#arcgis.learn.Pix2Pix.fit) method\n",
    "    * Removes incorrect `accuracy` parameter from [`compute_metrics()`](https://developers.arcgis.com/python/api-reference/arcgis.learn.toc.html#arcgis.learn.Pix2Pix.compute_metrics)\n",
    "* [`3D Models`](https://developers.arcgis.com/python/api-reference/arcgis.learn.toc.html#d-models)\n",
    "  * Fixes `ValueError` when running [`fit(`tensorboard=True`)`](https://developers.arcgis.com/python/api-reference/arcgis.learn.toc.html#arcgis.learn.PointCNN.fit) because of `plotly orca` dependency\n",
    "* [`Scanned Maps`](https://developers.arcgis.com/python/api-reference/arcgis.learn.toc.html#scanned-maps)\n",
    "  * [`ScannedMapDigitizer`](https://developers.arcgis.com/python/api-reference/arcgis.learn.toc.html#scannedmapdigitizer)\n",
    "    * Fixes documentation for:\n",
    "      * `color_list` parameter in [`create_mask()`](https://developers.arcgis.com/python/api-reference/arcgis.learn.toc.html#arcgis.learn.ScannedMapDigitizer.create_mask) method\n",
    "      * `kernel_size` parameter in [`create_template_image()`](https://developers.arcgis.com/python/api-reference/arcgis.learn.toc.html#arcgis.learn.ScannedMapDigitizer.create_template_image) method\n",
    "      * `color` parameter in [`prepare_search_region()`](https://developers.arcgis.com/python/api-reference/arcgis.learn.toc.html#arcgis.learn.ScannedMapDigitizer.prepare_search_region)"
   ]
  },
  {
   "cell_type": "markdown",
   "metadata": {},
   "source": [
    "# What's new in version 1.8.5"
   ]
  },
  {
   "cell_type": "markdown",
   "metadata": {},
   "source": [
    "## New"
   ]
  },
  {
   "cell_type": "markdown",
   "metadata": {},
   "source": [
    "### [`Guides`](https://developers.arcgis.com/python/guide/)\n",
    "* [Deep Learning with ArcGIS](https://developers.arcgis.com/python/guide/)\n",
    "  * [Utilize Multipe GPUs to Train Model](https://developers.arcgis.com/python/guide/utilize-multiple-gpus-to-train-model)\n",
    "  * [Deep learning on time series data](https://developers.arcgis.com/python/guide/dl-on-time-series-data)"
   ]
  },
  {
   "cell_type": "markdown",
   "metadata": {},
   "source": [
    "### [`Samples`](https://developers.arcgis.com/python/sample-notebooks/)\n",
    "* [GIS Analysts and Data Scientists](https://developers.arcgis.com/python/sample-notebooks/)\n",
    "  * [Streams extraction using ConnectNet ](https://developers.arcgis.com/python/sample-notebooks/streams-extraction-using-connectnet)\n",
    "  * [Streams extraction using Multi-Task Road Extractor](https://developers.arcgis.com/python/sample-notebooks/streams-extraction-using-multi-task-road-extractor)\n",
    "  * [Forecasting monthly rainfall in California using Deep Learning Time Series techniques](https://developers.arcgis.com/python/sample-notebooks/forecasting-monthly-rainfall-in-california-using-deeplearning-timeseries-model-from-arcgis-learn)\n",
    "  * [Landcover mapping using hyperspectral imagery and deep learning](https://developers.arcgis.com/python/sample-notebooks/landcover-classification-using-hyperspectral-imagery-and-deep-learning)"
   ]
  },
  {
   "cell_type": "markdown",
   "metadata": {},
   "source": [
    "#### [`arcgis.gis`](https://developers.arcgis.com/python/api-reference/arcgis.gis.toc.html#)\n",
    "* [`User`](https://developers.arcgis.com/python/api-reference/arcgis.gis.toc.html#user)\n",
    "  * Adds [`generate_direct_access_url()`](https://developers.arcgis.com/python/api-reference/arcgis.gis.toc.html#arcgis.gis.User.generate_direct_access_url) method for upload of large files to datastores"
   ]
  },
  {
   "cell_type": "markdown",
   "metadata": {},
   "source": [
    "#### [`arcgis.raster`](https://developers.arcgis.com/python/api-reference/arcgis.raster.toc.html#)\n",
    "* Adds new [submodule](https://developers.arcgis.com/python/api-reference/arcgis.raster.toc.html#submodules)\n",
    "  * [`arcgis.raster.utils`](https://developers.arcgis.com/python/api-reference/arcgis.raster.utils.html) - functions to interact with ArcGIS Online raster stores\n",
    "    * [`generate_direct_access_url()`](https://developers.arcgis.com/python/api-reference/arcgis.raster.utils.html#generate-direct-access-url)\n",
    "    * [`upload_imagery_to_agol_userstore()`](https://developers.arcgis.com/python/api-reference/arcgis.raster.utils.html#upload-imagery-to-agol-userstore)\n",
    "* [`ImageryLayer`](https://developers.arcgis.com/python/api-reference/arcgis.raster.toc.html#imagerylayer)\n",
    "  * Adds `process_as_multidimensional` parameter to following functions:\n",
    "    * [`compute_stats_and_histograms()`](https://developers.arcgis.com/python/api-reference/arcgis.raster.toc.html#arcgis.raster.ImageryLayer.compute_stats_and_histograms)\n",
    "    * [`compute_histograms()`](https://developers.arcgis.com/python/api-reference/arcgis.raster.toc.html#arcgis.raster.ImageryLayer.compute_histograms)\n",
    "    * [`identify()`](https://developers.arcgis.com/python/api-reference/arcgis.raster.toc.html#arcgis.raster.ImageryLayer.identify)"
   ]
  },
  {
   "cell_type": "markdown",
   "metadata": {},
   "source": [
    "#### [`arcgis.raster.analytics`](https://developers.arcgis.com/python/api-reference/arcgis.raster.analytics.html)\n",
    "* Adds new functions:\n",
    " * [`compute_change_raster`](https://developers.arcgis.com/python/api-reference/arcgis.raster.analytics.html#compute-change-raster)\n",
    " * [`analyze_changes_using_landtrendr`](https://developers.arcgis.com/python/api-reference/arcgis.raster.analytics.html#analyze-changes-using-landtrendr)\n",
    " * [`zonal_statistics_as_table`](https://developers.arcgis.com/python/api-reference/arcgis.raster.analytics.html#zonal-statistics-as-table)\n",
    "* Adds note to `tiles_only` parameter documentation to clarify its use and avaiability to create dynamic imagery in all relevant methods"
   ]
  },
  {
   "cell_type": "markdown",
   "metadata": {},
   "source": [
    "#### [`arcgis.geoanalytics`](https://developers.arcgis.com/python/api-reference/arcgis.geoanalytics.toc.html)\n",
    "* Adds `ellapse_time` property to [`GPJob`](https://developers.arcgis.com/python/api-reference/arcgis.geoprocessing.html#gpjob) returned when tools are run asynchronously"
   ]
  },
  {
   "cell_type": "markdown",
   "metadata": {},
   "source": [
    "#### [`arcgis.learn`](https://developers.arcgis.com/python/api-reference/arcgis.learn.toc.html)\n",
    "* New Table of Contents heading:\n",
    "  * Replace [`Tabular and Feature Models`](https://developers.arcgis.com/python/api-reference/arcgis.learn.toc.html#tabular-and-feature-data-models) with [`Feature, Tabular and Timeseries Models`](https://developers.arcgis.com/python/api-reference/arcgis.learn.toc.html#feature-tabular-and-timeseries-models)\n",
    "* New Table of Contents entry and models:\n",
    "  * [`Object Tracking Models`](https://developers.arcgis.com/python/api-reference/arcgis.learn.toc.html#object-tracking-models)\n",
    "    * [`SiamMask`](https://developers.arcgis.com/python/api-reference/arcgis.learn.toc.html#siammask)\n",
    "    * [`ObjectTracker`](https://developers.arcgis.com/python/api-reference/arcgis.learn.toc.html#objecttracker)\n",
    "    * [`Track`](https://developers.arcgis.com/python/api-reference/arcgis.learn.toc.html#tracker)\n",
    "* Adds cell size ranges and output units to trained models (`Esri Model Definitions`)\n",
    "* Adds `monitor` parameter to `fit()` methods of models for use with `early_stopping` and `checkpoint`\n",
    "* [`Data Preparation Methods`](https://developers.arcgis.com/python/api-reference/arcgis.learn.toc.html#data-preparation-methods)\n",
    "  * Adds documentation to `path` parameter for [`prepare_data()`](https://developers.arcgis.com/python/api-reference/arcgis.learn.toc.html#prepare-data)\n",
    "  * Adds keyword parameters and documentation to [`prepare_data()`](https://developers.arcgis.com/python/api-reference/arcgis.learn.toc.html#prepare-data):\n",
    "    * `min_points`\n",
    "    * `classes_of_interest`\n",
    "    * `extra_features`\n",
    "    * `remap_classes`\n",
    "    * `background_classcode`\n",
    "    * Adds ability to use a folder or list of paths (multi-folder support) in `path` parameter for [`prepare_data()`](https://developers.arcgis.com/python/api-reference/arcgis.learn.toc.html#prepare-data)\n",
    "  * Adds `working_dir` parameter to data prepartion methods which sets a default path as a prefix for saving trained models and checkpoints\n",
    "* [`Unstructured Text Models`](https://developers.arcgis.com/python/api-reference/arcgis.learn.toc.html#unstructured-text-models)\n",
    "  * [`arcgis.learn.text`](https://developers.arcgis.com/python/api-reference/arcgis.learn.toc.html#arcgis-learn-text-module) module\n",
    "   * [`TextClassifier`](https://developers.arcgis.com/python/api-reference/arcgis.learn.text.html#textclassifier)\n",
    "     * adds support for `working_dir` parameter\n",
    "* [`3D Models`](https://developers.arcgis.com/python/api-reference/arcgis.learn.toc.html#d-models)\n",
    "  * [`PointCNN`](https://developers.arcgis.com/python/api-reference/arcgis.learn.toc.html#pointcnn)\n",
    "    * Adds keyword parameters when using output of [`prepare_data()`](https://developers.arcgis.com/python/api-reference/arcgis.learn.toc.html#prepare-data)\n",
    "      * `min_points`\n",
    "      * `classes_of_interest`\n",
    "      * `extra_features`\n",
    "      * `remap_classes`\n",
    "      * `background_classcode`\n",
    "    * Adds ability to remap classes\n",
    "    * Adds documentation to describe `precision`, `f1`, and `recall` metrics for [`fit()`](https://developers.arcgis.com/python/api-reference/arcgis.learn.toc.html#arcgis.learn.PointCNN.fit) method\n",
    "* [`Feature, Tabular and Timeseries Models`](https://developers.arcgis.com/python/api-reference/arcgis.learn.toc.html#feature-tabular-and-timeseries-models)\n",
    "  * Adds ability to publish non-spatial dataframes as [`Table`](https://developers.arcgis.com/python/api-reference/arcgis.features.toc.html#table) items with the `predict()` methods\n",
    "  * [`MLModel`](https://developers.arcgis.com/python/api-reference/arcgis.learn.toc.html#mlmodel)\n",
    "    * Adds [`load()`](https://developers.arcgis.com/python/api-reference/arcgis.learn.toc.html#arcgis.learn.MLModel.load) method\n",
    "    * Adds cabability to [`save()`](https://developers.arcgis.com/python/api-reference/arcgis.learn.toc.html#arcgis.learn.MLModel.save) method to allow saving model without data input\n",
    "  * [`TimeSeriesModel`](https://developers.arcgis.com/python/api-reference/arcgis.learn.toc.html#timeseriesmodel)\n",
    "    * Enhances vizualization to show separate graph for each dependent variable when using `show_batch()` on `TabularData` object\n",
    "    * Adds warning message when using [`predict()`](https://developers.arcgis.com/python/api-reference/arcgis.learn.toc.html#arcgis.learn.TimeSeriesModel.predict) if  [`openpyxl`](https://openpyxl.readthedocs.io/en/stable/) dependency not installed\n",
    "* [`Pixel Classification Models`](https://developers.arcgis.com/python/api-reference/arcgis.learn.toc.html#pixel-classification-models)\n",
    " * Adds [`ConnectNet`](https://developers.arcgis.com/python/api-reference/arcgis.learn.toc.html#connectnet) Model\n",
    " * Adds `dice_loss_average` keyword parameter to initialization options\n",
    " * Adds inference and exports support to:\n",
    "    * [`ChangeDetector`](https://developers.arcgis.com/python/api-reference/arcgis.learn.toc.html#changedetector)\n",
    " * Adds threshholding functionality to:\n",
    "    * [`BDCNEdgeDetector`](https://developers.arcgis.com/python/api-reference/arcgis.learn.toc.html?highlight=retinanet#bdcnedgedetector)\n",
    "    * [`HEDEdgeDectector`](https://developers.arcgis.com/python/api-reference/arcgis.learn.toc.html?highlight=retinanet#hededgedetector)\n",
    "  * [`MultiTaskRoadExtractor`](https://developers.arcgis.com/python/api-reference/arcgis.learn.toc.html?highlight=retinanet#multitaskroadextractor)\n",
    "    * Adds support for multispectral data\n",
    "    * Adds support for using multiple folders for training model\n",
    "* [`Image Translations Models`](https://developers.arcgis.com/python/api-reference/arcgis.learn.toc.html#image-translation-models)\n",
    "  * Adds inference and export support to:\n",
    "    * [`Pix2Pix`](https://developers.arcgis.com/python/api-reference/arcgis.learn.toc.html#pix2pix)\n",
    "    * [`CycleGAN`](https://developers.arcgis.com/python/api-reference/arcgis.learn.toc.html#cyclegan)\n",
    "  * Adds additional checks for whether multispectral images were used in initialization for:\n",
    "    * [`Pix2Pix`](https://developers.arcgis.com/python/api-reference/arcgis.learn.toc.html#pix2pix)\n",
    "    * [`CycleGAN`](https://developers.arcgis.com/python/api-reference/arcgis.learn.toc.html#cyclegan)\n",
    "* [`Model Management`](https://developers.arcgis.com/python/api-reference/arcgis.learn.toc.html#model-management)\n",
    " * Adds [`train_model()`](https://developers.arcgis.com/python/api-reference/arcgis.learn.toc.html#train-model) method"
   ]
  },
  {
   "cell_type": "markdown",
   "metadata": {},
   "source": [
    "## Fixes"
   ]
  },
  {
   "cell_type": "markdown",
   "metadata": {},
   "source": [
    "### [`Samples`](https://developers.arcgis.com/python/sample-notebooks/)\n",
    "* [GIS Analysts and Data Scientists](https://developers.arcgis.com/python/sample-notebooks/)\n",
    "  * Updates for `Try it live` Site:\n",
    "    * [Automate Road Surface Investigation Using Deep Learning](https://developers.arcgis.com/python/sample-notebooks/automate-road-surface-investigation-using-deep-learning/)\n",
    "    * [Reconstructing 3D buildings from Aerial LiDAR with Deep Learning](https://developers.arcgis.com/python/sample-notebooks/building-reconstruction-using-mask-rcnn/)\n",
    "    * [Finding a New Home](https://developers.arcgis.com/python/sample-notebooks/finding-a-new-home/)\n",
    "    * [Automate Building Footprint Extraction using Deep learning](https://developers.arcgis.com/python/sample-notebooks/automate-building-footprint-extraction-using-instance-segmentation/)\n",
    "    * [Analyzing growth factors of rental properties in New York City](https://developers.arcgis.com/python/sample-notebooks/analyzing-growth-factors-of-airbnb-properties-in-new-york-city/)"
   ]
  },
  {
   "cell_type": "markdown",
   "metadata": {},
   "source": [
    "#### [`arcgis.raster`](https://developers.arcgis.com/python/api-reference/arcgis.raster.toc.html)\n",
    "* [`ImageryLayer`](https://developers.arcgis.com/python/api-reference/arcgis.raster.toc.html#imagerylayer)\n",
    " * Fixes table structure in documentation for:\n",
    "   * [`compute_pixel_location()`](https://developers.arcgis.com/python/api-reference/arcgis.raster.toc.html#arcgis.raster.ImageryLayer.compute_pixel_location)\n",
    "   * [`slices()`](https://developers.arcgis.com/python/api-reference/arcgis.raster.toc.html#arcgis.raster.ImageryLayer.slices)\n",
    "   * [`statistics()`](https://developers.arcgis.com/python/api-reference/arcgis.raster.toc.html#arcgis.raster.ImageryLayer.statistics)\n",
    "   * [`get_histograms()`](https://developers.arcgis.com/python/api-reference/arcgis.raster.toc.html#arcgis.raster.ImageryLayer.get_histograms)\n",
    "   * [`mosaic_by()`](https://developers.arcgis.com/python/api-reference/arcgis.raster.toc.html#arcgis.raster.ImageryLayer.mosaic_by)\n",
    " * Fixes clipping input error when rendering tiles only Sentinel-2 imagery"
   ]
  },
  {
   "cell_type": "markdown",
   "metadata": {},
   "source": [
    "#### [`arcgis.raster.analytics`](https://developers.arcgis.com/python/api-reference/arcgis.raster.analytics.html)\n",
    "* Improves warning documentation if [`Raster Function Template (RFT)`](https://developers.arcgis.com/python/api-reference/arcgis.raster.functions.RFT.html#arcgis.raster.functions.RFT) initialization fails\n",
    "* Fixes issue where [`create_image_collection()`](https://developers.arcgis.com/python/api-reference/arcgis.raster.analytics.html#create-image-collection) created blank output if `input_rasters` referred to `Sentinel-2` or `Pleiades` data"
   ]
  },
  {
   "cell_type": "markdown",
   "metadata": {},
   "source": [
    "#### [`arcgis.raster.functions`](https://developers.arcgis.com/python/api-reference/arcgis.raster.functions.html#)\n",
    "* Fixes table structure in documentation for:\n",
    "  * [`rasterize_features()`](https://developers.arcgis.com/python/api-reference/arcgis.raster.functions.html#rasterize-features)\n",
    "* Fixes incorrect `band_indexes` parameter order in [`nbr`](https://developers.arcgis.com/python/api-reference/arcgis.raster.functions.html#arcgis.raster.functions.nbr) documentation"
   ]
  },
  {
   "cell_type": "markdown",
   "metadata": {},
   "source": [
    "#### [`arcgis.network.analysis`](https://developers.arcgis.com/python/api-reference/arcgis.network.analysis.html)\n",
    "* Fixes `Token Required` errors when using tools with `GIS` object created using `api_key`:\n",
    "  * [`get_travel_modes()`](https://developers.arcgis.com/python/api-reference/arcgis.network.analysis.html#get-travel-modes) \n",
    "  * [`get_tool_info()`](https://developers.arcgis.com/python/api-reference/arcgis.network.analysis.html#get-travel-modes) "
   ]
  },
  {
   "cell_type": "markdown",
   "metadata": {},
   "source": [
    "#### [`arcgis.learn`](https://developers.arcgis.com/python/api-reference/arcgis.learn.toc.html)\n",
    "* Fixes to various functions and model methods for `ArcGIS Pro Notebooks`\n",
    "  * `show_batch()` \n",
    "  * `lr_find()` \n",
    "  * `model.show_results()`\n",
    "* Fixes `WARNING 003054: Input Raster does not support PIXEL_SPACE (raw image space). Running in MAP_SPACE` warning message when running the [Classify Pixels Using Deep Learning](https://pro.arcgis.com/en/pro-app/latest/tool-reference/image-analyst/classify-pixels-using-deep-learning.htm) tool in `ArcGIS Pro`\n",
    "* [`Data Preparation Methods`](https://developers.arcgis.com/python/api-reference/arcgis.learn.toc.html#data-preparation-methods)\n",
    "  * Fixes `expected scalar type Float` Exception with [`prepare_data()`](https://developers.arcgis.com/python/api-reference/arcgis.learn.toc.html#prepare-data) when using `pytorch 1.7.0`\n",
    "* [`Pixel Classification Models`](https://developers.arcgis.com/python/api-reference/arcgis.learn.toc.html#pixel-classification-models)\n",
    "  * Improves `per_class_metrics()` results on models initialized from unbalanced datasets\n",
    "  * Fixes `fit()` method in segmentation models returning `NaN` values for certain attributes: [`UNetClassifier`](https://developers.arcgis.com/python/api-reference/arcgis.learn.toc.html#unetclassifier), [`PSPNetClassifier`](https://developers.arcgis.com/python/api-reference/arcgis.learn.toc.html#pspnetclassifier), [`DeepLab`](https://developers.arcgis.com/python/api-reference/arcgis.learn.toc.html#deeplab)\n",
    "  * [`MultiTaskRoadExtractor`](https://developers.arcgis.com/python/api-reference/arcgis.learn.toc.html?highlight=retinanet#multitaskroadextractor) \n",
    "   * Fixes issue for [`show_results()`](https://developers.arcgis.com/python/api-reference/arcgis.learn.toc.html?highlight=retinanet#arcgis.learn.MultiTaskRoadExtractor.show_results) plotting images incorrectly\n",
    "   * Fixes issue causing [`save()`](https://developers.arcgis.com/python/api-reference/arcgis.learn.toc.html?highlight=retinanet#arcgis.learn.MultiTaskRoadExtractor.save) only to work after calling [`fit()`](https://developers.arcgis.com/python/api-reference/arcgis.learn.toc.html?highlight=retinanet#arcgis.learn.MultiTaskRoadExtractor.fit)\n",
    "   * Fixes [`load()`](https://developers.arcgis.com/python/api-reference/arcgis.learn.toc.html?highlight=retinanet#arcgis.learn.MultiTaskRoadExtractor.load) so it only needs the model name\n",
    "   * Fixes errors with [`fit()`](https://developers.arcgis.com/python/api-reference/arcgis.learn.toc.html?highlight=retinanet#arcgis.learn.MultiTaskRoadExtractor.fit) when using monitor functionality\n",
    "   * Fixes parameter table for [`show_results()`](https://developers.arcgis.com/python/api-reference/arcgis.learn.toc.html#arcgis.learn.MultiTaskRoadExtractor.show_results) documentation\n",
    "* [`Unstructured Text Models`](https://developers.arcgis.com/python/api-reference/arcgis.learn.toc.html#unstructured-text-models)\n",
    "  * [`arcgis.learn.text`](https://developers.arcgis.com/python/api-reference/arcgis.learn.toc.html#arcgis-learn-text-module) module\n",
    "    * Adds capability to use `HuggingFace` [pretrained models](https://huggingface.co/transformers/pretrained_models.html) for:\n",
    "      * [`EntityRecognizer`](https://developers.arcgis.com/python/api-reference/arcgis.learn.text.html#)\n",
    "      * [`TextClassifier`](https://developers.arcgis.com/python/api-reference/arcgis.learn.text.html#textclassifier)\n",
    "    * Adds transformer backbone options for:\n",
    "      * [`EntityRecognizer`](https://developers.arcgis.com/python/api-reference/arcgis.learn.text.html#)\n",
    "        * [Funnel](https://huggingface.co/transformers/v3.3.1/model_doc/funnel.html#funnel-transformer)\n",
    "        * [LayoutLM](https://huggingface.co/transformers/v3.3.1/model_doc/layoutlm.html#layoutlm)\n",
    "      * [`TextClassifier`](https://developers.arcgis.com/python/api-reference/arcgis.learn.text.html#textclassifier)\n",
    "        * [Funnel](https://huggingface.co/transformers/v3.3.1/model_doc/funnel.html#funnel-transformer)\n",
    "* [`Object Classification Models`](https://developers.arcgis.com/python/api-reference/arcgis.learn.toc.html#object-classification-models)\n",
    "  * [`Feature Classifier`](https://developers.arcgis.com/python/api-reference/arcgis.learn.toc.html#featureclassifier)\n",
    "    * Fixes error when using an input object resulting from [`prepare_data(dataset_type='ImageNet')`](https://developers.arcgis.com/python/api-reference/arcgis.learn.toc.html#prepare-data)\n",
    "    * Fixes issues with [`plot_confusion_matrix()`](https://developers.arcgis.com/python/api-reference/arcgis.learn.toc.html#arcgis.learn.FeatureClassifier.plot_confusion_matrix)\n",
    "      * when using with an object created with `backend=tensorflow`\n",
    "      * illegible results when dataset has a large number of classes\n",
    "      * when run on object created from the [`from_model()`](https://developers.arcgis.com/python/api-reference/arcgis.learn.toc.html?highlight=tabulardata#arcgis.learn.FeatureClassifier.from_model) method and with a `data` argument\n",
    "    * Fixes issue with [`lr_find()`](https://developers.arcgis.com/python/api-reference/arcgis.learn.toc.html?highlight=tabulardata#arcgis.learn.FeatureClassifier.lr_find):\n",
    "      * with object created with [`mixup=True`](https://developers.arcgis.com/python/api-reference/arcgis.learn.toc.html?highlight=tabulardata#arcgis.learn.FeatureClassifier)\n",
    "      * with `MultiLabeled_Tiles` dataset type object and [`mixup=True`](https://developers.arcgis.com/python/api-reference/arcgis.learn.toc.html?highlight=tabulardata#arcgis.learn.FeatureClassifier)\n",
    "    * Fixes issue with using [`predict()`](https://developers.arcgis.com/python/api-reference/arcgis.learn.toc.html?highlight=tabulardata#arcgis.learn.FeatureClassifier.predict) on a trained model    \n",
    "* [`Feature, Tabular and Timeseries Models`](https://developers.arcgis.com/python/api-reference/arcgis.learn.toc.html#feature-tabular-and-timeseries-models)\n",
    "  * [`MLModel`](https://developers.arcgis.com/python/api-reference/arcgis.learn.toc.html#mlmodel)\n",
    "    * Fixes inaccurate [`predict()`](https://developers.arcgis.com/python/api-reference/arcgis.learn.toc.html#arcgis.learn.MLModel.predict) results because training transformations were not incorporating training statistics\n",
    "  * [`TimeSeriesModel`](https://developers.arcgis.com/python/api-reference/arcgis.learn.toc.html#timeseriesmodel)\n",
    "    * Fixes `AttributeError: '<object-name>' object has no attribute 'inverse_transform'` when using the [`score()`](https://developers.arcgis.com/python/api-reference/arcgis.learn.toc.html#arcgis.learn.TimeSeriesModel.score) method\n",
    "* [`3D Models`](https://developers.arcgis.com/python/api-reference/arcgis.learn.toc.html#d-models)\n",
    "  * [`PointCNN`](https://developers.arcgis.com/python/api-reference/arcgis.learn.toc.html#pointcnn)\n",
    "    * Fixes bug with [`predict_las()`](https://developers.arcgis.com/python/api-reference/arcgis.learn.toc.html#arcgis.learn.PointCNN.predict_las) returning class codes from the model instead of the actual class codes in specific scenarios\n",
    "    * Fixes error message raised with [`from_model()`](https://developers.arcgis.com/python/api-reference/arcgis.learn.toc.html#arcgis.learn.PointCNN.from_model) if library dependencies are missing\n",
    "    * Fixes [`show_results()`](file:///Users/john3092/Repos/geosaurus/docs/api_ref/build/html/arcgis.learn.toc.html?highlight=dice%20coefficient#arcgis.learn.PointCNN.show_results) and `show_batch()` when run against data object created with a `remap_classes` argument in [`prepare_data()`](https://developers.arcgis.com/python/api-reference/arcgis.learn.toc.html#prepare-data)\n",
    "* [`Object Detection Models`](https://developers.arcgis.com/python/api-reference/arcgis.learn.toc.html#object-detection-models)\n",
    "  * [`SingleShotDetector`](https://developers.arcgis.com/python/api-reference/arcgis.learn.toc.html#singleshotdetector)\n",
    "    * Fixes out of memory error when using [`show_results()`](https://developers.arcgis.com/python/api-reference/arcgis.learn.toc.html#arcgis.learn.SingleShotDetector.show_results) on model with multispectral data\n",
    "    * Fixes error when loading and executing on CPU device\n",
    "  * [`RetinaNet`](https://developers.arcgis.com/python/api-reference/arcgis.learn.toc.html?highlight=retinanet#retinanet)\n",
    "  * Fixes issue where [`FasterRCNN`](https://developers.arcgis.com/python/api-reference/arcgis.learn.toc.html#fasterrcnn) and [`MaskRCNN`](https://developers.arcgis.com/python/api-reference/arcgis.learn.toc.html#maskrcnn) returned no results with multispectral data\n",
    "    * Fixes error when loading and executing on CPU device\n",
    "* [`Image Translation Models`](https://developers.arcgis.com/python/api-reference/arcgis.learn.toc.html#image-translation-models)\n",
    " * [`Pix2Pix`](https://developers.arcgis.com/python/api-reference/arcgis.learn.toc.html#pix2pix)\n",
    "   * Fixes `Key Error` when calling [`save()`](https://developers.arcgis.com/python/api-reference/arcgis.learn.toc.html#arcgis.learn.Pix2Pix.save) on object created with mulitspectral data\n",
    "   * Fixes issue with [`save()`](https://developers.arcgis.com/python/api-reference/arcgis.learn.toc.html#arcgis.learn.Pix2Pix.save) not having an FID metric\n",
    "   * Fixes issue with [`compute_metrics()`](https://developers.arcgis.com/python/api-reference/arcgis.learn.toc.html#arcgis.learn.Pix2Pix.compute_metrics) returning too many significant digits\n",
    " * [`CycleGAN`](https://developers.arcgis.com/python/api-reference/arcgis.learn.toc.html#cyclegan)\n",
    "   * [`compute_metrics()`](https://developers.arcgis.com/python/api-reference/arcgis.learn.toc.html#arcgis.learn.CycleGAN.compute_metrics) \n",
    "     * Fixes issue with returning FID metrics without respective names\n",
    "     * Fixes issue with values returning with too many significant digits\n",
    " * [`SuperResolution`](https://developers.arcgis.com/python/api-reference/arcgis.learn.toc.html#superresolution)\n",
    "   * Fixes issue with [`compute_metrics()`](https://developers.arcgis.com/python/api-reference/arcgis.learn.toc.html#arcgis.learn.SuperResolution.compute_metrics) returning PSNR and SSIM metrics without respective names\n",
    "   * Fixes issue with [`prepare_data()`](https://developers.arcgis.com/python/api-reference/arcgis.learn.toc.html#prepare-data) failing for `dataset_type='superres'` or when using `superres` data for `data` argument\n",
    " * [`ImageCaptioner`](https://developers.arcgis.com/python/api-reference/arcgis.learn.toc.html?highlight=tabulardata#image-translation-models)\n",
    "   * Fixes `AttributError` about missing temporary folder with [`lr_find()`](https://developers.arcgis.com/python/api-reference/arcgis.learn.toc.html?highlight=tabulardata#arcgis.learn.ImageCaptioner.lr_find)"
   ]
  },
  {
   "cell_type": "markdown",
   "metadata": {},
   "source": [
    "# What's new in version 1.8.4"
   ]
  },
  {
   "cell_type": "markdown",
   "metadata": {},
   "source": [
    "## New"
   ]
  },
  {
   "cell_type": "markdown",
   "metadata": {
    "heading_collapsed": true
   },
   "source": [
    "### [`Guides`](https://developers.arcgis.com/python/guide/)\n",
    "* [Managing ArcGIS Applications](https://developers.arcgis.com/python/guide/)\n",
    "  * [Authoring ArcGIS Dashboards using [`arcgis.apps.dashboard`](https://developers.arcgis.com/python/api-reference/arcgis.apps.dashboard.html)](https://developers.arcgis.com/python/guide/authoring-arcgis-dashboards)\n",
    "* [Deep Learning with ArcGIS](https://developers.arcgis.com/python/guide/)\n",
    "  * [How ChangeDetection Works?](https://developers.arcgis.com/python/guide/how-change-detection-works)\n",
    "  * [Inference only Text Models in [`arcgis.learn`](https://developers.arcgis.com/python/api-reference/arcgis.learn.toc.html)](https://developers.arcgis.com/python/guide/inference-only-text-models-in-arcgis-learn)\n",
    "  * [Retraining Windows and Doors Extraction model](https://developers.arcgis.com/python/guide/retraining-windows-doors-extraction-model)\n",
    "  * [Unsupervised Machine learning using arcgis.learn guide](https://developers.arcgis.com/python/guide/unsupervised-ml-model-guide)\n",
    "  * [YOLOv3 Object Detector](https://developers.arcgis.com/python/guide/yolov3-object-detector)\n",
    "  * [Faster R-CNN Object Detector](https://developers.arcgis.com/python/guide/faster-rcnn-object-detector)\n",
    "  * [Edge Detection with [`arcgis.learn`](https://developers.arcgis.com/python/api-reference/arcgis.learn.toc.html#)](https://developers.arcgis.com/python/guide/edge-detection-with-arcgis-learn)\n",
    "  * [Image Captioning](https://developers.arcgis.com/python/guide/how-image-captioning-works)\n",
    "  * [How SequenceToSequence Works](https://developers.arcgis.com/python/guide/how-sequencetosequence-works)"
   ]
  },
  {
   "cell_type": "markdown",
   "metadata": {},
   "source": [
    "### [`Samples`](https://developers.arcgis.com/python/sample-notebooks/)\n",
    "* GIS Analysts and Data Scientists\n",
    "  * [Translating Story Map from one language to another using Deep Learning](https://developers.arcgis.com/python/sample-notebooks/translating-story-map-from-one-language-to-another)\n",
    "  * [Generating rgb imagery from digital surface model using Pix2Pix](https://developers.arcgis.com/sample-notebooks/python/generating-rgb-imagery-from-digital-surface-model-using-pix2pix/)\n",
    "  * [Change Detection of Buildings from Satellite Imagery](https://developers.arcgis.com/python/sample-notebooks/change-detection-of-buildings-from-satellite-imagery)\n",
    "  * [Land Parcel Extraction using Edge Detection model ](https://developers.arcgis.com/python/sample-notebooks/land-parcel-extraction-using-edge-detection-deep-learning-model)\n",
    "  * [Address Standardization and Correction using SequenceToSequence model](https://developers.arcgis.com/python/sample-notebooks/address-standardization-and-correction-with-sequencetosequence)"
   ]
  },
  {
   "cell_type": "markdown",
   "metadata": {},
   "source": [
    "## Fixes"
   ]
  },
  {
   "cell_type": "markdown",
   "metadata": {},
   "source": [
    "### [`Guides`](https://developers.arcgis.com/python/guide)\n",
    "* [Deep Learning with ArcGIS](https://developers.arcgis.com/python/guide)\n",
    "  * Updates guides with `PointRend` enhancement\n",
    "    * [How PSPNet works?](https://developers.arcgis.com/python/guide/how-pspnet-works/)\n",
    "    * [How MaskRCNN works?](https://developers.arcgis.com/python/guide/how-maskrcnn-works/)\n",
    "    * [How DeepLabV3 Works](https://developers.arcgis.com/python/guide/how-deeplabv3-works/)"
   ]
  },
  {
   "cell_type": "markdown",
   "metadata": {},
   "source": [
    "### [`Samples`](https://developers.arcgis.com/python/sample-notebooks/)\n",
    "* GIS Analysts and Data Scientists\n",
    " * Updates `Try-It-Live` functionality\n",
    "   * [Reconstructing 3D buildings from Aerial LiDAR with Deep Learning](https://developers.arcgis.com/python/sample-notebooks/building-reconstruction-using-mask-rcnn/)\n",
    "   * [Land cover classfication using sparse training data](https://developers.arcgis.com/python/sample-notebooks/land-cover-classification-using-sparse-training-data/)\n",
    "   * [Feature Categorization using Satellite Imagery and Deep Learning](https://developers.arcgis.com/python/sample-notebooks/feature-categorization-using-satellite-imagery-and-deep-learning/)\n",
    "   * [Coastline extraction using Landsat-8 multispectral imagery and band ratio technique](https://developers.arcgis.com/python/sample-notebooks/coastline-extraction-usa-landsat8-multispectral-imagery/)\n",
    " * Updates samples to correct data paths when `.` in paths\n",
    "   * [Extracting Building Footprints From Drone Data\n",
    "](https://developers.arcgis.com/python/sample-notebooks/extracting-building-footprints-from-drone-data/)\n",
    "   * [Increase Image Resolution using [`SuperResolution`](https://developers.arcgis.com/python/api-reference/arcgis.learn.toc.html#superresolution)](https://developers.arcgis.com/python/sample-notebooks/increase-image-resolution-using-superresolution/)\n",
    "   * [Shipwrecks detection using bathymetric data](https://developers.arcgis.com/python/sample-notebooks/shipwrecks-detection-using-bathymetric-data/)\n",
    "* Power Users/Developers\n",
    " * Updates samples that were missing maps in visualization sections\n",
    "   * [Building a change detection app using Jupyter Dashboard](https://developers.arcgis.com/python/sample-notebooks/building-a-change-detection-app-using-jupyter-dashboard/)\n",
    "   * [\n",
    "Interactive raster analytics using Jupyter Dashboards](https://developers.arcgis.com/python/sample-notebooks/jupyter-dashboard-for-raster-analytics/)\n",
    "   * [Integrating OpenStreetMap datasets with ArcGIS\n",
    "](https://developers.arcgis.com/python/sample-notebooks/osm-runner/)\n",
    "   * [A dashboard to explore world population](https://developers.arcgis.com/python/sample-notebooks/population-exploration-dashboard/)\n",
    " * [Visualize monthly changes in Hirakund reservoir using video](https://developers.arcgis.com/python/sample-notebooks/visualize-monthly-changes-in-hirakund-reservoir-using-video/)\n",
    "   * Fixes `OSERROR: cannot open resource` error when defining `create_movie()` function to visualize monthly changes "
   ]
  },
  {
   "cell_type": "markdown",
   "metadata": {},
   "source": [
    "#### [`arcgis.features`](https://developers.arcgis.com/python/api-reference/arcgis.features.toc.html#)\n",
    " * [`FeatureLayer`](https://developers.arcgis.com/python/api-reference/arcgis.features.toc.html#featurelayer)\n",
    "   * Fixes `Token Required` error on [`query()`](https://developers.arcgis.com/python/api-reference/arcgis.features.toc.html#arcgis.features.FeatureLayer.query) operations if using [OAuth Authentication](https://developers.arcgis.com/documentation/core-concepts/security-and-authentication/what-is-oauth-2/) to connect with [`GIS()`](https://developers.arcgis.com/python/api-reference/arcgis.gis.toc.html#gis)"
   ]
  },
  {
   "cell_type": "markdown",
   "metadata": {},
   "source": [
    "#### [`arcgis.widgets`](https://developers.arcgis.com/python/api-reference/arcgis.widgets.html)\n",
    "* [`MapView`](https://developers.arcgis.com/python/api-reference/arcgis.widgets.html#mapview)\n",
    " * Fixes issue with map widget not drawing in ArcGIS Pro 2.7"
   ]
  },
  {
   "cell_type": "markdown",
   "metadata": {},
   "source": [
    "#### [`arcgis.apps`](https://developers.arcgis.com/python/api-reference/arcgis.apps.html#)\n",
    "* [dashboard](https://developers.arcgis.com/python/api-reference/arcgis.apps.dashboard.html)\n",
    " * Fixes [`add_row()`](https://developers.arcgis.com/python/api-reference/arcgis.apps.dashboard.html#add-row) to properly read `height` argument\n",
    " * Fixes [`add_column()`](https://developers.arcgis.com/python/api-reference/arcgis.apps.dashboard.html#add-column) to properly read  `width` argument\n",
    " * Fixes issue with failures to synchronize maps to widgets"
   ]
  },
  {
   "cell_type": "markdown",
   "metadata": {},
   "source": [
    "#### [`arcgis.learn`](https://developers.arcgis.com/python/api-reference/arcgis.learn.toc.html)\n",
    "* [Pixel Classification Models](https://developers.arcgis.com/python/api-reference/arcgis.learn.toc.html#pixel-classification-models)\n",
    " * [`MultiTaskRoadExtractor`](https://developers.arcgis.com/python/api-reference/arcgis.learn.toc.html#multitaskroadextractor)\n",
    "   * Fixes issue where model would not run with ArcGIS Pro training tool\n",
    " * [`ChangeDetector`](https://developers.arcgis.com/python/api-reference/arcgis.learn.toc.html#changedetector)\n",
    "   * Fixes issue using multispectral data where tool does not give any results when inferenced in ArcGIS Pro using [Classify Pixels](https://pro.arcgis.com/en/pro-app/latest/tool-reference/raster-analysis/classify-pixels-using-deep-learning.htm) tool\n",
    "   * Fixes failures of [`predict(visualize=True)`](https://developers.arcgis.com/python/api-reference/arcgis.learn.toc.html#arcgis.learn.ChangeDetector.predict) using multispectral data\n",
    "   * Fixes multispectral model training failures at different chip_sizes\n",
    "   * Fixes variations in visualization when using [`show_results()`](https://developers.arcgis.com/python/api-reference/arcgis.learn.toc.html#arcgis.learn.ChangeDetector.show_results) and [`show_batch()`](https://developers.arcgis.com/python/api-reference/arcgis.learn.toc.html#arcgis.learn.ChangeDetector.show_batch) with multispectral data\n",
    "* [Object Classfication Models](https://developers.arcgis.com/python/api-reference/arcgis.learn.toc.html#object-classification-models)\n",
    " * [`FeatureClassifier`](https://developers.arcgis.com/python/api-reference/arcgis.learn.toc.html#featureclassifier)\n",
    "   * Fixes issue where you cannot create object from an ImageNet type dataset\n",
    "* [Tabular and Feature Data Models](https://developers.arcgis.com/python/api-reference/arcgis.learn.toc.html#tabular-and-feature-data-models)\n",
    " * [`TimeSeriesModel`](https://developers.arcgis.com/python/api-reference/arcgis.learn.toc.html#timeseriesmodel)\n",
    "   * Fixes failures on model initialization\n",
    " * [`MLModel`](https://developers.arcgis.com/python/api-reference/arcgis.learn.toc.html#mlmodel)\n",
    "   * Fixes issue where overwrites of the original data frame and respective column names occur during data preparation and with [`predict()`](https://developers.arcgis.com/python/api-reference/arcgis.learn.toc.html#arcgis.learn.MLModel.predict)\n",
    "* [Image Translation Models](https://developers.arcgis.com/python/api-reference/arcgis.learn.toc.html#image-translation-models)\n",
    " * [`CycleGAN`](https://developers.arcgis.com/python/api-reference/arcgis.learn.toc.html#cyclegan)\n",
    "   * Fixes issue with [`prepare_data()`](https://developers.arcgis.com/python/api-reference/arcgis.learn.toc.html#prepare-data) where `imagery_type` parameter was not treated as optional\n",
    " * [`Pix2Pix`](https://developers.arcgis.com/python/api-reference/arcgis.learn.toc.html#pix2pix)\n",
    "   * Fixes issue with [`prepare_data()`](https://developers.arcgis.com/python/api-reference/arcgis.learn.toc.html#prepare-data) where `imagery_type` parameter was not treated as optional\n",
    "   * Adds missing `accuracy` and `show_progress` parameters to [`compute_metrics()`](https://developers.arcgis.com/python/api-reference/arcgis.learn.toc.html#arcgis.learn.Pix2Pix.compute_metrics)"
   ]
  },
  {
   "cell_type": "markdown",
   "metadata": {},
   "source": [
    "# What's new in version 1.8.3"
   ]
  },
  {
   "cell_type": "markdown",
   "metadata": {},
   "source": [
    "## New\n",
    "* Adds [`ujson`](https://github.com/ultrajson/ultrajson) library as a dependency for JSON parsing to improve performance"
   ]
  },
  {
   "cell_type": "markdown",
   "metadata": {},
   "source": [
    "### New [Guides](https://developers.arcgis.com/python/guide/)\n",
    "* Working with geometries\n",
    "  * [Part 1 - Introduction - what is geometry?](https://developers.arcgis.com/python/guide/part1-introduction-what-is-geometry/)\n",
    "  * [Part 2 - Working with Geometries](https://developers.arcgis.com/python/guide/part2-working-with-geometries/)\n",
    "  * [Part 3 - Spatial operations on geometries](https://developers.arcgis.com/python/guide/part3-spatial-operations-on-geometries/)\n",
    "  * [Part 4 - Applying spatial filters](https://developers.arcgis.com/python/guide/part4-spatial-filters/)\n",
    "* Enriching GIS data with Thematic Information\n",
    "  * [Part 1 - Introduction to GeoEnrichment](https://developers.arcgis.com/python/guide/part1-introduction-to-geoenrichment)\n",
    "  * [Part 2 - Where to enrich?(what are study areas?)](https://developers.arcgis.com/python/guide/part2-where-to-enrich-study-areas/)\n",
    "  * [Part 3 - Where to enrich?(what are Named Statistical Areas?)](https://developers.arcgis.com/python/guide/part3-where-to-enrich-named-stat-areas/)\n",
    "  * [Part 4 - What to enrich with? (What are Data Collections and Analysis Variables?)](https://developers.arcgis.com/python/guide/part4-what-to-enrich-datacollections-analysisvariables/)\n",
    "  * [Part 5 - Generating Reports](https://developers.arcgis.com/python/guide/part5-generate-reports/)\n",
    "  * [Part 6 - Standard Geography Queries](https://developers.arcgis.com/python/guide/part6-std-geography-query/)\n",
    "* Data Engineering Guides\n",
    "  * [Part 1 - Introduction to Data Engineering](https://developers.arcgis.com/python/guide/part1-introduction-to-dataengineering)\n",
    "  * [Part 2 - Introduction to NumPy](https://developers.arcgis.com/python/guide/part2-introduction-to-numpy)\n",
    "  * [Part 3 - Introduction to Pandas](https://developers.arcgis.com/python/guide/part3-introduction-to-pandas)\n",
    "  * [Part 4 - Productivity with Pandas](https://developers.arcgis.com/python/guide/part4-productivity-with-pandas)\n",
    "  * [Part 5 - Working with Time Series Data](https://developers.arcgis.com/python/guide/part5-time-series-analysis-with-pandas)\n",
    "* Install and set up\n",
    " * Reconfigures Guide into:\n",
    "   * [Install and set up](https://developers.arcgis.com/python/guide/install-and-set-up/)\n",
    "   * [Install older versions](https://developers.arcgis.com/python/guide/install-older-versions)\n",
    "* Deep Learning with ArcGIS\n",
    "  * [Geo-Referencing and Digitization of Scanned Maps](https://developers.arcgis.com/python/guide/geo-referencing-and-digitization-of-scanned-maps)\n",
    "  * [How SuperResolution Works](https://developers.arcgis.com/python/guide/how-superresolution-works)\n",
    "  * [Text Classification workflow with [`arcgis.learn`](https://developers.arcgis.com/python/api-reference/arcgis.learn.html)](https://developers.arcgis.com/python/guide/text-classification)\n",
    "  * [How Multi-Task Road Extractor works](https://developers.arcgis.com/python/guide/how-multi-task-road-extractor-works)\n",
    "  * [How Pix2Pix works](https://developers.arcgis.com/python/guide/how-pix2pix-works)\n",
    "  * [How CycleGAN Works](https://developers.arcgis.com/python/guide/how-cyclegan-works)"
   ]
  },
  {
   "cell_type": "markdown",
   "metadata": {},
   "source": [
    "### New [`Samples`](https://developers.arcgis.com/python/sample-notebooks/)\n",
    "* Org Administrators\n",
    " * [Clone StoryMap Version 2](https://developers.arcgis.com/python/sample-notebooks/clone-storymap-version2)\n",
    "* GIS Analysts and Data Scientists\n",
    " * [Prediction of energy generation from Solar Photovoltaic Power Plants using weather variables](https://developers.arcgis.com/python/sample-notebooks/solar-energy-prediction-using-weather-variables)\n",
    " * [Detection of electric utility features and vegetation encroachments from satellite images using deep learning](https://developers.arcgis.com/python/sample-notebooks/detection-of-electric-utility-features-and-vegetation-encroachments-from-satellite-images-using-deep-learning)\n",
    " * [River Turbidity Estimation using Sentinel-2 data](https://developers.arcgis.com/python/sample-notebooks/river-turbidity-estimation-using-sentinel2-data-)\n",
    " * [Mapping Infrastructural Damage due to Beirut Blast](https://developers.arcgis.com/python/sample-notebooks/infrastructural-damage-due-to-blast-in-beirut)\n",
    " * [Coastline extraction using Landsat-8 multispectral imagery and band ratio technique](https://developers.arcgis.com/python/sample-notebooks/coastline-extraction-usa-landsat8-multispectral-imagery)\n",
    " * [Identifying country names from incomplete house addresses](https://developers.arcgis.com/python/sample-notebooks/identifying-country-names-from-incomplete-house-addresses)\n",
    " * [SAR to RGB image translation using CycleGAN](https://developers.arcgis.com/python/sample-notebooks/sar-to-rgb-image-translation-using-cyclegan/)\n",
    " * [Creating building models using point cloud classification](https://developers.arcgis.com/python/sample-notebooks/creating-building-models-using-point-cloud-classification)\n",
    " * [Automatic road extraction using deep learning](https://developers.arcgis.com/python/sample-notebooks/automatic-road-extraction-using-deep-learning)"
   ]
  },
  {
   "cell_type": "markdown",
   "metadata": {},
   "source": [
    "#### [`arcgis.gis`](https://developers.arcgis.com/python/api-reference/arcgis.gis.toc.html#)\n",
    "* Adds [`Workflow Manager`](https://developers.arcgis.com/python/api-reference/arcgis.gis.workflowmanager.html#) submodule\n",
    "* Adds support for `API Key` authentication to [`GIS()`](https://developers.arcgis.com/python/api-reference/arcgis.gis.toc.html#gis) object with `api_key` keyword\n",
    "* Adds `trust_env` keyword to [`GIS()`](https://developers.arcgis.com/python/api-reference/arcgis.gis.toc.html#gis)\n",
    "* Adds [`python-certifi-win32`](https://pypi.org/project/python-certifi-win32/) to API dependencies so certificates from the Windows certificate store are used by [`GIS`](https://developers.arcgis.com/python/api-reference/arcgis.gis.toc.html#gis)\n",
    "* [`UserManager`](https://developers.arcgis.com/python/api-reference/arcgis.gis.toc.html#usermanager)\n",
    " * Adds code example for `role` parameter on [`create()`](https://developers.arcgis.com/python/api-reference/arcgis.gis.toc.html#arcgis.gis.UserManager.create) documentation\n",
    "* [`ContentManager`](https://developers.arcgis.com/python/api-reference/arcgis.gis.toc.html#contentmanager)\n",
    " * Adds support for `Workforce Version 2 Projects` to [`clone_items()`](https://developers.arcgis.com/python/api-reference/arcgis.gis.toc.html#arcgis.gis.ContentManager.clone_items)\n",
    " * Adds [`generate()`](https://developers.arcgis.com/python/api-reference/arcgis.gis.toc.html#arcgis.gis.ContentManager.generate) method to create features from `CSV`, `shapefile`, `GPX`, and `GeoJSON` files\n",
    "* [`Group`](https://developers.arcgis.com/python/api-reference/arcgis.gis.toc.html#arcgis.gis.Group) \n",
    " * Adds [`search()`](https://developers.arcgis.com/python/api-reference/arcgis.gis.toc.html#arcgis.gis.Group.search) method for searching group content\n",
    " * [`add_users()`](https://developers.arcgis.com/python/api-reference/arcgis.gis.toc.html#arcgis.gis.Group.add_users)\n",
    "   * Adds `admins` parameter\n",
    "   * Adds default value to `usernames` parameter\n",
    " * Adds [`delete_group_thumbnail()`](https://developers.arcgis.com/python/api-reference/arcgis.gis.toc.html#arcgis.gis.Group.download_thumbnail) method\n",
    "* [`ResourceManager`](https://developers.arcgis.com/python/api-reference/arcgis.gis.toc.html#arcgis.gis.ResourceManager)\n",
    " * Adds [`export()`](https://developers.arcgis.com/python/api-reference/arcgis.gis.toc.html#arcgis.gis.ResourceManager.export) method\n",
    " * Adds `access` parameter to [`add()`](https://developers.arcgis.com/python/api-reference/arcgis.gis.toc.html#arcgis.gis.ResourceManager.add) method\n",
    " * Updates [`remove()`](https://developers.arcgis.com/python/api-reference/arcgis.gis.toc.html#arcgis.gis.ResourceManager.remove) `file` parameter so if not specifed all `dependencies` are removed\n",
    "* [`DataStoreManager`]()\n",
    " * Adds check to ensure [`validate()`](https://developers.arcgis.com/python/api-reference/arcgis.gis.toc.html#arcgis.gis.DatastoreManager.validate) returns `Boolean` result\n",
    "* [`DataStore`](https://developers.arcgis.com/python/api-reference/arcgis.gis.toc.html#datastore)\n",
    " * Adds check to ensure [`regenerate()`](https://developers.arcgis.com/python/api-reference/arcgis.gis.toc.html#arcgis.gis.Datastore.regenerate) returns `Boolean` result\n",
    "* Adds logic for application login with `client_id` and `client_secret`"
   ]
  },
  {
   "cell_type": "markdown",
   "metadata": {},
   "source": [
    "#### [`arcgis.gis.admin`](https://developers.arcgis.com/python/api-reference/arcgis.gis.admin.html#)\n",
    "* Adds [`generate_report()`](https://developers.arcgis.com/python/api-reference/arcgis.gis.admin.html#arcgis.gis.admin.AGOLUsageReports.generage_report) method to [`AGOLUsageReports`](https://developers.arcgis.com/python/api-reference/arcgis.gis.admin.html#agolusagereports) for organizational usage monitoring"
   ]
  },
  {
   "cell_type": "markdown",
   "metadata": {},
   "source": [
    "#### [`arcgis.gis.server`](https://developers.arcgis.com/python/api-reference/arcgis.gis.server.html)\n",
    "* Adds [`properties`](https://developers.arcgis.com/python/api-reference/arcgis.gis.server.html#arcgis.gis.server.ServerManager.properties) to [`ServerManager`](https://developers.arcgis.com/python/api-reference/arcgis.gis.server.html#servermanager)\n",
    " * allows publisher role the ability to obtain server ID information needed for datastore registration (**`Enterprise 10.9`**)\n",
    "* Adds [`Extension`](https://developers.arcgis.com/python/api-reference/arcgis.gis.server.html#extension) documentation to APi Reference\n",
    "* [`ReportManager`]()\n",
    " * Adds code example to [`create()`](https://developers.arcgis.com/python/api-reference/arcgis.gis.server.html#arcgis.gis.server.ReportManager.create)\n",
    " * Adds code example to [`quick_report()`](https://developers.arcgis.com/python/api-reference/arcgis.gis.server.html#arcgis.gis.server.ReportManager.quick_report)"
   ]
  },
  {
   "cell_type": "markdown",
   "metadata": {},
   "source": [
    "#### [`arcgis.env`](https://developers.arcgis.com/python/api-reference/arcgis.env.html)\n",
    "* Adds environment variables:\n",
    " * `union_dimension`\n",
    " * `match_variables`"
   ]
  },
  {
   "cell_type": "markdown",
   "metadata": {},
   "source": [
    "#### [`arcgis.features`](https://developers.arcgis.com/python/api-reference/arcgis.features.toc.html)\n",
    "* [`FeatureLayer`](https://developers.arcgis.com/python/api-reference/arcgis.features.toc.html#arcgis.features.FeatureLayer)\n",
    " * Adds note to [`edit_features()`](https://developers.arcgis.com/python/api-reference/arcgis.features.toc.html#arcgis.features.FeatureLayer.edit_features) to use only for small batches of edits\n",
    " * Adds [`query_analytics()`](https://developers.arcgis.com/python/api-reference/arcgis.features.toc.html#arcgis.features.FeatureLayer.query_analytics) method for **ArcGIS Online Hosted Layers only** (`ArcGIS Enterprise` support forthcoming)\n",
    "* [`Spatially Enabled DataFrame`](https://developers.arcgis.com/python/api-reference/arcgis.features.toc.html#geoaccessor)\n",
    " * Adds [`from_feather()`](https://developers.arcgis.com/python/api-reference/arcgis.features.toc.html#arcgis.features.GeoAccessor.from_feather) method for [`feather format files`](https://arrow.apache.org/docs/python/feather.html#feather-file-format)\n",
    "* [`FeatureLayerCollection`](https://developers.arcgis.com/python/api-reference/arcgis.features.toc.html#featurelayercollection)\n",
    " * Adds code example to [`extract_changes()`](https://developers.arcgis.com/python/api-reference/arcgis.features.toc.html#arcgis.features.FeatureLayerCollection.extract_changes) API Reference\n",
    "* Adds `return_edits` parameter to [`ValidationManager.update_error()`](https://developers.arcgis.com/python/api-reference/arcgis.features.managers.html#arcgis.features._validation.ValidationManager.update_error)"
   ]
  },
  {
   "cell_type": "markdown",
   "metadata": {},
   "source": [
    "#### [`arcgis.features.analysis`](https://developers.arcgis.com/python/api-reference/arcgis.features.analysis.html)\n",
    " * [`analyze_patterns`](https://developers.arcgis.com/python/api-reference/arcgis.features.analyze_patterns.html#)\n",
    "  * [`find_point_clusters()`](https://developers.arcgis.com/python/api-reference/arcgis.features.analyze_patterns.html#find-point-clusters) \n",
    "    * Adds documentation\n",
    " * [`summarize_data`](https://developers.arcgis.com/python/api-reference/arcgis.features.summarize_data.html#)\n",
    "  * [`summarize_within()`](https://developers.arcgis.com/python/api-reference/arcgis.features.summarize_data.html#summarize-within)\n",
    "    * Adds parameters:\n",
    "     * `bin_type` \n",
    "     * `bin_size` \n",
    "     * `bin_size_unit`\n",
    " * [`manage_data`](https://developers.arcgis.com/python/api-reference/arcgis.geoanalytics.manage_data.html#)\n",
    "  * [`run_python_script()`](https://developers.arcgis.com/python/api-reference/arcgis.geoanalytics.manage_data.html#run-python-script) for `Enterprise 10.9`\n",
    "    * Adds parameters:\n",
    "     * `param_as_input`"
   ]
  },
  {
   "cell_type": "markdown",
   "metadata": {},
   "source": [
    "#### [`arcgis.features.managers`](https://developers.arcgis.com/python/api-reference/arcgis.features.managers.html)\n",
    "* [`Version`](https://developers.arcgis.com/python/api-reference/arcgis.features.managers.html#version)\n",
    " * [`differences()`](https://developers.arcgis.com/python/api-reference/arcgis.features.managers.html#arcgis.features._version.Version.differences) method\n",
    "   * adds `moments` parameter\n",
    "   * adds parameter table\n",
    " * Adds [`restore()`](https://developers.arcgis.com/python/api-reference/arcgis.features.managers.html#arcgis.features._version.Version.restore) method\n",
    "* [`AttachmentManager`](https://developers.arcgis.com/python/api-reference/arcgis.features.managers.html#arcgis.features.managers.AttachmentManager)\n",
    "* [`ParcelFabricManager`](https://developers.arcgis.com/python/api-reference/arcgis.features.managers.html#arcgis.features._parcel.ParcelFabricManager)\n",
    " * Adds methods:\n",
    "   * [`analyze_least_squares_adjustment()`](https://developers.arcgis.com/python/api-reference/arcgis.features.managers.html#arcgis.features._parcel.ParcelFabricManager.analyze_least_squares_adjustment)\n",
    "   * [`apply_least_squares_adjustment()`](https://developers.arcgis.com/python/api-reference/arcgis.features.managers.html#arcgis.features._parcel.ParcelFabricManager.apply_least_squares_adjustment)"
   ]
  },
  {
   "cell_type": "markdown",
   "metadata": {},
   "source": [
    "#### [`arcgis.raster`](https://developers.arcgis.com/python/api-reference/arcgis.raster.toc.html)\n",
    "* [`Raster`](https://developers.arcgis.com/python/api-reference/arcgis.raster.toc.html#raster)\n",
    " * Adds new properties:\n",
    "   * `RAT`\n",
    " * Adds new methods:\n",
    "   * `get_colormap()`\n",
    "   * `set_colormap()`\n",
    "   * `get_statistics()`\n",
    "   * `set_statistics()`\n",
    "   * `get_histograms()`\n",
    "   * `set_histograms()`\n",
    "   * `append_slices()`\n",
    "   * `set_variable_attributes()`\n",
    "   * `summarize()`\n",
    "* [`ImageryLayer`](https://developers.arcgis.com/python/api-reference/arcgis.raster.toc.html#imagerylayer)\n",
    " * Adds [`tiles_only`](https://developers.arcgis.com/python/api-reference/arcgis.raster.toc.html#arcgis.raster.ImageryLayer.tiles) property\n",
    " * Adds [`render_tilesonly_layer`](https://developers.arcgis.com/python/api-reference/arcgis.raster.toc.html#arcgis.raster.ImageryLayer.render_tilesonly_layer) method\n",
    " * Raises errors for `properties` and `methods` not supported by `TilesOnly` layers\n",
    " * [`colormap()`](https://developers.arcgis.com/python/api-reference/arcgis.raster.toc.html#arcgis.raster.ImageryLayer.colormap)\n",
    "   * Adds parameters:\n",
    "     * `rendering_rule`\n",
    "     * `variable`\n",
    " * Adds [`get_histograms()`](https://developers.arcgis.com/python/api-reference/arcgis.raster.toc.html#arcgis.raster.ImageryLayer.get_histograms) method\n",
    " * Adds [`statistics()`](https://developers.arcgis.com/python/api-reference/arcgis.raster.toc.html#arcgis.raster.ImageryLayer.statistics) method\n",
    "* Adds [`RasterInfo`](https://developers.arcgis.com/python/api-reference/arcgis.raster.toc.html#rasterinfo) Class"
   ]
  },
  {
   "cell_type": "markdown",
   "metadata": {},
   "source": [
    "#### [`arcgis.raster.analytics`](https://developers.arcgis.com/python/api-reference/arcgis.raster.analytics.html)\n",
    "* Enhances API to utilize the hosted imagery and raster analysis capabilities available with the June 2020 ArcGIS Online \n",
    "* Adds `tiles_only` keyword argument to functions\n",
    "* [`build_multidimensional_transpose()`](https://developers.arcgis.com/python/api-reference/arcgis.raster.analytics.html#arcgis.raster.analytics.build_multidimensional_transpose)\n",
    " * Adds new parameter:\n",
    "  * `delete_transpose` (*Parameter available in ArcGIS Image Server 10.9 or higher*)\n",
    "* [`summarize_raster_within()`](https://developers.arcgis.com/python/api-reference/arcgis.raster.analytics.html#summarize-raster-within)\n",
    " * Adds new parameter:\n",
    "  * `percentile_interpolation_type`(*Parameter available in ArcGIS Image Server 10.9 or higher*)\n",
    "* Enhanced the following functions to accept local datasets to create hosted imagery layers \n",
    " * [`create_image_collection()`](https://developers.arcgis.com/python/api-reference/arcgis.raster.analytics.html#create-image-collection)\n",
    " * [`copy_raster()`](https://developers.arcgis.com/python/api-reference/arcgis.raster.analytics.html#copy-raster)\n",
    "* Adds [`merge_multidimensional_rasters()`](https://developers.arcgis.com/python/api-reference/arcgis.raster.analytics.html#merge-multidimensional-rasters) function (*requires ArcGIS Image Server 10.9 or higher*)\n",
    "* [`calculate_density()`](https://developers.arcgis.com/python/api-reference/arcgis.raster.analytics.html#calculate-density)\n",
    " * Adds `input_barriers` parameter (*requires in ArcGIS Image Server 10.9 and higher*)\n",
    "* [`optimal_path_as_line()`](https://developers.arcgis.com/python/api-reference/arcgis.raster.analytics.html#optimal-path-as-line)\n",
    " * Adds `create_network_paths` parameter (*requires in ArcGIS Image Server 10.9 and higher*)"
   ]
  },
  {
   "cell_type": "markdown",
   "metadata": {},
   "source": [
    "#### [`arcgis.raster.functions`](https://developers.arcgis.com/python/api-reference/arcgis.raster.functions.html)\n",
    "* Adds new functions:\n",
    " * detect_change_using_change_analysis_raster\n",
    " * trend_to_rgb\n",
    " * apparent_reflectance\n",
    " * buffered\n",
    " * rasterize_features\n",
    " * reproject\n",
    " * heat_index\n",
    " * wind_chill\n",
    " * aspect_slope\n",
    " * contour\n",
    " * compute_change\n",
    " * aggregate\n",
    " * bai\n",
    " * nbr\n",
    " * ndbi\n",
    " * ndmi\n",
    " * ndsi\n",
    " * mndwi\n",
    "* [`band_arithmetic()`](https://developers.arcgis.com/python/api-reference/arcgis.raster.functions.html?highlight=band_arithmetic#band-arithmetic)\n",
    " * Adds new options for method:\n",
    "   * BAI \n",
    "   * NBR\n",
    "   * NDBI\n",
    "   * NDMI\n",
    "   * NDSI\n",
    "   * MNDWI\n",
    "* [`generate_trend()`](https://developers.arcgis.com/python/api-reference/arcgis.raster.functions.html#generate-trend)\n",
    " * Adds options for `regression_type` parameter:\n",
    "   * `MANN-KENDALL`\n",
    "   * `SEASONAL-KENDALL`\n",
    " * Adds new parameter:\n",
    "   * `seasonal_period`\n",
    "* [`focal_statistics()`](https://developers.arcgis.com/python/api-reference/arcgis.raster.functions.html#focal-statistics)\n",
    " * Adds new options for `stat_type`:\n",
    "   * Median\n",
    "   * Majority\n",
    "   * Minority\n",
    "* [`composite_band()`](https://developers.arcgis.com/python/api-reference/arcgis.raster.functions.html?highlight=band_arithmetic#composite-band)\n",
    " * Adds `cellsize_type` parameter\n",
    "* [`geometric()`](https://developers.arcgis.com/python/api-reference/arcgis.raster.functions.html?highlight=band_arithmetic#geometric)\n",
    " * Adds new parameters:\n",
    "   * `tolerance`\n",
    "   * `dem`"
   ]
  },
  {
   "cell_type": "markdown",
   "metadata": {},
   "source": [
    "#### [`arcgis.raster.functions.gbl`](https://developers.arcgis.com/python/api-reference/arcgis.raster.functions.gbl.html)\n",
    "* Adds new functions:\n",
    " * [`boundary_clean()`](https://developers.arcgis.com/python/api-reference/arcgis.raster.functions.gbl.html#boundary-clean) (*Parameter available in ArcGIS Image Server 10.9 or higher*)\n",
    "* [`zonal_statistics()`](https://developers.arcgis.com/python/api-reference/arcgis.raster.functions.gbl.html#arcgis.raster.functions.gbl.zonal_statistics)\n",
    " * Adds new parameter:\n",
    "  * `percentile_interpolation_type` (*Parameter available in ArcGIS Image Server 10.9 or higher*)\n",
    "* [`kernel_density()`](https://developers.arcgis.com/python/api-reference/arcgis.raster.functions.gbl.html#kernel-density)\n",
    " * Adds `in_barriers` parameter (*Parameter available in ArcGIS Image Server 10.9 and higher*)"
   ]
  },
  {
   "cell_type": "markdown",
   "metadata": {},
   "source": [
    "#### [`argis.raster.functions.RFT`](https://developers.arcgis.com/python/api-reference/arcgis.raster.functions.RFT.html)\n",
    " * Enhanced module to work with ArcGIS Online"
   ]
  },
  {
   "cell_type": "markdown",
   "metadata": {},
   "source": [
    "#### [`arcgis.geoanalytics`](https://developers.arcgis.com/python/api-reference/arcgis.geoanalytics.toc.html)\n",
    " * [`summarize_data`](https://developers.arcgis.com/python/api-reference/arcgis.geoanalytics.summarize_data.html) submodule\n",
    "   * Adds time stepping parameters to [`summarize_attributes()`](https://developers.arcgis.com/python/api-reference/arcgis.geoanalytics.summarize_data.html#summarize-attributes) for `10.9+` releases\n",
    "     * `time_step_interval`\n",
    "     * `time_step_interval_unit`\n",
    "     * `time_step_repeat_interval`\n",
    "     * `time_step_repeat_interval_unit`\n",
    "     * `time_step_reference`"
   ]
  },
  {
   "cell_type": "markdown",
   "metadata": {},
   "source": [
    "#### [`arcgis.geometry.functions`](https://developers.arcgis.com/python/api-reference/arcgis.geometry.functions.html#)\n",
    " * Adds missing api reference documentation"
   ]
  },
  {
   "cell_type": "markdown",
   "metadata": {},
   "source": [
    "#### [`arcgis.mapping`](https://developers.arcgis.com/python/api-reference/arcgis.mapping.toc.html)\n",
    "* Adds new classes\n",
    " * [`MapServiceLayer`](https://developers.arcgis.com/python/api-reference/arcgis.mapping.toc.html#mapservicelayer)\n",
    " * [`MapFeatureLayer`](https://developers.arcgis.com/python/api-reference/arcgis.mapping.toc.html#mapfeaturelayer)\n",
    " * [`MapRasterLayer`](https://developers.arcgis.com/python/api-reference/arcgis.mapping.toc.html#maprasterlayer)\n",
    " * [`MapTable`](https://developers.arcgis.com/python/api-reference/arcgis.mapping.toc.html#maptable)\n",
    "* Adds support for polygons to the `extent` parameter of [`OfflineMapAreaManager.create()`](https://developers.arcgis.com/python/api-reference/arcgis.mapping.toc.html#arcgis.mapping.OfflineMapAreaManager.create)\n",
    "* [`WebMap`](https://developers.arcgis.com/python/api-reference/arcgis.mapping.toc.html#webmap)\n",
    " * Adds [`get_layer()`](https://developers.arcgis.com/python/api-reference/arcgis.mapping.toc.html#arcgis.mapping.WebMap.get_layer) method\n",
    " * Adds [`get_table()`](https://developers.arcgis.com/python/api-reference/arcgis.mapping.toc.html#arcgis.mapping.WebMap.get_table) method\n",
    " * Adds support for setting a `basemap` to the following layer types: (See [`WebMap Specification operationalLayers`](https://developers.arcgis.com/web-map-specification/objects/operationalLayers/)):\n",
    "   * `ImageServiceVectorLayer`\n",
    "   * `VectorTileLayer`\n",
    "   * `WebTiledLayer`\n",
    "   * `WMSLayer`\n",
    " * Adds ability to allow user-defined extent in [`save()`](https://developers.arcgis.com/python/api-reference/arcgis.mapping.toc.html#arcgis.mapping.WebMap.save)"
   ]
  },
  {
   "cell_type": "markdown",
   "metadata": {},
   "source": [
    "#### [`arcgis.mapping.ogc`](https://developers.arcgis.com/python/api-reference/arcgis.mapping.ogc.html#)\n",
    "* [`GeoJSONLayer`](https://developers.arcgis.com/python/api-reference/arcgis.mapping.ogc.html#geojsonlayer)\n",
    " * Adds `data` parameter to allow plotting from a string or local file"
   ]
  },
  {
   "cell_type": "markdown",
   "metadata": {},
   "source": [
    "#### [`arcgis.widgets`](https://developers.arcgis.com/python/api-reference/arcgis.widgets.html)\n",
    "* Updates [`MapView`](https://developers.arcgis.com/python/api-reference/arcgis.widgets.html#mapview) to use `JavaScript 4.17`\n",
    "* Adds note to [`MapView`](https://developers.arcgis.com/python/api-reference/arcgis.widgets.html#mapview) documentation clarifying proper configuration to avoid various `CORS` errors\n",
    " * Addresses many browser connection errors with the `gis.map()` functionality\n",
    " * Example: BUG-000124898 - IWA authenticated portals returning authentication error\n",
    "* Changes default basemap for anonymous access to the [`OSM Basemap`](https://esri.maps.arcgis.com/apps/View/index.html?appid=d6b18a2e774c4959ba855f6ac90952a2)\n",
    "* Adds [`embed()`](https://developers.arcgis.com/python/api-reference/arcgis.widgets.html#arcgis.widgets.MapView.embed) function to enable a live, interactive map widget in exported HTML notebooks\n",
    "* Adds [`map widget`](https://developers.arcgis.com/python/api-reference/arcgis.widgets.html#mapview) support to [`JupyterLab`](https://jupyterlab.readthedocs.io/en/stable/) 2.x releases\n",
    "* Adds [`map widget`](https://developers.arcgis.com/python/api-reference/arcgis.widgets.html#mapview) to extensions that can be installed with [`JupyterLab Extension Manager`](https://jupyterlab.readthedocs.io/en/stable/user/extensions.html#using-the-extension-manager)\n",
    "* Adds support for visualizing [`SceneLayer`](https://developers.arcgis.com/python/api-reference/arcgis.mapping.toc.html#scenelayer) types\n",
    " * [`PointCloudLayer`](https://developers.arcgis.com/python/api-reference/arcgis.mapping.toc.html#pointcloudlayer)\n",
    " * [`Point3DLayer`](https://developers.arcgis.com/python/api-reference/arcgis.mapping.toc.html#point3dlayer)\n",
    " * [`Object3DLayer`](https://developers.arcgis.com/python/api-reference/arcgis.mapping.toc.html#object3dlayer)\n",
    " * [`IntegratedMeshLayer`](https://developers.arcgis.com/python/api-reference/arcgis.mapping.toc.html#integratedmeshlayer)\n",
    " * [`BuildingLayer`](https://developers.arcgis.com/python/api-reference/arcgis.mapping.toc.html#buildinglayer)"
   ]
  },
  {
   "cell_type": "markdown",
   "metadata": {},
   "source": [
    "#### [`arcgis.apps`](https://developers.arcgis.com/python/api-reference/arcgis.apps.html)\n",
    "* Adds new [`Dashboard`](https://developers.arcgis.com/python/api-reference/arcgis.apps.dashboard.html) submodule\n",
    "* Adds new `url` builders:\n",
    " * [`build_workforce_url`](https://developers.arcgis.com/python/api-reference/arcgis.apps.html#build-workforce-url)\n",
    " * [`bulld_field_maps_url`](https://developers.arcgis.com/python/api-reference/arcgis.apps.html#build-field-maps-url)\n",
    "* Adds `updateFeature` support as option for `actions` parameter in [`build_collector_url`](https://developers.arcgis.com/python/api-reference/arcgis.apps.html#build-collector-url)\n",
    "* [`Workforce`](https://developers.arcgis.com/python/api-reference/arcgis.apps.workforce.html)\n",
    " * Adds logic to enforce [`integrations`](https://developers.arcgis.com/python/api-reference/arcgis.apps.workforce.managers.html#arcgis.apps.workforce.managers.AssignmentIntegrationManager.add) with the same id both have assignment types\n",
    " * Adds logic enforcing layer and table order of feature service when created\n",
    " * Adds validation logic to the [`Assignment`](https://developers.arcgis.com/python/api-reference/arcgis.apps.workforce.html#assignment) class for `priority` parameter"
   ]
  },
  {
   "cell_type": "markdown",
   "metadata": {},
   "source": [
    "#### [`arcgis.learn`](https://developers.arcgis.com/python/api-reference/arcgis.learn.html#)\n",
    "* New Table of Contents structure: (new classes and functions at 1.8.3 listed here)\n",
    " * [`Data Preparation Methods`](https://developers.arcgis.com/python/api-reference/arcgis.learn.html#data-preparation-methods)\n",
    "   * [`prepare_textdata()`](https://developers.arcgis.com/python/api-reference/arcgis.learn.html#prepare-textdata)\n",
    " * [`Object Classification Methods`](https://developers.arcgis.com/python/api-reference/arcgis.learn.html#object-classification-methods)\n",
    " * [`Object Detection Models`](https://developers.arcgis.com/python/api-reference/arcgis.learn.html#object-detection-models)\n",
    " * [`Pixel Classification Models`](https://developers.arcgis.com/python/api-reference/arcgis.learn.html#pixel-classification-models)\n",
    "   * [`HEDEdgeDetector`](https://developers.arcgis.com/python/api-reference/arcgis.learn.html#hededgedetector)\n",
    "   * [`BDCNEdgeDetector`](https://developers.arcgis.com/python/api-reference/arcgis.learn.html#bdcnedgedetector)\n",
    "   * [`MultiTaskRoadExtractor`](https://developers.arcgis.com/python/api-reference/arcgis.learn.html#multitaskroadextractor)\n",
    "   * [`ChangeDetector`](https://developers.arcgis.com/python/api-reference/arcgis.learn.html#changedetector)\n",
    " * [`Image Translation Models`](https://developers.arcgis.com/python/api-reference/arcgis.learn.html#image-translation-models)\n",
    "   * [`ImageCaptioner`](https://developers.arcgis.com/python/api-reference/arcgis.learn.html#imagecaptioner)\n",
    "   * [`Pix2Pix`](https://developers.arcgis.com/python/api-reference/arcgis.learn.html#pix2pix)\n",
    "   * [`CycleGAN`](https://developers.arcgis.com/python/api-reference/arcgis.learn.html#cyclegan)\n",
    " * [`3D Models`](https://developers.arcgis.com/python/api-reference/arcgis.learn.html#d-models)\n",
    " * [`Scanned Maps`](https://developers.arcgis.com/python/api-reference/arcgis.learn.html#scanned-maps)\n",
    "   * [`ScannedMapDigitizer`](https://developers.arcgis.com/python/api-reference/arcgis.learn.html#scannedmapdigitizer)\n",
    " * [`Tabular and Feature Data Models`](https://developers.arcgis.com/python/api-reference/arcgis.learn.html#tabular-and-feature-data-models)\n",
    "   * [`TimeSeriesModel`](https://developers.arcgis.com/python/api-reference/arcgis.learn.html#timeseriesmodel)\n",
    " * [`Unstructured Text Models`](https://developers.arcgis.com/python/api-reference/arcgis.learn.html#unstructured-text-models)\n",
    "   * [`arcgis.learn.text`](https://developers.arcgis.com/python/api-reference/arcgis.learn.toc.html#arcgis-learn-text-module) submodule\n",
    "     * [`TextClassifier`](https://developers.arcgis.com/python/api-reference/arcgis.learn#argis.learn.text.html#textclassifier)\n",
    "     * [`SequenceToSequence`](https://developers.arcgis.com/python/api-reference/arcgis.learn#argis.learn.text.html#sequencetosequence)\n",
    "     * [`Inference Only Models`](https://developers.arcgis.com/python/api-reference/arcgis-learn-text-module#inference-only-models) submodule\n",
    "       * [`FillMask`](https://developers.arcgis.com/python/api-reference/arcgis.learn.text.html#fillmask)\n",
    "       * [`QuestionAnswering`](https://developers.arcgis.com/python/api-reference/arcgis.learn.text.html#questionanswering)\n",
    "       * [`TextGenerator`](https://developers.arcgis.com/python/api-reference/arcgis.learn.text.html#textgenerator)\n",
    "       * [`TextSummarizer`](https://developers.arcgis.com/python/api-reference/arcgis.learn.text.html#textsummarizer)\n",
    "       * [`TextTranslator`](https://developers.arcgis.com/python/api-reference/arcgis.learn.text.html#texttranslator)\n",
    "       * [`ZeroShotClassifier`](https://developers.arcgis.com/python/api-reference/arcgis.learn.text.html#zeroshotclassifier)\n",
    " * [`Inferencing Methods (Image Server)`](https://developers.arcgis.com/python/api-reference/arcgis.learn.html#inferencing-methods-image-server)\n",
    "   * [`compute_accuracy_for_object_detection()`](https://developers.arcgis.com/python/api-reference/arcgis.learn.html#computer-accuracy-for-object-detection) (*Requires ArcGIS Image Server 10.9 or higher*)\n",
    " * [`Model Management`](https://developers.arcgis.com/python/api-reference/arcgis.learn.html#model-management)\n",
    "   * [`ModelExtension`](https://developers.arcgis.com/python/api-reference/arcgis.learn.html#modelextension)\n",
    "* Adds support for [`.dlpk`](https://pro.arcgis.com/en/pro-app/help/sharing/overview/share-a-deep-learning-model-package.htm#) format to the `from_model()` function in all models\n",
    "* Adds message to install `gdal` if using multispectral data with [`prepare_data()`](https://developers.arcgis.com/python/api-reference/arcgis.learn.html#prepare-data)\n",
    "* Adds support for `Meta Raster Format (MRF)` tiles\n",
    "* Adds driver-related `Pytorch` along with `torch.cuda.is_available()` when deciding between using `GPU` and `CPU`\n",
    "* Adds documentation to the `resize_to` parameter for [`prepare_data()`](https://developers.arcgis.com/python/api-reference/arcgis.learn.html#prepare-data)\n",
    "* Adds `torch.cuda.get_device_capability()` check\n",
    "* Adds `dice coefficient` and `soft dice loss` for multiclass [`UNetClassifier`](https://developers.arcgis.com/python/api-reference/arcgis.learn.html#unetclassifier), [`PSPNetClassifier`](https://developers.arcgis.com/python/api-reference/arcgis.learn.html#pspnetclassifier), and [`Deeplab`](https://developers.arcgis.com/python/api-reference/arcgis.learn.html#deeplab) models\n",
    "* Adds `save_inference_file` parameter to `save()` method of models\n",
    "* Adds ability to show intermediate results on Tensorboard during training for:\n",
    " * `FeatureClassifier`\n",
    " * `Single Shot Detector`\n",
    " * `Retinanet`\n",
    " * `UNetClassifier`\n",
    " * `SuperResolution`\n",
    " * `FasterRCNN`\n",
    " * `MaskRCNN`\n",
    " * `PSPNetClassifier`\n",
    " * `DeepLab`\n",
    " * `MultiTaskRoadExtractor`\n",
    "* Adds ability to override `ImageHeight` saved in `UnetClassifier`, `MaskRCNN` and `FasterRCNN` models to enable inferencing on larger image chips if GPU model allows\n",
    "* [`SuperResolution`](https://developers.arcgis.com/python/api-reference/arcgis.learn.html#superresolution)\n",
    " - Adds normalization in labels\n",
    " - Adds denormalization while inferencing\n",
    " - Adds [`compute_metrics()`](https://developers.arcgis.com/python/api-reference/arcgis.learn.html#arcgis.learn.SuperResolution.compute_metrics) method for accuracy metrics on validation sets\n",
    " - Adds [`supported_datasets`](https://developers.arcgis.com/python/api-reference/arcgis.learn.html#SuperResolution.supported_datasets) property\n",
    "* [`EntityRecognizer`](https://developers.arcgis.com/python/api-reference/arcgis.learn.html#entityrecognizer)\n",
    " - Adds ability to save `model_metric.html`\n",
    " - Adds time spent per epoch\n",
    " - Adds extension to support transformer models\n",
    " - Adds [`f1_score()`](https://developers.arcgis.com/python/api-reference/arcgis.learn.html#arcgis.learn.EntityRecognizer.f1_score) description to API reference\n",
    "* [`MaskRCNN`](https://developers.arcgis.com/python/api-reference/arcgis.learn.html#maskrcnn)\n",
    " - adds default transformations\n",
    "* [`FasterRCNN`](https://developers.arcgis.com/python/api-reference/arcgis.learn.html#fasterrcnn)\n",
    " * Adds multispectrals support when `tensorboard=True`\n",
    " * Adds [`predict()`](https://developers.arcgis.com/python/api-reference/arcgis.learn.html#arcgis.learn.FasterRCNN.predict) method\n",
    " * Adds [`predict_video()`](https://developers.arcgis.com/python/api-reference/arcgis.learn.html#arcgis.learn.FasterRCNN.predict_video)\n",
    " * Adds support for `kwargs` parameter\n",
    "* [`MLModel`](https://developers.arcgis.com/python/api-reference/arcgis.learn.html#mlmodel)\n",
    " * Adds support for [`unsupervised learning`](https://scikit-learn.org/stable/unsupervised_learning.html)\n",
    "  * `Clustering Models`\n",
    "  * `Gaussian Mixture Models`\n",
    "  * `Novelty and Outlier Detection Models`\n",
    " * Adds methods:\n",
    "  * [`decision_function()`](https://developers.arcgis.com/python/api-reference/arcgis.learn.html#arcgis.learn.MLModel.decision_function)\n",
    "  * [`feature_importances()`](https://developers.arcgis.com/python/api-reference/arcgis.learn.html#arcgis.learn.MLModel.feature_importances)\n",
    "  * [`predict()`](https://developers.arcgis.com/python/api-reference/arcgis.learn.html#arcgis.learn.MLModel.predict)\n",
    "   * renames `output_raster_folder_path` to `output_raster_path`\n",
    "   * renames `predict_features` to `prediction_type`\n",
    "  * Adds multiband raster support\n",
    "* [`FeatureClassifier`](https://developers.arcgis.com/python/api-reference/arcgis.learn.html#featureclassifier)\n",
    " * Adds multi-label support for training\n",
    " * Adds note to `oversample` parameter explaining supported datasets\n",
    " * Adds parameters to [`save()`](https://developers.arcgis.com/python/api-reference/arcgis.learn.html#arcgis.learn.FeatureClassifier.save):\n",
    "   * `compute_metrics`\n",
    "   * `save_optimizer`\n",
    "   * `save_inference_file`\n",
    " * Adds note to [`predict()`](https://developers.arcgis.com/python/api-reference/arcgis.learn.html#arcgis.learn.FeatureClassifier.predict) that it only supports RGB images\n",
    "* Adds [`PointRend`](https://github.com/facebookresearch/detectron2/tree/master/projects/PointRend) to improve performance for:\n",
    " * [`DeepLab`](https://developers.arcgis.com/python/api-reference/arcgis.learn.html#deeplab)\n",
    " * [`PSPNetClassifer`](https://developers.arcgis.com/python/api-reference/arcgis.learn.html#pspnetclassifier)\n",
    " * [`MaskRCNN`](https://developers.arcgis.com/python/api-reference/arcgis.learn.html#maskrcnn)\n",
    "* [`PointCNN`]()\n",
    " * Updates how `transforms` are applied on point cloud so both original data and trasformed data passed\n",
    " * Updates dependencies in [`SciPy`](https://www.scipy.org/) and removes dependencies on `transform3d` and `plotly-orca`\n",
    " * Adds ability to preserve classcodes in file when using [`predict_las()`](https://developers.arcgis.com/python/api-reference/arcgis.learn.html#arcgis.learn.PointCNN.predict_las)"
   ]
  },
  {
   "cell_type": "markdown",
   "metadata": {},
   "source": [
    "## Fixes"
   ]
  },
  {
   "cell_type": "markdown",
   "metadata": {},
   "source": [
    "### [Guides](https://developers.arcgis.com/python/guide/)\n",
    "* Working with the Spatially Enabled DataFrame\n",
    " * Updates [Visualizing Spatial Data](https://developers.arcgis.com/python/guide/visualizing-data-with-the-spatially-enabled-dataframe/)\n",
    "* Managing ArcGIS Applications\n",
    " * Updates [Managing Workforce projects](https://developers.arcgis.com/python/guide/managing-workforce-projects/)\n",
    "* Deep Learning with ArcGIS\n",
    " * Updates `fastai` link with [Object Detection Workflow with `arcgis.learn`](https://developers.arcgis.com/python/guide/object-detection/)\n",
    " * Updates to [Working with Multispectral Data](https://developers.arcgis.com/python/guide/working-with-multispectral-data/)\n",
    " * Updates to [Named Entity Extraction Workflow with [`arcgis.learn`](https://developers.arcgis.com/python/api-reference/arcgis.learn.toc.html#)](https://developers.arcgis.com/python/guide/how-named-entity-recognition-works)\n",
    " * Updates to [Point Cloud Segmentation using PointCNN](https://developers.arcgis.com/python/guide/point-cloud-segmentation-using-pointcnn)"
   ]
  },
  {
   "cell_type": "markdown",
   "metadata": {},
   "source": [
    "### [Samples](https://developers.arcgis.com/python/sample-notebooks/)\n",
    "* Power Users/Developers\n",
    " * Updates to various samples:\n",
    "   * [A dashboard to explore world population](https://developers.arcgis.com/python/sample-notebooks/population-exploration-dashboard/)\n",
    "   * [Using geoprocessing tools](https://developers.arcgis.com/python/sample-notebooks/using-geoprocessing-tools/)\n",
    "   * [Tour the World with Landsat Imagery and Raster Functions](https://developers.arcgis.com/python/sample-notebooks/tour-the-world-with-landsat-imagery-and-raster-functions/)\n",
    "   * [Raster Analytics Dashboard](https://developers.arcgis.com/python/sample-notebooks/jupyter-dashboard-for-raster-analytics/)\n",
    "   * [Building a change detection app using Jupyter Dashboard](https://developers.arcgis.com/python/sample-notebooks/building-a-change-detection-app-using-jupyter-dashboard/)\n",
    "* GIS analysts and data scientists\n",
    " * Enhances `Deep Learning Samples` by providing training data\n",
    " * Fixes typos in `sdf` field names for [Data Summarization - Construction permits near Washington DC, part 2/2](https://developers.arcgis.com/python/sample-notebooks/analyze-patterns-in-construction-permits-part2/)\n",
    " * Adds data for [Finding a New Home](https://developers.arcgis.com/python/sample-notebooks/finding-a-new-home/)\n",
    " * [Plant species identification using a TensorFlow-Lite model within mobile devices](https://developers.arcgis.com/python/sample-notebooks/train-a-tensorflow-lite-model-for-identifying-plant-species/)\n",
    "   * Updates explanations\n",
    "   * Removes single band imagery\n",
    " * Updates paths for data in [Vehicle detection and tracking using deep learning](https://developers.arcgis.com/python/sample-notebooks/vehicle-detection-and-tracking/)\n",
    " * Updates text for [\n",
    "Chennai Floods 2015–A Geographic Analysis](https://developers.arcgis.com/python/sample-notebooks/chennai-floods-analysis/) to remove uninitelligble rendering\n",
    " * [Automate Road Surface Investigation Using Deep Learning](https://developers.arcgis.com/python/sample-notebooks/automate-road-surface-investigation-using-deep-learning/)\n",
    "   * Adds missing inference data to the `predict` and `predict_video` functions in \n",
    "   * Removes hard-coded `lr_find()` value\n",
    " * [Information extraction from Madison city crime incident reports using Deep Learning](https://developers.arcgis.com/python/sample-notebooks/information-extraction-from-madison-city-crime-incident-reports-using-deep-learning/)\n",
    "   * Fixes Table of Contents and hyperlinks\n",
    "   * Adds Save and load trained models section\n",
    "   * Updates Prerequisites and imports\n",
    " * Updates model training data in [Automate Building Footprint Extraction using Deep learning](https://developers.arcgis.com/python/sample-notebooks/automate-building-footprint-extraction-using-instance-segmentation/)\n",
    " * Updates to organization type and data paths in [Land Cover Classification using Satellite Imagery and Deep Learning](https://developers.arcgis.com/python/sample-notebooks/land-cover-classification-using-unet/)\n",
    " * [Land cover classification using sparse training data](https://developers.arcgis.com/python/sample-notebooks/land-cover-classification-using-sparse-training-data/)\n",
    "   * Updates no data explanations\n",
    "   * Removes data mapping\n",
    " * [Increase image resolution using [`SuperResolution`](https://developers.arcgis.com/python/api-reference/arcgis.learn.html#superresolution)](https://developers.arcgis.com/python/sample-notebooks/increase-image-resolution-using-superresolution)\n",
    "   * Changed Meta Data Format when exporting training data to `Export Tiles`\n",
    "   * Fixes typo for output type "
   ]
  },
  {
   "cell_type": "markdown",
   "metadata": {},
   "source": [
    "#### [`arcgis.gis`](https://developers.arcgis.com/python/api-reference/arcgis.gis.toc.html#gis)\n",
    "* Fixes parameter names in [`PortalDataStore.publish()`](https://developers.arcgis.com/python/api-reference/arcgis.gis.toc.html#arcgis.gis._impl._datastores.PortalDataStore.publish) code example for the `config` parameter\n",
    "* Fixes authentication error with `Python 3.7` and `Notebook Server`\n",
    "* Clarifies documentation for `storageUsage` parameter of [`User`](https://developers.arcgis.com/python/api-reference/arcgis.gis.toc.html#user) objects\n",
    "* Fixes issue with ArcGIS online comments with certain unicode characters not getting returned properly\n",
    "* Fixes error with [`clone_items()`](https://developers.arcgis.com/python/api-reference/arcgis.gis.toc.html#arcgis.gis.ContentManager.clone_items) on [`Survey`](https://developers.arcgis.com/python/api-reference/arcgis.apps.survey123.html#survey) items\n",
    "* Fixes `deprecation warnings` when import API in `Notebook Server`\n",
    "* [`Item`](https://developers.arcgis.com/python/api-reference/arcgis.gis.toc.html#item)\n",
    " * Fixes documentation error in parameter table for [`reassign_to()`](https://developers.arcgis.com/python/api-reference/arcgis.gis.toc.html#arcgis.gis.Item.reassign_to)\n",
    "* [`UserManager`](https://developers.arcgis.com/python/api-reference/arcgis.gis.toc.html#usermanager)\n",
    " * Fixes `KeyError: UserTypes` error with [`create()`]() when [`user_settings`](https://developers.arcgis.com/python/api-reference/arcgis.gis.toc.html#arcgis.gis.UserManager.user_settings) configured improperly\n",
    "* Fixes token errors with public [`Geometry`](https://developers.arcgis.com/rest/services-reference/geometry-service.htm) and [`Geoprocessing`](https://developers.arcgis.com/rest/services-reference/gp-service.htm) services affecting API and `Notebook Server`\n",
    "* Fixes BUG-000133849 - `data` resource is missing when `KML` or `KMZ` files are added to ArcGIS Online\n",
    "* [`ContentManager`](https://developers.arcgis.com/python/api-reference/arcgis.gis.toc.html#contentmanager)\n",
    " * Fixes BUG-000133739 - [`clone_items()`](https://developers.arcgis.com/python/api-reference/arcgis.gis.toc.html#arcgis.gis.ContentManager.clone_items) on hosted feature layer views returns `JSONDecodeError: Expecting value: line 1 column 1 (char 0)` error \n",
    "* [`GroupMigrationManger`]()\n",
    " * Fixes to [`inspect()`](https://developers.arcgis.com/python/api-reference/arcgis.gis.toc.html#arcgis.gis.GroupMigrationManager.inspect) and [`load()`](https://developers.arcgis.com/python/api-reference/arcgis.gis.toc.html#arcgis.gis.GroupMigrationManager.load) not recoginizing new items"
   ]
  },
  {
   "cell_type": "markdown",
   "metadata": {},
   "source": [
    "#### [`arcgis.gis.admin`](https://developers.arcgis.com/python/api-reference/arcgis.gis.admin.html#)\n",
    "* Fixes error returning `ArcGIS Online` [`history()`](https://developers.arcgis.com/python/api-reference/arcgis.gis.admin.html#arcgis.gis.admin.AGOLAdminManager.history) when return type is a `DataFrame`"
   ]
  },
  {
   "cell_type": "markdown",
   "metadata": {},
   "source": [
    "#### [`arcgis.gis.server`](https://developers.arcgis.com/python/api-reference/arcgis.gis.server.html)\n",
    "* Fixes issue where a \"/\" added to the server admin url creates invalid connection\n",
    "* Fixes issue when creating [`Server`](https://developers.arcgis.com/python/api-reference/arcgis.gis.server.html#arcgis.gis.server.Server) object without a Portal connection on a Federated Server\n",
    "* Fixes issue with mangled `URL` when connecting to unfederated servers URL\n",
    "  * **NOTE:** The [`ServiceDirectory`](https://developers.arcgis.com/python/api-reference/arcgis.gis.server.html#module-arcgis.gis.server.catalog) [`list()`](https://developers.arcgis.com/python/api-reference/arcgis.gis.server.html#arcgis.gis.server.catalog.ServicesDirectory.list) or [`find()`](https://developers.arcgis.com/python/api-reference/arcgis.gis.server.html#arcgis.gis.server.catalog.ServicesDirectory.find) methods should be used to create [`Server`](https://developers.arcgis.com/python/api-reference/arcgis.gis.server.html#arcgis.gis.server.Server) objects\n",
    "* [`ReportManager`]()\n",
    " * BUG-000133053 [`list()`](https://developers.arcgis.com/python/api-reference/arcgis.gis.server.html#arcgis.gis.server.ReportManager.list) method returns error if a saved report created from ArcGIS Server manager exists on server\n",
    " * Fixes issue when [`create()`](https://developers.arcgis.com/python/api-reference/arcgis.gis.server.html#arcgis.gis.server.ReportManager.create) fails if existing reports named as integers\n",
    " * Fixes errors in [`create()`](https://developers.arcgis.com/python/api-reference/arcgis.gis.server.html#arcgis.gis.server.ReportManager.create) documentation for parameters:\n",
    "   * `queries`\n",
    "   * `from_value`\n",
    "   * `to_value`\n",
    " * Fixes BUG-000134098 unexpected keyword argument `from_value` error in [`quick_report()`](https://developers.arcgis.com/python/api-reference/arcgis.gis.server.html#arcgis.gis.server.ReportManager.quick_report) \n",
    " * Removes incorrect option from `since` parameter documentation for [`quick_report()`](https://developers.arcgis.com/python/api-reference/arcgis.gis.server.html#arcgis.gis.server.ReportManager.quick_report)"
   ]
  },
  {
   "cell_type": "markdown",
   "metadata": {},
   "source": [
    "#### [`arcgis.features`](https://developers.arcgis.com/python/api-reference/arcgis.features.toc.html)\n",
    "* [`FeatureLayer`](https://developers.arcgis.com/python/api-reference/arcgis.features.toc.html#featurelayer)\n",
    " * Fixes issue when [`query()`](https://developers.arcgis.com/python/api-reference/arcgis.features.toc.html#arcgis.features.FeatureLayer.query) result is `esriFieldTypeFloat`\n",
    " * Fixes issue with [`query(as_df=True)`](https://developers.arcgis.com/python/api-reference/arcgis.features.toc.html#arcgis.features.FeatureLayer.query) results on `Hosted Feature Layer` when specifying `out_fields` and `DateTime` fields are present\n",
    "* [`FeatureLayerCollection`](https://developers.arcgis.com/python/api-reference/arcgis.features.toc.html#featurelayercollection)\n",
    " * Fixes [`extract_changes()`](https://developers.arcgis.com/python/api-reference/arcgis.features.toc.html#arcgis.features.FeatureLayerCollection.extract_changes) returning no values\n",
    "* [`Spatially Enabled DataFrame`](https://developers.arcgis.com/python/api-reference/arcgis.features.toc.html#geoaccessor)\n",
    " * Fixes issue when using [`enrich()`](https://developers.arcgis.com/python/api-reference/arcgis.geoenrichment.html#enrich) with `sedf` with more than 100 records\n",
    " * Fixes bug with [`to_featureclass()`](https://developers.arcgis.com/python/api-reference/arcgis.features.toc.html#arcgis.features.GeoAccessor.to_featureclass) not supporting memory workspaces\n",
    " * Fixes performance issues when reading geometries\n",
    " * Fixes [`from_layer()`](https://developers.arcgis.com/python/api-reference/arcgis.features.toc.html#arcgis.features.GeoAccessor.from_layer) method failing for [`tables`](https://developers.arcgis.com/python/api-reference/arcgis.features.toc.html#table)\n",
    " * Fixes error with [`set_geometry()`](https://developers.arcgis.com/python/api-reference/arcgis.features.toc.html#arcgis.features.GeoAccessor.set_geometry) not recognizing geometry columns if not named \"SHAPE\"\n",
    " * Fixes [`plot()`](https://developers.arcgis.com/python/api-reference/arcgis.features.toc.html#arcgis.features.GeoAccessor.plot) errors on small or null geometries in environments with `ArcPy`\n",
    " * Fixes [`buffer()`](https://developers.arcgis.com/python/api-reference/arcgis.features.toc.html#arcgis.features.GeoSeriesAccessor.buffer) method failing on projected geometries\n",
    " * Fixes [`to_table()`](https://developers.arcgis.com/python/api-reference/arcgis.features.toc.html#arcgis.features.GeoAccessor.to_table) issue with `CSV` files\n",
    "* [`FeatureSet`](https://developers.arcgis.com/python/api-reference/arcgis.features.toc.html#featureset)\n",
    " * Fixes [`from_geojson()`](https://developers.arcgis.com/python/api-reference/arcgis.features.toc.html#arcgis.features.FeatureSet.from_geojson) resulting in malformed ring data for polygons\n",
    " * Fixes [`from_geojson()`](https://developers.arcgis.com/python/api-reference/arcgis.features.toc.html#arcgis.features.FeatureSet.from_geojson) failures on `MultiPolygons`"
   ]
  },
  {
   "cell_type": "markdown",
   "metadata": {},
   "source": [
    "#### [`arcgis.features.analysis`](https://developers.arcgis.com/python/api-reference/arcgis.features.analysis.html)\n",
    " * [`analyze_patterns`](https://developers.arcgis.com/python/api-reference/arcgis.features.analyze_patterns.html#)\n",
    "  * Fixes [`find_point_clusters()`](https://developers.arcgis.com/python/api-reference/arcgis.features.analyze_patterns.html#find-point-clusters) documentation\n",
    " * [`manage_data`](https://developers.arcgis.com/python/api-reference/arcgis.features.manage_data.html)\n",
    "  * [`extract_data()`](https://developers.arcgis.com/python/api-reference/arcgis.features.manage_data.html#extract-data)\n",
    "    * Fixes error when `output_name` parameter is a dictionary\n",
    "  * [`dissolve_boundaries()`](https://developers.arcgis.com/python/api-reference/arcgis.features.manage_data.html#dissolve-boundaries)\n",
    "    * Fixes incorrect formatting in code example\n",
    "  * [`generate_tesselation()`](https://developers.arcgis.com/python/api-reference/arcgis.features.manage_data.html#generate-tessellation)\n",
    "    * Fixes `extent_layer` parameter documentation so parameter is optional\n",
    " * [`summarize_data`](https://developers.arcgis.com/python/api-reference/arcgis.features.summarize_data.html)\n",
    "  * [`aggregate_points()`](https://developers.arcgis.com/python/api-reference/arcgis.features.summarize_data.html#aggregate-points)\n",
    "    * Fixes issue where polygon layer was required even though `bin_type`, `bin_size`, and `bin_size_unit` were specified\n",
    "  * [`summarize_nearby()`](https://developers.arcgis.com/python/api-reference/arcgis.features.summarize_data.html#summarize-nearby)\n",
    "    * Fixes incorrect format for `distances` parameter in documentation\n",
    " * [`find_locations()`](https://developers.arcgis.com/python/api-reference/arcgis.features.find_locations.html)\n",
    "  * Fixes failure when setting `distance band` and `distance_band_unit` parameters with [`find_hot_spots()`](https://developers.arcgis.com/python/api-reference/arcgis.features.analyze_patterns.html#find-hot-spots)\n",
    "  * Fixes failure when setting `distance band` and `distance_band_unit` parameters with [`find_outliers()`](https://developers.arcgis.com/python/api-reference/arcgis.features.analyze_patterns.html#find-outliers)"
   ]
  },
  {
   "cell_type": "markdown",
   "metadata": {},
   "source": [
    "#### [`arcgis.features.managers`](https://developers.arcgis.com/python/api-reference/arcgis.features.managers.html)\n",
    "* [`SyncManager`](https://developers.arcgis.com/python/api-reference/arcgis.features.managers.html#syncmanager)\n",
    " * Fixes error with [`sync_replicated_items()`](https://developers.arcgis.com/python/api-reference/arcgis.features.managers.html#arcgis.features.managers.SyncManager.sync_replicated_items) failing to upload features if child is an `ArcGIS Enterprise` replica\n",
    "* [`AttachmentManager`](https://developers.arcgis.com/python/api-reference/arcgis.features.managers.html#arcgis.features.managers.AttachmentManager.update)\n",
    " * Fixes issue with [`update()`](https://developers.arcgis.com/python/api-reference/arcgis.features.managers.html#arcgis.features.managers.AttachmentManager.update) method not updating the attachment\n",
    "* [`FeatureLayerCollectionManager`](https://developers.arcgis.com/python/api-reference/arcgis.features.managers.html#featurelayercollectionmanager)\n",
    " * Fixes [`create_view()`](https://developers.arcgis.com/python/api-reference/arcgis.features.managers.html#arcgis.features.managers.FeatureLayerCollectionManager.create_view) to honor value for `extent` parameter\n",
    " * Fixes code differences in [`overwrite()`](https://developers.arcgis.com/python/api-reference/arcgis.features.managers.html#arcgis.features.managers.FeatureLayerCollectionManager.overwrite) so results match [`Item.publish(overwrite=True)`](https://developers.arcgis.com/python/api-reference/arcgis.gis.toc.html#arcgis.gis.Item.publish) in `ArcGIS Enterprise`\n",
    "  * Fixes BUG-000124231 - updating a feature layer from a CSV on `ArcGIS Enterprise` returns error message, `Job Failed.`"
   ]
  },
  {
   "cell_type": "markdown",
   "metadata": {},
   "source": [
    "#### [`arcgis.raster`](https://developers.arcgis.com/python/api-reference/arcgis.raster.toc.html)\n",
    "* [`RasterCollection`](https://developers.arcgis.com/python/api-reference/arcgis.raster.toc.html#arcgis.raster.RasterCollection)\n",
    " * Fixes errors with [`filter_by_calendar_range()`](https://developers.arcgis.com/python/api-reference/arcgis.raster.toc.html#arcgis.raster.RasterCollection.filter_by_calendar_range) method\n",
    "* [`ImageryLayer`]()\n",
    " * Fixes [`save()`](https://developers.arcgis.com/python/api-reference/arcgis.raster.toc.html#arcgis.raster.ImageryLayer.save) failure after using [`apply()`](https://developers.arcgis.com/python/api-reference/arcgis.raster.functions.html#apply) function on secured services"
   ]
  },
  {
   "cell_type": "markdown",
   "metadata": {},
   "source": [
    "#### [`arcgis.raster.functions`](https://developers.arcgis.com/python/api-reference/arcgis.raster.functions.html#)\n",
    " * Adds [`aggregate()`](https://developers.arcgis.com/python/api-reference/arcgis.raster.functions.html#aggregate) function"
   ]
  },
  {
   "cell_type": "markdown",
   "metadata": {},
   "source": [
    "#### [`arcgis.network`](https://developers.arcgis.com/python/api-reference/arcgis.network.toc.html)\n",
    "* Sets default values for optional parameters to `None` to rely on service defaults whether in `ArcGIS Online` and `ArcGIS Enterprise`"
   ]
  },
  {
   "cell_type": "markdown",
   "metadata": {},
   "source": [
    "#### [`arcgis.geoanalytics`](https://developers.arcgis.com/python/api-reference/arcgis.geoanalytics.toc.html)\n",
    "* Fixes situation when a failed tool creates an empty `Item` in the organization\n",
    "* Fixes various tools to recognize the [`output_datastore`](https://developers.arcgis.com/python/api-reference/arcgis.env.html#output-datastore) context parameter for writing output\n",
    "* Fixes [`aggregate_points()`](https://developers.arcgis.com/python/api-reference/arcgis.geoanalytics.summarize_data.html#aggregate-points) to use `context` parameter\n",
    "* [`find_locations`](https://developers.arcgis.com/python/api-reference/arcgis.geoanalytics.find_locations.html#find-dwell-locations)\n",
    " * [`find_dwell_locations()`](https://developers.arcgis.com/python/api-reference/arcgis.geoanalytics.find_locations.html#find-dwell-locations)\n",
    "  * Fix incorrect parameter names to correct names:\n",
    "   * `time_boundary_ref`\n",
    "   * `time_boundary_unit`"
   ]
  },
  {
   "cell_type": "markdown",
   "metadata": {},
   "source": [
    "#### [`arcgis.geocoding`](https://developers.arcgis.com/python/api-reference/arcgis.geocoding.html)\n",
    "* Updates [`suggest()`](https://developers.arcgis.com/python/api-reference/arcgis.geocoding.html#suggest) so `location` parameteris optional"
   ]
  },
  {
   "cell_type": "markdown",
   "metadata": {},
   "source": [
    "#### [`arcgis.geometry`](https://developers.arcgis.com/python/api-reference/arcgis.geometry.html#)\n",
    "* Fixes issue with various functions ignoring `inplace` paramter default value\n",
    "* Fixes issue with various functions not returning the `spatialReference` with output\n",
    "* Fixes issue with [`Polygon`](https://developers.arcgis.com/python/api-reference/arcgis.geometry.html#polygon) failing if order of geometries used is not correct for EsriJSON format"
   ]
  },
  {
   "cell_type": "markdown",
   "metadata": {},
   "source": [
    "#### [`arcgis.mapping`](https://developers.arcgis.com/python/api-reference/arcgis.mapping.toc.html)\n",
    "* Fixes BUG-000131799 - import_tiles() returns error:\"'Response' object is not subscriptable\" because of improper url construction\n",
    "* Fixes error when `extent` parameter for [`OfflineMapAreaManager.create()`](https://developers.arcgis.com/python/api-reference/arcgis.mapping.toc.html#arcgis.mapping.OfflineMapAreaManager.create) is a `bookmark` or `dictionary`\n",
    "* [`WebMap`](https://developers.arcgis.com/python/api-reference/arcgis.mapping.toc.html#webmap)\n",
    " * Fixes `AttributeError: layerType` error when calling [`save()`](https://developers.arcgis.com/python/api-reference/arcgis.mapping.toc.html#arcgis.mapping.WebMap.save)\n",
    " * Fixes error on [`save()`]((https://developers.arcgis.com/python/api-reference/arcgis.mapping.toc.html#arcgis.mapping.WebMap.save)) if `WebMap` object had a [`FeatureLayerColletion`]() added with [`add_layer()`](https://developers.arcgis.com/python/api-reference/arcgis.mapping.toc.html#arcgis.mapping.WebMap.add_layer)\n",
    "* Fixes issue with [`add_layer()`](https://developers.arcgis.com/python/api-reference/arcgis.mapping.toc.html#arcgis.mapping.WebMap.add_layer) where only `layers` are added from an an [`Item`](https://developers.arcgis.com/python/api-reference/arcgis.gis.toc.html#item) or [`FeatureLayerCollection`](https://developers.arcgis.com/python/api-reference/arcgis.features.toc.html#featurelayercollection) that has both layers and tables\n",
    "* Fixes issue with [`add_table()`](https://developers.arcgis.com/python/api-reference/arcgis.widgets.html#arcgis.widgets.MapView.add_table) trying to get a renderer when adding\n",
    "* Fixes BUG-000131725 - complex symbology is not preserved for `Map Service` added using the [`add_layer()`](https://developers.arcgis.com/python/api-reference/arcgis.mapping.toc.html#arcgis.mapping.WebMap.add_layer) function\n",
    "* Fixes issue with [`zoom_to_layer()`](https://developers.arcgis.com/python/api-reference/arcgis.widgets.html#arcgis.widgets.MapView.zoom_to_layer) function failing to display layer if called before map has fully loaded"
   ]
  },
  {
   "cell_type": "markdown",
   "metadata": {},
   "source": [
    "#### [`arcgis.widgets`](https://developers.arcgis.com/python/api-reference/arcgis.widgets.html)\n",
    "* Fixes [`save()`](https://developers.arcgis.com/python/api-reference/arcgis.widgets.html#arcgis.widgets.MapView.save) and [`update()`](https://developers.arcgis.com/python/api-reference/arcgis.widgets.html#arcgis.widgets.MapView.update) methods to manage `typeKeywords` for offline map usage\n",
    "* Fixes [`add_layer()`](https://developers.arcgis.com/python/api-reference/arcgis.widgets.html#arcgis.widgets.MapView.add_layer) error when adding a `raster` layer from `MapService`\n",
    "* Fixes error when adding `WMS` layers to `map widget` with [`add_layer()`](https://developers.arcgis.com/python/api-reference/arcgis.widgets.html#arcgis.widgets.MapView.add_layer)\n",
    "* Fixes drawing error with local [`Raster`](https://developers.arcgis.com/python/api-reference/arcgis.raster.toc.html#raster) objects\n",
    "* Fixes bug with [`add_layer()`](https://developers.arcgis.com/python/api-reference/arcgis.widgets.html#arcgis.widgets.MapView.add_layer) with either local [`Raster`](https://developers.arcgis.com/python/api-reference/arcgis.raster.toc.html#raster) or [`ImageryLayer`](https://developers.arcgis.com/python/api-reference/arcgis.raster.toc.html#imagerylayer) as input"
   ]
  },
  {
   "cell_type": "markdown",
   "metadata": {},
   "source": [
    "#### [`arcgis.apps`](https://developers.arcgis.com/python/api-reference/arcgis.apps.html)\n",
    "* Updates [`workforce module`](https://developers.arcgis.com/python/api-reference/arcgis.apps.workforce.html) to account for Version 2 schema changes"
   ]
  },
  {
   "cell_type": "markdown",
   "metadata": {},
   "source": [
    "#### [`arcgis.learn`](https://developers.arcgis.com/python/api-reference/arcgis.learn.html#)\n",
    "* Disables saving optimizer by default (default value of `save_optimizer` parameter `False` in models\n",
    "* Numerous documentation enhancements\n",
    "* Fixes `fit()` methods on multiple models when using `tensorboard=True`\n",
    "* Fixes bug with [`prepare_data()`](https://developers.arcgis.com/python/api-reference/arcgis.learn.html#prepare-data) failing with `Multispectral` data when `gdal` is not installed\n",
    "* Removes unnecessary warning messages when debugging is set\n",
    "* Fixes issue where classcodes are not preserved in output raster when training data has non-contiguous classcode labels for [`Pixel Classification`](https://developers.arcgis.com/python/api-reference/arcgis.learn.html#pixel-classfication-models) models\n",
    "* Fixes issue with inferencing when [`prepare_data()`](https://developers.arcgis.com/python/api-reference/arcgis.learn.html#prepare-data) `dataset_type` parameter is `ChangeDetection` and training data is multispectral\n",
    "* [`detect_objects()`](https://developers.arcgis.com/python/api-reference/arcgis.learn.html#detect-objects)\n",
    " * Fixes warning messages when deciding between GPU or CPU\n",
    "* [`SuperResolution`](https://developers.arcgis.com/python/api-reference/arcgis.learn.html#superresolution)\n",
    " - Fixes [`prepare_data`]() issue when not creating labels when called without downsampling_factor\n",
    " - fixes issue with default transforms causing prediction errors\n",
    " - fixes error when image data format is `tiff`\n",
    " - fixes `chip_size` causing artifacts while inferencing\n",
    "* Fixes errors when `gdal` was not handling non-contiguous class segementation\n",
    "* [`EntityRecognizer`](https://developers.arcgis.com/python/api-reference/arcgis.learn.html#entityrecognizer)\n",
    " * Fixes issues with large loss values during model training\n",
    " * Fixes per epoch metric calculation bug\n",
    " * Fixes [`lr_find()`](https://developers.arcgis.com/python/api-reference/arcgis.learn.html#arcgis.learn.EntityRecognizer.lr_find) to run for at least one full epoch per learning rate\n",
    " * Fixes issue with [`lr_find()`](https://developers.arcgis.com/python/api-reference/arcgis.learn.html#arcgis.learn.EntityRecognizer.lr_find) output when data prepared with `batch_size` of 2\n",
    " * Fixes text column to be first column in [`show_batch()`](https://developers.arcgis.com/python/api-reference/arcgis.learn.html#arcgis.learn.EntityRecognizer.show_batch)\n",
    "* [`FeatureClassifier`](https://developers.arcgis.com/python/api-reference/arcgis.learn.html#featureclassifier)\n",
    " * Fixes issue with [`fit()`](https://developers.arcgis.com/python/api-reference/arcgis.learn.html#arcgis.learn.FeatureClassifier.fit) not displaying results after training with multipsectral data\n",
    " * Fixes issues with [`show_results()`](https://developers.arcgis.com/python/api-reference/arcgis.learn.html#arcgis.learn.FeatureClassifier.show_results) failing with smaller validation datasets\n",
    " * Fixes failures of [`plot_hard_examples()`](https://developers.arcgis.com/python/api-reference/arcgis.learn.html#arcgis.learn.FeatureClassifier.plot_hard_examples) with multilabel model\n",
    " * Fixes errors when running [`fit()`](https://developers.arcgis.com/python/api-reference/arcgis.learn.html#arcgis.learn.FeatureClassifier.fit) if `oversample=True`\n",
    " * Fixes issues with [`plot_losses()`](https://developers.arcgis.com/python/api-reference/arcgis.learn.html#arcgis.learn.FeatureClassifier.plot_losses)\n",
    "* [`UnetClassifier`](https://developers.arcgis.com/python/api-reference/arcgis.learn.html#unetclassifier)\n",
    " * Fixes issue with incorrect exceptions raised when object craeted with no data\n",
    " * Fixes missing model type information from output of [`save()`](https://developers.arcgis.com/python/api-reference/arcgis.learn.html#arcgis.learn.UnetClassifier.save)\n",
    " * Fixes `ValueError` with [`lr_find()`](https://developers.arcgis.com/python/api-reference/arcgis.learn.html#arcgis.learn.UnetClassifier.lr_find) and [`fit()`](https://developers.arcgis.com/python/api-reference/arcgis.learn.html#arcgis.learn.UnetClassifier.fit)\n",
    " * Fixes [`show_results()`](https://developers.arcgis.com/python/api-reference/arcgis.learn.html#arcgis.learn.UnetClassifier.show_results) tesnor shape error\n",
    " * Fixes class weights not used even after specifying `class_balancing=True`\n",
    " * Fixes class weights not matching number of classes when data has been exported with one class having pixel value 0\n",
    " * Fixes inconsistent [`accuracy()`](https://developers.arcgis.com/python/api-reference/arcgis.learn.html#arcgis.learn.UnetClassifier.accuracy) results between fitting and loading\n",
    "* [`PSPNetClassifier`](https://developers.arcgis.com/python/api-reference/arcgis.learn.html#pspnetclassifier)\n",
    " * Fixes missing model type information from output of [`save()`](https://developers.arcgis.com/python/api-reference/arcgis.learn.html#arcgis.learn.PSPNetClassifier.save)\n",
    " * Fixes inconsistent [`accuracy()`](https://developers.arcgis.com/python/api-reference/arcgis.learn.html#arcgis.learn.PSPNetClassifier.accuracy) results between fitting and loading\n",
    " * Fixes `ValueError` with [`lr_find()`](https://developers.arcgis.com/python/api-reference/arcgis.learn.html#arcgis.learn.PSPNetClassifier.lr_find) and [`fit()`](https://developers.arcgis.com/python/api-reference/arcgis.learn.html#arcgis.learn.PSPNetClassifier.fit)\n",
    " * Fixes `NameError` when intializing with `use_unet` and `unet_aux_loss` both set to True\n",
    " * Fixes class weights not used even after specifying `class_balancing=True`\n",
    " * Fixes class weights not matching number of classes when data has been exported with one class having pixel value 0\n",
    " * Fixes error with [`lr_find()`](https://developers.arcgis.com/python/api-reference/arcgis.learn.html#arcgis.learn.PSPNetClassifier.lr_find) and `VGG` backbones if model created with `use_unet=True`\n",
    " * Fixes errors in [`fit()`](ttps://developers.arcgis.com/python/api-reference/arcgis.learn.html#arcgis.learn.PSPNetClassifier.fit) on object created wtih `VGG` backbone and `pointrend=True`\n",
    "* [`DeepLab`](https://developers.arcgis.com/python/api-reference/arcgis.learn.html#deeplab)\n",
    " * Fixes class weights not used even after specifying `class_balancing=True`\n",
    " * Fixes class weights not matching number of classes when data has been exported with one class having pixel value 0\n",
    " * Fixes inconsistent [`accuracy()`](https://developers.arcgis.com/python/api-reference/arcgis.learn.html#arcgis.learn.DeepLab.accuracy) results between fitting and loading\n",
    "* [`MaskRCNN`](https://developers.arcgis.com/python/api-reference/arcgis.learn.html#maskrcnn)\n",
    " * Fixes situation with incorrect labels when multiband data is exported\n",
    "* [`FasterRCNN`](https://developers.arcgis.com/python/api-reference/arcgis.learn.html#arcgis.learn.html#fasterrcnn)\n",
    " * Fixes [`show_results()`](https://developers.arcgis.com/python/api-reference/arcgis.learn.html#arcgis.learn.FasterRCNN.show_results) failing with multispectral data\n",
    " * Fixes issue with [`save()`](https://developers.arcgis.com/python/api-reference/arcgis.learn.html#arcgis.learn.FasterRCNN.save) raising exception instead of returning no boxes when using default parameters\n",
    " * Fixes [`fit()`](https://developers.arcgis.com/python/api-reference/arcgis.learn.html#arcgis.learn.FasterRCNN.fit) method when `tensorboard=True`\n",
    "* [`RetinaNet`]()\n",
    " * Fixes to auto-detection routines to determine CPU or GPU hardware available\n",
    "* [`PointCNN`](https://developers.arcgis.com/python/api-reference/arcgis.learn.html#arcgis.learn.PointCNN)\n",
    " * Fixes [`predict_las()`](https://developers.arcgis.com/python/api-reference/arcgis.learn.html#arcgis.learn.PointCNN.predict_las) failing when output folder is not empty or has files with `pred` in name or `.las` extension\n",
    " * Fixes issues with `las` and `h5` files remaining open after using\n",
    " * Fixes issue [`predict_las()`](https://developers.arcgis.com/python/api-reference/arcgis.learn.html#arcgis.learn.PointCNN.predict_las) failing if `.las` files have a period in the filename\n",
    " * Multiple fixes to documentation \n",
    "* [`SingleShotDetector`](https://developers.arcgis.com/python/api-reference/arcgis.learn.html#singleshotdetector)\n",
    " * Fixes [`predict()`](https://developers.arcgis.com/python/api-reference/arcgis.learn.html#arcgis.learn.SingleShotDetector.predict) `TypeError` when using multispectral data\n",
    " * Fixes errors when initializing with `mobilnet_v2` or `densenet` backbones\n",
    " * Fixes errows with [`predict()`](https://developers.arcgis.com/python/api-reference/arcgis.learn.html#arcgis.learn.SingleShotDetector.predict) when using multipsectral data and `visualize=True`\n",
    "* [`EntityRecognizer`](https://developers.arcgis.com/python/api-reference/arcgis.learn.html#entityrecognizer)\n",
    " * Fixes issues with incorrect exceptions raised caling [`fit()`](https://developers.arcgis.com/python/api-reference/arcgis.learn.html#arcgis.learn.EntityRecognizer.fit) or [`lr_find()`](https://developers.arcgis.com/python/api-reference/arcgis.learn.html#arcgis.learn.EntityRecognizer.lr_find) if object initialized without data\n",
    "* Fixes issue where saving checkpoint was not using the most apt value of validation loss when `early_stopping` is set to `true`\n",
    "* Fixes issue where the HTML file with model metrices (`model_metrices.html`) not getting saved when training `UnetClassifer`, `PSPNetClassifier`, `DeepLab`, `SingelShotDetector` and `RetinaNet` models"
   ]
  },
  {
   "cell_type": "markdown",
   "metadata": {},
   "source": [
    "# What's new in version 1.8.2"
   ]
  },
  {
   "cell_type": "markdown",
   "metadata": {},
   "source": [
    "## Fixes"
   ]
  },
  {
   "cell_type": "markdown",
   "metadata": {},
   "source": [
    "#### [`arcgis.learn`](https://developers.arcgis.com/python/api-reference/arcgis.learn.html#)\n",
    "* Fixes classcode predictions in the predict_las() function for point cloud classification\n",
    "* Fixes to [`SuperResolution`](https://developers.arcgis.com/python/api-reference/arcgis.learn.html#superesolution) model:\n",
    "  * Applies data augmentation to training data\n",
    "  * Normalizes predicted color values in the range of (0,1)\n",
    "  * Bug fixes to data preprocessing step when generating downsampled images"
   ]
  },
  {
   "cell_type": "markdown",
   "metadata": {},
   "source": [
    "# What's new in version 1.8.1"
   ]
  },
  {
   "cell_type": "markdown",
   "metadata": {},
   "source": [
    "## New"
   ]
  },
  {
   "cell_type": "markdown",
   "metadata": {},
   "source": [
    "### New [Guides](https://developers.arcgis.com/python/guide/)\n",
    " * [Labeling text using Doccano](https://developers.arcgis.com/python/guide/labeling-text-using-doccano)\n",
    " * [Point Cloud Segmentation using PointCNN](https://developers.arcgis.com/python/guide/point-cloud-segmentation-using-pointcnn)\n",
    " * [Working with Multispectral Data](https://developers.arcgis.com/python/guide/working-with-multispectral-data)"
   ]
  },
  {
   "cell_type": "markdown",
   "metadata": {},
   "source": [
    "### New [Samples](https://developers.arcgis.com/python/sample-notebooks/)\n",
    " * [Shipwrecks detection using bathymetric data](https://developers.arcgis.com/python/sample-notebooks/shipwrecks-detection-using-bathymetric-data/)\n",
    " * [Visualize monthly changes in Hirakund reservoir using video](https://developers.arcgis.com/python/sample-notebooks/visualize-monthly-changes-in-hirakund-reservoir-using-video)\n",
    " * [Data Visualization: Construction permits, part 1/2](https://developers.arcgis.com/python/sample-notebooks/analyze-patterns-in-construction-permits-part1)\n",
    " * [Data Summarization: Construction permits, part 2/2](https://developers.arcgis.com/python/sample-notebooks/analyze-patterns-in-construction-permits-part2)\n",
    " * [Analyzing United States tornadoes](https://developers.arcgis.com/python/sample-notebooks/analyze-us-tornadoes)\n",
    " * [Which college district has the fewest low-income families?](https://developers.arcgis.com/python/sample-notebooks/which-college-district-has-the-fewest-low-income-families)\n",
    " * [Data Preparation: Hurricane analysis, part 1/3](https://developers.arcgis.com/python/sample-notebooks/part1-prepare-hurricane-data)\n",
    " * [Exploratory Statistics: Hurricane analysis, part 2/3](https://developers.arcgis.com/python/sample-notebooks/part2-explore-hurricane-tracks)\n",
    " * [Correlation: Hurricane analysis, part 3/3](https://developers.arcgis.com/python/sample-notebooks/part3-analyze-hurricane-tracks)\n",
    " * [Raster Analytics: Calculate wildfire landslide risk](https://developers.arcgis.com/python/sample-notebooks/calculate-post-fire-landslide-risk)"
   ]
  },
  {
   "cell_type": "markdown",
   "metadata": {},
   "source": [
    "#### [`arcgis.gis`](https://developers.arcgis.com/python/api-reference/arcgis.gis.toc.html)\n",
    "* Adds [`arcgis.gis.tasks`](https://developers.arcgis.com/python/api-reference/arcgis.gis.tasks.html) submodule to work with scheduling `Notebook Items`:\n",
    " * [`TaskManager`](https://developers.arcgis.com/python/api-reference/arcgis.gis.tasks.html#taskmanager)\n",
    " * [`Task`](https://developers.arcgis.com/python/api-reference/arcgis.gis.tasks.html#task)\n",
    " * [`Run`](https://developers.arcgis.com/python/api-reference/arcgis.gis.tasks.html#run)\n",
    "* Adds [`GroupMigrationManager`](https://developers.arcgis.com/python/api-reference/arcgis.gis.toc.html#groupmigrationmanager) class\n",
    " * Supports content migration betweeen `Enterprise 10.8.1` portals [`Group`](https://developers.arcgis.com/python/api-reference/arcgis.gis.toc.html#group) to [`Group`](https://developers.arcgis.com/python/api-reference/arcgis.gis.toc.html#group), **preserving itemId values**:\n",
    "    * `hosted feature services`, `web maps`, `web mapping applications` or any other `text-based` items\n",
    " * Adds [`migration`](https://developers.arcgis.com/python/api-reference/arcgis.gis.toc.html#arcgis.gis.Group.migration) property to [`Group`](https://developers.arcgis.com/python/api-reference/arcgis.gis.toc.html#group) to access [`GroupMigrationManager`](https://developers.arcgis.com/python/api-reference/arcgis.gis.toc.html#groupmigrationmanager) \n",
    "* Enables [`UserManager.create()`]() to use [New Member Defaults](https://doc.arcgis.com/en/arcgis-online/administer/configure-new-member-defaults.htm) when set if corresponding arguments not provided\n",
    "* Adds ability to specify an `item_id` value for:\n",
    " * [`ContentManager.add()`](https://developers.arcgis.com/python/api-reference/arcgis.gis.toc.html#arcgis.gis.ContentManager.add)\n",
    " * [`ContentManager.create_service()`](https://developers.arcgis.com/python/api-reference/arcgis.gis.toc.html#arcgis.gis.ContentManager.create_service)\n",
    " * [`ContentManager.import_data()`](https://developers.arcgis.com/python/api-reference/arcgis.gis.toc.html#arcgis.gis.ContentManager.import_data)\n",
    " * [`Item.publish()`](https://developers.arcgis.com/python/api-reference/arcgis.gis.toc.html#arcgis.gis.Item.publish)\n",
    "* Adds support for adding [`WMTS Services`](https://enterprise.arcgis.com/en/server/latest/publish-services/windows/wmts-services.htm) as [`items`](https://developers.arcgis.com/python/api-reference/arcgis.gis.toc.html#arcgis.gis.Item) - ([OGC WMTS Specification](https://www.ogc.org/standards/wmts))\n",
    "* Enhancements to field name mapping in [`clone_items()`]() for `Web Applications`, `Dashboards`, and `Surveys`\n",
    "* Adds [`PortalDataStore`](https://developers.arcgis.com/python/api-reference/arcgis.gis.toc.html#portaldatastore) class"
   ]
  },
  {
   "cell_type": "markdown",
   "metadata": {},
   "source": [
    "#### [`arcgis.gis.admin`](https://developers.arcgis.com/python/api-reference/arcgis.gis.admin.html#)\n",
    "* Adds `NotebookServer`, `MissionServer`, and `WorkflowManager` as `function` value options to [`Federation.update()`](https://developers.arcgis.com/python/api-reference/arcgis.gis.admin.html#federation) method\n",
    "* Adds [`AGOLUsageReports`](https://developers.arcgis.com/python/api-reference/arcgis.gis.admin.html#agolusagereports) documentation to [API Reference](https://developers.arcgis.com/python/api-reference/index.html)"
   ]
  },
  {
   "cell_type": "markdown",
   "metadata": {},
   "source": [
    "#### [`arcgis.gis.server`](https://developers.arcgis.com/python/api-reference/arcgis.gis.server.html)\n",
    "* Adds [`ItemInformationManager`](https://developers.arcgis.com/python/api-reference/arcgis.gis.server.html#iteminformationmanager) documentation to [API Reference](https://developers.arcgis.com/python/api-reference/index.html)\n",
    "* Adds code sample to connect to stand-alone server (See [Usage Example #2](https://developers.arcgis.com/python/api-reference/arcgis.gis.server.html#server))"
   ]
  },
  {
   "cell_type": "markdown",
   "metadata": {},
   "source": [
    "#### [`arcgis.gis.nb`](https://developers.arcgis.com/python/api-reference/arcgis.gis.nb.html#)\n",
    "* Adds `recent_statistics` property to the object returned from the [`NotebookServer.system`](https://developers.arcgis.com/python/api-reference/arcgis.gis.nb.html#notebookserver) property\n",
    "* Adds support for expiration value configured from the [`NotebookServer`](https://developers.arcgis.com/python/api-reference/arcgis.gis.nb.html#notebookserver)"
   ]
  },
  {
   "cell_type": "markdown",
   "metadata": {},
   "source": [
    "#### [`arcgis.features`](https://developers.arcgis.com/python/api-reference/arcgis.features.toc.html#)\n",
    "* Adds `transformations` parameter to [`SyncManager.create()`](https://developers.arcgis.com/python/api-reference/arcgis.features.managers.html#arcgis.features.managers.SyncManager.create) to support 2-Way replication\n",
    "* Adds attributes to [`Spatially Enabled Dataframe`](https://developers.arcgis.com/python/api-reference/arcgis.features.toc.html#geoaccessor)\n",
    " * [`sanitize_column_names()`](https://developers.arcgis.com/python/api-reference/arcgis.features.toc.html#arcgis.features.GeoAccessor.sanitize_column_names) method to ensure columns names are valid for [`to_featurelayer()`](https://developers.arcgis.com/python/api-reference/arcgis.features.toc.html#arcgis.features.GeoAccessor.to_featurelayer) and/or [`to_featureclass()`](https://developers.arcgis.com/python/api-reference/arcgis.features.toc.html#arcgis.features.GeoAccessor.to_featureclass) methods\n",
    " * [`renderer`](https://developers.arcgis.com/python/api-reference/arcgis.features.toc.html#arcgis.features.GeoAccessor.renderer) property to access dataframe renderer\n",
    "* Adds `geometry_column` parameter to [`pd.Dataframe.spatial.from_df()`](https://developers.arcgis.com/python/api-reference/arcgis.features.toc.html#arcgis.features.GeoAccessor.from_df) method\n",
    "* Adds support for `as_df` parameter on [`query()`]() operation against layers that do not suppport pagination"
   ]
  },
  {
   "cell_type": "markdown",
   "metadata": {},
   "source": [
    "#### [`arcgis.raster`](https://developers.arcgis.com/python/api-reference/arcgis.raster.toc.html)\n",
    "* Adds [`RasterCollection`](https://developers.arcgis.com/python/api-reference/arcgis.raster.toc.html#rastercollection) class\n",
    "* Adds [`ImageryLayerCacheManager`]() documentation to [API Reference](https://developers.arcgis.com/python/api-reference/index.html)\n",
    "* Adds properties to [`Raster`](https://developers.arcgis.com/python/api-reference/arcgis.raster.toc.html#raster) class:\n",
    " * [`vmin`](https://developers.arcgis.com/python/api-reference/arcgis.raster.toc.html#arcgis.raster.Raster.vmin)\n",
    " * [`vmax`](https://developers.arcgis.com/python/api-reference/arcgis.raster.toc.html#arcgis.raster.Raster.vmax)\n",
    "* Adds [`slices()`](https://developers.arcgis.com/python/api-reference/arcgis.raster.toc.html#arcgis.raster.ImageryLayer.slices) method to [`ImageryLayer`](https://developers.arcgis.com/python/api-reference/arcgis.raster.toc.html#imagerylayer) class\n",
    "* Adds `slice_id` parameter to the [`ImageryLayer.export_image()`](https://developers.arcgis.com/python/api-reference/arcgis.raster.toc.html#arcgis.raster.ImageryLayer.export_image) method"
   ]
  },
  {
   "cell_type": "markdown",
   "metadata": {},
   "source": [
    "#### [`arcgis.raster.analytics`](https://developers.arcgis.com/python/api-reference/arcgis.raster.analytics.html)\n",
    "* Adds functions:\n",
    " * [`optimal_path_as_line`](https://developers.arcgis.com/python/api-reference/arcgis.raster.analytics.html#optimal-path-as-line)\n",
    " * [`optimal_region_connetions`](https://developers.arcgis.com/python/api-reference/arcgis.raster.analytics.html#opritmal-region-connections)\n",
    " * [`analyze_changes_using_ccdc`](https://developers.arcgis.com/python/api-reference/arcgis.raster.analytics.html#analyze-changes-using-ccds)\n",
    " * [`detect_change_using_change_analysis_raster`](https://developers.arcgis.com/python/api-reference/arcgis.raster.analytics.html#detect-change-using-change-analysis-raster)\n",
    " * [`manage_multidimensional_raster`](https://developers.arcgis.com/python/api-reference/arcgis.raster.analytics.html#manage-multidimensional-raster)\n",
    " * [`sample`](https://developers.arcgis.com/python/api-reference/arcgis.raster.analytics.html#sample)\n",
    "* Adds new parameters to [`generate_trend_raster`](https://developers.arcgis.com/python/api-reference/arcgis.raster.analytics.html#generate-trend-raster)\n",
    " * cycle_length\n",
    " * cycle_unit\n",
    " * rmse\n",
    " * r2\n",
    " * slope_p_value\n",
    "* Adds functionality to [`summarize_raster_within`](https://developers.arcgis.com/python/api-reference/arcgis.raster.analytics.html#summarize-raster-within)\n",
    " * `percentile_value` and `process_as_multidimensional` parameters \n",
    " * `PERCENTILE` option for `statistic_type` parameter\n",
    "* Adds functionality to [`generate_multidimensional_anomaly`](https://developers.arcgis.com/python/api-reference/arcgis.raster.analytics.html#generate-multidimensional-anomaly)\n",
    " * New `reference_mean_raster` parameter\n",
    " * EXTERNAL_RASTER as option for `calculation_interval` parameter\n",
    "* Deprecates functions - \n",
    " * Sofware raises warning message when older tool is used and directions on which tool to use as replacement:\n",
    "   * [`optimum_travel_cost_network`](https://developers.arcgis.com/python/api-reference/arcgis.raster.analytics.html#optimum-travel-cost-network)\n",
    "   * [`determine_travel_costpath_as_polyline`](https://developers.arcgis.com/python/api-reference/arcgis.raster.analytics.html#determine-travel-costpath-as-polyline) \n",
    "   * [`costpath_as_polyline`](https://developers.arcgis.com/python/api-reference/arcgis.raster.analytics.html#costpath-as-polyline) "
   ]
  },
  {
   "cell_type": "markdown",
   "metadata": {},
   "source": [
    "#### [`arcgis.raster.functions`](https://developers.arcgis.com/python/api-reference/arcgis.raster.functions.html)\n",
    "* Adds new functions:\n",
    " * [`generate_trend`](https://developers.arcgis.com/python/api-reference/arcgis.raster.functions.html#generate-trend)\n",
    " * [`predict_using_trend`](https://developers.arcgis.com/python/api-reference/arcgis.raster.functions.html#predict-using-trend)\n",
    " * [`linear_spectral_unmixing`](https://developers.arcgis.com/python/api-reference/arcgis.raster.functions.html#linear-spectral-unmixing)\n",
    " * [`multidimensional_filter`](https://developers.arcgis.com/python/api-reference/arcgis.raster.functions.html#multidimensional-filter)\n",
    "* Adds `sentinel` functions:\n",
    " * [`s1_radiometric_calibration`](https://developers.arcgis.com/python/api-reference/arcgis.raster.functions.html#st1-radiometric-calibration)\n",
    " * [`s1_thermal_noise_removals`](https://developers.arcgis.com/python/api-reference/arcgis.raster.functions.html#s1-thermal-noise-removal)\n",
    " * [`interpolate_irregular_data`](https://developers.arcgis.com/python/api-reference/arcgis.raster.functions.html#interpolate-irregular-data)\n",
    "* Adds parameters to [`shaded_relief()`](https://doc.arcgis.com/en/arcgis-online/administer/configure-new-member-defaults.htm)\n",
    "  * `colorramp`\n",
    "  * `hillshade_type`"
   ]
  },
  {
   "cell_type": "markdown",
   "metadata": {},
   "source": [
    "#### [`arcgis.raster.functions.gbl`](https://developers.arcgis.com/python/api-reference/arcgis.raster.functions.gbl.html#)\n",
    "* Adds parameters to [`distance_accumulation`](https://developers.arcgis.com/python/api-reference/arcgis.raster.functions.gbl.html#distance-accumulation)\n",
    " * `output_back_direction_raster`\n",
    " * `output_source_direction_raster_name` \n",
    " * `output_source_location_raster_name`\n",
    " * `output_distance-accumulation_raster_name`\n",
    "* Adds `percentile_value` parameter to [`zonal_statisitics`](https://developers.arcgis.com/python/api-reference/arcgis.raster.functions.gbl.html#zonal-statistics)\n",
    "* Adds `PERCENTILE` `statistic_type` to [`zonal_statisitics`](https://developers.arcgis.com/python/api-reference/arcgis.raster.functions.gbl.html#zonal-statistics)\n",
    "* Removes parameter from [`distance_accumulation`](https://developers.arcgis.com/python/api-reference/arcgis.raster.functions.gbl.html#distance-accumulation)\n",
    " * `generate_back_direction_band`\n",
    "* Enhances [`distance_accumulation`](https://developers.arcgis.com/python/api-reference/arcgis.raster.functions.gbl.html#distance-accumulation) to generate multiple outputs\n",
    "* Enhances [`distance_allocation`](https://developers.arcgis.com/python/api-reference/arcgis.raster.functions.gbl.html#distance-allocation) to generate multiple outputs\n",
    "* Removes parameter from [`distance_allocation`]([`distance_accumulation`](https://developers.arcgis.com/python/api-reference/arcgis.raster.functions.gbl.html#distance-allocation)\n",
    " * `generate_source_row_column_bands`\n",
    "* Adds [`optimal_path_as_raster`](https://developers.arcgis.com/python/api-reference/arcgis.raster.functions.gbl.html#optimal-path-as-raster) function\n",
    "* Deprecates functions:\n",
    " * Sofware raises warning message when older tool is used and directions on which tool to use as replacement:\n",
    "    * Calculate Distance \n",
    "    * Calculate Travel Cost\n",
    "    * Cost Allocation \n",
    "    * Cost Back Link \n",
    "    * Cost Distance \n",
    "    * Cost Path \n",
    "    * Euclidean Allocation\n",
    "    * Euclidean Back Direction\n",
    "    * Euclidian Direction\n",
    "    * Euclidean Distance \n",
    "    * Path Distance\n",
    "    * Path Distance Allocation \n",
    "    * Path Distance Back Link\n"
   ]
  },
  {
   "cell_type": "markdown",
   "metadata": {},
   "source": [
    "#### [`arcgis.raster.orthomapping`](https://developers.arcgis.com/python/api-reference/arcgis.raster.orthomapping.html#)\n",
    "* Enables tools to run in asynchronous manner (See `future` parameter on tools)"
   ]
  },
  {
   "cell_type": "markdown",
   "metadata": {},
   "source": [
    "#### [`arcgis.geoanalytics`](https://developers.arcgis.com/python/api-reference/arcgis.geoanalytics.toc.html)\n",
    "* Adds new function to [`analyze_patterns`](https://developers.arcgis.com/python/api-reference/arcgis.geoanalytics.analyze_patterns.html)\n",
    " * [`gwr`](https://developers.arcgis.com/python/api-reference/arcgis.geoanalytics.analyze_patterns.html#gwr)\n",
    "* Adds documentation in [`find_locations`](https://developers.arcgis.com/python/api-reference/arcgis.geoanalytics.find_locations.html):\n",
    " * parameters to [`find_dwell_locations`](https://developers.arcgis.com/python/api-reference/arcgis.geoanalytics.find_locations.html#find-dwell-locations)\n",
    "   * `time_boundary_split`\n",
    "   * `time_split_unit`\n",
    "   * `time_reference`"
   ]
  },
  {
   "cell_type": "markdown",
   "metadata": {},
   "source": [
    "#### [`arcgis.geocoding`](https://developers.arcgis.com/python/api-reference/arcgis.geocoding.html#)\n",
    "* Adds missing parameter documentation for [`geocode()`](https://developers.arcgis.com/python/api-reference/arcgis.geocoding.html#geocode) function\n",
    " * `match_out_of_range`\n",
    " * `location_type`\n",
    " * `lang_code`\n",
    " * `source_country`\n",
    "* Adds missing parameter decumentation for [`reverse_geocode()`](https://developers.arcgis.com/python/api-reference/arcgis.geocoding.html#reverse-geocode) function\n",
    " * `feature_types`\n",
    " * `location_type`\n",
    " * `lang_code`\n",
    "* Adds missing parameter documentation for [`suggest()`](https://developers.arcgis.com/python/api-reference/arcgis.geocoding.html#suggest)\n",
    " * `search_extent`\n",
    " * `max_suggestions`\n",
    " * `country_code`"
   ]
  },
  {
   "cell_type": "markdown",
   "metadata": {},
   "source": [
    "#### [`arcgis.mapping`](https://developers.arcgis.com/python/api-reference/arcgis.mapping.html#webmap)\n",
    "* New [`arcgis.mapping.ogc`](https://developers.arcgis.com/python/api-reference/arcgis.mapping.ogc.html#) submodule\n",
    "to support `OGC Layers`:\n",
    "  * [`CSVLayer`](https://developers.arcgis.com/python/api-reference/arcgis.mapping.ogc.html#csvlayer)\n",
    "  * [`GeoJSONLayer`](https://developers.arcgis.com/python/api-reference/arcgis.mapping.ogc.html#geojsonlayer)\n",
    "  * [`GeoRSSLayer`](https://developers.arcgis.com/python/api-reference/arcgis.mapping.ogc.html#georsslayer)\n",
    "  * [`WMSLayer`](https://developers.arcgis.com/python/api-reference/arcgis.mapping.ogc.html#wmslayer)\n",
    "  * [`WMTSLayer`](https://developers.arcgis.com/python/api-reference/arcgis.mapping.ogc.html#wmtslayer)\n",
    "* Adds ability to set the [`WebMap`](https://developers.arcgis.com/python/api-reference/arcgis.mapping.html#webmap) `basemap` to instances of: \n",
    "  * [`WebMap`](https://developers.arcgis.com/python/api-reference/arcgis.mapping.html#webmap) \n",
    "  * [`MapImageLayer`](https://developers.arcgis.com/python/api-reference/arcgis.mapping.html#mapimagelayer)\n",
    "  * [`ImageryLayer`](https://developers.arcgis.com/python/api-reference/arcgis.raster.toc.html#imagerylayer)\n",
    "  * [`MapView`](https://developers.arcgis.com/python/api-reference/arcgis.widgets.html#mapview)\n",
    "> NOTE:  See [`WebMap.basemap` Usage Example /#3](https://developers.arcgis.com/python/api-reference/arcgis.mapping.html#arcgis.mapping.WebMap.basemap)"
   ]
  },
  {
   "cell_type": "markdown",
   "metadata": {},
   "source": [
    "#### [`arcgis.widgets`](https://developers.arcgis.com/python/api-reference/arcgis.widgets.html)\n",
    "* Updates the [`map widget`]() to use [`JavaScript API 4.15`](https://developers.arcgis.com/javascript/latest/api-reference/)\n",
    "* Adds support for snychronized navigation between mutiple [`MapViews`](https://developers.arcgis.com/python/api-reference/arcgis.widgets.html#mapview)\n",
    "  * [`sync_navigation(_mapview_)`](https://developers.arcgis.com/python/api-reference/arcgis.widgets.html#arcgis.widgets.MapView.sync_navigation) - See [`USAGE EXAMPLE`](https://developers.arcgis.com/python/api-reference/arcgis.widgets.html#arcgis.widgets.MapView.sync_navigation) \n",
    "  * [`unsync_navigation(_mapview_)`](https://developers.arcgis.com/python/api-reference/arcgis.widgets.html#arcgis.widgets.MapView.unsync_navigation) - unlinks navitation between two `MapView` instances\n",
    "* Adds properties to [`map widget`]():\n",
    " * [`scale`](https://developers.arcgis.com/python/api-reference/arcgis.widgets.html#arcgis.widgets.MapView.scale)\n",
    " * [`snap_to_zoom`](https://developers.arcgis.com/python/api-reference/arcgis.widgets.html#arcgis.widgets.MapView.snap_to_zoom)\n"
   ]
  },
  {
   "cell_type": "markdown",
   "metadata": {},
   "source": [
    "#### [`arcgis.apps`](https://developers.arcgis.com/python/api-reference/arcgis.apps.html)\n",
    "  \n",
    " * ##### [workforce](https://developers.arcgis.com/python/api-reference/arcgis.apps.workforce.html)\n",
    "    * New [`web_app_link`](https://developers.arcgis.com/python/api-reference/arcgis.apps.workforce.html#arcgis.apps.workforce.Assignment.web_app_link) property on Workforce [`Assignment`](https://developers.arcgis.com/python/api-reference/arcgis.apps.workforce.html#assignment) class\n",
    "    * Sets [`assigned_date`]() argument value if none is entered when [`Assignment`](https://developers.arcgis.com/python/api-reference/arcgis.apps.workforce.html#assignment) created\n",
    " * ##### [tracker](https://developers.arcgis.com/python/api-reference/arcgis.apps.tracker.html)\n",
    "    * Allows administrators to use custom parameters when enabling location tracking\n",
    "    * Sets description and snippet of the created item"
   ]
  },
  {
   "cell_type": "markdown",
   "metadata": {},
   "source": [
    "#### [`arcgis.learn`](https://developers.arcgis.com/python/api-reference/arcgis.learn.html#)\n",
    "* Adds models to module:\n",
    " * [`FullyConnectedNetwork`](https://developers.arcgis.com/python/api-reference/arcgis.learn.html#fullyconnectednetwork) - fully connected neural network for tabular/feature data\n",
    " * [`MLModel`](https://developers.arcgis.com/python/api-reference/arcgis.learn.html#mlmodel) - integrates Scikit-learn's machine learning models\n",
    " * [`SuperResolution`](https://developers.arcgis.com/python/api-reference/arcgis.learn.html#superesolution)\n",
    " * [`YOLOv3`](https://developers.arcgis.com/python/api-reference/arcgis.learn.html#yolov3)\n",
    " * [`FasterRCNN`](https://developers.arcgis.com/python/api-reference/arcgis.learn.html#fasterrcnn)\n",
    "* Adds [`ModelExtension`](https://developers.arcgis.com/python/api-reference/arcgis.learn.html#modelextension) class - for customized sources\n",
    "* Adds [`prepare_tabulardata()`](https://developers.arcgis.com/python/api-reference/arcgis.learn.html#prepare-tabulardata) function for data preperation\n",
    "* Adds [`Transform3d`](https://developers.arcgis.com/python/api-reference/arcgis.learn.html#transform3d) class for data augmentation to `PointCloud` data\n",
    "* Adds [`TensorFlow`](https://www.tensorflow.org/) backend support to the following models, enabling [`tf-lite`](https://www.tensorflow.org/lite/models) model creation for deployment to mobile devices and integration with `AppStudio` and `Survey123` (private beta support):\n",
    " * [`Unet`](https://developers.arcgis.com/python/api-reference/arcgis.learn.html#unetclassifier)\n",
    " * [`FeatureClassifier`](https://developers.arcgis.com/python/api-reference/arcgis.learn.html#featureclassifier)\n",
    " * [`SingleShotDetector`](https://developers.arcgis.com/python/api-reference/arcgis.learn.html#singleshotdetector)\n",
    "* Adds [`load_model()`](https://developers.arcgis.com/python/api-reference/arcgis.learn.html#load-model) function for direct loading of any model\n",
    "* Adds visualization, data augmentation, and [3d transformation](https://developers.arcgis.com/python/api-reference/arcgis.learn.html#transform3d) support to [`PointCNN`](https://developers.arcgis.com/python/api-reference/arcgis.learn.html#pointcnn) model\n",
    "* Enhances [`UnetClassifier`](https://developers.arcgis.com/python/api-reference/arcgis.learn.html#unetclassifier) and [`PSPNetClassifier`](https://developers.arcgis.com/python/api-reference/arcgis.learn.html#pspnetclassifier) models by adding:\n",
    " * per class precision recall and f1score\n",
    " * balanced loss\n",
    " * focal loss\n",
    " * mixup aug\n",
    "* Adds Multiple-GPU support to:\n",
    " * [`MaskRCNN`](https://developers.arcgis.com/python/api-reference/arcgis.learn.html#maskrcnn)\n",
    " * [`Unet`](https://developers.arcgis.com/python/api-reference/arcgis.learn.html#unetclassifier)\n",
    " * [`DeepLab`](https://developers.arcgis.com/python/api-reference/arcgis.learn.html#deeplab)\n",
    " * [`PSPNetClassifier`](https://developers.arcgis.com/python/api-reference/arcgis.learn.html#pspnetclassifier)\n",
    "* Adds Model Extension support\n",
    "* Adds [`PointCNN.show_results()`](https://developers.arcgis.com/python/api-reference/arcgis.learn.html#arcgis.learn.PointCNN.show_results) documentation to [API Reference](https://developers.arcgis.com/python/api-reference/index.html)\n",
    " * documents `max_sampling_points` parameter for raster rendering\n",
    "* Adds [`predict_h5()`](https://developers.arcgis.com/python/api-reference/arcgis.learn.html#arcgis.learn.PointCNN.predict_h5) method to [`PointCNN`](https://developers.arcgis.com/python/api-reference/arcgis.learn.html#pointcnn) model\n",
    "* Adds support for non continous class mappings when using [`prepare_data()`](https://developers.arcgis.com/python/api-reference/arcgis.learn.html#arcgis.learn.prepare_data) for [`PointCNN`](https://developers.arcgis.com/python/api-reference/arcgis.learn.html#pointcnn)\n",
    "* Adds `iters_per_epoch` parameter documentation to [`PointCNN.fit()`](https://developers.arcgis.com/python/api-reference/arcgis.learn.html#arcgis.learn.PointCNN.fit)\n",
    "* Enhances [`prepare_data()`](https://developers.arcgis.com/python/api-reference/arcgis.learn.html#prepare-data) with `Keyword Arguments` table to document parameters pertinent to multispectral imagery input\n",
    "* Adds performance metric functions to [`EntityRecognizer`](https://developers.arcgis.com/python/api-reference/arcgis.learn.html#entityrecognizer)\n",
    " * [`metrics_per_label()`](https://developers.arcgis.com/python/api-reference/arcgis.learn.html#arcgis.learn.EntityRecognizer.metrics_per_label)\n",
    " * [`precision_score()`](https://developers.arcgis.com/python/api-reference/arcgis.learn.html#arcgis.learn.EntityRecognizer.precision_score)\n",
    " * [`recall_score()`](https://developers.arcgis.com/python/api-reference/arcgis.learn.html#arcgis.learn.EntityRecognizer.recall_score)\n",
    " * [`f1_score()`](https://developers.arcgis.com/python/api-reference/arcgis.learn.html#arcgis.learn.EntityRecognizer.f1_score)\n",
    "* Adds `NoData` support to image segmentation models:\n",
    " * [`Unet`](https://developers.arcgis.com/python/api-reference/arcgis.learn.html#unetclassifier)\n",
    " * [`DeepLab`](https://developers.arcgis.com/python/api-reference/arcgis.learn.html#deeplab)\n",
    " * [`PSPNetClassifier`](https://developers.arcgis.com/python/api-reference/arcgis.learn.html#pspnetclassifier)\n",
    "* Enhances visualizations when using [`PointCNN`](https://developers.arcgis.com/python/api-reference/arcgis.learn.html#pointcnn) workflows"
   ]
  },
  {
   "cell_type": "markdown",
   "metadata": {},
   "source": [
    "## Fixes"
   ]
  },
  {
   "cell_type": "markdown",
   "metadata": {},
   "source": [
    "### [Guides](https://developers.arcgis.com/python/guide/)\n",
    "* Updates to [Working with different authentication schemes](https://developers.arcgis.com/python/guide/working-with-different-authentication-schemes/)\n",
    " * clarifies non-interactive login experience\n",
    "* Updates to [Geospatial deep learning with [`arcgis.learn`](https://developers.arcgis.com/python/api-reference/arcgis.learn.html#)](https://developers.arcgis.com/python/guide/geospatial-deep-learning/)\n",
    " * clarifies installation steps\n",
    "* Updates to [Named Entity Extraction Workflow with [`arcgis.learn`](https://developers.arcgis.com/python/api-reference/arcgis.learn.html#)](https://developers.arcgis.com/python/guide/how-named-entity-recognition-works/)\n",
    " * clarifies prerequisites"
   ]
  },
  {
   "cell_type": "markdown",
   "metadata": {},
   "source": [
    "### [Samples](https://developers.arcgis.com/python/sample-notebooks/)\n",
    "* Updates to [Finding suitable spots for placing heart defibrillator equipments in public](https://developers.arcgis.com/python/sample-notebooks/finding-suitable-spots-for-aed-devices-using-raster-analytics/)\n",
    " * formatting changes\n",
    " * use of [`filter`](https://developers.arcgis.com/python/api-reference/arcgis.gis.toc.html#arcgis.gis.Layer.filter) property to query [`FeatureLayer`](https://developers.arcgis.com/python/api-reference/arcgis.features.toc.html#featurelayer)\n",
    "* Updates to [Safe streets to schools](https://developers.arcgis.com/python/sample-notebooks/safe-streets-to-schools/)\n",
    " * zoom levels adjusted for `maps`\n",
    "* Updates to [\n",
    "Land Cover Classification using Satellite Imagery and Deep Learning](https://developers.arcgis.com/python/sample-notebooks/land-cover-classification-using-unet/)\n",
    " * refines `search` for data\n",
    "* Updates to [Detecting Swimming Pools using Satellite Imagery and Deep Learning](https://developers.arcgis.com/python/sample-notebooks/detecting-swimming-pools-using-satellite-image-and-deep-learning/)\n",
    " * adjusts library imports\n",
    "* Updates to [Madison city crime analysis](https://developers.arcgis.com/python/sample-notebooks/information-extraction-from-madison-city-crime-incident-reports-using-deep-learning/)\n",
    " * clarifies prerequisites"
   ]
  },
  {
   "cell_type": "markdown",
   "metadata": {},
   "source": [
    "#### [`arcgis.gis`](https://developers.arcgis.com/python/api-reference/arcgis.gis.toc.html#gis)\n",
    "* Removes incorrect Exception message on [`UserManager.create()`](https://developers.arcgis.com/python/api-reference/arcgis.gis.toc.html#arcgis.gis.UserManager.create) when `.`, `@` and/or `-` in `username` argument\n",
    "* Removes incorrect Exception messge on [`User.update_license_type()`]() and [`User.update_role()`] when `.`, `@` and/or `-` in `username`\n",
    "* Fixes error when invalid input passed to `get()` method on [`ContentManager`](https://developers.arcgis.com/python/api-reference/arcgis.gis.toc.html#contentmanager), [`UserManager`](https://developers.arcgis.com/python/api-reference/arcgis.gis.toc.html#usermanager), or [`GroupManager`](https://developers.arcgis.com/python/api-reference/arcgis.gis.toc.html#groupmanager)\n",
    "* Fixes 301/redirect error with PKI authentication schemes not using the web adaptor\n",
    "* Fixes [`Item.copy()`](https://developers.arcgis.com/python/api-reference/arcgis.gis.toc.html#arcgis.gis.Item.copy) method failing to copy the `url` property to the new `item`\n",
    "* Fixes input format when using [`assign_to_items()`](https://developers.arcgis.com/python/api-reference/arcgis.gis.toc.html#arcgis.gis.CategorySchemaManager.assign_to_items) for [`Group`](https://developers.arcgis.com/python/api-reference/arcgis.gis.toc.html#group) categories"
   ]
  },
  {
   "cell_type": "markdown",
   "metadata": {},
   "source": [
    "#### [`arcgis.gis.admin`](https://developers.arcgis.com/python/api-reference/arcgis.gis.admin.html)\n",
    "* Fixes issue where updating the Web GIS [`name`](https://developers.arcgis.com/python/api-reference/arcgis.gis.admin.html#arcgis.gis.admin.UX.name) did not update Home Page"
   ]
  },
  {
   "cell_type": "markdown",
   "metadata": {},
   "source": [
    "#### [`arcgis.features`](https://developers.arcgis.com/python/api-reference/arcgis.features.toc.html)\n",
    "* Fixes [`to_featureclass()`](https://developers.arcgis.com/python/api-reference/arcgis.features.toc.html#arcgis.features.GeoAccessor.to_featureclass) method on the [`Spatially Enabled Dataframe`](https://developers.arcgis.com/python/api-reference/arcgis.features.toc.html#geoaccessor) dropping `Z` values from geometries\n",
    "* Fixes [`from_featureclass()`](https://developers.arcgis.com/python/api-reference/arcgis.features.toc.html#arcgis.features.GeoAccessor.from_featureclass) method on the [`Spatially Enabled Dataframe`](https://developers.arcgis.com/python/api-reference/arcgis.features.toc.html#geoaccessor) nullifying zero-length polyline geometries\n",
    "* Fixes issue with geometry operations on [`Spatially Enabled Dataframe.SHAPE`](https://developers.arcgis.com/python/api-reference/arcgis.features.toc.html#geoaccessor) column not preserving spatial reference\n",
    "* Improves performance of [`Spatially Enabled Dataframe`](https://developers.arcgis.com/python/api-reference/arcgis.features.toc.html#geoaccessor) [`from_xy()`](https://developers.arcgis.com/python/api-reference/arcgis.features.toc.html#arcgis.features.GeoAccessor.from_xy) method\n",
    "* Updates standard [`feature analysis functions`](https://developers.arcgis.com/python/api-reference/arcgis.features.analysis.html#) reference documentation to refer to [`Feature Input`](https://developers.arcgis.com/python/api-reference/arcgis.features.analysis.html#arcgis-features-analysis-module)\n",
    "* Fixes error with [`true_centroid()`](https://developers.arcgis.com/python/api-reference/arcgis.features.toc.html?highlight=true_centroid#arcgis.features.GeoAccessor.true_centroid) on the `Spatially Enabled DataFrame` in `ArcPy` environments "
   ]
  },
  {
   "cell_type": "markdown",
   "metadata": {},
   "source": [
    "#### [`arcgis.features.analysis`](https://developers.arcgis.com/python/api-reference/arcgis.features.analysis.html)\n",
    "* [`summarize_data`](https://developers.arcgis.com/python/api-reference/arcgis.features.summarize_data.html)\n",
    " * Adds parameters to [`aggregate_points()`](https://developers.arcgis.com/python/api-reference/arcgis.features.summarize_data.html#aggregate-points)\n",
    "  * `bin_type`\n",
    "  * `bin_size`\n",
    "  * `bin_size_unit`\n",
    "  * `future`"
   ]
  },
  {
   "cell_type": "markdown",
   "metadata": {},
   "source": [
    "#### [`arcgis.raster.functions.gbl`](https://developers.arcgis.com/python/api-reference/arcgis.raster.functions.gbl.html#)\n",
    "* Enhances [`region_group`](https://developers.arcgis.com/python/api-reference/arcgis.raster.functions.gbl.html#region-group) parameter documentation"
   ]
  },
  {
   "cell_type": "markdown",
   "metadata": {},
   "source": [
    "#### [`arcgis.geometry`](https://developers.arcgis.com/python/api-reference/arcgis.geometry.html)\n",
    "* Enhancements to `is_valid` property on `Geometry` instances. (See [`Example`](https://developers.arcgis.com/python/api-reference/arcgis.geometry.html).)\n",
    "* Fixes code to compare whether two [`SpatialReferences`](https://developers.arcgis.com/python/api-reference/arcgis.geometry.html#spatialreference) are equal"
   ]
  },
  {
   "cell_type": "markdown",
   "metadata": {},
   "source": [
    "#### [`arcgis.raster.functions`](https://developers.arcgis.com/python/api-reference/arcgis.raster.functions.html)\n",
    "* Fixes issue with [`classify()`](https://developers.arcgis.com/python/api-reference/arcgis.raster.functions.html#classify) when second raster not specified"
   ]
  },
  {
   "cell_type": "markdown",
   "metadata": {},
   "source": [
    "#### [`arcgis.widgets`](https://developers.arcgis.com/python/api-reference/arcgis.widgets.html)\n",
    "* Fixes issue with [`zoom_to_layer()`](https://developers.arcgis.com/python/api-reference/arcgis.widgets.html#arcgis.widgets.MapView.zoom_to_layer) not working with spatial reference in `wkt` formatt"
   ]
  },
  {
   "cell_type": "markdown",
   "metadata": {},
   "source": [
    "#### [`arcgis.apps`](https://developers.arcgis.com/python/api-reference/arcgis.apps.html)\n",
    "  \n",
    " * ##### [tracker](https://developers.arcgis.com/python/api-reference/arcgis.apps.tracker.html)\n",
    "   * Fixes support service name conflicts"
   ]
  },
  {
   "cell_type": "markdown",
   "metadata": {},
   "source": [
    "#### [`arcgis.learn`](https://developers.arcgis.com/python/api-reference/arcgis.learn.html#)\n",
    "* Improves overall Exception handling\n",
    "* Increases flexibility of `from_model()` methods in ArcGIS Models to allow for different backends\n",
    "* Fixes metric calculation error in [`PointCNN.compute_precision_recall()`](https://developers.arcgis.com/python/api-reference/arcgis.learn.html#arcgis.learn.PointCNN.compute_precision_recall())\n",
    "* Fixes error when using [`prepare_data()`](https://developers.arcgis.com/python/api-reference/arcgis.learn.html#prepare-data) for [`PSPNetClassifier`](https://developers.arcgis.com/python/api-reference/arcgis.learn.html#pspnetclassifier) when balancing statistics are not present\n",
    "* Fixes error with [`PSPNetClassifer.lr_find()`](https://developers.arcgis.com/python/api-reference/arcgis.learn.html#arcgis.learn.PSPNetClassifier.lr_find) with all `backbones`\n",
    "* Fixes display issues with `lr.find()` in [`DeepLab`](https://developers.arcgis.com/python/api-reference/arcgis.learn.html#deeplab) and [`PSPNetClassifier`](https://developers.arcgis.com/python/api-reference/arcgis.learn.html#pspnetclassifier)\n",
    "* Fixes `show_batch()` error with multispectral models\n",
    "* Fixes [`prepare_data()`](https://developers.arcgis.com/python/api-reference/arcgis.learn.html#prepare-data) errors when the training data was created with `Output No Feature Data` option checked\n",
    "* Fixes error with [`export_point_dataset()`](https://developers.arcgis.com/python/api-reference/arcgis.learn.html#export-point-dataset) on [`PointCNN`]() when working with data that has non-contiguous classes\n",
    "* Fixes [`lr_find()`](https://developers.arcgis.com/python/api-reference/arcgis.learn.html#pointcnn.lr_find) and [`fit()`](https://developers.arcgis.com/python/api-reference/arcgis.learn.html#pointcnn.fit) functions when used with [`export_point_dataset()`](https://developers.arcgis.com/python/api-reference/arcgis.learn.html#export-point-dataset) output created when `max_points` argument exceeds default\n",
    "* Fixes errors with [`RetinaNet.predict()`](https://developers.arcgis.com/python/api-reference/arcgis.learn.html#arcgis.learn.RetinaNet.predict) on objects created with `resnet101` or `resnet152` backbones\n",
    "* Fixes error with `show_results()` when using multispectral data\n",
    "* Multiple improvements to the [`predict_las()`](https://developers.arcgis.com/python/api-reference/arcgis.learn.html#arcgis.learn.PointCNN.predict_las) function using the `PointCNN` model\n",
    " * preserves point cloud formatting and version of input and output\n",
    " * fixes output and messaging when `print_metrics` is `True`\n",
    " * fixes loss of information in the `las` file\n",
    "* Removal of 'non-zero' classcodes specific accuracy at completion of epoch when using [`PointCNN`](https://developers.arcgis.com/python/api-reference/arcgis.learn.html#pointcnn)\n",
    "* Change default behavior of [`export_point_dataset( )`](https://developers.arcgis.com/python/api-reference/arcgis.learn.html#export-point-dataset) `extra_features` to empty"
   ]
  },
  {
   "cell_type": "markdown",
   "metadata": {},
   "source": [
    "# What's new in version 1.8.0"
   ]
  },
  {
   "cell_type": "markdown",
   "metadata": {},
   "source": [
    "## New\n",
    "* Uses the `requests` 3rd party library instead of the built-in `urllib` for all web requests. Benefits include:\n",
    "   * increased security\n",
    "   * standardized web requests\n",
    "   * integrated libraries for better PKI, IWA, and other authentication\n",
    "* Adds ability to install ArcGIS API for Python into Python 3.8 conda environments\n",
    "* Certifies use of [`Pandas`](https://pandas.pydata.org/) releases greater than `1.x`"
   ]
  },
  {
   "cell_type": "markdown",
   "metadata": {},
   "source": [
    "### New [Guides](https://developers.arcgis.com/python/guide/)\n",
    "\n",
    "* [How Named Entity Recognition Works](https://developers.arcgis.com/python/guide/how-named-entity-recognition-works)\n",
    "* [How DeepLab works?](https://developers.arcgis.com/python/guide/how-deeplabv3-works)"
   ]
  },
  {
   "cell_type": "markdown",
   "metadata": {},
   "source": [
    "### New [Samples](https://developers.arcgis.com/python/sample-notebooks/)\n",
    "\n",
    "* [Snow avalanche hazard mapping](https://developers.arcgis.com/python/sample-notebooks/snow-avalanche-hazard-mapping-for-lake-tahoe)\n",
    "* [Vehicle detection and tracking](https://developers.arcgis.com/python/sample-notebooks/vehicle-detection-and-tracking)\n",
    "* [Which areas are good cougar habitats?](https://developers.arcgis.com/python/sample-notebooks//which-areas-are-good-cougar-habitat)\n",
    "* [Madison city crime analysis](https://developers.arcgis.com/python/sample-notebooks/information-extraction-from-madison-city-crime-incident-reports-using-deep-learning)\n",
    "* [Detecting settlements using supervised classification](https://developers.arcgis.com/python/sample-notebooks/04_gis_analysts_data_scientists/etecting-settlements-using-supervised-classification-and-deep-learning)\n",
    "* [Reconstructing 3D buildings](https://developers.arcgis.com/python/sample-notebooks/building-reconstruction-using-mask-rcnn)\n",
    "* [Automate Building Footprint Extraction using Deep learning](https://developers.arcgis.com/python/sample-notebooks/automate-building-footprint-extraction-using-instance-segmentation)\n",
    "* [Extracting Sinkholes from Aerial Imagery](https://developers.arcgis.com/python/sample-notebooks/extracting-sinkholes-from-aerial-imagery-over-deadsea)\n",
    "* [Temperature forecast using time series data](https://developers.arcgis.com/python/sample-notebooks/temperature-forecast-using-time-series-data)"
   ]
  },
  {
   "cell_type": "markdown",
   "metadata": {},
   "source": [
    "#### [`arcgis.gis`](https://developers.arcgis.com/python/api-reference/arcgis.gis.toc.html#gis)\n",
    "* Adds the [`org_settings`](https://developers.arcgis.com/python/api-reference/arcgis.gis.toc.html#arcgis.gis.GIS.org_settings) property to the `GIS` object"
   ]
  },
  {
   "cell_type": "markdown",
   "metadata": {},
   "source": [
    "#### [`arcgis.gis.admin`](https://developers.arcgis.com/python/api-reference/arcgis.gis.admin.html#)\n",
    "* Adds missing parameters to the `ArcGIS Online` [`history`](https://developers.arcgis.com/python/api-reference/arcgis.gis.admin.html#arcgis.gis.admin.AGOLAdminManager.history) function\n",
    " * `all_events`, `event_ids`, `event_types`, `actors`, `owners`, `actions`, `ips`, `sort_order`, `data_format`"
   ]
  },
  {
   "cell_type": "markdown",
   "metadata": {},
   "source": [
    "#### [`arcgis.gis.nb`](https://developers.arcgis.com/python/api-reference/arcgis.gis.server.html#module-arcgis.gis.nb)\n",
    "* Adds ability to [`execute_notebook()`](https://developers.arcgis.com/python/api-reference/arcgis.gis.server.html#arcgis.gis.nb.NotebookManager.execute_notebook) asynchronously with `future` parameter\n",
    "* Adds documentation for [`NotebookServer`](https://developers.arcgis.com/python/api-reference/arcgis.gis.server.html#notebookserver), [`NotebookManager`](https://developers.arcgis.com/python/api-reference/arcgis.gis.server.html#notebookmanager), [`Notebook`](https://developers.arcgis.com/python/api-reference/arcgis.gis.server.html#notebook), and [`Runtime`](https://developers.arcgis.com/python/api-reference/arcgis.gis.server.html#runtime)"
   ]
  },
  {
   "cell_type": "markdown",
   "metadata": {},
   "source": [
    "#### [`arcgis.features`](https://developers.arcgis.com/python/api-reference/arcgis.features.toc.html)\n",
    "* Adds `Spatially Enabled DataFrame` as input for [`FeatureLayer.edit_features()`](https://developers.arcgis.com/python/api-reference/arcgis.features.toc.html#arcgis.features.FeatureLayer.edit_features) method"
   ]
  },
  {
   "cell_type": "markdown",
   "metadata": {},
   "source": [
    "#### [`arcgis.raster`](https://developers.arcgis.com/python/api-reference/arcgis.raster.toc.html)\n",
    "* New [`Raster`](https://developers.arcgis.com/python/api-reference/arcgis.raster.toc.html#raster) class to work with local rasters or image services\n",
    "* Adds [`temporal_profile()`](https://developers.arcgis.com/python/api-reference/arcgis.raster.toc.html#arcgis.raster.ImageryLayer.temporal_profile) function to create time series charts\n",
    "* New functionality on [`ImageryLayer`](https://developers.arcgis.com/python/api-reference/arcgis.raster.toc.html#imagerylayer)\n",
    "  * adds [`query_boundary()`](https://developers.arcgis.com/python/api-reference/arcgis.raster.toc.html#arcgis.raster.ImageryLayer.query) function\n",
    "* Adds `time` parameter to [`compute_histograms`](https://developers.arcgis.com/python/api-reference/arcgis.raster.toc.html#arcgis.raster.ImageryLayer.compute_histograms) and [`compute_stats_and_histograms`](https://developers.arcgis.com/python/api-reference/arcgis.raster.toc.html#arcgis.raster.ImageryLayer.compute_stats_and_histograms)\n",
    "* Adds `return_pixel_values` and `max_item_count` parameter to [`identify()`](https://developers.arcgis.com/python/api-reference/arcgis.raster.toc.html#arcgis.raster.ImageryLayer.identify) function\n"
   ]
  },
  {
   "cell_type": "markdown",
   "metadata": {},
   "source": [
    "#### [`arcgis.raster.functions`](https://developers.arcgis.com/python/api-reference/arcgis.raster.functions.html)\n",
    "* Adds code sample to [`con`](https://developers.arcgis.com/python/api-reference/arcgis.raster.functions.html#con) function documentation"
   ]
  },
  {
   "cell_type": "markdown",
   "metadata": {},
   "source": [
    "#### [`arcgis.raster.analytics`](https://developers.arcgis.com/python/api-reference/arcgis.raster.analytics.html#)\n",
    "* Adds new function:\n",
    " * [`define_nodata()`](https://developers.arcgis.com/python/api-reference/arcgis.raster.analytics.html#define_nodata)\n",
    "* Adds parameters to [`convert_raster_to_feature`](https://developers.arcgis.com/python/api-reference/arcgis.raster.analytics.html#convert-raster-to-feature)\n",
    " * `create_multipart_features`\n",
    " * `max_vertices_per_feature`\n",
    " * `folder` "
   ]
  },
  {
   "cell_type": "markdown",
   "metadata": {},
   "source": [
    "#### [`arcgis.geoanalytics`](https://developers.arcgis.com/python/api-reference/arcgis.geoanalytics.toc.html#)\n",
    "* Adds new parameters to the [`find_point_clusters`](https://developers.arcgis.com/python/api-reference/arcgis.geoanalytics.analyze_patterns.html#find-point-clusters) tool\n",
    " * `time_method`\n",
    " * `search_duration`\n",
    " * `duration_unit` "
   ]
  },
  {
   "cell_type": "markdown",
   "metadata": {},
   "source": [
    "#### [`arcgis.geoprocessing`](https://developers.arcgis.com/python/api-reference/arcgis.geoprocessing.html)\n",
    "* Adds `choice_list` attribute on the module returned from [`import_toolbox()`](https://developers.arcgis.com/python/api-reference/arcgis.geoprocessing.html#import-toolbox) to view the options list for each parameter "
   ]
  },
  {
   "cell_type": "markdown",
   "metadata": {},
   "source": [
    "#### [`arcgis.mapping`](https://developers.arcgis.com/python/api-reference/arcgis.mapping.html)\n",
    "* Adds [`OfflineMapAreaManager.offline_properties`](https://developers.arcgis.com/python/api-reference/arcgis.mapping.html#arcgis.mapping.OfflineMapAreaManager.offline_properties) property to configure `Web Map` behavior offline"
   ]
  },
  {
   "cell_type": "markdown",
   "metadata": {},
   "source": [
    "#### [`arcgis.widgets`](https://developers.arcgis.com/python/api-reference/arcgis.widgets.html#)\n",
    "* [`MapView.add_layers()`](https://developers.arcgis.com/python/api-reference/arcgis.widgets.html#arcgis.widgets.MapView.add_layer) and [`MapView.draw()`](https://developers.arcgis.com/python/api-reference/arcgis.widgets.html#arcgis.widgets.MapView.draw) support local rasters via new [`arcgis.raster.Raster`]((https://developers.arcgis.com/python/api-reference/arcgis.raster.toc.html#raster)) instances"
   ]
  },
  {
   "cell_type": "markdown",
   "metadata": {},
   "source": [
    "#### [`arcgis.learn`](https://developers.arcgis.com/python/api-reference/arcgis.learn.html)\n",
    "* New Models:\n",
    " * [PointCNN](https://developers.arcgis.com/python/api-reference/arcgis.learn.html#pointcnn)\n",
    "* Adds [`TensorFlow`](https://www.tensorflow.org/) support for:\n",
    " * [`SingleShotDetector`](https://developers.arcgis.com/python/api-reference/arcgis.learn.html#singleshotdetector)\n",
    " * [`FeatureClassifier`](https://developers.arcgis.com/python/api-reference/arcgis.learn.html#featureclassifier)\n",
    "* New [`export_point_dataset()`](https://developers.arcgis.com/python/api-reference/arcgis.learn.html#export-point-dataset) function to export `las` files\n",
    "* Adds support for additional CNN backbones to the [`MaskRCNN`](https://developers.arcgis.com/python/api-reference/arcgis.learn.html#maskrcnn) model:\n",
    " * `ResNet18`\n",
    " * `ResNet34`\n",
    " * `ResNet101`\n",
    " * `ResNet152`\n",
    "* Adds capability to use `Labelled Tiles` and `ImageNet` for the `dataset_type` parameter in the [`prepare_data()`](https://developers.arcgis.com/python/api-reference/arcgis.learn.html#prepare-data) function\n",
    "* Adds [`lr_find()`](https://developers.arcgis.com/python/api-reference/arcgis.learn.html#arcgis.learn.EntityRecognizer.lr_find) capability to `EntityRecognizer`\n",
    "* Adds `mixup` and `oversample` parameters to [`FeatureClassifier`](https://developers.arcgis.com/python/api-reference/arcgis.learn.html#featureclassifier)"
   ]
  },
  {
   "cell_type": "markdown",
   "metadata": {},
   "source": [
    "## Fixes"
   ]
  },
  {
   "cell_type": "markdown",
   "metadata": {},
   "source": [
    "### [Guides](https://developers.arcgis.com/python/guide/)\n",
    "* Enhancements to `Deep Learning with ArcGIS` guides\n",
    "  * [Object Detection Workflow with `arcgis.learn`](`https://developers.arcgis.com/python/guide/object-detection/#Object-Detection-Workflow-with-arcgis.learn`)"
   ]
  },
  {
   "cell_type": "markdown",
   "metadata": {},
   "source": [
    "### [Samples](https://developers.arcgis.com/python/sample-notebooks/)\n",
    "* Updates [Integrating OpenStreetMap datasets with ArcGIS](https://developers.arcgis.com/python/sample-notebooks/osm-runner/) to remove reliance on `Jupyter Dashboard`\n",
    "* Fixes errors in [Automate Road Surface Investigation Using Deep Learning](https://developers.arcgis.com/python/sample-notebooks/automate-road-surface-investigation-using-deep-learning/)\n",
    "* Fixes missing parameter in [Spatial and temporal distribution of service calls using big data tools](https://developers.arcgis.com/python/sample-notebooks/spatial-and-temporal-trends-of-service-calls/)\n",
    "* Updates [How much green is Delhi as on 15 Oct 2017?](https://developers.arcgis.com/python/sample-notebooks/how-much-green-is-delhi-as-on-15-oct-2017/) title to [How green is New Delhi?](https://developers.arcgis.com/python/sample-notebooks/how-much-green-is-delhi-as-on-15-oct-2017/)"
   ]
  },
  {
   "cell_type": "markdown",
   "metadata": {},
   "source": [
    "#### [`arcgis.gis`](https://developers.arcgis.com/python/api-reference/arcgis.gis.toc.html#gis)\n",
    "* Fixes [`clone_items()`](https://developers.arcgis.com/python/api-reference/arcgis.gis.toc.html#arcgis.gis.ContentManager.clone_items) between Enterprise 10.4.1 and 10.5.1\n",
    "* Updates [`clone_items()`](https://developers.arcgis.com/python/api-reference/arcgis.gis.toc.html#arcgis.gis.ContentManager.clone_items) to handle thumbnails in all situations\n",
    "* Fixes BUG-000128343 [`Group.update()`](https://developers.arcgis.com/python/api-reference/arcgis.gis.toc.html#arcgis.gis.Group.update) method not updating when `is_invitation_only` set to False\n",
    "* Improves error handling for various `get()` functions when item does not exist or is inaccessible"
   ]
  },
  {
   "cell_type": "markdown",
   "metadata": {},
   "source": [
    "#### [`arcgis.gis.admin`](https://developers.arcgis.com/python/api-reference/arcgis.gis.admin.html#)\n",
    "* Fixes BUG-000128319 [`WebhookManager.create()`](https://developers.arcgis.com/python/api-reference/arcgis.gis.admin.html#arcgis.gis.admin.WebhookManager.create) failing when `events` parameter is list of actions\n",
    "* Updates documentation for [`CreditManager.deallocate()`](https://developers.arcgis.com/python/api-reference/arcgis.gis.admin.html#arcgis.gis.admin.CreditManager.deallocate) method\n",
    "* Fixes [`CreditManager.allocate(credits=0.0)`](https://developers.arcgis.com/python/api-reference/arcgis.gis.admin.html#arcgis.gis.admin.CreditManager.allocate) to properly set credit value"
   ]
  },
  {
   "cell_type": "markdown",
   "metadata": {},
   "source": [
    "#### [`arcgis.gis.nb`](https://developers.arcgis.com/python/api-reference/arcgis.gis.server.html#module-arcgis.gis.nb)\n",
    "* Fixes bug with [`execute_notebook()`](https://developers.arcgis.com/python/api-reference/arcgis.gis.server.html#arcgis.gis.nb.NotebookManager.execute_notebook) returning incorrect url for the server"
   ]
  },
  {
   "cell_type": "markdown",
   "metadata": {},
   "source": [
    "#### [`arcgis.features`](https://developers.arcgis.com/python/api-reference/arcgis.features.toc.html)\n",
    "* Fixes [`Spatially Enabled DataFrame`](https://developers.arcgis.com/python/api-reference/arcgis.features.toc.html#geoaccessor) fails to draw if any numeric columns have null values\n",
    "* Fixes [`FeatureLayer.query(as_df=True)`](https://developers.arcgis.com/python/api-reference/arcgis.features.toc.html#arcgis.features.FeatureLayer.query) if `DataFrame` is empty and contains a `datetime` column\n",
    "* Fixes `FeatureLayerCollectionmanager` [`update_definition()`](https://developers.arcgis.com/python/api-reference/arcgis.features.managers.html#arcgis.features.managers.FeatureLayerCollectionManager.update_definition) and [`add_to_definition()`](https://developers.arcgis.com/python/api-reference/arcgis.features.managers.html#arcgis.features.managers.FeatureLayerCollectionManager.add_to_definition) methods on 10.8 Enterprise portals\n",
    "* Fixes BUG-00012847 where [`delete_features()`](https://developers.arcgis.com/python/api-reference/arcgis.features.toc.html#arcgis.features.FeatureLayer.delete_features) does not honor `False` value for `return_delete_results` parameter\n",
    "* Fixes BUG-000128212 where [`create_view`](https://developers.arcgis.com/python/api-reference/arcgis.features.managers.html#arcgis.features.managers.FeatureLayerCollectionManager.create_view) did not retain popup information from the hosted `Feature Layer` from which it was created\n",
    "* Fixes [`query_top_features()`](https://developers.arcgis.com/python/api-reference/arcgis.features.toc.html#arcgis.features.FeatureLayer.query_top_features) issue with `date` columns causing errors when processing the resulting `DataFrame` or `FeatureSet` "
   ]
  },
  {
   "cell_type": "markdown",
   "metadata": {},
   "source": [
    "#### `arcgis.features.analysis`\n",
    "* Fixes [`find_outliers`](https://developers.arcgis.com/python/api-reference/arcgis.features.analyze_patterns.html#find-outliers) return type when `output_name` argument provided\n",
    "* Fixes [`find_similiar_locations`](https://developers.arcgis.com/python/api-reference/arcgis.features.find_locations.html#find-similar-locations) return type when `output_name` argument provided"
   ]
  },
  {
   "cell_type": "markdown",
   "metadata": {},
   "source": [
    "#### [`arcgis.mapping`](https://developers.arcgis.com/python/api-reference/arcgis.mapping.html)\n",
    "* Fixes [`OfflineMapAreaManger.create()`](https://developers.arcgis.com/python/api-reference/arcgis.mapping.html#arcgis.mapping.OfflineMapAreaManager.create) error with specific `Enterprise` release"
   ]
  },
  {
   "cell_type": "markdown",
   "metadata": {},
   "source": [
    "#### [`arcgis.learn`](https://developers.arcgis.com/python/api-reference/arcgis.learn.html)\n",
    "* Enhances module to handle training set images with missing `xml` files\n",
    "* Fixes `save()` method framework `AttributeError` for [`arcgis.learn`]() models\n",
    "* Improves reporting of accuracy metrics for models\n",
    "* Fixes issue where `validation loss curve` was not displayed when traning for more than one epoch\n",
    "* Fixes `AttributeError` on user-defined `learning rate`\n",
    "* Fixes [`DeepLab`]() model when using multispectral imagery and the `ResNet101` backbone\n",
    "* Fixes [`Retinanet.predict_video()`](https://developers.arcgis.com/python/api-reference/arcgis.learn.html#arcgis.learn.RetinaNet.predict_video) function when `resize` parameter is not set\n",
    "* Fixes [`MaskRCNN.from_model()`]() function to properly set default backbone when inferencing\n",
    "* Fixes [`DeepLab.fit()`](https://developers.arcgis.com/python/api-reference/arcgis.learn.html#arcgis.learn.DeepLab.fit) and [`PSPNet.fit()`](https://developers.arcgis.com/python/api-reference/arcgis.learn.html#arcgis.learn.PSPNetClassifier.fit) methods run on objects created with respective `from_model()` methods\n",
    "* Fixes [`prepare_data()`](https://developers.arcgis.com/python/api-reference/arcgis.learn.html#prepare-data) when `resize_to` parameter is larger than `chip_size` causing reflection padding and scale the image to an incorrect size\n",
    "* Fixes [`prepare_data()`](https://developers.arcgis.com/python/api-reference/arcgis.learn.html#prepare-data) `chip_size` on objects prepared with `transforms=False` and `resize_to=<int>` "
   ]
  },
  {
   "cell_type": "markdown",
   "metadata": {},
   "source": [
    "# What's new in version 1.7.1"
   ]
  },
  {
   "cell_type": "markdown",
   "metadata": {},
   "source": [
    "## New"
   ]
  },
  {
   "cell_type": "markdown",
   "metadata": {},
   "source": [
    "### New Samples"
   ]
  },
  {
   "cell_type": "markdown",
   "metadata": {},
   "source": [
    "* [Automate Road Surface Investigation Using Deep Learning](https://developers.arcgis.com/python/sample-notebooks/automate-road-surface-investigation-using-deep-learning)\n",
    "* [Detecting and Categorizing Brick Kilns from Satellite Imagery](https://developers.arcgis.com/python/sample-notebooks/detecting-and-categorizing-brick-kilns-from-satellite-imagery)\n",
    "* [Extracting Slums from Satellite Imagery](https://developers.arcgis.com/python/sample-notebooks/extracting-slums-from-satellite-imagery)\n",
    "* [Extracting Sinkholes from Aerial Imagery](https://developers.arcgis.com/python/sample-notebooks/extracting-sinkholes-from-aerial-imagery-over-deadsea)\n",
    "* [Detecting Settlements Using Supervised Classification and Deep Learning](https://developers.arcgis.com/python/sample-notebooks/detecting-settlements-using-landsat-8-imagery)\n",
    "* [How much green is Delhi as on 15 Oct 2017?](https://developers.arcgis.com/python/sample-notebooks/how-much-green-is-delhi-as-on-15-oct-2017/) \n",
    "* [Maximizing Fire Protection Coverage](https://developers.arcgis.com/python/sample-notebooks/site_maximizes_fire_protection_coverage)\n",
    "* [Calculate Impervious Surfaces from Multispectral Imagery using Deep Learning](https://developers.arcgis.com/python/sample-notebooks/calculate_impervious_surfaces_from_multispectral_imagery/)\n",
    "* [Safe Streets to Schools](https://developers.arcgis.com/python/sample-notebooks/safe-streets-to-schools)\n",
    "* [Spatial and temporal distribution of service calls using big data tools](https://developers.arcgis.com/python/sample-notebooks/spatial-and-temporal-trends-of-service-calls)\n",
    "* [Time Series Prediction of AirBnB Properties in New York City](https://developers.arcgis.com/python/sample-notebooks/analyzing-growth-factors-of-airbnb-properties-in-new-york-city)"
   ]
  },
  {
   "cell_type": "markdown",
   "metadata": {},
   "source": [
    "#### [`arcgis.raster.functions.gbl`](https://developers.arcgis.com/python/api-reference/arcgis.raster.functions.gbl.html#)"
   ]
  },
  {
   "cell_type": "markdown",
   "metadata": {},
   "source": [
    "New functions\n",
    " * [`corridor`](https://developers.arcgis.com/python/api-reference/arcgis.raster.functions.gbl.html#corridor)"
   ]
  },
  {
   "cell_type": "markdown",
   "metadata": {},
   "source": [
    "#### [`arcgis.env`](https://developers.arcgis.com/python/api-reference/arcgis.env.html)"
   ]
  },
  {
   "cell_type": "markdown",
   "metadata": {},
   "source": [
    "* new parameter `type_init_tail_parameters` (See [`arcgis.learn`](#arcgis.learn) below.)"
   ]
  },
  {
   "cell_type": "markdown",
   "metadata": {},
   "source": [
    "#### [`arcgis.learn`](https://developers.arcgis.com/python/api-reference/arcgis.learn.html)"
   ]
  },
  {
   "cell_type": "markdown",
   "metadata": {},
   "source": [
    "* Adds support for multiple GPU machines to `learn` module\n",
    "* Adds the [`DeepLabV3`](https://developers.arcgis.com/python/api-reference/arcgis.learn.html#deeplab) model based on [`torchvision`](https://pytorch.org/vision/stable/index.html)\n",
    " * includes multispectral data support\n",
    "* Enhancements to Multispectral data support: \n",
    " * turn on `DRA` with the `statistics_type` parameter in various `show_results()` and `show_batch()` functions\n",
    " * adds environment variable `type_init_tail_parameters` to control `Model Tail` initialization for `arcgis.learn` functions\n",
    "* Sanctions [`classify_objects()`](https://developers.arcgis.com/python/api-reference/arcgis.learn.html#classify-objects) over [`FeatureClassifier.categorize_features()`](https://developers.arcgis.com/python/api-reference/arcgis.learn.html#arcgis.learn.FeatureClassifier.categorize_features) for feature categorization\n",
    "* Adds support for training models on either cpu or gpu devices\n",
    "* Adds support for evaluating MaskRCNN model performance with correct metrics for the trained model to compare the results\n",
    "* Adds [`accuracy()`](https://developers.arcgis.com/python/api-reference/arcgis.learn.html#arcgis.learn.UnetClassifier.accuracy) function to [`UnetClassifier`](https://developers.arcgis.com/python/api-reference/arcgis.learn.html#unetclassifier)\n",
    "* Adds `unet_aux_loss` parameter to the [`PSPNetClassifier`](https://developers.arcgis.com/python/api-reference/arcgis.learn.html#pspnetclassifier)\n",
    "* Adds support for training a subset of classes from [`prepare_data()`](https://developers.arcgis.com/python/api-reference/arcgis.learn.html#prepare-data) `class_mapping` parameter to [`MaskRCNN`](https://developers.arcgis.com/python/api-reference/arcgis.learn.html#maskrcnn)\n",
    "* Adds multispectral data support to:\n",
    " * [`FeatureClassifier`](https://developers.arcgis.com/python/api-reference/arcgis.learn.html#featureclassifier)\n",
    " * [`SingleShotDetector`](https://developers.arcgis.com/python/api-reference/arcgis.learn.html#singleshotdetector)\n",
    " * [`RetinaNet`](https://developers.arcgis.com/python/api-reference/arcgis.learn.html#retinanet)\n",
    " * [`PSPNetClassifier`](https://developers.arcgis.com/python/api-reference/arcgis.learn.html#pspnetclassifier)\n",
    " * [`MaskRCNN`](https://developers.arcgis.com/python/api-reference/arcgis.learn.html#maskrcnn)\n",
    "* Adds support for `resnet18` and `resnet34` backbones to [`MaskRCNN`](https://developers.arcgis.com/python/api-reference/arcgis.learn.html#maskrcnn)\n",
    "* Adds support for `batchnorm` unfreezing in  * [`PSPNetClassifier`](https://developers.arcgis.com/python/api-reference/arcgis.learn.html#pspnetclassifier)\n",
    "* Adds support for panchromatic data\n",
    "* Adds validation to `class_mapping` parameter for [`prepare_data()`](https://developers.arcgis.com/python/api-reference/arcgis.learn.html#prepare-data) function"
   ]
  },
  {
   "cell_type": "markdown",
   "metadata": {},
   "source": [
    "## Fixes"
   ]
  },
  {
   "cell_type": "markdown",
   "metadata": {},
   "source": [
    "#### [`arcgis.gis.admin`](https://developers.arcgis.com/python/api-reference/arcgis.gis.admin.html)"
   ]
  },
  {
   "cell_type": "markdown",
   "metadata": {},
   "source": [
    "* Fixes formatting in [`EnterpriseUsers.update()`](https://developers.arcgis.com/python/api-reference/arcgis.gis.admin.html#arcgis.gis.admin.EnterpriseUsers.update) function"
   ]
  },
  {
   "cell_type": "markdown",
   "metadata": {},
   "source": [
    "#### [`arcgis.mapping`](https://developers.arcgis.com/python/api-reference/arcgis.mapping.html)"
   ]
  },
  {
   "cell_type": "markdown",
   "metadata": {},
   "source": [
    "* Fixes error when drawing [`map widget`](https://developers.arcgis.com/python/api-reference/arcgis.widgets.html#mapview) using Microsoft Edge"
   ]
  },
  {
   "cell_type": "markdown",
   "metadata": {},
   "source": [
    "#### [`arcgis.raster.functios.gbl`](https://developers.arcgis.com/python/api-reference/arcgis.raster.functions.gbl.html#)"
   ]
  },
  {
   "cell_type": "markdown",
   "metadata": {},
   "source": [
    "* General improvements to documentation\n",
    "* Improves alphabetical ordering of [API Reference](https://developers.arcgis.com/python/api-reference/)"
   ]
  },
  {
   "cell_type": "markdown",
   "metadata": {},
   "source": [
    "#### [`arcgis.learn`](https://developers.arcgis.com/python/api-reference/arcgis.learn.html)"
   ]
  },
  {
   "cell_type": "markdown",
   "metadata": {},
   "source": [
    "* Improves error messaging when calling `from_model()` if proper libraries are not installed\n",
    "* Deprecates the [`FeatureClassifier.categorize_features()`](https://developers.arcgis.com/python/api-reference/arcgis.learn.html#arcgis.learn.FeatureClassifier.categorize_features) method in favor of [`classify_objects()`](https://developers.arcgis.com/python/api-reference/arcgis.learn.html#classify-objects)\n",
    "* Improves messaging when `input_video_path` parameter video does not exist for [`RetinaNet.predict_video()`](https://developers.arcgis.com/python/api-reference/arcgis.learn.html?highlight=predict_video#arcgis.learn.RetinaNet.predict_video) and [`SingleShotDetector.predict_video()`](https://developers.arcgis.com/python/api-reference/arcgis.learn.html?highlight=predict_video#arcgis.learn.SingleShotDetector.predict_video) functions\n",
    "* Fixes bug when re-running a previously saved [`SingleShotDetector`](https://developers.arcgis.com/python/api-reference/arcgis.learn.html?highlight=predict_video#singleshotdetector) model\n",
    "* Fixes various model inferencing errors when using [`Image Server`](https://enterprise.arcgis.com/en/server/latest/get-started/windows/what-is-arcgis-image-server-.htm)\n",
    "* Fixes errors when using [`detect_objects()`](https://developers.arcgis.com/python/api-reference/arcgis.learn.html?highlight=predict_video#detect-objects) when raster function configuration information is inaccessible\n",
    "* Fixes error when running [`detect_objects()`](https://developers.arcgis.com/python/api-reference/arcgis.learn.html?highlight=predict_video#detect-objects) when using no `model_arguments`\n",
    "* Fixes [`EntityRecognizer.extract_entities()`](https://developers.arcgis.com/python/api-reference/arcgis.learn.html?highlight=predict_video#arcgis.learn.EntityRecognizer.extract_entities) returning a data frame with an empty column name\n",
    "* Improves messaging when incorrect path passed as `path` argument to [`prepare_data()`](https://developers.arcgis.com/python/api-reference/arcgis.learn.html#prepare-data)\n",
    "* Fixes error when list of tensors is empty when running [`SingleShotDetector.fit()`](https://developers.arcgis.com/python/api-reference/arcgis.learn.html#arcgis.learn.SingleShotDetector.fit) model\n",
    "* Fixes model accuracy function in [`Unet`](https://developers.arcgis.com/python/api-reference/arcgis.learn.html#unetclassifier) and [`PSPNet`](https://developers.arcgis.com/python/api-reference/arcgis.learn.html#pspnetclassifier) to return maximum accuracy if checkpoint is `True`\n",
    "* Improves tagging scheme documentation for [`prepare_data()`](https://developers.arcgis.com/python/api-reference/arcgis.learn.html#prepare-data) function\n",
    "* Improves visual accuracy when using Multispectral imagery with [`UNetClassifier`](https://developers.arcgis.com/python/api-reference/arcgis.learn.html#unetclassifier)\n",
    "* Fixes missing `supported_backbone` documentation for all models\n",
    "* Improves [`predict()`](https://developers.arcgis.com/python/api-reference/arcgis.learn.html#arcgis.learn.FeatureClassifier.predict) and [`from_model()`](https://developers.arcgis.com/python/api-reference/arcgis.learn.html#arcgis.learn.FeatureClassifier.from_model) documentation on the [`FeatureClassifier`](https://developers.arcgis.com/python/api-reference/arcgis.learn.html#featureclassifier)\n",
    "* Fixes [`show_batch()`] errors on data objects when [`class_mapping` ](https://developers.arcgis.com/python/api-reference/arcgis.learn.html#arcgis.learn.prepare_data) parameter values from `prepare_data()`are non-contiguous\n",
    "* Fixes errors with `show_results()` and `fit()` methods of [`EntityRecognizer`](https://developers.arcgis.com/python/api-reference/arcgis.learn.html#entityrecognizer)\n",
    "* Fixes error when `prepare_data()` `dataset_type` argument value is `BILUO`\n",
    "* Fixes [`extract_entities()`](https://developers.arcgis.com/python/api-reference/arcgis.learn.html?highlight=predict_video#arcgis.learn.EntityRecognizer.extract_entities) error when reading `UTF-16` encoded files\n",
    "* Fixes to `load()` function for input paths\n",
    "* Fixes error reading file names in [`EntityRecognizer.load()`](https://developers.arcgis.com/python/api-reference/arcgis.learn.html#arcgis.learn.EntityRecognizer.load)\n",
    "* Fixes error causing `accuracy()` to always return 1 with certain `class_mapping` values when using [`UnetClassifier`](https://developers.arcgis.com/python/api-reference/arcgis.learn.html#unetclassifier)\n",
    "* Fixes error where color map values were truncated using [`MaskRCNN`](https://developers.arcgis.com/python/api-reference/arcgis.learn.html#maskrcnn)\n",
    "* Fixes error in [`SingleShotDetector.save()`](https://developers.arcgis.com/python/api-reference/arcgis.learn.html#arcgis.learn.SingleShotDetector.save) method by adding optional `overwrite` parameter"
   ]
  },
  {
   "cell_type": "markdown",
   "metadata": {},
   "source": [
    "# What's new in version 1.7"
   ]
  },
  {
   "cell_type": "markdown",
   "metadata": {},
   "source": [
    "## New\n"
   ]
  },
  {
   "cell_type": "markdown",
   "metadata": {},
   "source": [
    "### New Guides"
   ]
  },
  {
   "cell_type": "markdown",
   "metadata": {},
   "source": [
    "#### [Imagery and raster analysis](https://developers.arcgis.com/python/guide/)\n",
    "* [Orthomapping (part 1) - creating image collections](https://dv-v170-pyapi-preview-dev.developers.arcgis.com/python/guide/orthomapping-guide-1/)\n",
    "* [Orthomapping (part 2) - generating elevation models](https://dv-v170-pyapi-preview-dev.developers.arcgis.com/python/guide/orthomapping-guide-2/)\n",
    "* [Orthomapping (part 3) - managing image collections](https://dv-v170-pyapi-preview-dev.developers.arcgis.com/python/guide/orthomapping-guide-3/)"
   ]
  },
  {
   "cell_type": "markdown",
   "metadata": {},
   "source": [
    "#### [Deep Learning with ArcGIS](https://developers.arcgis.com/python/guide/)\n",
    "* [How does feature categorization work](https://developers.arcgis.com/python/guide/how-feature-categorization-works/)\n",
    "* [Categorizing features using arcgis.learn](https://developers.arcgis.com/python/guide/feature-categorization/)"
   ]
  },
  {
   "cell_type": "markdown",
   "metadata": {},
   "source": [
    "### New Samples"
   ]
  },
  {
   "cell_type": "markdown",
   "metadata": {},
   "source": [
    "* [Pawnee Fire analysis](https://developers.arcgis.com/python/sample-notebooks/wildfire-analysis-using-sentinel-2-imagery/)\n",
    "* [Finding grazing allotments](https://developers.arcgis.com/python/sample-notebooks/finding-grazing-allotments/)\n",
    "* [Extracting building footprints from drone data](https://developers.arcgis.com/python/sample-notebooks/extracting-building-footprints-from-drone-data/)\n",
    "* [Detecting super blooms using image classification](https://developers.arcgis.com/python/sample-notebooks/detect-super-blooms-using-satellite-image-classification/)\n",
    "* [Assessing building damage using feature classification](https://developers.arcgis.com/python/sample-notebooks/building-damage-assessment-using-feature-classifier/)\n",
    "* [Analyzing New York City growth factors](https://developers.arcgis.com/python/sample-notebooks/analyzing-growth-factors-of-airbnb-properties-in-new-york-city/)"
   ]
  },
  {
   "cell_type": "markdown",
   "metadata": {},
   "source": [
    "### New Functionality\n",
    "\n",
    "* Adds ability to run `Geoprocessing tools` asynchronously with new [`GPJob`](https://developers.arcgis.com/python/api-reference/arcgis.geoprocessing.html#gpjob) class. See `future` parameter in:\n",
    " * [`arcgis.features`](https://developers.arcgis.com/python/api-reference/arcgis.features.toc.html#submodules) submodules\n",
    " * [`arcgis.raster.analytics`](https://developers.arcgis.com/python/api-reference/arcgis.raster.analytics.html#) module\n",
    " * [`arcgis.network.analysis`](https://developers.arcgis.com/python/api-reference/arcgis.network.analysis.html) module\n",
    " * [`arcgis.geoanalytics`](https://developers.arcgis.com/python/api-reference/arcgis.geoanalytics.toc.html#submodules) submodules"
   ]
  },
  {
   "cell_type": "markdown",
   "metadata": {},
   "source": [
    "#### [`arcgis.gis`](https://developers.arcgis.com/python/api-reference/arcgis.gis.toc.html)"
   ]
  },
  {
   "cell_type": "markdown",
   "metadata": {},
   "source": [
    "* Adds manager classes:\n",
    " * [`ProfileManager`](https://developers.arcgis.com/python/api-reference/arcgis.gis.toc.html#profilemanager)\n",
    " * [`CertificateManager`](https://developers.arcgis.com/python/api-reference/arcgis.gis.toc.html#certificatemanager)\n",
    "   * provides missing certificate management in ArcGIS Online\n",
    " * [`InvitatationManager`](https://developers.arcgis.com/python/api-reference/arcgis.gis.toc.html#invitationmanager)\n",
    "* Adds support to [`add`](https://developers.arcgis.com/python/api-reference/arcgis.gis.toc.html#arcgis.gis.ContentManager.add) a [`geopackage`](https://www.geopackage.org/) file\n",
    "* Adds `folder` parameter to [`import_data()`](https://developers.arcgis.com/python/api-reference/arcgis.gis.toc.html#arcgis.gis.ContentManager.import_data)\n",
    "* Adds `reset_by_email` parameter to [`user.reset()`](https://developers.arcgis.com/python/api-reference/arcgis.gis.toc.html#arcgis.gis.User.reset) to allow user to reset their accounts by email\n",
    "* Adds `replace_metadata` parameter to [`replace_service()`](https://developers.arcgis.com/python/api-reference/arcgis.gis.toc.html?highlight=replace_service#arcgis.gis.ContentManager.replace_service)\n",
    "* Adds support for `hosted tile layers` and `hosted scene layers` to [`replace_service()`](https://developers.arcgis.com/python/api-reference/arcgis.gis.toc.html?highlight=replace_service#arcgis.gis.ContentManager.replace_service) operation\n",
    "* Adds [`delete_thumbnail()`](https://developers.arcgis.com/python/api-reference/arcgis.gis.toc.html#arcgis.gis.User.delete-thumbnail) to `user` class"
   ]
  },
  {
   "cell_type": "markdown",
   "metadata": {},
   "source": [
    "#### [`arcgis.gis.server`](https://developers.arcgis.com/python/api-reference/arcgis.gis.server.html) \n",
    "* Adds [`hardware`](https://developers.arcgis.com/python/api-reference/arcgis.gis.server.html#arcgis.gis.server.Machine.hardware) property to [`Machine`](https://developers.arcgis.com/python/api-reference/arcgis.gis.server.html#machine) class\n",
    "* Adds [`ItemInformationManager`](https://developers.arcgis.com/python/api-reference/arcgis.gis.server.html#arcgis.gis.server.ItemInformationManager) to for administration\n",
    "* Adds new [`federate_data_item`](https://developers.arcgis.com/python/api-reference/arcgis.gis.server.html#arcgis.gis.server.DataStoreManager.federate_data_item). See [`Add To Server`](https://developers.arcgis.com/rest/users-groups-and-items/add-to-server.htm)\n",
    "* Adds [`change_provider()`](https://developers.arcgis.com/python/api-reference/arcgis.gis.server.html#arcgis.gis.server.Service.change_provider) method to [`Service`](https://developers.arcgis.com/python/api-reference/arcgis.gis.server.html#arcgis.gis.server.Service)\n",
    "* Adds [`synchronize()`](https://developers.arcgis.com/python/api-reference/arcgis.gis.server.html#arcgis.gis.server.Machine.synchronize) method to [`Machine`](https://developers.arcgis.com/python/api-reference/arcgis.gis.server.html#machine) class"
   ]
  },
  {
   "cell_type": "markdown",
   "metadata": {},
   "source": [
    "#### [`arcgis.features`](https://developers.arcgis.com/python/api-reference/arcgis.features.toc.html)\n",
    "* Adds analysis tools\n",
    " * [`generate_tesselation`](https://developers.arcgis.com/python/api-reference/arcgis.features.manage_data.html#arcgis.features.manage_data.generate_tesselation) analysis tool\n",
    " * [`create_route_layers`](https://developers.arcgis.com/python/api-reference/arcgis.features.manage_data.html#arcgis.features.manage_data.create_route_layers)\n",
    "* Adds `spatial_filter` parameter on [`Spatially Enabled Dataframe.from_featureclass()`](https://developers.arcgis.com/python/api-reference/arcgis.features.toc.html#arcgis.features.GeoAccessor.from_featureclass) method\n",
    "* Adds missing `in_sr` parameter to [`extract_changes`](https://developers.arcgis.com/python/api-reference/arcgis.features.toc.html?highlight=extract_changes#arcgis.features.FeatureLayerCollection.extract_changes) documentation\n",
    "* Adds `return_delete_results` parameter to [`delete_features`](https://developers.arcgis.com/python/api-reference/arcgis.features.toc.html#arcgis.features.FeatureLayer.delete_features) method"
   ]
  },
  {
   "cell_type": "markdown",
   "metadata": {},
   "source": [
    "#### [`arcgis.raster`](https://developers.arcgis.com/python/api-reference/arcgis.raster.toc.html)\n",
    "* [`ImageryLayer.save()`](https://developers.arcgis.com/python/api-reference/arcgis.raster.toc.html#arcgis.raster.ImageryLayer.save) function\n",
    "* Adds a [`cache_manager`](https://developers.arcgis.com/python/api-reference/arcgis.raster.toc.html#arcgis.raster.ImageryLayer.cache_manager) to [`ImageryLayer`](https://developers.arcgis.com/python/api-reference/arcgis.raster.toc.html#imagerylayer)"
   ]
  },
  {
   "cell_type": "markdown",
   "metadata": {},
   "source": [
    "#### [`arcgis.raster.analytics`](https://developers.arcgis.com/python/api-reference/arcgis.raster.analytics.html)\n",
    "* New multidimensional functions:\n",
    " * [`generate_multidimensional_anomaly()`](https://developers.arcgis.com/python/api-reference/arcgis.raster.analytics.html#generate-multidimensional-anomaly)\n",
    " * [`aggregate_multidimensional_raster()`](https://developers.arcgis.com/python/api-reference/arcgis.raster.analytics.html#aggregate-multidimensional-transpose)\n",
    " * [`build_multidimensional_transpose()`](https://developers.arcgis.com/python/api-reference/arcgis.raster.analytics.html#build-multi-dimensional-transpose)\n",
    " * [`find_argument_statistics()`](https://developers.arcgis.com/python/api-reference/arcgis.raster.analytics.html#find-argument-statistics)\n",
    " * [`generate_trend_raster()`](https://developers.arcgis.com/python/api-reference/arcgis.raster.analytics.html#generate-trend-raster)\n",
    " * [`predict_using_trend_raster()`](https://developers.arcgis.com/python/api-reference/arcgis.raster.analytics.html#predict-using-trend-raster)\n",
    " * [`linear_spectral_unmixing()`](https://developers.arcgis.com/python/api-reference/arcgis.raster.analytics.html#linear-spectral-unmixing)\n",
    " * [`subset_multidimensional_raster()`](https://developers.arcgis.com/python/api-reference/arcgis.raster.analytics.html#subset-multidimensional-raster)\n",
    "  * [`costpath_as_polyline()`](https://developers.arcgis.com/python/api-reference/arcgis.raster.analytics.html#costpath-as-polyline)\n",
    "* New parameters:\n",
    " * Adds `statistics_type` parameter to [`flow_distance`](https://developers.arcgis.com/python/api-reference/arcgis.raster.functions.gbl.html#flow-distance) function\n",
    " * Adds and `context` parameter to [`raster analytics`](https://developers.arcgis.com/python/api-reference/arcgis.raster.analytics.html) functions to enable setting of function-specific processing\n",
    " * Adds `destination_field` parameter to [`determine_travel_costpath_as_polyline`](https://developers.arcgis.com/python/api-reference/arcgis.raster.analytics.html#determine-travel-costpath-as-polyline)\n",
    " * Adds `process_as_multidimensional` and `build_transpose` parameters to [`generate_raster`](https://developers.arcgis.com/python/api-reference/arcgis.raster.analytics.html#generate-raster) and [`copy_raster`](https://developers.arcgis.com/python/api-reference/arcgis.raster.analytics.html#copy-raster)\n",
    "* Documentation improvements:\n",
    " * [`add_image`](https://developers.arcgis.com/python/api-reference/arcgis.raster.analytics.html#add-image)\n",
    " * [`delete_image_collection`](https://developers.arcgis.com/python/api-reference/arcgis.raster.analytics.html#delete-image-collection)\n",
    " * [`create_image_collection`](https://developers.arcgis.com/python/api-reference/arcgis.raster.analytics.html#create-image-collection)\n",
    "* Adds ability to input a list to [`list_datastore_content()`](https://developers.arcgis.com/python/api-reference/arcgis.raster.analytics.html#list-datastore-content)\n",
    "* Fixes error when using keyboard to cancel a [`raster analytics`](https://developers.arcgis.com/python/api-reference/arcgis.raster.analytics.html) geoprocessing job\n",
    "* Adds support for `item` as input to [`aggregate_multidimensional_raster()`](https://developers.arcgis.com/python/api-reference/arcgis.raster.analytics.html#)"
   ]
  },
  {
   "cell_type": "markdown",
   "metadata": {},
   "source": [
    "#### [`arcgis.raster.functions`](https://developers.arcgis.com/python/api-reference/arcgis.raster.functions.html)\n",
    "* Adds the `WNDWI` predefined algorithm to [`band_arithmetic`](https://developers.arcgis.com/python/api-reference/arcgis.raster.functions.html#band-arithmetic) function\n",
    "* Adds ability to accept `list` of integers or `string` as value for `band_indexes` parameter in [`band_arithmetic`](https://developers.arcgis.com/python/api-reference/arcgis.raster.functions.html#band-arithmetic) function\n",
    "* Adds the `process_as_multiband` option to:\n",
    " * [`local()`](https://developers.arcgis.com/python/api-reference/arcgis.raster.functions.html#local)\n",
    " * [`majority()`](https://developers.arcgis.com/python/api-reference/arcgis.raster.functions.html#majority)\n",
    " * [`max()`](https://developers.arcgis.com/python/api-reference/arcgis.raster.functions.html#max)\n",
    " * [`mean()`](https://developers.arcgis.com/python/api-reference/arcgis.raster.functions.html#mean)\n",
    " * [`mid()`](https://developers.arcgis.com/python/api-reference/arcgis.raster.functions.html#mid)\n",
    " * [`min()`](https://developers.arcgis.com/python/api-reference/arcgis.raster.functions.html#min)\n",
    " * [`minority()`](https://developers.arcgis.com/python/api-reference/arcgis.raster.functions.html#minority)\n",
    " * [`cellstats_range`](https://developers.arcgis.com/python/api-reference/arcgis.raster.functions.html#cellstats-range)\n",
    " * [`std()`](https://developers.arcgis.com/python/api-reference/arcgis.raster.functions.html#std)\n",
    " * [`sum()`](https://developers.arcgis.com/python/api-reference/arcgis.raster.functions.html#sum)\n",
    " * [`variety()`](https://developers.arcgis.com/python/api-reference/arcgis.raster.functions.html#variety)\n",
    "* New functions:\n",
    " * [`constant_raster()`](https://developers.arcgis.com/python/api-reference/arcgis.raster.functions.html#constant-raster)\n",
    " * [`random_raster()`](https://developers.arcgis.com/python/api-reference/arcgis.raster.functions.html#random-raster)\n",
    "* Enhances [`focal_statistics()`](https://developers.arcgis.com/python/api-reference/arcgis.raster.functions.html#focal-statistics) and [`focatl_stats()`](https://developers.arcgis.com/python/api-reference/arcgis.raster.functions.html#focal-stats) documentation"
   ]
  },
  {
   "cell_type": "markdown",
   "metadata": {},
   "source": [
    "#### [`arcgis.raster.functions.gbl`](https://developers.arcgis.com/python/api-reference/arcgis.raster.functions.gbl.html)\n",
    "* New functions:\n",
    " * [`euclidian_back_direction`](https://developers.arcgis.com/python/api-reference/arcgis.raster.functions.gbl.html#euclidean_back_direction)\n",
    " * [`flow_length`](https://developers.arcgis.com/python/api-reference/arcgis.raster.functions.gbl.html#flow_length)\n",
    " * [`expand`](https://developers.arcgis.com/python/api-reference/arcgis.raster.functions.gbl.html#expand)\n",
    " * [`distance_allocation`](https://developers.arcgis.com/python/api-reference/arcgis.raster.functions.gbl.html#distance-allocation)\n",
    " * [`distance_accumulation`](https://developers.arcgis.com/python/api-reference/arcgis.raster.functions.gbl.html#distance-accumulation)\n",
    " * [`shrink`](https://developers.arcgis.com/python/api-reference/arcgis.raster.functions.gbl.html#shrink)\n",
    " * [`sink`](https://developers.arcgis.com/python/api-reference/arcgis.raster.functions.gbl.html#sink)\n",
    " * [`snap_pour_point`](https://developers.arcgis.com/python/api-reference/arcgis.raster.functions.gbl.html#snap-pour-point)\n",
    "* Adds `in_barrier_data` parameter to:\n",
    " * [`euclidean_allocation`](https://developers.arcgis.com/python/api-reference/arcgis.raster.functions.gbl.html#euclidean-allocation)\n",
    " * [`euclidean_distance`](https://developers.arcgis.com/python/api-reference/arcgis.raster.functions.gbl.html#euclidean-distance)\n",
    " * [`euclidean_direction`](https://developers.arcgis.com/python/api-reference/arcgis.raster.functions.gbl.html#euclidean-direction)\n",
    "* Adds `generate_out_back_direction_raster`, `in_barrier_data`, and `distance_method` parameters to [`calculate_distance`](https://developers.arcgis.com/python/api-reference/arcgis.raster.functions.gbl.html#calculate-distance)\n",
    "* Adds default value of `MEAN` to [`zonal_statistics()`](https://developers.arcgis.com/python/api-reference/arcgis.raster.functions.gbl.html#zonal-statistics) `statistics_type` parameter\n",
    "* Adds `process_as_multidimensional` capability to [`zonal_statistics()`](https://developers.arcgis.com/python/api-reference/arcgis.raster.functions.gbl.html#zonal-statistics)"
   ]
  },
  {
   "cell_type": "markdown",
   "metadata": {},
   "source": [
    "#### [`arcgis.network.analysis`](https://developers.arcgis.com/python/api-reference/arcgis.network.analysis.html)\n",
    "* Adds `save_route_data` parameter to [`find-routes`](https://developers.arcgis.com/python/api-reference/arcgis.network.analysis.html#find-routes) and [`find-closest-facilities`](https://developers.arcgis.com/python/api-reference/arcgis.network.analysis.html#find-closest-facilities) tasks\n",
    " and [`to_featurelayer`](https://developers.arcgis.com/python/api-reference/arcgis.features.toc.html#arcgis.features.GeoAccessor.to_featurelayer) methods\n",
    "* Improves `pixel_size` parameter documentation for appropriate [`ImageLayer`](https://developers.arcgis.com/python/api-reference/arcgis.raster.toc.html#imagerylayer) operations\n",
    "* Adds [`zoom_to_layer`](https://developers.arcgis.com/python/api-reference/arcgis.widgets.html#arcgis.widgets.MapView.zoom_to_layer) function\n",
    "* Adds new [`network analysis`]() functions\n",
    " * Adds [`edit_vehicle_routing_problem`](https://developers.arcgis.com/python/api-reference/arcgis.network.analysis.html#edit-vehicle-routing-problem)"
   ]
  },
  {
   "cell_type": "markdown",
   "metadata": {},
   "source": [
    "#### [`arcgis.geoanalytics`](https://developers.arcgis.com/python/api-reference/arcgis.geoanalytics.toc.html#module-arcgis.geoanalytics)\n",
    "* Documentation improvements: \n",
    "  * Adds \n",
    "   * [`find-point-clusters`](https://developers.arcgis.com/python/api-reference/arcgis.geoanalytics.analyze_patterns.html#find-point-clusters)\n",
    " \n",
    "  * Enhances\n",
    "  \n",
    "   * [`calculate_fields`](https://developers.arcgis.com/python/api-reference/arcgis.geoanalytics.manage_data.html#calculate-fields)\n",
    "   * [`aggregate_points`](https://developers.arcgis.com/python/api-reference/arcgis.geoanalytics.summarize_data.html#aggregate-points)\n",
    "   * [`build_multivariable_grid`](https://developers.arcgis.com/python/api-reference/arcgis.geoanalytics.summarize_data.html#build-multivariable-grid)\n",
    "   * [`find_hot_spots`](https://developers.arcgis.com/python/api-reference/arcgis.geoanalytics.analyze_patterns.html#find-hot-spots)\n",
    "   * [`create_buffers`](https://developers.arcgis.com/python/api-reference/arcgis.geoanalytics.use_proximity.html#create-buffers)\n",
    "   * [`dissolve_boundaries`](https://developers.arcgis.com/python/api-reference/arcgis.geoanalytics.manage_data.html#dissolve-boundaries)\n",
    "   * [`detect_incidents`](https://developers.arcgis.com/python/api-reference/arcgis.geoanalytics.find_locations.html#detect-incidents)\n",
    "   * [`calculate_density()`](https://developers.arcgis.com/python/api-reference/arcgis.geoanalytics.analyze_patterns.html#calculate-density)\n",
    "   * [`aggregate_points()`](https://developers.arcgis.com/python/api-reference/arcgis.geoanalytics.summarize_data.html#aggregate-points)\n",
    "   * [`forest`](https://developers.arcgis.com/python/api-reference/arcgis.geoanalytics.analyze_patterns.html#forest)\n",
    "   * [`glr`](https://developers.arcgis.com/python/api-reference/arcgis.geoanalytics.analyze_patterns.html#glr)\n",
    "   * [`run_python_script`](https://developers.arcgis.com/python/api-reference/arcgis.geoanalytics.manage_data.html#run-python-script)\n",
    "    * [`copy_to_data_store`](https://developers.arcgis.com/python/api-reference/arcgis.geoanalytics.manage_data.html#copy-to-data-store)\n",
    "    * [`overlay_data`](https://developers.arcgis.com/python/api-reference/arcgis.geoanalytics.manage_data.html#overlay-data)\n",
    "    * [`find_similiar_locations`](https://developers.arcgis.com/python/api-reference/arcgis.geoanalytics.find_locations.html#/find-similar-locations)\n",
    "    * [`enrich_from_grid`](https://developers.arcgis.com/python/api-reference/arcgis.geoanalytics.data_enrichment.html#enrich-from-grid)\n",
    "    * [`merge_layers`](https://developers.arcgis.com/python/api-reference/arcgis.geoanalytics.manage_data.html#merge-layers)\n",
    "    * [`join_features`](https://developers.arcgis.com/python/api-reference/arcgis.geoanalytics.summarize_data.html#join-features)\n",
    "    * [`summarize_within`](https://developers.arcgis.com/python/api-reference/arcgis.geoanalytics.summarize_data.html#summarize-within)\n",
    "    * [`summarize_attributes`](https://developers.arcgis.com/python/api-reference/arcgis.geoanalytics.summarize_data.html#summarize-attributes)\n",
    "    * [`reconstruct_tracks`](https://developers.arcgis.com/python/api-reference/arcgis.geoanalytics.summarize_data.html#reconstruct-tracks)\n",
    "    * [`geocode_locations`](https://developers.arcgis.com/python/api-reference/arcgis.geoanalytics.find_locations.html#geocode-locations)"
   ]
  },
  {
   "cell_type": "markdown",
   "metadata": {},
   "source": [
    "#### [`arcgis.apps`](https://developers.arcgis.com/python/api-reference/arcgis.apps.html)\n",
    " * Adds new parameters to [`build_collector_url`](https://developers.arcgis.com/python/api-reference/arcgis.apps.html#build-collector-url). See [`Deploy your map`](https://doc.arcgis.com/en/collector/ipad/help/deploy-map.htm#ESRI_SECTION1_F7DE2402BA8743E5BFC4A1241072960E) for parameter details."
   ]
  },
  {
   "cell_type": "markdown",
   "metadata": {},
   "source": [
    "#### [`arcgis.learn`](https://developers.arcgis.com/python/api-reference/arcgis.learn.html)\n",
    "* New models:\n",
    " * [`RetinaNet`](https://developers.arcgis.com/python/api-reference/arcgis.learn.html#retinanet)\n",
    " * [`EntityRecognizer`](https://developers.arcgis.com/python/api-reference/arcgis.learn.html#entityrecognizor)\n",
    " * [`PSPNetClassifier`](https://developers.arcgis.com/python/api-reference/arcgis.learn.html#pspnetclassifier)\n",
    " * [`MaskRCNN`](https://developers.arcgis.com/python/api-reference/arcgis.learn.html#maskrcnn)\n",
    "* Documentation improvements:\n",
    " * [`export_training_data`](https://developers.arcgis.com/python/api-reference/arcgis.learn.html#export-training-data)\n",
    "* Adds option to [`UnetClassifier`](https://developers.arcgis.com/python/api-reference/arcgis.learn.html#unetclassifier) to not predict the background class\n",
    "* Adds [`predict()`](https://developers.arcgis.com/python/api-reference/arcgis.learn.html#arcgis.learn.SingleShotDetector.predict) and [`predict_video()`](https://developers.arcgis.com/python/api-reference/arcgis.learn.html#arcgis.learn.SingleShotDetector.lr_find) methods to [`SingleShotDetector`](https://developers.arcgis.com/python/api-reference/arcgis.learn.html#arcgis.learn.SingleShotDetector.predict_video)\n",
    "* Adds [`plot_hard_examples()`](https://developers.arcgis.com/python/api-reference/arcgis.learn.html#arcgis.learn.FeatureClassifier.plot_confusion_matrix) function\n",
    "* Adds padding support to [`SingleShotDetector`](https://developers.arcgis.com/python/api-reference/arcgis.learn.html#singleshotdetector)\n",
    "* Adds ability to train and inference on attachments in a `Feature Layer` using [`FeatureClassifier`](https://developers.arcgis.com/python/api-reference/arcgis.learn.html#featureclassifier)\n",
    "* Adds ability to train [`detect_objects`](https://developers.arcgis.com/python/api-reference/arcgis.learn.html#detect-objects) model with any dataset\n",
    "* Adds [`categorize_features`](https://developers.arcgis.com/python/api-reference/arcgis.learn.html#arcgis.learn.FeatureClassifier.categorize_features) function and enhances to work with local rasters and feature classes\n",
    "* Adds Mobilenet backbone support to [`FeatureClassifier`](https://developers.arcgis.com/python/api-reference/arcgis.learn.html#featureclassifier) and [`SingleShotDetector`](https://developers.arcgis.com/python/api-reference/arcgis.learn.html#singleshotdetector)\n",
    "* Adds [`SingleShotDetector.from_model()`](https://developers.arcgis.com/python/api-reference/arcgis.learn.html#arcgis.learn.FeatureClassifier.classify_features) method\n",
    "* Adds `resize_to` paramter to [`prepare_data()`](https://developers.arcgis.com/python/api-reference/arcgis.learn.html#arcgis.learn.prepare_data) function\n",
    "* Adds support for full range of multispectral imagery\n",
    "* Adds support for visualizing training progress\n",
    "* Changes `lr` parameter to optional in `fit()` methods of models\n",
    "* Adds `from_model()` method to [`UnetClassifier`](https://developers.arcgis.com/python/api-reference/arcgis.learn.html#unetclassifier)\n",
    "* Adds [`FeatureClassifier`](https://developers.arcgis.com/python/api-reference/arcgis.learn.html#featureclassifier) inferencing when using `ArcGIS Pro`\n",
    "* Adds support for multispectral imagery to `Unet` type models for inferencing when using [`Classify Pixels using Deep Learning`](https://pro.arcgis.com/en/pro-app/tool-reference/image-analyst/classify-pixels-using-deep-learning.htm)"
   ]
  },
  {
   "cell_type": "markdown",
   "metadata": {},
   "source": [
    "## Fixes"
   ]
  },
  {
   "cell_type": "markdown",
   "metadata": {},
   "source": [
    "#### [`arcgis.gis`](https://developers.arcgis.com/python/api-reference/arcgis.gis.toc.html)\n",
    "* Corrects [`max_results`]() parameter documentation for the [`search()`](https://developers.arcgis.com/python/api-reference/arcgis.gis.server.html#arcgis.gis.server.UserManager.search) method of [`UserManager`](https://developers.arcgis.com/python/api-reference/arcgis.gis.server.html#usermanager)\n",
    "* Fixes issue in `ArcGIS Online` that a `user` who does not own public data could not [`share()`](https://developers.arcgis.com/python/api-reference/arcgis.gis.toc.html#arcgis.gis.Item.share) an [`Item`](https://developers.arcgis.com/python/api-reference/arcgis.gis.toc.html#arcgis.gis.Item) to group\n",
    "* Fixes issue where `from arcgis import *` fails with `AttributeError` regarding `find_centroids` or `summarize_center_and_dispersion`\n",
    "* Fixes issue with setting `group.protected = False` on a group whose `protected` property is already `False`\n",
    "* Fixes error when returning a `Pandas dataframe` with [`item.usage(date_range='6m'`](https://developers.arcgis.com/python/api-reference/arcgis.gis.toc.html#arcgis.gis.Item.usage)\n",
    "* Improves messaging when trying to read a `File Geodatabase` with environment that does not contain `ArcPy` and `fiona` packages\n",
    "* Fixes issue in [`ContentManager.add()`](https://developers.arcgis.com/python/api-reference/arcgis.gis.toc.html#arcgis.gis.ContentManager.add) if data contains multiple files\n",
    "* Fixes [`invite()`](https://developers.arcgis.com/python/api-reference/arcgis.gis.toc.html#arcgis.gis.UserManager.invite) method on ArcGIS Online `UserManager` instance to accept `email` parameter\n",
    "* Fixes known issues when using `PKI`\n",
    "* Fixes publising error with items of type `Compact Tile Package`\n",
    "* Fixes issue with [`item.usage`](https://developers.arcgis.com/python/api-reference/arcgis.gis.toc.html?highlight=usage#arcgis.gis.Item.usage) failing on non-hosted layers in ArcGIS Online\n",
    "* Fixes [`advanced_search()`](https://developers.arcgis.com/python/api-reference/arcgis.gis.toc.html#arcgis.gis.ContentManager.advanced_search) method to properly return results based on `sort_field`\n"
   ]
  },
  {
   "cell_type": "markdown",
   "metadata": {},
   "source": [
    "#### [`arcgis.gis.server`](https://developers.arcgis.com/python/api-reference/arcgis.gis.server.html) \n",
    "* Fixes issue with [`ItemInformationManager`](https://developers.arcgis.com/python/api-reference/arcgis.gis.server.html#arcgis.gis.server.Service.iteminformation) to retrieve [`service`](https://developers.arcgis.com/python/api-reference/arcgis.gis.server.html#service) metadata\n",
    "* Fixes BUG-000112855 `AttributeError` thrown when trying to [`rename`](https://developers.arcgis.com/python/api-reference/arcgis.gis.server.html#arcgis.gis.server.Service.rename) service"
   ]
  },
  {
   "cell_type": "markdown",
   "metadata": {},
   "source": [
    "#### [`arcgis.features`](https://developers.arcgis.com/python/api-reference/arcgis.features.toc.html)\n",
    "* Fixes error with `Spatially Enabled DataFrame` [`to_featureset()`](https://developers.arcgis.com/python/api-reference/arcgis.features.toc.html#arcgis.features.GeoAccessor.to_featureset) method failing if DataFrame contains non-unique index\n",
    "* Improves ouput for [`Spatially Enabled DataFrame.to_featurecollection()`](https://developers.arcgis.com/python/api-reference/arcgis.features.toc.html#arcgis.features.GeoAccessor.to_feature_collection)\n",
    "* Fixes issue with `HeatMapRenderer` not honoring color breaks (See [`Spatially Enabled DataFrame.plot()`](https://developers.arcgis.com/python/api-reference/arcgis.features.toc.html#arcgis.features.GeoAccessor.plot)\n",
    "* Fixes `TypeError` when using [`FeatureLayerCollection.query_domains()`](https://developers.arcgis.com/python/api-reference/arcgis.features.toc.html#arcgis.features.FeatureLayerCollection.query_domains)\n",
    "* Improves [`FeatureLayer.query()`](https://developers.arcgis.com/python/api-reference/arcgis.features.toc.html#arcgis.features.FeatureLayer.query) performance with large result sets"
   ]
  },
  {
   "cell_type": "markdown",
   "metadata": {},
   "source": [
    "#### [`arcgis.features.analysis`](https://developers.arcgis.com/python/api-reference/arcgis.features.analysis.html)\n",
    "* Fixes multiple functions to write output types\n",
    "* Fixes issue where [`create_route_layers()`](https://developers.arcgis.com/python/api-reference/arcgis.features.analysis.html#create-route-layers) only returns a single layer from multiple result layers\n",
    "* Fixes error with [`find_nearest()`](https://developers.arcgis.com/python/api-reference/arcgis.features.use_proximity.html#find-nearest) when input is a `Feature Collection`\n",
    "* Fixes handling of the `travel_mode` input parameter for:\n",
    " * [`find_nearest()`](https://developers.arcgis.com/python/api-reference/arcgis.features.use_proximity.html#find-nearest) improperly \n",
    " * [`choose_best_facilities()`](https://developers.arcgis.com/python/api-reference/arcgis.features.use_proximity.html##choose-best-facilities)\n",
    " * [`connect_origins_to_destinations()`](https://developers.arcgis.com/python/api-reference/arcgis.features.use_proximity.html#connect-origins-to-destinations)\n",
    " * [`create_drive_time_areas()`](https://developers.arcgis.com/python/api-reference/arcgis.features.use_proximity.html#create-drive-time-areas)\n",
    "* Fixes [`aggregate_points`](https://developers.arcgis.com/python/api-reference/arcgis.features.analysis.html#aggregate-points) failing when output is a `FeatureCollection`\n",
    "* New parameters:\n",
    " * `route_shape` in [`connect_origins_to_destinations()`](https://developers.arcgis.com/python/api-reference/arcgis.features.use_proximity.html#connect-origins-to-destinations)\n",
    " * `travel_direction`, `show_holes`, and `include_reachable_streets` in [`create_drive_time_areas()`](https://developers.arcgis.com/python/api-reference/arcgis.features.use_proximity.html#create-drive-time-areas)"
   ]
  },
  {
   "cell_type": "markdown",
   "metadata": {},
   "source": [
    "#### [`arcgis.raster`](https://developers.arcgis.com/python/api-reference/arcgis.raster.toc.html)\n",
    "* Fixes [export_image](https://developers.arcgis.com/python/api-reference/arcgis.raster.toc.html?highlight=export_image#arcgis.raster.ImageryLayer.export_image) failure on images with a [raster function template](https://developers.arcgis.com/python/api-reference/arcgis.raster.functions.RFT.html) containing a [constant function](http://desktop.arcgis.com/en/arcmap/10.3/manage-data/raster-and-images/constant-function.htm) that requires input `RasterInfo` applied\n",
    "* Fixes issue where a [`Raster Function Template`]() fails to dynamically render output when federated servers serve multiple server `functions`\n",
    "* Fixes issue when `service_url` parameter used to [`ImageLayer.rasters.add()`](https://developers.arcgis.com/python/api-reference/arcgis.raster.toc.html#arcgis.raster.RasterManager.add) rasters to ImageryLayer\n",
    "* Fixes issue with [`get_samples()`](https://developers.arcgis.com/python/api-reference/arcgis.raster.toc.html#arcgis.raster.ImageryLayer.get_samples) failing with large payloads\n",
    "* Fixes to how [`convert_raster_to_feature()`](https://developers.arcgis.com/python/api-reference/arcgis.raster.analytics.html#convert-raster-to-feature) reads input properties\n",
    "* Fixes to how [`train_classifier()`](https://developers.arcgis.com/python/api-reference/arcgis.raster.analytics.html#train-classifier) parses input layer"
   ]
  },
  {
   "cell_type": "markdown",
   "metadata": {},
   "source": [
    "#### [`arcgis.raster.analytics`](https://developers.arcgis.com/python/api-reference/arcgis.raster.analytics.html)\n",
    "* Fixes issue with [`classify`](https://developers.arcgis.com/python/api-reference/arcgis.raster.analytics.html#classify) and [`segment`](https://developers.arcgis.com/python/api-reference/arcgis.raster.analytics.html#arcgis.raster.analytics.segment) not honoring extent\n",
    "* Fixes error with [`optimum_travel_cost_network()`](https://developers.arcgis.com/python/api-reference/arcgis.raster.analytics.html#optimum-travel-cost-network) when using `output_neighbor_network_name` parameter"
   ]
  },
  {
   "cell_type": "markdown",
   "metadata": {},
   "source": [
    "#### [`arcgis.raster.functions`](https://developers.arcgis.com/python/api-reference/arcgis.raster.functions.html)\n",
    "* Fixes issue where raster functions errored out when displaying results of [`raster functions`](https://developers.arcgis.com/python/api-reference/arcgis.raster.functions.html) with private image services from different Web GIS portals\n",
    "* Fixes issue in [`raster functions`](https://developers.arcgis.com/python/api-reference/arcgis.raster.functions.html#) where jobs did not honor `rendering_rule` setting\n",
    "* Fixes [`curvature`](https://developers.arcgis.com/python/api-reference/arcgis.raster.functions.html#arcgis.raster.functions.curvature) function outputs\n",
    "* Fixes [`gvitm`](https://developers.arcgis.com/python/api-reference/arcgis.raster.functions.html#gvitm) documentation. (See `Green Vegetation Index` at [`raster function objects`](https://developers.arcgis.com/documentation/common-data-types/raster-function-objects.htm) for reference)"
   ]
  },
  {
   "cell_type": "markdown",
   "metadata": {},
   "source": [
    "#### [`arcgis.geoanalytics`](https://developers.arcgis.com/python/api-reference/arcgis.geoanalytics.toc.html#module-arcgis.geoanalytics)\n",
    "* Fixes issue  with [`geoanalytics`](https://developers.arcgis.com/python/api-reference/arcgis.geoanalytics.toc.html#module-arcgis.geoanalytics) tools failing to write output to `Big Data File Shares`\n"
   ]
  },
  {
   "cell_type": "markdown",
   "metadata": {},
   "source": [
    "#### [`arcgis.geoprocessing`](https://developers.arcgis.com/python/api-reference/arcgis.geoprocessing.html)\n",
    "* Improves [`geoprocessing.import_toolbox()`](https://developers.arcgis.com/python/api-reference/arcgis.geoprocessing.html#arcgis.geoprocessing.import_toolbox) load time\n",
    "* Fixes [`geoprocessing`](https://developers.arcgis.com/python/api-reference/arcgis.geoprocessing.html#) functions to accept `item` of type `Image Collection`"
   ]
  },
  {
   "cell_type": "markdown",
   "metadata": {},
   "source": [
    "#### [`arcgis.mapping`](https://developers.arcgis.com/python/api-reference/arcgis.mapping.html)\n",
    "* Fixes issue when [`WebMap.save()`]() would not reproject data to correct spatial reference if the view when saved was outside the range"
   ]
  },
  {
   "cell_type": "markdown",
   "metadata": {},
   "source": [
    "#### [`arcgis.widgets`](https://developers.arcgis.com/python/api-reference/arcgis.widgets.html#)\n",
    "* Fixes issue with [`map widget.save()`](https://developers.arcgis.com/python/api-reference/arcgis.widgets.html#arcgis.widgets.MapView.save) not saving layer input as a `dictionary` with [`map widget.add_layer()`](https://developers.arcgis.com/python/api-reference/arcgis.widgets.html#arcgis.widgets.MapView.add_layer)\n",
    "* Fixes [`map`](https://developers.arcgis.com/python/api-reference/arcgis.widgets.html#mapview) to add `Raster` from a datastore and display output from a raster rendering service\n",
    "* Fixes issue with [`map widget`](https://developers.arcgis.com/python/api-reference/arcgis.widgets.html#mapview) not displaying in JupyterLab"
   ]
  },
  {
   "cell_type": "markdown",
   "metadata": {},
   "source": [
    "#### [`arcgis.learn`](https://developers.arcgis.com/python/api-reference/arcgis.learn.html)\n",
    "* Fixes issue when [`prepare_data()`](https://developers.arcgis.com/python/api-reference/arcgis.learn.html#prepare-data) would now work with output from LabelImg tool\n",
    "* Fixes [`SingleShotDetector`](https://developers.arcgis.com/python/api-reference/arcgis.learn.html#singleshotdetector) to work with all combinations of grid sizes\n",
    "* Improves performance for [`arcgis.learn`](https://developers.arcgis.com/python/api-reference/arcgis.learn.html) by making use of all GPUs present on a device\n",
    "* Improves [`SingleShotDetector`](https://developers.arcgis.com/python/api-reference/arcgis.learn.html#singleshotdetector) to create grid size, aspect ratios, and zoom by reading dataset\n",
    "* Fixes [`UnetClassifier`](https://developers.arcgis.com/python/api-reference/arcgis.learn.html#unetclassifier) to accept 0 for background value\n",
    "* Fixes [`SingleShotDetector`](https://developers.arcgis.com/python/api-reference/arcgis.learn.html#singleshotdetector) training error when resizing empty tensor in batch\n",
    "* Fixes known issue with [`object detection`](https://developers.arcgis.com/python/api-reference/arcgis.learn.html#detect-objects) padding\n",
    "* Fixes issue with [`show_results()`](https://developers.arcgis.com/python/api-reference/arcgis.learn.html#arcgis.learn.UnetClassifier.show_results) improperly visualizing results with multispectral data using the `UnetClassifier`"
   ]
  },
  {
   "cell_type": "markdown",
   "metadata": {},
   "source": [
    "# What's new in version 1.6.2"
   ]
  },
  {
   "cell_type": "markdown",
   "metadata": {},
   "source": [
    "#### New\n",
    "* Adds `esrly_stopping` and `checkpoint` parameters to [`arcgis.learn`](https://esri.github.io/arcgis-python-api/apidoc/html/arcgis.learn.html#) [`Unet.fit()`](https://esri.github.io/arcgis-python-api/apidoc/html/arcgis.learn.html#arcgis.learn.UnetClassifier.fit) and [`SingelShotDetector.fit()`](https://esri.github.io/arcgis-python-api/apidoc/html/arcgis.learn.html#arcgis.learn.SingleShotDetector.fit) methods\n",
    "* Adds capability to regenerate a manifest for [`big data file share`](https://enterprise.arcgis.com/en/server/latest/get-started/windows/what-is-a-big-data-file-share.htm%20) item\n",
    "* Adds an image classifier to [`arcgis.learn`](https://esri.github.io/arcgis-python-api/apidoc/html/arcgis.learn.html#) to classify the area occupied by a geographical feature based on the imagery it overlaps\n",
    "* Adds [`find_centroids()`](https://esri.github.io/arcgis-python-api/apidoc/html/arcgis.features.find_locations.html#find-similar-locations) reference documentation\n",
    "* Adds support for all `torchvision.models` backbones (except `inception_v3`) to [`SingleShotDetector`](https://esri.github.io/arcgis-python-api/apidoc/html/arcgis.learn.html#singleshotdetector) \n",
    "* Adds [`query_domains()`](https://esri.github.io/arcgis-python-api/apidoc/html/arcgis.features.toc.html#arcgis.features.FeatureLayerCollection.query_domains) method and [`relationships`](https://esri.github.io/arcgis-python-api/apidoc/html/arcgis.features.toc.html#arcgis.features.FeatureLayerCollection.relationships) property to the [`FeatureLayerCollection`](https://esri.github.io/arcgis-python-api/apidoc/html/arcgis.features.toc.html#featurelayercollection) class \n",
    "* Adds reference documentation for [`LivingAtlas`](https://esri.github.io/arcgis-python-api/apidoc/html/arcgis.gis.admin.html#livingatlas)\n",
    "* Adds [`advanced_search()`](https://esri.github.io/arcgis-python-api/apidoc/html/arcgis.gis.toc.html#arcgis.gis.ContentManager.advanced_search) method to [`ContentManager`](https://esri.github.io/arcgis-python-api/apidoc/html/arcgis.gis.toc.html#contentmanager) class\n",
    "* Adds `historic_moment` and `return_true_curve` parameters to [`FeatureLayer.query_related_records()`](file:///C:/Users/john3092/Documents/GitHub/geosaurus/docs/api_ref/build/html/arcgis.features.toc.html#arcgis.features.FeatureLayer.query_related_records)\n",
    "* Adds support for `areaTypes` in [`OfflineMapAreaManger.create()`](https://esri.github.io/arcgis-python-api/apidoc/html/arcgis.mapping.html#offlinemapareamanager)\n",
    "* Adds Dot Density support to the [`Spatially Enabled DataFrame`](https://esri.github.io/arcgis-python-api/apidoc/html/arcgis.features.toc.html#geoaccessor) [`plot()`](https://esri.github.io/arcgis-python-api/apidoc/html/arcgis.features.toc.html?highlight=geoaccessor%20plot#arcgis.features.GeoAccessor.plot) method\n",
    "* Adds reference documentation for [`Hub`](https://esri.github.io/arcgis-python-api/apidoc/html/arcgis.apps.hub.html) module to the [`apps`](https://esri.github.io/arcgis-python-api/apidoc/html/arcgis.apps.html#) module"
   ]
  },
  {
   "cell_type": "markdown",
   "metadata": {},
   "source": [
    "#### Fixes\n",
    "* Fixes issue when adding more than 25 [`workers`](https://esri.github.io/arcgis-python-api/apidoc/html/arcgis.apps.workforce.html#worker) to a [`Workforce Project`](https://esri.github.io/arcgis-python-api/apidoc/html/arcgis.apps.workforce.html#arcgis.apps.workforce.Project)\n",
    "* Fixes `KeyError` when using `out_statistics` parameter on [`FeatureLayer.query()`](https://esri.github.io/arcgis-python-api/apidoc/html/arcgis.features.toc.html#featurelayer)\n",
    "* Fixes BUG-000118809 - The [`job_statistics()`](https://esri.github.io/arcgis-python-api/apidoc/html/arcgis.mapping.html?highlight=job_statistics#arcgis.mapping.MapImageLayerManager.job_statistics) method fails when using the jobID of updating tiles\n",
    "* Fixes BUG-000119377 -Delete_certificate(certificate) function in `arcgis.server` module returns error\n",
    "* Fixes error when creating users from a csv in ArcGIS Online\n",
    "* Fixes raster load failures when instantiating [`ImageryLayer()`](https://esri.github.io/arcgis-python-api/apidoc/html/arcgis.raster.toc.html#imagerylayer)\n",
    "* Fixes bug in [`UnetClassifier()`](https://esri.github.io/arcgis-python-api/apidoc/html/arcgis.learn.html#unetclassifier) predicting only one class\n",
    "* Fixes to [`raster.analytics.interpolate_points()`](https://esri.github.io/arcgis-python-api/apidoc/html/arcgis.raster.analytics.html#interpolate-points) when the error raster is set to False\n",
    "* Fixes [`raster.orthomapping.query_camera_info()`](https://esri.github.io/arcgis-python-api/apidoc/html/arcgis.raster.orthomapping.html#query-camera-info) method when run outside a Jupyter notebook\n",
    "* Improvements to [`Item.publish()`](https://esri.github.io/arcgis-python-api/apidoc/html/arcgis.gis.toc.html#arcgis.gis.Item.publish) for tile packages\n",
    "* Improves reference documentation for \n",
    " * [`arcgis.features.analysis`](https://esri.github.io/arcgis-python-api/apidoc/html/arcgis.features.analysis.html) module\n",
    " * [`create_buffers()`](https://esri.github.io/arcgis-python-api/apidoc/html/arcgis.features.use_proximity.html#create-buffers)\n",
    " * [`create_viewshed()`](https://esri.github.io/arcgis-python-api/apidoc/html/arcgis.features.find_locations.html#create-viewshed)\n",
    " * [`create_drive_time_areas`](https://esri.github.io/arcgis-python-api/apidoc/html/arcgis.features.use_proximity.html#create-drive-time-areas)\n",
    " * [`create_route_layers()`](https://esri.github.io/arcgis-python-api/apidoc/html/arcgis.features.analysis.html#create-route-layers)\n",
    " * [`derive_new_locations()`](https://esri.github.io/arcgis-python-api/apidoc/html/arcgis.features.find_locations.html#derive-new-locations)\n",
    " * [`create_watersheds()`](https://esri.github.io/arcgis-python-api/apidoc/html/arcgis.features.find_locations.html#create-watersheds)\n",
    " * [`dissolve_boundaries()`](https://esri.github.io/arcgis-python-api/apidoc/html/arcgis.features.manage_data.html#dissolve-boundaries)\n",
    " * [`enrich_layer()`](https://esri.github.io/arcgis-python-api/apidoc/html/arcgis.features.enrich_data.html)\n",
    " * [`extract_data()`](https://esri.github.io/arcgis-python-api/apidoc/html/arcgis.features.manage_data.html#extract-data)\n",
    " * [`find_hot_spots()`](https://esri.github.io/arcgis-python-api/apidoc/html/arcgis.features.analyze_patterns.html#find-hot-spots)\n",
    " * [`choose_best_facilities()`](https://esri.github.io/arcgis-python-api/apidoc/html/arcgis.features.find_locations.html#choose-best-facilities)\n",
    " * [`find_nearest()`](https://esri.github.io/arcgis-python-api/apidoc/html/arcgis.features.use_proximity.html#find-nearest)\n",
    " * [`find_existing_locations()`](https://esri.github.io/arcgis-python-api/apidoc/html/arcgis.features.find_locations.html#find-existing-locations)\n",
    " * [`find_outliers()`](https://esri.github.io/arcgis-python-api/apidoc/html/arcgis.features.analyze_patterns.html#find-outliers)\n",
    " * [`find_point_clusters`](https://esri.github.io/arcgis-python-api/apidoc/html/arcgis.features.analysis.html#find-point-clusters)\n",
    " * [`find_similiar_locations`](https://esri.github.io/arcgis-python-api/apidoc/html/arcgis.features.find_locations.html#find-similar-locations)\n",
    " * [`join_features()`](https://esri.github.io/arcgis-python-api/apidoc/html/arcgis.features.summarize_data.html#join-features)\n",
    " * [`merge_layers()`](https://esri.github.io/arcgis-python-api/apidoc/html/arcgis.features.manage_data.html#merge-layers)\n",
    " * [`overlay_layers()`](https://esri.github.io/arcgis-python-api/apidoc/html/arcgis.features.manage_data.html#overlay-layers)\n",
    " * [`plan_routes()`](https://esri.github.io/arcgis-python-api/apidoc/html/arcgis.features.user_proximity.html#plan-routes)\n",
    "* Ensures column names of [`Spatially Enabled DataFrame`](https://esri.github.io/arcgis-python-api/apidoc/html/arcgis.features.toc.html#geoaccessor) do not contain invalid characters for drawing\n",
    "* Fixes use of complex [`Raster Function Template`](https://esri.github.io/arcgis-python-api/apidoc/html/arcgis.raster.functions.RFT.html#arcgis-raster-functions-rft) with [`attribute_table`](https://esri.github.io/arcgis-python-api/apidoc/html/arcgis.raster.toc.html?highlight=export%20image#arcgis.raster.ImageryLayer.attribute_table) property and [`export_image()`](https://esri.github.io/arcgis-python-api/apidoc/html/arcgis.raster.toc.html?highlight=export%20image#arcgis.raster.ImageryLayer.export_image) function\n",
    "* Adds support for a list of lists as the `neighborhood_values` parameter in the [`focal_stats()`](https://esri.github.io/arcgis-python-api/apidoc/html/arcgis.raster.functions.html#focal-stats) function\n",
    "* Adds support for the geoextent of linestrings and polygons when reading GeoJSON as a FeatureSet\n",
    "* Fixes to the [`Spatially Enabled DataFrame`](https://esri.github.io/arcgis-python-api/apidoc/html/arcgis.features.toc.html#geoaccessor)  [`from_featureclass()`](https://esri.github.io/arcgis-python-api/apidoc/html/arcgis.features.toc.html#arcgis.features.GeoAccessor.from_featureclass) method when specifying fields in the feature class\n",
    "* Improves error handling in the [`map widget`](https://esri.github.io/arcgis-python-api/apidoc/html/arcgis.widgets.html#mapview)"
   ]
  },
  {
   "cell_type": "markdown",
   "metadata": {},
   "source": [
    "# What's new in version 1.6.1"
   ]
  },
  {
   "cell_type": "markdown",
   "metadata": {},
   "source": [
    "#### New\n",
    "* Added new [`generalized_linear_regression()`](https://esri.github.io/arcgis-python-api/apidoc/html/arcgis.geoanalytics.analyze_patterns#generalized-linear-regression) tool to [`arcgis.geoanalytics.analyze_patterns`](https://esri.github.io/arcgis-python-api/apidoc/html/arcgis.geoanalytics.analyze_patterns.html#) module\n",
    "* Added new [`forest_based_regression`](https://esri.github.io/arcgis-python-api/apidoc/html/arcgis.geoanalytics.analyze_patterns#forest-based-regression) tool to [`arcgis.geoanalytics.analyze_patterns`](https://esri.github.io/arcgis-python-api/apidoc/html/arcgis.geoanalytics.analyze_patterns.html#) module\n",
    "* Adds new `NotebookServer` class for administration\n",
    "* Updates `MapView` to use the ArcGIS API for JavaScript v4.11\n",
    "* Adds`arcgis.apps.tracker` module\n",
    "* Adds `arcgis.features.hydrology` module\n",
    "* Adds `location_loss_factor` to the [`SingleShotDetector`](http://esri.github.io/arcgis-python-api/apidoc/html/arcgis.learn.html?highlight=singleshotdetector#singleshotdetector) \n",
    "* Adds new class `RFT` & new function `raster_collection_function()` to `arcgis.raster` class.\n",
    "* Adds mAP (mean average precision) computation in `arcgis.learn`'s SSD\n",
    "* Adds `add_datepart()` and `process_df()` to `arcgis.learn`\n",
    "* Adds optional parameter to perform credit estimation on Feature Analysis Tools\n",
    "* Adds mosaic rule for displaying `ImageryLayer`s in a `MapView`\n",
    "* Adds `license_types` to assist creating users\n",
    "* Adds unet classifier for pixel classification\n",
    "* Adds shape type parameter in `find_hot_spots()`\n",
    "* Adds `one_cycle` parameter to `arcgis.learn`'s `fit()` function"
   ]
  },
  {
   "cell_type": "markdown",
   "metadata": {},
   "source": [
    "#### Fixes\n",
    "\n",
    "* Fixes to `clone_items()`\n",
    "    * Supports Web Tool mapping\n",
    "    * Delete items created during syncronous clone if an error occured\n",
    "    * Adds optional `owner` argument\n",
    "* Fixes BUG-000120098 in `disable_users()`\n",
    "* Fixes return type of `arcgis.raster.interpolate_points()`\n",
    "* Handle app integrations & properties in workforce projects during cloning\n",
    "* Changes parameter name in `arcgis.raster`'s `focal_stats()`\n",
    "* Logging update to `GIS(\"home\")`\n",
    "* `arcgis.gis.Item.download()` fixes to filenames/data\n",
    "* Adds missing check for `None` for `source_direction` parameter in `arcgis.raster`'s `gbl`\n",
    "* Fixes the `Spatially Enabled Dataframe`'s `plot()` method to return a `MapView`'s instance when not provided\n",
    "* Fixes BUG-000119057 for `generate_report()` of `arcgis.apps.survey123`\n",
    "* Fixes  BUG-000120125 fail to access license attribute of `arcgis.admin.System`\n",
    "* Fixes `featureset.sdf` when a feature contains null geometries\n",
    "* Force `MapView.take_screenshot()` to output a `.png`\n",
    "* Added support for feature collection and feature sets in `NetworkLayer.slove()`\n",
    "* Provides functionality to rename ArcGIS Online content folders\n",
    "* Fixes various bugs in `from_shapely()`\n",
    "* Fixes assigning credits bug to new users\n",
    "* Fixes for `arcgis.features.managers.SyncManager.create_replica_item()`\n",
    "* Fixes `Item.share()` bug that ignores `allow_members_to_edit` argument\n",
    "* Fixes `assign_to_items()` on `gis.groups.categories` to fix the assigning of content categories to items\n",
    "* Updated `GIS` class to have a `hub` property\n",
    "* Updated create user method on the `GIS` class\n",
    "* Fixes `verify_cert` issues for PKI\n",
    "* Fixes for EMD in `arcgis.learn`"
   ]
  },
  {
   "cell_type": "markdown",
   "metadata": {},
   "source": [
    "# What's new in version 1.6"
   ]
  },
  {
   "cell_type": "markdown",
   "metadata": {},
   "source": [
    "#### New\n",
    "* Added [`arcgis.learn`](https://developers.arcgis.com/python/api-reference/arcgis.learn.html) module to provide a set of Deep Learning Tools\n",
    " * Tools for [`Pixel Classification`](https://developers.arcgis.com/python/api-reference/arcgis.learn.html#classify-pixels) and [`Object Detection`](https://developers.arcgis.com/python/api-reference/arcgis.learn.html#detect-objects)\n",
    " * Tools to [`prepare_data()`](https://developers.arcgis.com/python/api-reference/arcgis.learn.html#prepare-data) created from [`ArcGIS Pro Export Training Data for Deep Learning`](https://pro.arcgis.com/en/pro-app/tool-reference/image-analyst/export-training-data-for-deep-learning.htm)\n",
    " * Full support for passing rendering of input image layers\n",
    "* Added support for `webhooks` with a [`Webhook Manager`](https://developers.arcgis.com/python/api-reference/arcgis.gis.admin.html#webhookmanager)\n",
    "* Added ability to create a hosted item in any folder\n",
    "* Added new [`describe_data()`](https://developers.arcgis.com/python/api-reference/arcgis.geoanalytics.manage_data.html#describe-data) tool to [`arcgis.geoanalytics.manage_data`](https://developers.arcgis.com/python/api-reference/arcgis.geoanalytics.manage_data.html#) module\n",
    "* Added new [`data_enrichment`](https://developers.arcgis.com/python/api-reference/arcgis.geoanalytics.data_enrichment.html#) module to the `arcgis.geonanalytics` submodules\n",
    " * includes the [`enrich_from_grid()`](https://developers.arcgis.com/python/api-reference/arcgis.geoanalytics.data_enrichment.html#enrich-from-grid) function\n",
    "* Added new `time_boundary_split`, `time_boundary_unit`, and `time_boundary_reference` parameters to the [`geoanalytics.find_locations.detect_incidents()`](https://developers.arcgis.com/python/api-reference/arcgis.geoanalytics.find_locations.html#detect-incidents), [`geoanalytics.manage_data.calculate_fields()`](https://developers.arcgis.com/python/api-reference/arcgis.geoanalytics.manage_data.html#calculate-fields) and  [`geoanalytics.summarize_data.reconstruct_tracks()`](https://developers.arcgis.com/python/api-reference/arcgis.geoanalytics.summarize_data.html#reconstruct-tracks) tools\n",
    "* Added support for [`clone_items()`](https://developers.arcgis.com/python/api-reference/arcgis.gis.toc.html#arcgis.gis.ContentManager.clone_items) by owner of multi-source views\n",
    "* Added [`dependencies`](https://developers.arcgis.com/python/api-reference/arcgis.gis.toc.html#arcgis.gis.Item.dependencies) property to `Item` objects\n",
    "* Added optional `include_route_layers` parameter to [`features.analysis.plan_routes()`](https://developers.arcgis.com/python/api-reference/arcgis.features.analysis.html?highlight=plan_routes#plan-routes) tool\n",
    "* Added `distance_method` parameter to raster distance functions:\n",
    " * [`euclidean_distance`](https://developers.arcgis.com/python/api-reference/arcgis.raster.functions.gbl.html#euclidean_distance)\n",
    " * [`euclidean_allocation`](https://developers.arcgis.com/python/api-reference/arcgis.raster.functions.gbl.html#euclidean_allocation)\n",
    " * [`euclidean_direction`](https://developers.arcgis.com/python/api-reference/arcgis.raster.functions.gbl.html#euclidean_direction)\n",
    "* Added `flow_direction_type` parameter to hydrology functions:\n",
    "  * [`flow_distance`](https://developers.arcgis.com/python/api-reference/arcgis.raster.functions.gbl.html#flow-distance)\n",
    "  * [`flow_accumulation`](https://developers.arcgis.com/python/api-reference/arcgis.raster.functions.gbl.html#flow-direction)\n",
    "* Added new [`Global Raster Functions`]():\n",
    " * [`region_group`](https://developers.arcgis.com/python/api-reference/arcgis.raster.functions.gbl.html#region-group)\n",
    " * [`corridor`](https://developers.arcgis.com/python/api-reference/arcgis.raster.functions.gbl.html#corridor)\n",
    " * [`path distance`](https://developers.arcgis.com/python/api-reference/arcgis.raster.functions.gbl.html#path-distance)\n",
    " * [`path_distance_allocation`](https://developers.arcgis.com/python/api-reference/arcgis.raster.functions.gbl.html#path-distance-allocation)\n",
    " * [`path_distance_back_link`](https://developers.arcgis.com/python/api-reference/arcgis.raster.functions.gbl.html#path-distance-bac-link)\n",
    "* Added new [`Raster Analytics Functions`]():\n",
    " * [`build_footprints()`](https://developers.arcgis.com/python/api-reference/arcgis.raster.analytics.html#build-footprints)\n",
    " * [`build_overview()`](https://developers.arcgis.com/python/api-reference/arcgis.raster.analytics.html#build-overview)\n",
    " * [`calculate_statistics()`](https://developers.arcgis.com/python/api-reference/arcgis.raster.analytics.html#calculate-statistics)\n",
    "* Added new [`Raster Functions`](https://developers.arcgis.com/python/api-reference/arcgis.raster.functions.html#module-arcgis.raster.functions)\n",
    " * [`focal_stats()`](https://developers.arcgis.com/python/api-reference/arcgis.raster.functions.html#focal-stats)\n",
    " * [`lookup()`](https://developers.arcgis.com/python/api-reference/arcgis.raster.functions.html#lookup)\n",
    "* Added `report_format` parameter to [`orthomapping.generate_report()`](https://developers.arcgis.com/python/api-reference/arcgis.raster.orthomapping.html#generate-report)\n",
    "* Added support for uploading large files\n",
    "* Added [`find_point_clusters()`](https://developers.arcgis.com/python/api-reference/arcgis.features.analysis.html#find-point-clusters) tool to [`arcgis.features.analysis`](https://developers.arcgis.com/python/api-reference/arcgis.features.analysis.html) module\n",
    "* Added [`update_item_delete_policy()`](https://developers.arcgis.com/python/api-reference/arcgis.gis.admin.html#arcgis.gis.admin.Collaboration.update_item_delete_policy()) and [`schedule`](https://developers.arcgis.com/python/api-reference/arcgis.gis.admin.html#arcgis.gis.admin.Collaboration.schedule) function to [`Collaboration`](https://developers.arcgis.com/python/api-reference/arcgis.gis.admin.html#collaboration) objects\n",
    "* Added `copy_feature_service_data` parameter to [`update_portal_group_link()`](https://developers.arcgis.com/python/api-reference/arcgis.gis.admin.html?#arcgis.gis.admin.Collaboration.update_portal_group_link) function\n",
    "* Added [`compute_pixel_location()`](https://developers.arcgis.com/python/api-reference/arcgis.raster.toc.html#arcgis.raster.ImageryLayer.compute_pixel_location) function to `Imagery Layers`\n",
    "* Added [`ics_to_pixel`](https://developers.arcgis.com/python/api-reference/arcgis.raster.toc.html#arcgis.raster.RasterCatalogItem.ics_to_pixel) property to `Raster Catalog Items`\n",
    "* Added support for returning [`tables`](https://developers.arcgis.com/python/api-reference/arcgis.features.toc.html#arcgis.features.Table.query) as dataframes to the [`query()`](https://developers.arcgis.com/python/api-reference/arcgis.features.toc.html#arcgis.features.Table.query)\n",
    "* Support resetting values on [`user.update()`](https://developers.arcgis.com/python/api-reference/arcgis.gis.toc.html#arcgis.gis.User.update)"
   ]
  },
  {
   "cell_type": "markdown",
   "metadata": {},
   "source": [
    "#### Fixes\n",
    "* Deprecated [`Group.invite_by_email()`](https://developers.arcgis.com/python/api-reference/arcgis.gis.toc.html#arcgis.gis.Group.invite_by_email) function\n",
    "https://developers.arcgis.com/python/api-reference/arcgis.gis.toc.html#arcgis.gis.Group.invite_by_email\n",
    "* Fixed error when creating `GIS` object in an enviroment where API for Python was installed with no dependencies\n",
    "* Fixed issue when creating spatially enabled dataframe from an empty feature layer\n",
    "* Fixed issue when spatially enabled dataframe treated `NaN` values as 0\n",
    "* Fixed issue on [`share()`](https://developers.arcgis.com/python/api-reference/arcgis.gis.toc.html#arcgis.gis.Item.share) method when `everyone=True` that `org=True`\n",
    "* Fixed issue to ensure a [`query()`](https://developers.arcgis.com/python/api-reference/arcgis.features.toc.html#arcgis.features.FeatureLayer.query) with no results returns correct empty object type\n",
    "* Fixed issue when text used for `file_type` parameter on [`analyze`](https://developers.arcgis.com/python/api-reference/arcgis.gis.toc.html?highlight=analyze#arcgis.gis.ContentManager.analyze)`]\n",
    "* Ensured `role` and `role_id` are always set for connected user\n",
    "* Fixed issues with zoom functionality on map\n",
    "* Fixed issue when [`ImageryLayer.service`](https://developers.arcgis.com/python/api-reference/arcgis.raster.toc.html#arcgis.raster.ImageryLayer.service) property returned incorrect value\n",
    "* Fixed [`create_viewhshed()`](https://developers.arcgis.com/python/api-reference/arcgis.raster.analytics.html#create-viewshed) to accept `above_ground_level_output_name` parameter\n",
    "* Fixed [`flow_direction()`](https://developers.arcgis.com/python/api-reference/arcgis.raster.functions.gbl.html#flow_direction) to properly read `output_name` parameter\n",
    "* Updated [`apps`](https://developers.arcgis.com/python/api-reference/arcgis.apps.html) module documentation to clarify acceptable item types for various parameters\n",
    "* Fixed [`Table.fromitem()`](https://developers.arcgis.com/python/api-reference/arcgis.features.toc.html#arcgis.features.Table.fromitem) function to correctly create table objects from items containing tables\n",
    "* Updated default parameter type for [`spatial index`](https://developers.arcgis.com/python/api-reference/arcgis.features.toc.html#arcgis.features.GeoAccessor.sindex)\n",
    "* Fixed issue when chaining [`raster functions`](https://developers.arcgis.com/python/api-reference/arcgis.raster.functions.html#module-arcgis.raster.functions) and [`global functions`](https://developers.arcgis.com/python/api-reference/arcgis.raster.functions.gbl.html#module-arcgis.raster.functions.gbl)\n",
    "* Fixed [`raster analytics functions`](https://developers.arcgis.com/python/api-reference/arcgis.raster.analytics.html) to properly work with `Feature Layer` inputs\n",
    "* Fixed issue with [`optimum_travel_cost_network()`](https://developers.arcgis.com/python/api-reference/arcgis.raster.analytics.html#optimum_travel_cost_network#optimum-travel-cost-network) function\n",
    "* Fixed issue with [`collaboration.create()`](https://developers.arcgis.com/python/api-reference/arcgis.gis.admin.html#arcgis.gis.admin.CollaborationManager.create) function\n",
    "* Fixed issue where `get_datastores()` returned incomplete results when same server functioned as `raster analytics` and `geoanalytics` server\n",
    "* Fixed [`FeatureSet.to_geojson`](https://developers.arcgis.com/python/api-reference/arcgis.features.toc.html?highlight=to_geojson#arcgis.features.FeatureSet.to_geojson) to properly convert linestrings\n",
    "* Fixed issue on calling Enterprise utility services when connected using web-tier authentication\n",
    "* Fixed issue on [`register()`](https://developers.arcgis.com/python/api-reference/arcgis.gis.server.html?highlight=register#arcgis.gis.server.MachineManager.register) function to return properly formatted response\n",
    "* Fixed issue with indexing on the `band_ids` parameter of [`extract_band()`](https://developers.arcgis.com/python/api-reference/arcgis.raster.functions.html#arcgis.raster.functions.extract_band)\n",
    "* Fixed BUG-000119016 - issue where exporting a `spatially enabled dataframe` to a feature class converted `Feature Service` Null values date field(s) to a specific date(‘1/1/2001’)\n",
    "* Fixed issue with [`gis.users.invite()`](https://developers.arcgis.com/python/api-reference/arcgis.gis.toc.html#arcgis.gis.UserManager.invite) improperly formatting email request"
   ]
  },
  {
   "cell_type": "markdown",
   "metadata": {},
   "source": [
    "# What's new in version 1.5.3"
   ]
  },
  {
   "cell_type": "markdown",
   "metadata": {},
   "source": [
    "#### Fixes\n",
    "* Fixed BUG 000119265: `gis.users.create()` returns error using API for Python 1.5.2"
   ]
  },
  {
   "cell_type": "markdown",
   "metadata": {},
   "source": [
    "# What's new in version 1.5.2"
   ]
  },
  {
   "cell_type": "markdown",
   "metadata": {},
   "source": [
    "#### New\n",
    "* Added new members to [`UserManager`](https://developers.arcgis.com/python/api-reference/arcgis.gis.toc.html#usermanager) objects for support of the new [`User Type licensing`](https://www.esri.com/arcgis-blog/products/arcgis-online/announcements/whats-coming-in-arcgis-online-introducing-user-types/) model\n",
    "* Added a `get_unique_values()` function to [`FeatureLayer`](https://developers.arcgis.com/python/api-reference/arcgis.features.toc.html#featurelayer) objects\n",
    "* Added batch sharing capability to the [`ContentManager`](https://developers.arcgis.com/python/api-reference/arcgis.gis.toc.html#contentmanager) with new `share_items()` and `unshare_items()` functions\n",
    "* Added `history()` function to [`ArcGISOnlineManager`](https://developers.arcgis.com/python/api-reference/arcgis.gis.admin.html#agoladminmanager) and [`PortalAdminManager`](https://developers.arcgis.com/python/api-reference/arcgis.gis.admin.html#portaladminmanager) objects to review logins to a portal\n",
    "* Added support to use [`Spatially Enabled DataFrames`](https://developers.arcgis.com/python/api-reference/arcgis.features.toc.html#arcgis-features-geoaccessor) as `study_area` parameters on the [`geoenrichment.enrich()`](https://developers.arcgis.com/python/api-reference/arcgis.geoenrichment.html#enrich) function\n",
    "* Added `take_screenshot()` function to the [`MapWidget`](https://developers.arcgis.com/python/api-reference/arcgis.widgets.html#mapview) for use on [`map`](https://developers.arcgis.com/python/api-reference/arcgis.geoenrichment.html#enrich) objects"
   ]
  },
  {
   "cell_type": "markdown",
   "metadata": {},
   "source": [
    "#### Fixes\n",
    "* Fixed the [`Item.usage()`](https://developers.arcgis.com/python/api-reference/arcgis.gis.toc.html#arcgis.gis.Item.usage) to correctly process `6M` and `1Y` input date ranges\n",
    "* Fixed `map widget` so default basemap draws if `gis` has not been set\n",
    "* Fixed [`StoryMap.save()`](https://developers.arcgis.com/python/api-reference/arcgis.apps.storymap.html#arcgis.apps.storymap.JournalStoryMap.save) method for when `gis` is ArcGIS Enterprise\n",
    "* Improved various [`features.analysis`](https://developers.arcgis.com/python/api-reference/arcgis.features.analysis.html) tools to accept lists of [`FeatureLayers`](https://developers.arcgis.com/python/api-reference/arcgis.features.toc.html#featurelayer) as inputs\n",
    "* Fixed [`add_layer()`](https://developers.arcgis.com/python/api-reference/arcgis.widgets.html#arcgis.widgets.MapView.add_layer) to properly render layers with definition expressions\n",
    "* Fixed issue with [`geometry.filters`](https://developers.arcgis.com/python/api-reference/arcgis.geometry.filters.html) incorrectly processing various geometry types\n",
    "* Fixed [`ServerManager.list()`]() function to improve reading of returned [`servers`](https://developers.arcgis.com/python/api-reference/arcgis.gis.server.html#server)\n",
    "* Fixed Spatially Enabled DataFrame [`from_layer()`](https://developers.arcgis.com/python/api-reference/arcgis.features.toc.html#arcgis.features.GeoAccessor.from_layer) function to better read date input\n",
    "* Fixed issue with [`clear_graphics()`](https://developers.arcgis.com/python/api-reference/arcgis.widgets.html#arcgis.widgets.MapView.clear_graphics) function not removing layers when run consecutively\n",
    "* Fixed issue with [`Item`](https://developers.arcgis.com/python/api-reference/arcgis.gis.toc.html#item) thumbnails not rendring properly under specific circumstances in Jupyter notebooks\n",
    "* Fixed [`import_data()`]() function to publish Spatially Enabled DataFrames as Feature Layers\n",
    "* Improved handling of `date` fields in the [`query()`](https://developers.arcgis.com/python/api-reference/arcgis.features.toc.html#arcgis.features.FeatureLayer.query) method"
   ]
  },
  {
   "cell_type": "markdown",
   "metadata": {},
   "source": [
    "# What's new in version 1.5.1"
   ]
  },
  {
   "cell_type": "markdown",
   "metadata": {},
   "source": [
    "#### New\n",
    "* Added a `legend` property to the [`map widget`](https://developers.arcgis.com/python/api-reference/arcgis.widgets.html#arcgis-widgets-module)\n",
    "* Added documentation for [`create_symbol`](https://developers.arcgis.com/python/api-reference/arcgis.mapping.html?highlight=create_symbol#arcgis.mapping.symbol.create_symbol)\n",
    "* Added support for [`Survey123`](https://survey123.arcgis.com/) to the [`apps`]() module\n",
    "* Added capability to delete certificates in the `arcgis.server` module\n",
    "* Added capability to to view the server Services Directory properties\n",
    "* Added support for True Curves in `Geometry` module\n",
    "* Updated documentation for `Spatially Enabled DataFrame`\n",
    "* Reduced overhead on certificate searches in [gis.server.admin.SSLCertificates](https://developers.arcgis.com/python/api-reference/arcgis.gis.admin.html#sslcertificates)\n",
    "* Added ability to set the map widget extent to that of a loaded [`Spatially Enabled DataFrame`](https://developers.arcgis.com/python/api-reference/arcgis.features.toc.html#arcgis-features-geoaccessor)\n",
    "* Added [`from_shapely()`]() method to [`Geometry`](https://developers.arcgis.com/python/api-reference/arcgis.geometry.html#geometry) class\n",
    "* Added a `homepage` property to the [`User`](https://developers.arcgis.com/python/api-reference/arcgis.gis.toc.html#user) and [`Group`](https://developers.arcgis.com/python/api-reference/arcgis.gis.toc.html#group) class\n",
    "* Added support for scheduling to [`create()`](https://developers.arcgis.com/python/api-reference/arcgis.mapping.html#arcgis.mapping.OfflineMapAreaManager.create) map areas\n",
    "* Added `as_df` parameter to [`FeatureLayer.query()`](https://developers.arcgis.com/python/api-reference/arcgis.features.toc.html#arcgis.features.FeatureLayer.query) method to return DataFrame instead of FeatureSet\n",
    "* Added SVG support for `Geometry` objects\n",
    "* Added `tables` property and `add_table()` method to [`WebMap`](https://developers.arcgis.com/python/api-reference/arcgis.mapping.html#webmap) class\n",
    "* Added `validate()` and `calculate_volume()` methods to [`Imagery Layer`](https://developers.arcgis.com/python/api-reference/arcgis.raster.toc.html#imagerylayer) objects \n",
    "* Added `list_datastore_content()` method to [`raster.analytics`](https://developers.arcgis.com/python/api-reference/arcgis.raster.analytics.html)\n",
    "* Added support for unique domains and field aliases when using [`clone_items()`](https://developers.arcgis.com/python/api-reference/arcgis.gis.toc.html#arcgis.gis.ContentManager.clone_items) on Feature Layer Views\n",
    "* Added `Find_Point_Clusters` tool to [`arcgis.geoanalytics.analyze_patterns`](https://developers.arcgis.com/python/api-reference/arcgis.geoanalytics.analyze_patterns.html) module\n",
    "* Added ability to read a list of strings for the `out_fields` parameter of [`FeatureLayer.query()`](https://developers.arcgis.com/python/api-reference/arcgis.features.toc.html#arcgis.features.FeatureLayer.query)\n",
    "* Added functionality to preserve layer id values when using [`cloning`](https://developers.arcgis.com/python/api-reference/arcgis.gis.toc.html#arcgis.gis.ContentManager.clone_items)"
   ]
  },
  {
   "cell_type": "markdown",
   "metadata": {},
   "source": [
    "#### Fixes\n",
    "* Fixed issue where user [`notifications`](https://developers.arcgis.com/python/api-reference/arcgis.gis.toc.html#arcgis.gis.User.notifications) were not returned\n",
    "* Fixed issue with incomplete [`Geometry`](https://developers.arcgis.com/python/api-reference/arcgis.geometry.html#geometry) checks in the [`map widget`](https://developers.arcgis.com/python/api-reference/arcgis.widgets.html#arcgis-widgets-module)\n",
    "* Fixed BUG 000115800 when subsequent imports of an imported certificate failed to import certificate\n",
    "* Fixed issue where curvePaths and curveRings do not return proper extents\n",
    "* Numerous fixes and enhancements to the [`map widget`](https://developers.arcgis.com/python/api-reference/arcgis.widgets.html#arcgis-widgets-module)\n",
    "  * Added a compass to 2D mode to re-orient north\n",
    "  * Fixed bug where custom symbology was not properly displaying\n",
    "  * Fixed issue when `map.layers` returned incorrect data type for layers\n",
    "  * Fixed issue for an exported map widget not honoring the extent\n",
    "  * Fixed ability to use portal basemaps with map widget\n",
    "* Improved warning messages when required modules are not present\n",
    "* Improved messaging on [`Datastore Manager.add_cloudstore()`](https://developers.arcgis.com/python/api-reference/arcgis.gis.toc.html#arcgis.gis.DatastoreManager.add_cloudstore) method\n",
    "* Improved documentation for [`edit_control_points`](https://developers.arcgis.com/python/api-reference/arcgis.raster.orthomapping.html#edit-control-points) and [`match_control_points`](https://developers.arcgis.com/python/api-reference/arcgis.raster.orthomapping.html#match-control-points)\n",
    "* Enhanced performance to [`FeatureSet.save()`](https://developers.arcgis.com/python/api-reference/arcgis.features.toc.html#arcgis.features.FeatureSet.save)\n",
    "* Fixed load performance for [`gis.map()`](https://developers.arcgis.com/python/api-reference/arcgis.gis.toc.html#arcgis.gis.GIS.map()) objects\n",
    "* Fixed bug when using [`FeatureLayerManager.overwrite()`](https://developers.arcgis.com/python/api-reference/arcgis.features.managers.html#arcgis.features.managers.FeatureLayerCollectionManager.overwrite) to updated Feature Layer with a zipped shapefile with identical schema\n",
    "* Numerous performance improvements on Spatially Enabled DataFrame [`to_featureclass()`](https://developers.arcgis.com/python/api-reference/arcgis.features.toc.html#arcgis.features.GeoAccessor.to_featureclass) and [`from_featureclass()`](https://developers.arcgis.com/python/api-reference/arcgis.features.toc.html#arcgis.features.GeoAccessor.from_featureclass) methods\n",
    "* Fixed error when using [`import_toolbox()`](https://developers.arcgis.com/python/api-reference/arcgis.geoprocessing.html#import-toolbox]) an an Enterprise GIS\n",
    "* Fixed BUG 000110695 when connecting with `Pro` would not return proper licenses for user\n",
    "* Fixed issue where [`ImageryLayer`](https://developers.arcgis.com/python/api-reference/arcgis.raster.toc.html#imagerylayer) extent was not honored on analytics jobs unless explicitly set\n",
    "* Fixed parameter issue with [`arithmetic()`](https://developers.arcgis.com/python/api-reference/arcgis.raster.functions.html#arithmetic) raster function\n",
    "* Fixed issue where [`Item.export()`](https://developers.arcgis.com/python/api-reference/arcgis.gis.toc.html#arcgis.gis.Item.export) function read parameter incorrectly\n",
    "* Fixed a longitude check in [`arcgis.raster.orthomapping.compute_spatial_reference_factory_code()`](https://developers.arcgis.com/python/api-reference/arcgis.raster.orthomapping.html#compute-spatial-reference-factory-code)\n",
    "* Fixed issue where `user.folders` would not return folders if a `user` object was obtained using a `query` parameter on `gis.users.search()`\n",
    "* Improved performance with the [`GIS`](https://developers.arcgis.com/python/api-reference/arcgis.gis.toc.html#gis) constructor\n",
    "* Fixed issue with how the [`raster.analytics`](https://developers.arcgis.com/python/api-reference/arcgis.raster.analytics.html) tools handles tokens\n",
    "* Improved error handling with [`clone_items()`](https://developers.arcgis.com/python/api-reference/arcgis.gis.toc.html#arcgis.gis.ContentManager.clone_items)\n",
    "* Improvements to [`apps.workforce`](https://developers.arcgis.com/python/api-reference/arcgis.apps.workforce.html) reducing steps to create various objects\n",
    "* Fixed the [`to_features()`](https://developers.arcgis.com/python/api-reference/arcgis.gis.toc.html#arcgis.gis.ContentManager.clone_items) and [`save()`](https://developers.arcgis.com/python/api-reference/arcgis.raster.toc.html#arcgis.raster.ImageryLayer.save) methods on [`ImageryLayers`](https://developers.arcgis.com/python/api-reference/arcgis.raster.toc.html#imagerylayer) to use appropriate extents\n",
    "* Fixed conversion issue with tiled [`MapImageLayers`](https://developers.arcgis.com/python/api-reference/arcgis.mapping.html#mapimagelayer) which caused `map.add_layer()` to fail\n",
    "* Fixed issue when using `clone_items()` on [`MapImageLayers`](https://developers.arcgis.com/python/api-reference/arcgis.mapping.html#mapimagelayer) between Enterprise portals\n",
    "* Fixed issue handling reserved words when using `clone_items()` on [`MapImageLayers`](https://developers.arcgis.com/python/api-reference/arcgis.mapping.html#mapimagelayer)\n",
    "* Added `hillshade_type` parameter to [`raster.functions.hillshade()`](https://developers.arcgis.com/python/api-reference/arcgis.raster.functions.html#hillshade) function"
   ]
  },
  {
   "cell_type": "markdown",
   "metadata": {},
   "source": [
    "# What's new in version 1.5"
   ]
  },
  {
   "cell_type": "markdown",
   "metadata": {},
   "source": [
    "#### New\n",
    "* Updated the **[`Map Widget`](https://developers.arcgis.com/python/api-reference/arcgis.widgets.html#mapview)** to use the **[ArcGIS API for JavaScript 4x](https://developers.arcgis.com/javascript/)** release\n",
    "  * Broader support for authoring and rendering `WebScenes`\n",
    "  * Full support for [`JupyterLab`](http://jupyterlab.readthedocs.io/en/stable/getting_started/overview.html). See **[JupyterLab Guide](../using-the-jupyter-lab-environment)**.\n",
    "  * Support for specifying `autocast` JavaScript renderers from Python code\n",
    "  * Support for exporting `Map Widgets` to standalone HTML pages\n",
    "  * Support for using an external ArcGIS API for JavaScript CDN for disconnected environments\n",
    "  * Miscellaneous bug fixes\n",
    "* Added the new **`Spatially Enabled Dataframe`** to eventually replace the [`SpatialDataFrame`()](https://developers.arcgis.com/python/api-reference/arcgis.features.toc.html#spatialdataframe) class\n",
    "  * New implementation: **Accessor-based** `spatial` namespace accessible as the `sdf` property on a Pandas dataframe\n",
    "  * Improvements to rendering, projections and support for Arcade expressions\n",
    "* Added `usage` property on [`Item`](https://developers.arcgis.com/python/api-reference/arcgis.gis.toc.html#item) class to inspect individual statistics  \n",
    "* Added attribute checks for geometries in environments where `ArcPy` is not available\n",
    "* Added `summary` property to [`arcgis.admin.ux`](https://developers.arcgis.com/python/api-reference/arcgis.gis.admin.html#ux) to add description of Portal or ArcGIS Online Organization instance\n",
    "* Added support for using server raster functions in raster analytics jobs using [`apply()`](https://developers.arcgis.com/python/api-reference/arcgis.raster.functions.html#apply)\n",
    "* Enhancements to support for [`mosaic_rules`](https://developers.arcgis.com/documentation/common-data-types/mosaic-rules.htm) on `ImageryLayers`, incdluding when using [`save()`](https://developers.arcgis.com/python/api-reference/arcgis.raster.toc.html#imagerylayer) and [`identity()`](https://developers.arcgis.com/python/api-reference/arcgis.raster.functions.html#arcgis.raster.functions.identity)\n",
    "* Added [`AssignmentIntegrationManager`](https://developers.arcgis.com/python/api-reference/arcgis.apps.workforce.managers.html#arcgis.apps.workforce.managers.AssignmentIntergrationManager) class to [`Workforce`](https://developers.arcgis.com/python/api-reference/arcgis.apps.workforce.html) module as the `integrations` property on a [`Project`](https://developers.arcgis.com/python/api-reference/arcgis.apps.workforce.html#project)\n",
    "* Added url builder functions to the [`apps`](https://developers.arcgis.com/python/api-reference/arcgis.apps.html) module\n",
    "* Enhanced numerous [`Global Raster functions`](https://developers.arcgis.com/python/api-reference/arcgis.raster.functions.gbl.html#module-arcgis.raster.functions.gbl) with parameter validation checks, including [`cost_distance()`](https://developers.arcgis.com/python/api-reference/arcgis.raster.functions.gbl.html#cost-distance), [`cost_allocation()`](https://developers.arcgis.com/python/api-reference/arcgis.raster.functions.gbl.html#cost-allocation), [`flow_distance()`](https://developers.arcgis.com/python/api-reference/arcgis.raster.functions.gbl.html#flow-distance), [`zonal_statistics()`](https://developers.arcgis.com/python/api-reference/arcgis.raster.functions.gbl.html#zonal-statistics) and others\n",
    "* Added `cost_backlink()`, `euclidean_direction()`, `cost_path()`, `kernel_density()`, and `calculate_travel_cost()` to Global Raster Functions and `optimum_travel_cost_network()` to Raster Analytics\n",
    "* Added `category_filters` parameter to improve [`search()`](https://developers.arcgis.com/python/api-reference/arcgis.gis.toc.html#arcgis.gis.ContentManager.search) capabilities\n",
    "* Added `find_centroids` function to [`arcgis.features.find_locations`](https://developers.arcgis.com/python/api-reference/arcgis.features.find_locations.html) submodule"
   ]
  },
  {
   "cell_type": "markdown",
   "metadata": {},
   "source": [
    "#### Fixes\n",
    "* Fixed BUG-000114520 where assigning categories with a Python script removed previously assigned categories\n",
    "* Fixed issue when returning sharing properties on an `Item` if item is in a folder\n",
    "* Fixed issue when passing colors in as a list on the `Spatially Enabled Dataframe`\n",
    "* Fixed issue where [`arcgis.network.analysis.solve_vehicle_routing_problem`](https://developers.arcgis.com/python/api-reference/arcgis.network.analysis.html#solve-vehicle-routing-problem) failed because of missing parameters\n",
    "* Fixed mis-matched parameters on the [`SyncMananger.synchronize()`](https://developers.arcgis.com/python/api-reference/arcgis.features.managers.html#arcgis.features.managers.SyncManager.synchronize) method\n",
    "* Fixed issue where `spatial_join`() failed if `ArcPy` was not available in the environment\n",
    "* Fixed issue when exporting to a feature class failed if `ArcPy` was not available in the environment\n",
    "* Fixed issue where creating a `FeatureSet` from a `Pandas dataframe` failed\n",
    "* Fixed issue on the `Spatially Enabled Dataframe plot` method using the unique values renderer\n",
    "* Fixed issue for ensuring valid values passed to the `rendering_rules` parameter of the [`ImageryLayer`](https://developers.arcgis.com/python/api-reference/arcgis.raster.toc.html#imagerylayer) `identify()` and `computer_stats_and_histogrames()` functions\n",
    "* Added `item_rendering_rule` parameter to [`ImageryLayer.mosaic_by()`](https://developers.arcgis.com/python/api-reference/arcgis.raster.toc.html#arcgis.raster.ImageryLayer.mosaic_by) function\n",
    "* Corrected invalid internal key in [`ImageryLayer.mosaic_rule()`](https://developers.arcgis.com/python/api-reference/arcgis.raster.toc.html#arcgis.raster.ImageryLayer.mosaic_rule)\n",
    "* Updated parameters in the [`GeoAnalytics`](https://developers.arcgis.com/python/api-reference/arcgis.geoanalytics.toc.html#module-arcgis.geoanalytics) [`summarize_data.summarize_within()`](https://developers.arcgis.com/python/api-reference/arcgis.geoanalytics.summarize_data.html#summarize-within), [`find_locations.detect_incidents()`](https://developers.arcgis.com/python/api-reference/arcgis.geoanalytics.find_locations.html#detect-incidents), and [`analyze_patters.find_hot_spots()`](https://developers.arcgis.com/python/api-reference/arcgis.geoanalytics.analyze_patterns.html#find-hot-spots) functions \n",
    "* Fixed [`GeoAnalytics.find_locations.geocode_locations()`](https://developers.arcgis.com/python/api-reference/arcgis.geoanalytics.find_locations.html#geocode-locations) function\n",
    "* Increased flexibility of the [`output_datastore`](https://developers.arcgis.com/python/api-reference/arcgis.env.html#output-datastore) environment variable\n",
    "* Fixed issue where dates older than the Unix Epoch caused failures\n",
    "* Fixed issue where [`Item.protect()`](https://developers.arcgis.com/python/api-reference/arcgis.gis.toc.html#arcgis.gis.Item.protect) failed to repopulate the Item object\n",
    "* Fixed bug in [`gis.admin.SSLCertificates.get()`](https://developers.arcgis.com/python/api-reference/arcgis.gis.admin.html#arcgis.gis.admin.SSLCertificates.get) method and improved documentation\n",
    "* Fixed issue where [`Item.comments`](https://developers.arcgis.com/python/api-reference/arcgis.gis.toc.html#arcgis.gis.Item.comments) and [`Item.add_comment()`](https://developers.arcgis.com/python/api-reference/arcgis.gis.toc.html#arcgis.gis.Item.add_comment) returned invalid URL\n",
    "* Added [`LicenseManager`](https://developers.arcgis.com/python/api-reference/arcgis.gis.admin.html#license-manager) documentation to the [`arcgis.gis.admin`](https://developers.arcgis.com/python/api-reference/arcgis.gis.admin.html)\n",
    "* Fixed issue with [`clone_items()`](https://developers.arcgis.com/python/api-reference/arcgis.gis.toc.html#arcgis.gis.ContentManager.clone_items) function failing to update paths for Tiled Map Service Layers\n",
    "* Added [`create_thumbnail()`](https://developers.arcgis.com/python/api-reference/arcgis.gis.toc.html#arcgis.gis.Item.create-thumbnail) function to `Item` class\n",
    "* Fixed issue where [`arcgis.server.Server()`](https://developers.arcgis.com/python/api-reference/arcgis.gis.server.html#server) did not read the `verify_cert` parameter\n",
    "* Fixed [`FeatureLayerCollectionManager.overwrite()`](https://developers.arcgis.com/python/api-reference/arcgis.features.managers.html#arcgis.features.managers.FeatureLayerCollectionManager.overwrite) method to work with Portal items\n",
    "\n",
    "\n",
    "* **Available at ArcGIS Enterprise 10.7:** Added [`arcgis.geonalytics.manage_data.clip_layer()`](https://developers.arcgis.com/python/api-reference/arcgis.geoanalytics.manage_data.html#calculate-fields) functionality"
   ]
  },
  {
   "cell_type": "markdown",
   "metadata": {},
   "source": [
    "# What's new in version 1.4.2\n",
    "#### New\n",
    "* Added a `storymap` submodule to the [`arcgis.apps`](https://developers.arcgis.com/python/api-reference/arcgis.apps.html) module to work with [ArcGIS StoryMaps](https://storymaps.arcgis.com/en/app-list/map-journal/) \n",
    "* Added support for [registering data](http://enterprise.arcgis.com/en/server/latest/publish-services/windows/overview-register-data-with-arcgis-server.htm) and adding [`big data files shares`](http://enterprise.arcgis.com/en/server/latest/get-started/windows/what-is-a-big-data-file-share.htm) from Cloud Stores\n",
    "* Added `bulk_update()` function to `ContentManager` to update properties on a collection of items\n",
    "* Added a new [Orthomapping](http://pro.arcgis.com/en/pro-app/help/data/imagery/introduction-to-ortho-mapping.htm) module\n",
    "* Enhanced [`clone()`](https://developers.arcgis.com/python/api-reference/arcgis.gis.toc.html#arcgis.gis.ContentManager.clone_items) of [`feature layer views`](https://doc.arcgis.com/en/arcgis-online/manage-data/create-hosted-views.htm) to support varied rendering and template definitions\n",
    "* Improved `clone()` of Pro Maps and Survey123 Forms\n",
    "* Added support for `clone()` of [Vector Tile Style Items](https://www.esri.com/arcgis-blog/products/developers/mapping/design-custom-basemaps-with-the-new-arcgis-vector-tile-style-editor/)\n",
    "* Improved performance when using `clone()` on `feature services`\n",
    "* Added `default_aggregation_styles` environment setting to [`gis.env`](https://developers.arcgis.com/python/api-reference/arcgis.env.html)\n",
    "* Improved handling of date fields with the [`Spatial DataFrame`](https://developers.arcgis.com/python/api-reference/arcgis.features.toc.html#spatialdataframe)\n",
    "\n",
    "#### Fixes\n",
    "* Fixed BUG-000110440 corrected misspelled `suppress_email` parameter that caused `gis.admin.license.revoke()` to fail\n",
    "* Fixed BUG-000110659 added missing `text` parameter on [`item.update()`]() `item_properties` dictionary\n",
    "* Fixed error when writing `geojson` files to `shapefiles` using the [`SpatialDataFrame`](https://developers.arcgis.com/python/api-reference/arcgis.features.toc.html#spatialdataframe)\n",
    "* Fixed erroneous documentation stating that [`overwrite`](https://developers.arcgis.com/python/api-reference/arcgis.features.managers.html#arcgis.features.managers.FeatureLayerCollectionManager.overwrite) preserves symbology\n",
    "* Fixed issue with `SpatialDataFrame` where null geometries were not converted to empty geometries in Shapefiles and Geodatabase feature classes\n",
    "* Fixed issue where [`plot()`](https://developers.arcgis.com/python/api-reference/arcgis.features.toc.html#arcgis.features.SpatialDataFrame.plot) method failed with certain number of features\n",
    "* Fixed issue where [`GIS`](https://developers.arcgis.com/python/api-reference/arcgis.gis.toc.html#gis) `profile` parameter would not create new profile in clean environment\n",
    "* Fixed bug when importing [`arcgis.geoenrichment`](https://developers.arcgis.com/python/api-reference/arcgis.geoenrichment.html)"
   ]
  },
  {
   "cell_type": "markdown",
   "metadata": {},
   "source": [
    "# What's new in version 1.4.1\n",
    "#### New\n",
    "* Simplified `time_filter` parameter for a [`query()`](https://developers.arcgis.com/python/api-reference/arcgis.features.toc.html?highlight=time_filter#arcgis.features.Table.query) to accept Python [`datetime`](https://docs.python.org/3/library/datetime.html) module `date`, `time`, or _timestamp_ objects\n",
    "* Added support for [`append_data()`](https://developers.arcgis.com/rest/services-reference/append-data.htm) tool to the [`arcgis.geoanalytics.manage_data`](https://developers.arcgis.com/python/api-reference/arcgis.geoanalytics.manage_data.html) submodule\n",
    "* Added support for [`overlay_layers`](https://developers.arcgis.com/rest/services-reference/overlay-layers.htm) to [`arcgis.geoanalytics.manage_data`](https://developers.arcgis.com/python/api-reference/arcgis.geoanalytics.manage_data.html) submodule\n",
    "* Added support for a new `build_multivariable_grid` tool in the [`arcgis.geoanalytics.summarize_data`](https://developers.arcgis.com/python/api-reference/arcgis.geoanalytics.summarize_data.html) submodule\n",
    "* Added documentation for layer filtering options when using [`arcgis.geoanalytics`](https://developers.arcgis.com/python/api-reference/arcgis.geoanalytics.toc.html) functions\n",
    "* Added ability to [`Replace Service`](https://developers.arcgis.com/rest/users-groups-and-items/replace-service.htm) on the [`ContentManager`](https://developers.arcgis.com/python/api-reference/arcgis.gis.toc.html#contentmanager) to\n",
    "* Added ability to protect a [`group`](https://developers.arcgis.com/python/api-reference/arcgis.gis.toc.html#arcgis.gis.Group) from being deleted\n",
    "* Added support for `Personal Information Exchange` files(.pfx) as the value for `cert_file` parameter to the [`GIS`](https://developers.arcgis.com/python/api-reference/arcgis.gis.toc.html#gis) class for PKI implementations\n",
    "* Improved error messaging with invalid credentials and valid `cert_file` logins\n",
    "* Added module to support [`Workforce for ArcGIS`](https://workforce.arcgis.com/)\n",
    "* Added query and download_all functionality to [`Attachment Manager`](https://developers.arcgis.com/python/api-reference/arcgis.features.managers.html#arcgis.features.managers.AttachmentManager)\n",
    "* Added documentation on the [`update_properties()`](https://developers.arcgis.com/python/api-reference/arcgis.gis.toc.html?highlight=update_properties#arcgis.gis.GIS.update_properties) function\n",
    "* Added `shared_with` property to [`Item`](https://developers.arcgis.com/python/api-reference/arcgis.gis.toc.html?highlight=update_properties#item) class to determine how an item has been [shared](https://developers.arcgis.com/python/api-reference/arcgis.gis.toc.html?highlight=update_properties#item)\n",
    "* Updated the [`datastore.validate()`](https://developers.arcgis.com/python/api-reference/arcgis.gis.toc.html?highlight=update_properties#arcgis.gis.Datastore.validate) function\n",
    "* Improved performance on [`clone_items()`](https://developers.arcgis.com/python/api-reference/arcgis.gis.toc.html?highlight=update_properties#arcgis.gis.ContentManager.clone_items) when querying attachments\n",
    "* Added `content_discovery` property to [`System`](https://developers.arcgis.com/python/api-reference/arcgis.gis.admin.html#system) resource for enabling/disabling external discovery of portal content\n",
    "* Added a `copy()` function to the [`Item`](https://developers.arcgis.com/python/api-reference/arcgis.gis.toc.html?highlight=update_properties#item) class to derive a new item based on current item\n",
    "* Updated output from the [`get_samples()`](https://developers.arcgis.com/python/api-reference/arcgis.raster.toc.html#arcgis.raster.ImageryLayer.get_samples) function\n",
    "* Added documentation for geoprocessing tools to [`arcgis.features.analysis`](https://developers.arcgis.com/python/api-reference/arcgis.features.analysis.html#module-arcgis.features.analysis) module\n",
    "* Updated [`UserManager.search()`](https://developers.arcgis.com/python/api-reference/arcgis.gis.toc.html#arcgis.gis.UserManager.search) function when specifying roles\n",
    "* Added `OfflineMapAreaManager` object to the [`arcgis.mapping`](https://developers.arcgis.com/python/api-reference/arcgis.mapping.html) module to support managing [`offline_areas`](https://developers.arcgis.com/python/api-reference/arcgis.mapping.html#arcgis.mapping.WebMap.offline_areas)\n",
    "* Added ability to add items from cloud content storage using the `dataUrl` and `filename` parameters on the  [`ContentManager.add()`](https://developers.arcgis.com/python/api-reference/arcgis.gis.toc.html#arcgis.gis.ContentManager.add) function\n",
    "\n",
    "#### Fixes\n",
    "* Fixed issue where [`group.update()`](https://developers.arcgis.com/python/api-reference/arcgis.gis.toc.html#arcgis.gis.Group.update) did not properly update the group\n",
    "* Fixed issue in [`clone_items`](https://developers.arcgis.com/python/api-reference/arcgis.gis.toc.html#arcgis.gis.ContentManager.clone_items) function where Web App Builder Applications were not cloning correctly\n",
    "* Removed errant warnings from [`group.reassign_to()`](https://developers.arcgis.com/python/api-reference/arcgis.gis.toc.html#arcgis.gis.Group.reassign_to) function\n",
    "* Fixed issue where `geometry` objects were preventing discovery of duplicate records\n",
    "* Fixed issue on [`Attachment Manager`](https://developers.arcgis.com/python/api-reference/arcgis.features.managers.html#arcgis.features.managers.AttachmentManager) for attachments over 9MB\n",
    "* Fixed issue on [`Attachment Manager`](https://developers.arcgis.com/python/api-reference/arcgis.features.managers.html#arcgis.features.managers.AttachmentManager) where input was ignored if [`global id()`] was not used\n",
    "* Fixed issue where a geometry filter crashed the [`SyncManager.create()`](https://developers.arcgis.com/python/api-reference/arcgis.features.managers.html#arcgis.features.managers.SyncManager.create) method\n",
    "* Fixed issue where the [`featurelayer.query()`](https://developers.arcgis.com/python/api-reference/arcgis.features.toc.html#arcgis.features.FeatureLayer.query) method constructed a faulty request when using the `return_distinct_values` parameter\n",
    "* Fixed issue where [`convex_hull()`](https://developers.arcgis.com/python/api-reference/arcgis.geometry.html#convex-hull) returned incorrect geometry\n",
    "* Fixed issue where [`update_item()`](https://developers.arcgis.com/python/api-reference/arcgis.gis.toc.html#arcgis.gis.Item.update) failed if text exceeded 32767 characters\n",
    "* Fixed issue that prevented publishing [`scene layer package`](http://pro.arcgis.com/en/pro-app/help/sharing/overview/scene-layer-package.htm) items with [`gis.item.publish()`](https://developers.arcgis.com/python/api-reference/arcgis.gis.toc.html#arcgis.gis.Item.publish)\n",
    "* Fixed error in [`clone_items()`](https://developers.arcgis.com/python/api-reference/arcgis.gis.toc.html?highlight=update_properties#arcgis.gis.ContentManager.clone_items) function handling of [`MapService`](http://enterprise.arcgis.com/en/server/latest/publish-services/linux/what-is-a-map-service.htm) paths\n",
    "* Fixed error when using [`pip`] to install `arcgis` on Windows machines without Anaconda\n",
    "* Fixed intermittent problem when storing multiple users on the same portal in a [`profile`](https://developers.arcgis.com/python/api-reference/arcgis.gis.toc.html#arcgis.gis.GIS) file\n",
    "* Fixed issue with incorrect `role` information returned by [`UserManager.search()`](https://developers.arcgis.com/python/api-reference/arcgis.gis.toc.html#arcgis.gis.UserManager.search)\n",
    "* Fixed issue with [`WebMap.remove_layers()`](https://developers.arcgis.com/python/api-reference/arcgis.widgets.html#arcgis.widgets.MapView.remove_layers) to handle duplicate layers"
   ]
  },
  {
   "cell_type": "markdown",
   "metadata": {},
   "source": [
    "# What's new in version 1.4\n",
    "#### New\n",
    "\n",
    "* Added full capabilities to install ```arcgis``` package with [```pip```](https://pip.pypa.io/en/stable/)\n",
    "* Added ```Upload Manager``` to aid in [upload](https://developers.arcgis.com/rest/services-reference/upload.htm) operations to the server\n",
    "* Added [```shapely```](https://shapely.readthedocs.io/en/stable/manual.html) support to the [```Spatial DataFrame```](https://developers.arcgis.com/python/api-reference/arcgis.features.toc.html#spatialdataframe)\n",
    "* Added ```is_empty``` property for checking ```geometry```\n",
    "* Added support for [```GeoJSON```](http://geojson.org/) [```LineStrings```](https://tools.ietf.org/html/rfc7946#section-3.1.4),  and [```Polygons```](https://tools.ietf.org/html/rfc7946#section-3.1.6)\n",
    "* Added support for [```Operations Views```](https://doc.arcgis.com/en/operations-dashboard/operation-views/)s and [```Dashboards```](https://docs.arcgis.com/en/operations-dashboard/help/what-is-a-dashboard.htm) to ```clone_items``` function on ```Content Manager```\n",
    "* Added ability to ```Content Manager``` to [```search```](https://developers.arcgis.com/python/api-reference/arcgis.gis.toc.html#arcgis.gis.ContentManager.search) for [```map image layers```](http://pro.arcgis.com/en/pro-app/help/sharing/overview/map-image-layer.htm)\n",
    "* Enhanced [```Map Image Layer.export()```](https://developers.arcgis.com/python/api-reference/arcgis.mapping.html#arcgis.mapping.MapImageLayer.export_map\") to output image and kmz formats\n",
    "* Added ability to export data from non-hosted ```feature layer``` to Excel\n",
    "* Added support for multiple profiles persisted in the [.```arcgisprofile```](https://developers.arcgis.com/python/api-reference/arcgis.gis.toc.html#gis\")\n",
    "* Added ability to plot a [```GeoSeries```](http://geopandas.org/data_structures.html) (See [```Spatial DataFrame```](https://developers.arcgis.com/python/api-reference/arcgis.features.html?highlight=geoseries#arcgis-features-spatialdataframe) with suite of symbology and rendering options\n",
    "* Added [```admin```](https://developers.arcgis.com/python/api-reference/arcgis.gis.admin.html) functionality for Portal users with [```publisher```](https://enterprise.arcgis.com/en/portal/latest/administer/linux/roles.htm) privileges\n",
    "* Added ```output_cellsize``` parameter to [```resample```](https://developers.arcgis.com/python/api-reference/arcgis.raster.functions.html#resample\") raster function\n",
    "* Added ability to read list of ```Feature Layers``` to [```FeatureLayerCollectionManager.create_view```](https://developers.arcgis.com/python/api-reference/arcgis.features.managers.html#arcgis.features.managers.FeatureLayerCollectionManager.create_view\") method\n",
    "* Added ability to register SDE Connection Files as a data store\n",
    "* Improved performance when ```cloning``` items\n",
    "* Added parameters to ```user.update()``` method to accept first and last names as input\n",
    "* Added ```distanceSplit``` and ```distanceSplitUnit``` parameters to [```GeoAnalytics.reconstruct_tracks```](https://developers.arcgis.com/python/api-reference/arcgis.geoanalytics.summarize_data.html#reconstruct-tracks\") function\n",
    "* Added ```cellSize```, ```cellSizeUnits```, and ```shapeType``` parameters to [```features.analyze_patterns.find_hot_spot```](https://developers.arcgis.com/python/api-reference/arcgis.geoanalytics.analyze_patterns.html#find-hot-spots\") function\n",
    "* Added support for Content Categories for portal items\n",
    "* Added ability to convert Rasters to Features with [```ImageryLayer.to_features()```](https://developers.arcgis.com/python/api-reference/arcgis.raster.toc.html#arcgis.raster.ImageryLayer.to_features\") function\n",
    "* Added [```draw_graph```] function to [```ImageryLayer```]() objects for for visualizing Raster function workflows\n",
    "* Added support for additional rasters as inputs to [```raster functions```](https://developers.arcgis.com/python/api-reference/arcgis.raster.functions.html\")\n",
    "* Added additional rendering support to [```MapView```](https://developers.arcgis.com/python/api-reference/arcgis.widgets.html#mapview\") and [```FeatureLayer```](https://developers.arcgis.com/python/api-reference/arcgis.features.toc.html#featurelayer)\" objects\n",
    "* Added ```users_update_items``` parameter to [```GroupManager.create()```](https://developers.arcgis.com/python/api-reference/arcgis.gis.toc.html#arcgis.gis.GroupManager.create\") to allow members to update all items in group\n",
    "* Added ```token``` parameter to [```GIS```](https://developers.arcgis.com/python/api-reference/arcgis.gis.toc.html#arcgis.gis.GIS\") for logging into GIS from external contexts\n",
    "* Enhanced automation of creating users with ```security_question``` parameter to ```user.update()``` method\n",
    "* Added support for [```MapImageLayer```](https://developers.arcgis.com/python/api-reference/arcgis.mapping.html#arcgis.mapping.MapImageLayer) to [```map.add_layer()```](https://developers.arcgis.com/python/api-reference/arcgis.widgets.html#arcgis.widgets.MapView.add_layer) method\n",
    "\n",
    "#### Fixes\n",
    "* ```Group.add_user``` method will accept ```user``` objects or a ```string``` representing username as input.\n",
    "* Updated date handling and integer types available on the ```Spatial DataFrame```\n",
    "* Fixed issue where mixed-content layers were failing when using the [```map widget```](https://developers.arcgis.com/python/api-reference/arcgis.gis.toc.html#arcgis.gis.GIS.map\")\n",
    "* Fixed issue where ```FeatureSet.df``` was not properly setting the spatial reference\n",
    "* Detailed warnings issued exporting layer with [```global function```](https://developers.arcgis.com/python/api-reference/arcgis.raster.functions.gbl.html\") in the function chain\n",
    "* Fixed issue where PNG files referenced in thumbnail parameter on [```user.update()```]() method raised an exception\n",
    "* Fixed error when drawing [```FeatureCollections```](https://developers.arcgis.com/python/api-reference/arcgis.features.toc.html#featurecollection\") with ```datetime``` fields\n",
    "* Fixed bug where ```ContentManager.import_data()``` returned error if Pandas dataframe did not contain addresses\n",
    "* Fixed bug when using ```SpatialDataFrame.to_featurelayer()``` method for environments lacking ```ArcPy``` site-package\n",
    "* Fixed issue where [```time-enabled hosted feature layers```](http://desktop.arcgis.com/en/arcmap/10.5/map/time/serving-time-aware-layers.htm) failed to clone to portal items\n",
    "* Fixed projection issue when using ```SpatialDataFrame.to_featureclass()``` method when ```ArcPy``` site-package not present\n",
    "* Fixed problem with [```Geoenrichment.Country.subgeographies```](https://developers.arcgis.com/python/api-reference/arcgis.geoenrichment.html#arcgis.geoenrichment.Country.subgeographies) queries not returning results\n",
    "* Fixed handling of ```NoneType``` responses for Geoprocessing service requests\n",
    "* Fixed bug where [```user.update_level()```](https://developers.arcgis.com/python/api-reference/arcgis.gis.toc.html?highlight=user%20update_level#arcgis.gis.User.update_level) method was not changing level of user\n",
    "* Added missing parameters to [```raster.classify```](https://developers.arcgis.com/python/api-reference/arcgis.raster.functions.html#classify) function\n",
    "* Fixed errors when writing dates to feature attributes"
   ]
  },
  {
   "cell_type": "markdown",
   "metadata": {},
   "source": [
    "# What's new in version 1.3\n",
    "\n",
    "#### New\n",
    "- Added support to render and work with Vector Tile Layers in `arcgis.mapping` module with a new `VectorTileLayer` class.\n",
    "- Added ability to add text and archives as resource files to Items.\n",
    "- Added a `find_outliers` task to the `arcgis.features.analysis` module to locate features and clusters that differ significantly\n",
    "- Added support for [Living Atlas](https://livingatlas.arcgis.com/en/#s=0) Content\n",
    "- Added ability to select layers to add when creating new feature service from `FeatureLayerCollection` item\n",
    "- Added `detect_track_incidents` tool to the `arcgis.geoanalytics.find_locations` module\n",
    "- Added support for unfederated ArcGIS Server instances from the `arcgis.gis.server` module\n",
    "- Added ability to cancel Geoprocessing jobs with keyboard\n",
    "- Added ability to publish map services from Geoanalytics results for visualizing large spatiotemporal feature services\n",
    "- Added ability to login with a [public account](https://www.arcgis.com/home/signin.html) to [ArcGIS Online](https://www.arcgis.com)\n",
    "- Added support for Dynamic Map Image Layers\n",
    "- Enhanced search capabilities to look for specific [categories](https://developers.arcgis.com/python/guide/understanding-geocoders/#categories-property)\n",
    "- Added ability to create `Features` from  and convert features to [geojson](http://geojson.org/)\n",
    "- Improved spatial refernce support when using [`arcgis.features.SpatialDataFrame`](https://developers.arcgis.com/python/api-reference/arcgis.features.toc.html#spatialdataframe)\n",
    "- Improved function to export `SpatialDataFrame` by checking for required modules\n",
    "- Improved performance when creating `Imagery Layers`\n",
    "- Added new functions to `raster.functions` module. See [**here**](https://desktop.arcgis.com/en/arcmap/latest/manage-data/raster-and-images/what-are-the-functions-used-by-a-raster-or-mosaic-dataset.htm) for function details\n",
    " - `complex` - computes magnitude from an input raster with complex pixel types\n",
    " - `colormap_to_rgb` - converts a single-band raster with a colormap to three-band raster\n",
    " - `statistics_histogram` - defines the statistics and histogram of a raster to help render output\n",
    " - `tasseled_cap` - analyzes certain multispectral datasets and calculates new bands useful to map vegetation and urban developmet changes\n",
    " - `identity` - default function required in a [mosaic dataset](http://desktop.arcgis.com/en/arcmap/latest/manage-data/raster-and-images/what-is-a-mosaic-dataset.htm) if there is no other function\n",
    " - `colorspace_converstion` - converts the color model of a three-band unsigned 8-bit images from HSV or RGB, or vice versa\n",
    " - `grayscale` - converts a multi-band image into a single-band grayscale image\n",
    " - `pansharpen` - enhances spatial resolution of a multi-band image by fusing with higher-resolution panchromatic image\n",
    " - `spectral_conversion` - applies a matrix to affect the spectral values output by a multi-band image\n",
    " - `raster_calculator` - allows you to call all existing math functions for building expressions\n",
    " - `speckle` - filters a speckled radar dataset to smooth out noise\n",
    "- Added a new [`GeoEnrichment`](http://resources.arcgis.com/en/help/arcgis-rest-api/#/The_GeoEnrichment_service/02r30000021r000000/) module\n",
    "- Added ability to set and configure the identity provider for managing user credentials\n",
    "- Added support for passing geometry columns into [`PySal`](https://pysal.org/docs/) functions\n",
    "- Added a new `esri_access` property to [`User`](http://esri.github.io/arcgis-python-api/apidoc/html/arcgis.gis.toc.html#user) objects so Esri training materials could be accessed\n",
    "- Added support for feeding `SpatialDataFrame` objects to [`GeoProcessing`](http://esri.github.io/arcgis-python-api/apidoc/html/arcgis.geoprocessing.html) tools\n",
    "- A new `SpatialDataFrame.plot()` method to do bar, line and scatterplots\n",
    "- Added support for multi-part [`Polygon`](http://esri.github.io/arcgis-python-api/apidoc/html/arcgis.geometry.html#polygon) geometries in `FeatureSet` objects\n",
    "- Added support for creating [`Hosted Feature Layer Views`](https://doc.arcgis.com/en/arcgis-online/share-maps/create-hosted-views.htm)\n",
    "- Added support for cloning items directly from the [`ContentManager`](http://esri.github.io/arcgis-python-api/apidoc/html/arcgis.gis.toc.html#contentmanager)\n",
    "- Added ability to directly [read, write and author Web Maps](/python/guide/working-with-web-maps-and-web-scenes/) from [`arcgis.mapping.WebMap`](http://esri.github.io/arcgis-python-api/apidoc/html/arcgis.mapping.html#webmap) objects\n",
    "- Added support for High Performance on `geocoding` and `geoanalytics`\n",
    "- Added `geocode_locations` tool in `arcgis.geoanalytics.find_locations` module\n",
    "- Added functionality to the [`ReconstructTracks`](http://esri.github.io/arcgis-python-api/apidoc/html/arcgis.geoanalytics.summarize_data.html#reconstruct-tracks) and [`JoinFeatures`](http://esri.github.io/arcgis-python-api/apidoc/html/arcgis.geoanalytics.summarize_data.html#join-features) in the `arcgis.geoanalytics.summarize_data` module\n",
    "- Added support for setting content status on [`Item`](http://esri.github.io/arcgis-python-api/apidoc/html/arcgis.gis.toc.html#item) objects\n",
    "\n",
    "#### Fixes\n",
    "- BUG-00010973 Using the \"services.list()\" function fails with Traceback error\n",
    "- BUG-000105897 When iterating over items from a non-existent folder, the Python API iterates over the ArcGIS Online root folder\n",
    "- BUG-000105969 When creating replicas, a json data format replica was not being created in the output directory\n",
    "- BUG-000109342 Errow when importing premium toolboxes using `geoprocessing.import_toolbox` function\n",
    "- Fixed `FeatureSet` issue so geometry type is set properly\n",
    "- Fixed issue where new datastores were not being returned from the `servers.datastores.list()` method\n",
    "- Fixed issue where querying a `FeatureLayer` with `returnIDsOnly`, `returnCountOnly`, and `returnIdsOnly` were not returning all records\n",
    "- Fixed issue where publishing from service definition files was not placing service items in folders\n",
    "- Fixed issue where no error was reported when creating a big data file share using an invalid path\n",
    "- Fixed issue when using the defaults for the `arcgis.admin.System.reindex` function\n",
    "- Fixed issue where `publish_sd()` function to publish from service definition files was not available\n",
    "- Fixed issue where Python API tried to use ArcGIS Online basemaps in a disconnected environment\n",
    "- Improved ability to save `Features` in non-English data\n",
    "- Fixed issue where creating a `SpatialDataFrame` from a feature class was not importing spatial reference correctly\n",
    "- Improved security on anonymous connections to ArcGIS Online\n",
    "- Fixed security issue using NTLM and Kerberos works with Python 3.6.1\n",
    "- Improved performance for download of Python API\n",
    "- Fixed issue where geometry extents were not properly returned which affected some projecting operations\n",
    "- Fixed issue where fields over 255 characters in length were not properly created\n",
    "- Fixed issue when updating the large thumbnail on an item the image was not updating to the proper type"
   ]
  },
  {
   "cell_type": "markdown",
   "metadata": {},
   "source": [
    "# What's new in version 1.2.4\n",
    "A number of quality improvements were made in versions 1.2.3 and 1.2.4. Below is the list of bugs reported to Technical Support that were fixed:\n",
    "\n",
    " - BUG-000108063 ArcGIS Python API is unable to connect to Portal for ArcGIS with Integrated Windows Authentication configured.\n",
    " - BUG-000107899 In the ArcGIS Python API, cannot update the ArcGIS Online organization banner using the set_banner method when using a custom html string.\n",
    " - Added support for using the API behind proxy servers"
   ]
  },
  {
   "cell_type": "markdown",
   "metadata": {},
   "source": [
    "# What's new in version 1.2.2\n",
    "\n",
    "Version 1.2.2 ensures the map widget in Jupyter notebooks continues to work with newer installs of the API."
   ]
  },
  {
   "cell_type": "markdown",
   "metadata": {},
   "source": [
    "# What's new in version 1.2.1\n",
    "Version `1.2.1` is a primarily a bug fix and documentation update release. Below is a non exhaustive list of bug fixes that were fixed:\n",
    "\n",
    " - Fix to ensure `DataStoreManager.list()` is updated when user adds, modifies or updates data stores.\n",
    " - BUG-000104664 ArcGIS API for Python fails to return the groupProviderName value\n",
    " - BUG-000105897 When iterating through items in a nonexistent folder using the ArcGIS Python API, items from the ArcGIS Online root folder are returned.\n",
    " - BUG-000105969 In ArcGIS Python API, using `replicas.create()` and `data_format = 'json'` is not able to create output in local directory when out_path is defined.\n",
    " - ENH-000106710 Automate the creation of Enterprise groups in ArcGIS Online and Portal using the ArcGIS API for Python.\n",
    " - Support for Living Atlas on ArcGIS Enterprise\n",
    " - Better error messages\n",
    " - BUG-000104664 ArcGIS API for Python fails to return the `groupProviderName` value. \n",
    " - BUG-000105270 `returnAttachments` is an invalid parameter and is repeated multiple times in the `arcgis.features.managers` module reference page for the Python API\n",
    " - Support for `find_outliers` tool\n",
    " - Support to add Item resources as text, URL and archive\n",
    " - Geocoding results can be returned as `FeatureSet` objects.\n",
    " - Support for publishing hosted tile layers from feature layers\n",
    " - Documentation for administering your GIS, administering your ArcGIS servers, building a distributed GIS, customizing your GIS look and feel are added."
   ]
  },
  {
   "cell_type": "markdown",
   "metadata": {},
   "source": [
    "# What's new in version 1.2.0\n",
    "Version 1.2 brings with it a slew of new capabilities. Below is a non exhaustive list of enhancements\n",
    "\n",
    " - A new `arcgis.gis.admin` sub module -- expands your admin capabilities, manage credits, create gis collaborations to build a distributed GIS, modify the user experience of the portal website\n",
    " - A new `arcgis.gis.server` sub module -- allows you to manage servers federated with your ArcGIS Enterprise\n",
    " - A new `arcgis.raster.functions` sub module for raster functions -- express raster functions as Python functions, chain them together and perform raster algebra using regular Python arithmetic operators \n",
    " - A new `SpatialDataFrame` class which extends your regular Pandas DataFrame with spatial capabilities and ability to work with local datasets\n",
    " - Feature layer improvements -- overwrite feature layers, better support for attachments \n",
    " - Map widget enhancements -- disable zoom when scrolling the notebook\n",
    " - oAuth login using app id, secret\n",
    " - A new GeoAnalytics tool to create space-time cubes"
   ]
  },
  {
   "cell_type": "markdown",
   "metadata": {},
   "source": [
    "# What's new in version 1.0.1\n",
    "Version 1.0.1 is a bug fix release. Following are some of the bugs that were resolved:\n",
    "\n",
    "* BUG-000101507 gis.groups.search returns incorrect results if the User is an owner of more than 100 groups.\n",
    "* Enabled building initial cache when publishing vector tile packages\n",
    "* Fixed bug in creating new users on ArcGIS Online or Portal for ArcGIS 10.5 or newer\n",
    "* Fix to ignore values like size of -1 when initializing item objects\n",
    "* Reorder batch geocoding results to match input array\n",
    "\n",
    "\n",
    "# What's new in version 1.0.0\n",
    "\n",
    "Ever since we released the public beta versions, your response to this API has been phenomenal. Since the last release of beta 3, the API went through a redesign phase. We took a critical look at the previous design and evaluated it against the ease of use, extensibility and our original goal of developing a Pythonic API for GIS. The result is this new design, a design that simply does not contour to the implementation logic, but efficiently abstracts it, ensuring the simplicity and beauty of the programming language prevails.\n",
    "\n",
    "## API design changes\n",
    "The following are some of the high level changes you would notice in the version 1.0 of the API. You might have to update your notebooks and scripts and we apologize for this inconvenience.\n",
    "\n",
    " * Various layer types in `arcgis.lyr` module are now in their own separate modules such as `arcgis.features`, `arcgis.raster`, `arcgis.network` etc.\n",
    " * `arcgis.viz` is now `arcgis.mapping` with additional support for vector tiles, map image layers\n",
    " * Tools in `arcgis.tools` are accessible as functions in the corresponding layer modules. This allows a better grouping and presentation of tools making them available right alongside the layer types they process. For instance, the feature analysis tools available earlier as `arcgis.tools.FeatureAnalysisTools` is now `arcgis.features.analyze_patterns`, `arcgis.features.enrich_data` etc.\n",
    " * Big data analysis tools available earlier as `arcgis.tools.BigData` is now in a separate module `arcgis.geoanalytics`.\n",
    "\n",
    "## Enhancements and new features\n",
    "This is by no means an exhaustive list. Below are some major enhancements you may notice in version 1.0 of the API\n",
    " * ability to work with replicas for feature layers\n",
    " * ability to manage user roles\n",
    " * support for multiple outputs in GP tools\n",
    " * support for stream layers\n",
    " * added more big data analysis tools in the `arcgis.geoanalytics` module\n",
    " * extended support for web tools\n",
    " * smart mapping improvements\n",
    " * extended ability to publish package items such as vector tile, scene, tile\n",
    " * enhanced support for login using ArcGIS Pro"
   ]
  }
 ],
 "metadata": {
  "anaconda-cloud": {},
  "kernelspec": {
   "display_name": "Python 3",
   "language": "python",
   "name": "python3"
  },
  "language_info": {
   "codemirror_mode": {
    "name": "ipython",
    "version": 3
   },
   "file_extension": ".py",
   "mimetype": "text/x-python",
   "name": "python",
   "nbconvert_exporter": "python",
   "pygments_lexer": "ipython3",
   "version": "3.7.7"
  },
  "toc": {
   "base_numbering": 1,
   "nav_menu": {},
   "number_sections": false,
   "sideBar": false,
   "skip_h1_title": true,
   "title_cell": "Table of Contents",
   "title_sidebar": "Contents",
   "toc_cell": true,
   "toc_position": {},
   "toc_section_display": true,
   "toc_window_display": false
  },
  "varInspector": {
   "cols": {
    "lenName": 16,
    "lenType": 16,
    "lenVar": "255"
   },
   "kernels_config": {
    "python": {
     "delete_cmd_postfix": "",
     "delete_cmd_prefix": "del ",
     "library": "var_list.py",
     "varRefreshCmd": "print(var_dic_list())"
    },
    "r": {
     "delete_cmd_postfix": ") ",
     "delete_cmd_prefix": "rm(",
     "library": "var_list.r",
     "varRefreshCmd": "cat(var_dic_list()) "
    }
   },
   "types_to_exclude": [
    "module",
    "function",
    "builtin_function_or_method",
    "instance",
    "_Feature"
   ],
   "window_display": false
  }
 },
 "nbformat": 4,
 "nbformat_minor": 1
}
