{
 "cells": [
  {
   "cell_type": "markdown",
   "metadata": {},
   "source": [
    "# Accessing and managing users\n",
    "\n",
    "Managing accounts that will access an organization is a key aspect of a Web GIS deployment. Specific management for accounts varies depending upon a specific organization's [identity store](https://enterprise.arcgis.com/en/portal/latest/administer/linux/managing-access-to-your-portal.htm#GUID-7C7592BD-900B-49A3-87F9-CB346105308F). The API for Python provides functionality for managing user accounts. Automating management tasks such as provisioning licenses, privileges, creating and removing user accounts can save a great deal of time. The [`gis`](/python/api-reference/arcgis.gis.toc.html) module provides you with [`User`](/python/api-reference/arcgis.gis.toc.html#user) and [`UserManager`](/python/api-reference/arcgis.gis.toc.html#usermanager) classes to respresent users as objects and help you accomplish the most common tasks. \n",
    "\n",
    "As you might have observed, the API utilizes manager classes accessible from a [`GIS`](/python/api-reference/arcgis.gis.toc.html#gis) object through properties. For example, an instance of the [`ContentManager`](/python/api-reference/arcgis.gis.toc.html#contentmanager) class is returned when accessing the [`content`](/python/api-reference/arcgis.gis.toc.html#arcgis.gis.GIS.content) property on a `GIS` object. The `GIS` object employs a [`users`](/python/api-reference/arcgis.gis.toc.html#arcgis.gis.GIS.users) property to access the `UserManager`] class for managing operations and properties of `User` objects in the organization. This pattern of using properties to access specific manager classes is typical throughout the ArcGIS API for Python. Often times in guides and samples, these properties are chained together to decrease code complexity in accessing specific methods.\n",
    "\n",
    "Let's explore using the API for managing `users` within a GIS organization.  For additional resources to explore options for configuring users within a Web GIS deployment and the differences inherent in using different organizational deployments, see:\n",
    "\n",
    "* ArcGIS Enterprise - [Manage access to your portal](https://enterprise.arcgis.com/en/portal/latest/administer/linux/managing-access-to-your-portal.htm)\n",
    "* ArcGIS Online - [Invite and add members](https://doc.arcgis.com/en/arcgis-online/administer/invite-users.htm)"
   ]
  },
  {
   "cell_type": "markdown",
   "metadata": {
    "toc": true
   },
   "source": [
    "<h1>Table of Contents<span class=\"tocSkip\"></span></h1>\n",
    "<div class=\"toc\"><ul class=\"toc-item\"><li><span><a href=\"#Accessing-and-managing-users\" data-toc-modified-id=\"Accessing-and-managing-users-1\"><span class=\"toc-item-num\">1&nbsp;&nbsp;</span>Accessing and managing users</a></span><ul class=\"toc-item\"><li><span><a href=\"#About-your-account\" data-toc-modified-id=\"About-your-account-1.1\"><span class=\"toc-item-num\">1.1&nbsp;&nbsp;</span>About your account</a></span></li><li><span><a href=\"#Properties-of-a-User-object\" data-toc-modified-id=\"Properties-of-a-User-object-1.2\"><span class=\"toc-item-num\">1.2&nbsp;&nbsp;</span>Properties of a <code>User</code> object</a></span></li><li><span><a href=\"#Searching-for-user-accounts\" data-toc-modified-id=\"Searching-for-user-accounts-1.3\"><span class=\"toc-item-num\">1.3&nbsp;&nbsp;</span>Searching for user accounts</a></span></li><li><span><a href=\"#Creating-new-user-accounts\" data-toc-modified-id=\"Creating-new-user-accounts-1.4\"><span class=\"toc-item-num\">1.4&nbsp;&nbsp;</span>Creating new user accounts</a></span><ul class=\"toc-item\"><li><span><a href=\"#About-user-roles\" data-toc-modified-id=\"About-user-roles-1.4.1\"><span class=\"toc-item-num\">1.4.1&nbsp;&nbsp;</span>About user roles</a></span></li><li><span><a href=\"#Managing-user-roles\" data-toc-modified-id=\"Managing-user-roles-1.4.2\"><span class=\"toc-item-num\">1.4.2&nbsp;&nbsp;</span>Managing user roles</a></span><ul class=\"toc-item\"><li><span><a href=\"#Creating-new-roles\" data-toc-modified-id=\"Creating-new-roles-1.4.2.1\"><span class=\"toc-item-num\">1.4.2.1&nbsp;&nbsp;</span>Creating new roles</a></span></li><li><span><a href=\"#Creating-a-user-with-a-custom-role\" data-toc-modified-id=\"Creating-a-user-with-a-custom-role-1.4.2.2\"><span class=\"toc-item-num\">1.4.2.2&nbsp;&nbsp;</span>Creating a user with a custom role</a></span></li><li><span><a href=\"#Listing-all-the-custom-roles-in-an-org\" data-toc-modified-id=\"Listing-all-the-custom-roles-in-an-org-1.4.2.3\"><span class=\"toc-item-num\">1.4.2.3&nbsp;&nbsp;</span>Listing all the custom roles in an org</a></span></li></ul></li></ul></li><li><span><a href=\"#Deleting-user-accounts\" data-toc-modified-id=\"Deleting-user-accounts-1.5\"><span class=\"toc-item-num\">1.5&nbsp;&nbsp;</span>Deleting user accounts</a></span><ul class=\"toc-item\"><li><span><a href=\"#Accessing-user-content\" data-toc-modified-id=\"Accessing-user-content-1.5.1\"><span class=\"toc-item-num\">1.5.1&nbsp;&nbsp;</span>Accessing user content</a></span></li><li><span><a href=\"#Reassigning-user-content\" data-toc-modified-id=\"Reassigning-user-content-1.5.2\"><span class=\"toc-item-num\">1.5.2&nbsp;&nbsp;</span>Reassigning user content</a></span></li></ul></li></ul></li></ul></div>"
   ]
  },
  {
   "cell_type": "markdown",
   "metadata": {},
   "source": [
    "## About your account\n",
    "Let's connect to an organization and explore properties of our user account before moving on to administering other `user` accounts. We'll import the `GIS` class from `gis` module and connect to an ArcGIS Enterprise:"
   ]
  },
  {
   "cell_type": "code",
   "execution_count": 599,
   "metadata": {},
   "outputs": [],
   "source": [
    "from arcgis.gis import GIS\n",
    "gis = GIS(profile=\"your_online_profile\")"
   ]
  },
  {
   "cell_type": "markdown",
   "metadata": {},
   "source": [
    "You can access your user account by accessing the `me` property as shown below:"
   ]
  },
  {
   "cell_type": "code",
   "execution_count": 600,
   "metadata": {},
   "outputs": [
    {
     "data": {
      "text/html": [
       "<div class=\"9item_container\" style=\"height: auto; overflow: hidden; border: 1px solid #cfcfcf; border-radius: 2px; background: #f6fafa; line-height: 1.21429em; padding: 10px;\">\n",
       "                    <div class=\"item_left\" style=\"width: 210px; float: left;\">\n",
       "                       <a href='https://geosaurus.maps.arcgis.com/home/user.html?user=arcgis_python' target='_blank'>\n",
       "                        <img src='data:image/jpeg;base64,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' width='200' height='133' class=\"itemThumbnail\">\n",
       "                       </a>\n",
       "                    </div>\n",
       "\n",
       "                    <div class=\"item_right\" style=\"float: none; width: auto; overflow: hidden;\">\n",
       "                        <a href='https://geosaurus.maps.arcgis.com/home/user.html?user=arcgis_python' target='_blank'><b>ArcGIS Python</b>\n",
       "                        </a>\n",
       "                        <br/><br/><b>Bio</b>: ArcGIS Python public account.&#13;&#13;Please do not change the profile information.\n",
       "                        <br/><b>First Name</b>: ArcGIS\n",
       "                        <br/><b>Last Name</b>: Python\n",
       "                        <br/><b>Username</b>: arcgis_python\n",
       "                        <br/><b>Joined</b>: December 23, 2016\n",
       "\n",
       "                    </div>\n",
       "                </div>\n",
       "                "
      ],
      "text/plain": [
       "<User username:arcgis_python>"
      ]
     },
     "execution_count": 600,
     "metadata": {},
     "output_type": "execute_result"
    }
   ],
   "source": [
    "me = gis.users.me\n",
    "me"
   ]
  },
  {
   "cell_type": "markdown",
   "metadata": {},
   "source": [
    "Similar to [`Item`](/python/api-reference/arcgis.gis.toc.html#) objects, when using the Jupyter notebook IDE, you can visualize `User` objects in rich HTML representation with thumbnails and attribute information."
   ]
  },
  {
   "cell_type": "markdown",
   "metadata": {},
   "source": [
    "## Properties of a `User` object\n",
    "You can query much more information about the user account as properties on the `User` object.\n",
    "\n",
    "Consult the API [`User`](/python/api-reference/arcgis.gis.toc.html#user) class reference documentation for a complete listing of properties available on a registered account through the Python API.  In addition, the REST API [User](/rest/users-groups-and-items/user.htm#GUID-32113100-DC2C-41AA-924E-08E2CF686B00) resource documentation provides a comprehensive table of details returned in the response to a request of this resource.\n",
    "\n",
    "Let's explore some _user_ properties:"
   ]
  },
  {
   "cell_type": "code",
   "execution_count": 601,
   "metadata": {},
   "outputs": [
    {
     "data": {
      "text/plain": [
       "'public'"
      ]
     },
     "execution_count": 601,
     "metadata": {},
     "output_type": "execute_result"
    }
   ],
   "source": [
    "me.access"
   ]
  },
  {
   "cell_type": "markdown",
   "metadata": {},
   "source": [
    "You can query a `user` object's `lastLogin` property to explore when the user last connected and compare that to the `created` property to determine any actions to take on whether the account should be deleted or the account owner contacted:"
   ]
  },
  {
   "cell_type": "code",
   "execution_count": 602,
   "metadata": {},
   "outputs": [
    {
     "name": "stdout",
     "output_type": "stream",
     "text": [
      "Created: 2016/12/23\n",
      "Last active: 2023/7/26\n"
     ]
    }
   ],
   "source": [
    "import time\n",
    "# convert Unix epoch time to local time\n",
    "created_time = time.localtime(me.created/1000)\n",
    "print(\"Created: {}/{}/{}\".format(created_time[0], created_time[1], created_time[2]))\n",
    "\n",
    "last_accessed = time.localtime(me.lastLogin/1000)\n",
    "print(\"Last active: {}/{}/{}\".format(last_accessed[0], last_accessed[1], last_accessed[2]))"
   ]
  },
  {
   "cell_type": "markdown",
   "metadata": {},
   "source": [
    "Let us print some more information about this account"
   ]
  },
  {
   "cell_type": "code",
   "execution_count": 603,
   "metadata": {},
   "outputs": [
    {
     "name": "stdout",
     "output_type": "stream",
     "text": [
      "Description\n",
      "ArcGIS Python public account.&#13;&#13;Please do not change the profile information.\n"
     ]
    }
   ],
   "source": [
    "print(f\"Description\")\n",
    "print(f\"{me.description}\")"
   ]
  },
  {
   "cell_type": "code",
   "execution_count": 604,
   "metadata": {},
   "outputs": [
    {
     "name": "stdout",
     "output_type": "stream",
     "text": [
      "Email            First Name     Last Name      Full Name      Level  MultiFactor    Provider  User Type\n",
      "\n",
      "rsingh@esri.com  ArcGIS         Python         ArcGIS Python     2          0       arcgis    arcgisonly\n"
     ]
    }
   ],
   "source": [
    "print(f\"Email{' '*12}First Name{' '*5}Last Name{' '*6}Full Name{' '*6}Level  MultiFactor{' '*4}Provider{' '*2}User Type\")\n",
    "print(f\"\\n{me.email:17}{me.firstName:15}{me.lastName:15}{me.fullName:15}{me.level:^7}{me.mfaEnabled:^15}{me.provider:10}{me.userType}\")"
   ]
  },
  {
   "cell_type": "markdown",
   "metadata": {},
   "source": [
    "You can determine how much storage is being used by this account"
   ]
  },
  {
   "cell_type": "code",
   "execution_count": 605,
   "metadata": {},
   "outputs": [
    {
     "name": "stdout",
     "output_type": "stream",
     "text": [
      "Usage: 9.04%\n"
     ]
    }
   ],
   "source": [
    "quota = me.storageQuota\n",
    "used = me.storageUsage\n",
    "pc_usage = round((used / quota)*100, 2)\n",
    "print(\"Usage: \" + str(pc_usage) + \"%\")"
   ]
  },
  {
   "cell_type": "markdown",
   "metadata": {},
   "source": [
    "You can determine the groups the user is a member of:"
   ]
  },
  {
   "cell_type": "code",
   "execution_count": 606,
   "metadata": {},
   "outputs": [
    {
     "name": "stdout",
     "output_type": "stream",
     "text": [
      "Member of 272 groups\n"
     ]
    },
    {
     "data": {
      "text/html": [
       "<div class=\"9item_container\" style=\"height: auto; overflow: hidden; border: 1px solid #cfcfcf; border-radius: 2px; background: #f6fafa; line-height: 1.21429em; padding: 10px;\">\n",
       "                    <div class=\"item_left\" style=\"width: 210px; float: left;\">\n",
       "                       <a href='https://geosaurus.maps.arcgis.com/home/group.html?id=00df55a8a6324c5aa4fc946d01aebb01' target='_blank'>\n",
       "                        <img src='data:image/png;base64,iVBORw0KGgoAAAANSUhEUgAAAEAAAABACAYAAACqaXHeAAAAGXRFWHRTb2Z0d2FyZQBBZG9iZSBJbWFnZVJlYWR5ccllPAAAAyRpVFh0WE1MOmNvbS5hZG9iZS54bXAAAAAAADw/eHBhY2tldCBiZWdpbj0i77u/IiBpZD0iVzVNME1wQ2VoaUh6cmVTek5UY3prYzlkIj8+IDx4OnhtcG1ldGEgeG1sbnM6eD0iYWRvYmU6bnM6bWV0YS8iIHg6eG1wdGs9IkFkb2JlIFhNUCBDb3JlIDUuMy1jMDExIDY2LjE0NTY2MSwgMjAxMi8wMi8wNi0xNDo1NjoyNyAgICAgICAgIj4gPHJkZjpSREYgeG1sbnM6cmRmPSJodHRwOi8vd3d3LnczLm9yZy8xOTk5LzAyLzIyLXJkZi1zeW50YXgtbnMjIj4gPHJkZjpEZXNjcmlwdGlvbiByZGY6YWJvdXQ9IiIgeG1sbnM6eG1wPSJodHRwOi8vbnMuYWRvYmUuY29tL3hhcC8xLjAvIiB4bWxuczp4bXBNTT0iaHR0cDovL25zLmFkb2JlLmNvbS94YXAvMS4wL21tLyIgeG1sbnM6c3RSZWY9Imh0dHA6Ly9ucy5hZG9iZS5jb20veGFwLzEuMC9zVHlwZS9SZXNvdXJjZVJlZiMiIHhtcDpDcmVhdG9yVG9vbD0iQWRvYmUgUGhvdG9zaG9wIENTNiAoTWFjaW50b3NoKSIgeG1wTU06SW5zdGFuY2VJRD0ieG1wLmlpZDo1NDA4RjUyNDc5NzcxMUUyODZGRkEwQ0EzMUFFRUU5NCIgeG1wTU06RG9jdW1lbnRJRD0ieG1wLmRpZDo1NDA4RjUyNTc5NzcxMUUyODZGRkEwQ0EzMUFFRUU5NCI+IDx4bXBNTTpEZXJpdmVkRnJvbSBzdFJlZjppbnN0YW5jZUlEPSJ4bXAuaWlkOjUzMDQzNjI5Nzk3NzExRTI4NkZGQTBDQTMxQUVFRTk0IiBzdFJlZjpkb2N1bWVudElEPSJ4bXAuZGlkOjUzMDQzNjJBNzk3NzExRTI4NkZGQTBDQTMxQUVFRTk0Ii8+IDwvcmRmOkRlc2NyaXB0aW9uPiA8L3JkZjpSREY+IDwveDp4bXBtZXRhPiA8P3hwYWNrZXQgZW5kPSJyIj8+wEPqmAAAAZZJREFUeNrsm7FKw1AUhpuSV9CnyFgR5zoK4lCcXMWCoy0+gmjHguLqJA4iFHGwcxEd8xT2IVIqKgGTNvcm59zE+/0QWkLK3/z5z8k9+UmQJEnLZwQI8C1A/+HEKyWuezfB8jNM7xzsnnlx8levo9/v7ZbnCLN23o3vxYmPTg+dc+YKsMT5UK4cLi5HteFUK4E4jr82TRThpAdoEUVRpH5yRTjDVfbRhgvO0MUVmzy/1IaTHmBy8GA6L7cC624Y/+bxaVKK82B/z16An5pMW/N4a9Pqj9y+fxr1gTTnznbHinP29rH2GEqgibeuKuG9A9pNXL7iAHoADkAABEAABNAfhkzW9FWiyJpeRQCbaa4s1k1zlICUA/IeI0vCBWemAFkBgjRccFICCIAAhKOEo1pWIxz9L7OALQhHC1q2Ng4gHKUH/IV0UJkF6UDWOByVDCrzOCUDWUqgibcuhiEtAQhH6QH0AL97AAIgAAIwDNmu6auEZCBrJIB0UGkzzVECUg4gHFUG4WgdSiD9RqUv4OVp3wVYCDAAeZ2u3HYr9/oAAAAASUVORK5CYII=' ' class=\"itemThumbnail\">\n",
       "                       </a>\n",
       "                    </div>\n",
       "\n",
       "                    <div class=\"item_right\" style=\"float: none; width: auto; overflow: hidden;\">\n",
       "                        <a href='https://geosaurus.maps.arcgis.com/home/group.html?id=00df55a8a6324c5aa4fc946d01aebb01' target='_blank'><b>Gallery</b>\n",
       "                        </a>\n",
       "                        <br/>\n",
       "                        <br/><b>Summary</b>: Content in this group appears on the organization gallery.\n",
       "                        <br/><b>Description</b>:  This group contains a collection of maps, apps and mobile configurations highlighted in the organization's gallery.  \n",
       "                        <br/><b>Owner</b>: arcgis_python\n",
       "                        <br/><b>Created</b>: February 15, 2017\n",
       "\n",
       "                    </div>\n",
       "                </div>\n",
       "                "
      ],
      "text/plain": [
       "<Group title:\"Gallery\" owner:arcgis_python>"
      ]
     },
     "execution_count": 606,
     "metadata": {},
     "output_type": "execute_result"
    }
   ],
   "source": [
    "user_groups = me.groups\n",
    "print(\"Member of \" + str(len(user_groups)) + \" groups\")\n",
    "\n",
    "# groups returned with rich HTML display in a notebook\n",
    "user_groups[0]"
   ]
  },
  {
   "cell_type": "markdown",
   "metadata": {},
   "source": [
    "## Searching for user accounts\n",
    "The [`search()`](/python/api-reference/arcgis.gis.toc.html#arcgis.gis.UserManager.search) method on the `UserManager` class provides the means to locate specific `users` in the organization. The `query` parameter accepts standard `ArcGIS REST API` criteria to explore the full-featured text search engine of the organization.  Consult the [**Search Reference**](/rest/users-groups-and-items/search-reference.htm) for full technical details to help set expections for results and understand how the search operation behaves.  Specific [user search](/rest/users-groups-and-items/user-search.htm) documentation will also help you determine how to construct a `query` argument to satisfy your needs. To illustrate searching, let us connect as an organization administrator and search ArcGIS Online as there are many more users available there."
   ]
  },
  {
   "cell_type": "code",
   "execution_count": 608,
   "metadata": {},
   "outputs": [],
   "source": [
    "ago_gis = GIS(profile=\"your_online_admin_profile\")"
   ]
  },
  {
   "cell_type": "code",
   "execution_count": 609,
   "metadata": {},
   "outputs": [
    {
     "data": {
      "text/plain": [
       "17"
      ]
     },
     "execution_count": 609,
     "metadata": {},
     "output_type": "execute_result"
    }
   ],
   "source": [
    "# search the users whose username begins with _Esri_Curator_\n",
    "esri_curator_accounts = ago_gis.users.search(query=\"username:Esri_Curator*\", max_users=25, outside_org=True)\n",
    "len(esri_curator_accounts)"
   ]
  },
  {
   "cell_type": "markdown",
   "metadata": {},
   "source": [
    "> **NOTE:** The `max_users` argument by default is set to 100 and can be modified. Responses are limited to 10,000 results per query. See Web GIS [Considerations and limitations](/rest/users-groups-and-items/considerations-and-limitations.htm) for full details. To return more than 10,000 users, create a `query` argument using search filters and append results to a list to get the entire set of results."
   ]
  },
  {
   "cell_type": "markdown",
   "metadata": {},
   "source": [
    "Each element in the list returned is a `User` object that you can query."
   ]
  },
  {
   "cell_type": "code",
   "execution_count": 610,
   "metadata": {},
   "outputs": [
    {
     "data": {
      "text/plain": [
       "[<User username:Esri_Curator_Basemaps>,\n",
       " <User username:Esri_Curator_Boundaries>,\n",
       " <User username:Esri_Curator_CR>,\n",
       " <User username:Esri_Curator_Demographic>,\n",
       " <User username:Esri_Curator_DK>,\n",
       " <User username:Esri_Curator_EarthObs>,\n",
       " <User username:Esri_Curator_ES>,\n",
       " <User username:Esri_Curator_GL>,\n",
       " <User username:Esri_Curator_Historical>,\n",
       " <User username:Esri_Curator_IE>,\n",
       " <User username:Esri_Curator_Imagery>,\n",
       " <User username:Esri_Curator_KR>,\n",
       " <User username:Esri_Curator_Landscape>,\n",
       " <User username:Esri_Curator_Oceans>,\n",
       " <User username:Esri_Curator_SR>,\n",
       " <User username:Esri_Curator_Transport>,\n",
       " <User username:Esri_Curator_Urban>]"
      ]
     },
     "execution_count": 610,
     "metadata": {},
     "output_type": "execute_result"
    }
   ],
   "source": [
    "esri_curator_accounts"
   ]
  },
  {
   "cell_type": "code",
   "execution_count": 611,
   "metadata": {},
   "outputs": [
    {
     "data": {
      "text/html": [
       "<div class=\"9item_container\" style=\"height: auto; overflow: hidden; border: 1px solid #cfcfcf; border-radius: 2px; background: #f6fafa; line-height: 1.21429em; padding: 10px;\">\n",
       "                    <div class=\"item_left\" style=\"width: 210px; float: left;\">\n",
       "                       <a href='https://geosaurus.maps.arcgis.com/home/user.html?user=Esri_Curator_Basemaps' target='_blank'>\n",
       "                        <img src='data:image/png;base64,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' width='200' height='133' class=\"itemThumbnail\">\n",
       "                       </a>\n",
       "                    </div>\n",
       "\n",
       "                    <div class=\"item_right\" style=\"float: none; width: auto; overflow: hidden;\">\n",
       "                        <a href='https://geosaurus.maps.arcgis.com/home/user.html?user=Esri_Curator_Basemaps' target='_blank'><b>Esri Curator for Basemaps</b>\n",
       "                        </a>\n",
       "                        <br/><br/><b>Bio</b>: This account is managed by Esri, Inc. staff and used to curate Basemap content for the Living Atlas of the World.  To nominate your content for the Living Atlas, please visit livingatlas.arcgis.com/contribute.  To contact the Esri Curators, please email curatelivingatlas@esri.com.\n",
       "                        <br/><b>First Name</b>: Esri Curator\n",
       "                        <br/><b>Last Name</b>: for Basemaps\n",
       "                        <br/><b>Username</b>: Esri_Curator_Basemaps\n",
       "                        <br/><b>Joined</b>: March 31, 2015\n",
       "\n",
       "                    </div>\n",
       "                </div>\n",
       "                "
      ],
      "text/plain": [
       "<User username:Esri_Curator_Basemaps>"
      ]
     },
     "execution_count": 611,
     "metadata": {},
     "output_type": "execute_result"
    }
   ],
   "source": [
    "esri_curator_accounts[0]"
   ]
  },
  {
   "cell_type": "markdown",
   "metadata": {},
   "source": [
    "Once you know a user's `username`, you can access that object using the [**`get()`**](/python/api-reference/arcgis.gis.toc.html#arcgis.gis.UserManager.get) method. Let us access the Esri curator account for historical maps"
   ]
  },
  {
   "cell_type": "code",
   "execution_count": 612,
   "metadata": {},
   "outputs": [
    {
     "data": {
      "text/html": [
       "<div class=\"9item_container\" style=\"height: auto; overflow: hidden; border: 1px solid #cfcfcf; border-radius: 2px; background: #f6fafa; line-height: 1.21429em; padding: 10px;\">\n",
       "                    <div class=\"item_left\" style=\"width: 210px; float: left;\">\n",
       "                       <a href='https://geosaurus.maps.arcgis.com/home/user.html?user=Esri_Curator_Historical' target='_blank'>\n",
       "                        <img src='data:image/png;base64,/9j/4AAQSkZJRgABAQEAdwB3AAD/2wBDAAMCAgMCAgMDAwMEAwMEBQgFBQQEBQoHBwYIDAoMDAsKCwsNDhIQDQ4RDgsLEBYQERMUFRUVDA8XGBYUGBIUFRT/2wBDAQMEBAUEBQkFBQkUDQsNFBQUFBQUFBQUFBQUFBQUFBQUFBQUFBQUFBQUFBQUFBQUFBQUFBQUFBQUFBQUFBQUFBT/wAARCACWAJYDASEAAhEBAxEB/8QAHwAAAQUBAQEBAQEAAAAAAAAAAAECAwQFBgcICQoL/8QAtRAAAgEDAwIEAwUFBAQAAAF9AQIDAAQRBRIhMUEGE1FhByJxFDKBkaEII0KxwRVS0fAkM2JyggkKFhcYGRolJicoKSo0NTY3ODk6Q0RFRkdISUpTVFVWV1hZWmNkZWZnaGlqc3R1dnd4eXqDhIWGh4iJipKTlJWWl5iZmqKjpKWmp6ipqrKztLW2t7i5usLDxMXGx8jJytLT1NXW19jZ2uHi4+Tl5ufo6erx8vP09fb3+Pn6/8QAHwEAAwEBAQEBAQEBAQAAAAAAAAECAwQFBgcICQoL/8QAtREAAgECBAQDBAcFBAQAAQJ3AAECAxEEBSExBhJBUQdhcRMiMoEIFEKRobHBCSMzUvAVYnLRChYkNOEl8RcYGRomJygpKjU2Nzg5OkNERUZHSElKU1RVVldYWVpjZGVmZ2hpanN0dXZ3eHl6goOEhYaHiImKkpOUlZaXmJmaoqOkpaanqKmqsrO0tba3uLm6wsPExcbHyMnK0tPU1dbX2Nna4uPk5ebn6Onq8vP09fb3+Pn6/9oADAMBAAIRAxEAPwD9NNc8RWnhrSjdXRZ5GdljiVjuc5PA9vevL9T8d63q0hKXLWUPaK3JGPqepoAzTqurE5/tS+/8CH/xo/tXVv8AoKX3/gQ/+NAB/aurf9BS+/8AAh/8aP7V1b/oKX3/AIEP/jQAf2rq3/QUvv8AwIf/ABo/tXVv+gpff+BD/wCNAB/aurf9BS+/8CH/AMaP7V1b/oKX3/gQ/wDjQAf2rq3/AEFL7/wIf/Gj+1dW/wCgpff+BD/40AH9q6t/0FL7/wACH/xo/tXVv+gpff8AgQ/+NAB/aurf9BS+/wDAh/8AGj+1dW/6Cl9/4EP/AI0AKusavGcrql7n3nY/1rd0P4l6lpsypqJN/ak/MxOJF9we/wBKAPVbK8t9Rt4Lq1k82CVNysCeelFAHjnjjUX1XxNcRk5itWaFF7dSSfz/AJVVtbXdjigC4LMY7UfY19BQAfY19BR9jX0FAB9jX0FH2NfQUAH2NfQUfY19BQAfY19BR9jX0FAB9jX0FH2NfQUAH2NfQUfY19BQAySzAHArMuocA8UAdt8I9VYSXumyN+6RfPjHpkgN/SigDjtX58Sap/19y/8AoZrRsh8tAFmigAooAKKAFAzUsdrJJ0U0Acx4q+JvgzwMCNe8T6bp8oBbyGnDSkDrhFyx/KvK9c/bb+GGjuEtpNU1bIzvt7TYn0y5U/pQBix/twadqF2sGkfDrxDqocZUxuoLfQBD/Oul0r9pXWtRkxL8F/GsMZHyvDD5uT9NgoA9d8Fay/jXQhqTaHq3h9jI0f2PWbfyJ+P4tuT8p7GtmTT2XpQBXlt2QHIrDvRigDY+GJI8S3PP/Lq3/oaUUAYmrf8AIyap/wBfcv8A6Ga0rL7tAFmigAooAUDNJdzW+m2U17f3MNlZwrulnuHCIg9Sx4FAHzt8R/23vDPhyZ7Dwdp7+Kb/ADsF0+Y7Xd0wvG6T8AM+tctYeBv2i/2i0WfVL5/Bnh2f5ljkJtFKH0jX943HdqAPR/Bf/BOvwhYMs/ibWtT8RXT8yJC32aJmPfIy5P8AwKk1D4gfsy/BHXr7Q4dCtZ9YsZPJnFtpTXZ8wcFfMfKlgeD70AXp/wBsuHTl8rSPg940MA4XOmmBSOxAVTWNqf7dWr2cUhX4O+IlcOAoujLEu3HJJ8k4Oe360AY9r/wUa0lWMeqeA76zuFYh44b1XK+n3lU59sV02ift+fDXVMrqOn65o2CBue3WdT9PLYn8xQB6j4Y+OPw38ejZovi/TJp2wPs88vkS5PQbXxz9K2NV03KbgMqeQR0NAEvw3t2i8TXOf+fVv/Q0ooA5/Vv+Rk1T/r7l/wDQzWlZfdoAs0UAFOVSxwBQBwfxg+OHhr4I6SJtWkN5q86k2mkwMPNl/wBpv7if7R/DNfMGg+Gfip+21rxur25/sbwbBKQZNpWzg/2Y06zSe5/TpQB2PgD4SaP8G/23/DHhXT1lvLIaZ5vnX2GaSRomJkxjA5U4A6V956hdafoVo13qd7BYwL1luZAg/M1UYubUYq7ZMpKCcpOyR5p4i/ab8G6E7R2H2nW5172ybYyf95sfyr85fjl4ImvPGGv+KdIt5Dpeo3Ul7Jbu2+W2Z2LMOByuSeewr255PiKeHdaW66dbHhwznD1MQqEdnpfpc7b4L/tq+OfAmmW3hvUNVS90lMJb3l9F501sOgUsTkp9ckfSvoGH9qTxuY1PnabcI3zAta5BH4MOK6srweFxtNqd+ZefQ5c1xuLwNROnblfl1JZ/2goNega38TeBfD+uW8gxKJIBlh9GDCsPUPBv7O3xIyupeFLrwVeyDb9q0x2RF564XKj/AL4rbE5FKK5sPK/kzHC5/GT5cRG3mtjjfFv/AATxGsWT6n8NPGtl4gtxlltNQIVx6ASpkZ/3gK8Zu/EHxq/Zh1JLPUH1XSLZWwtvfg3NjMB2UnK4/wB0g18rOEoScZKzR9XGcZxUou6Z9afse/tKn40eJtS03UNGGm6tZacZ5JraTdBKvmIvAPKnJ6c0VBZ6Hq3/ACMmqf8AX3L/AOhmtKy+7QBZooAciFzgV5L+0R+0NYfA/R0srJYr/wAXXke62tH5S3Tp5svt6L3+lAHhv7On7NGu/tF+IZPH3xAuLp/D80xkzMxE2psD0X+7EOmR16D1r9DtN0jS/CWhxxRRW2k6TZRYRFAjihQfoBTSbdkJtJXZ8F/tA/ECCb9r7wd4r8Lyq629ssEN1NHlHlQSqxCnqNrrgnvV3X9b1fxXfNeavqE+oXB6NM+Qvso6AfSvtcmw0aLqOa99O3pofEZ3iZVlTVN+5JX9dSjFpc83+rjd/oKJ9JurdC0kDqvQkjivblj8LCqqE6iU30vqfMqjUcedRdjxz4mfCjekuraJBhxlrizQfe9WQevqPyrL+FPxFbTJY9G1Ob/QnO23lk/5Yt/dJ/un9DXy8o/2VmCmvgl+T3+5n2cJf2tlzg/jj+a2+9fie2EEHnigqQM4IHr2r7RVIN2Ul958S6c0ruL+5lzSNa1Hw9eLd6Zez6fcr0lt3Kn8fUfWvRbD9rrQJp4/CXxOtre7gvIwPtcltuicE4HmKRtPPcc+1eBnOGpTpe1lpLa/+f8AmfQ5JiqsKvsY6x3t/l/l1PRfgr+z/wCCfAvxAv8Axh4Hm8jT9W05oDaQyebbD94jBoznK9Mbc96K+CacXZ7n36akrot6t/yMmqf9fcv/AKGa0rL7tIZZpQMnAoA4r41fFzTvgl4Hm1i5CXGqT5h06yY8zzY6n/ZXqT+Hevlz9mr4C6t+0346vvG/jWWa48Px3Je5kfIOoTdfJT0jXgHHQcUAforqeqaR4A8PpPciO0s4EEUFtCoGQBhURR7flXzl8RfGeo/EmcJeSyWumI2YrCBsJ7F/7x/T0rirZo8tqRlTinPz2XmePmEvaQ9gnvv/AJHzL+0DpyaD4m8D6lH+6to7kpI24g53oT+G0Gva9Rk0fw/bG6v5rSwgHzeZcOFH4ZrixGcZhUpxnTm06l78ul7aHBLDU3SpLlva6X3nnPiH9pLwho2+OxNxrMoHAto9kec9NzY/lXmutftQ69qDNHpel2VkhJH7wNO5Hb0ArDDZbO6q15a7+fzZ308DdfvPuOf/ALU+JficNFFHqW0/vP3UAgGPZsDj2zWDqvw48T6fp1zql/pssUUbbpWdwXOerYBPHqa+1qQxuLi6tRNpa6/p/wAAunPA4SSpU2k3ppv8/wDgkPg/w7deMtQks4tWWznVN6rO7kyDvtwe1dk/wP1oAAeIIWHp+9H9avC5ZXxdP2tJr7yMXmlDCVPZVU9r7E2mfCL4imWSz0W+aeEHOYbxkXnuQelVPF3wn+Kc9rFa6npU2pwQ/MkkbxSEevzZDGvNx2K/s6p9TxFVXfS915X7FYethMVavCNmtm1Y98/4J3a94l074h+J/CuqS3UFra6Z9oWyugQY382NcgHtgmiodT2lpbnpRior3dj6O1b/AJGTVP8Ar7l/9DNaVl92pNCzT3uLfTrO5v72ZbeztY2mmmc4VEUZYn8BQB8AarrV3+19+0hpOkvevp+jXly1pYqRnyLVFZ2IH99whOfUj0r9MtE0fQfhZ4Jt7S0gTTdD0m3EcUSDoB/NifzJpNpK7E2optnz9408YXnjjWnvLjMduuVt7fPESZ/me5rzzxn8R/Dvw/t92r3ypcEZSzh+eZ/+Ajp9TivhJupjsQ+Rav8ABf8AAPnkpV6jfVnzD8X/AIzP8T/slrHpqafYWcpliLvulckY+bsBjsKu+Gfgv44+K3karfTtFZTKDHfajMWLL/sJ1xx7CvqF7LLqEed3t97b7HsJRw8Fc9Z8O/su+F9GCPqs91rlwOqE+VF+Q5I+prvdO8G6PoMQj0zSLOwUALmGEbiB6seT+dfW5VltSfLicZp1UO3nLu/LZHy+Nx8614QdkSXFpwayr3T0lieORA6OCrKRkEHqK+4i76M+bkrao+YfiL4Rufhp4rgvNNZorOR/OtJAc+Ww6of88ivbfh7qQ+IdlYy2KgTTHZLH/wA8nH3s+w6/QivmsFXjltXEU6r92Kcvktfy/I+jzKm8dhqOIhu9H8/8n+Z79pmj22haetrbLhQMs/d29TVG/OM1+AYjFVMbiZ4mr8U3d/P/AC2PbhTjRgqcdkb/AMDdMtj8SLzUBEFvDpTwGZeGZPNiIB9cGivvMrm3hY38zupSfKW9a1SS28W6ypHmRi9l4PUfOa3tK1KC4XAbY2PutxXrnUaqLuYCvm79uP4qHw54RsvBGnzlL7WB598UOCtsp4U/77D8lNAHgv7H8Mul/tSeCoLqJ4J4rueJ4nGGRvs8owfxr7d+P3xNs/tMtpNexWeiaWSZppGwsko6/XHQD1zXmZhNxo8kd5aI4sVJ8nKt2fF3xD/aZvNTd9P8IxPZwMdn26RMzyf7i/w/qaz/AAD+zf4j8czDVPEU8ukWkx3s9x891N3zg9M+rflXIvZZTh+aWs3+L7eiFCMcNDXdnqHxI+Cnh7wt8HNfi0XSla9giW4+1S/PO5RgSdx6cEnAwK1P2XtY/t34UW1tuBk064ktmAbJ2k7lz6Z3Gu/h9xzGanidXGTa9bafccOKlOWGbv1PWTY8dKrzWWO1fp6kfMOJn3NnjPFZF3a4FdUJHJOJzni74WXXxF8O3WnrBsLLvguJOAkg+6R6+n414Z+zv45l+GnxMbSdVUwWt/J9guVk48iYNhW9vm4Psa/O8/xOHx06uHw07zUbSt310v8Agz6zKYTWGcai0vdf16n2ncuEVixCgdSTxXG674ntbXesX+kSf7P3fzr8VdWNJXe51zkkjof2cdYuNT+I2oeawVBpkhCL0H72Kiv0PJJueCjJ93+Z04d3hc1fEn/I3a1/1+y/+hmrFl9z8K+hO43dHungZneUpAgLOW5CqOSfwFfnv8BPiFP+2T+2/dxX2m+Zodndy37TRy5RbK2YLCpB/vN5Y4/vUAV/iF8YNH+EH7Y3iy+TUYU1HSPENxP5EmYfvknapYYOA/6VH/aHi39pHxOwtJFubZG3BI5P9FtFPdiOrH35Nc1bkh++qbRT/r/Ixmkn7SXQ+j/hj8CNA+HqR3LxrqusgZa9uE4Q/wDTNf4fr1r1OOPPPevzzG4qeJqOpL5LsjzXJ1JczE1bQU1/RNQ06UEx3lvJA2ODhlI4/Ovmr9jnVJNJ8ZeJPCl1mOSSPzViI5EkTbXGfoR+Vfp2TYX6lhsPJ7zu389vwsYc3tadaPa34H1m1jx0qpPZYHSvtVI8WUTKurTrxUtpptpZKJrkp5nX94Rhfwr5TirNKmXYHlpStKo7X7Lrb8vmbYOhGrVvNaIfdeIbS3QkO0oH9xeB+PSvzz/b58QX3gbxlYa9oENpHba2hE0pcO8dwmATtB4yMHOOoNfkWQY2Kxypx1Uk0307/ofT05rnse4fAD47Q/Fr4S6JqWrazbjWoY/sl9FcXCRsZU437SR94YP1JruLpxMrGMiUf9MyG/lXgYyhOhi6kJJ2TevlfT8DzqqcZNM9I/Zfz/wsXUgf+gXJ/wCjYqK/Tch/3GPq/wAztw38M6TxJ/yN2tf9fsv/AKGasWX3Pwr6M9A4v9pnxu3wz/Zs+IHiCOQQXUWlyW9u57TTYiT/AMecV8PfsGfFfw/+yh+zt8TvjBqsKXev6jfReH9A0+QYa6mSPzWwevlgyIXI/uAdSKAPjDxp4z1n4m+P77xV4tuZr/VNbu/td5ckbDLubB28YAAG0YGBtx2r9S/h14Q0f4e+G7PSvDVsthp6IrgxHDSkgfO7fxMfU18ZxLVnCnThF6Nu/wArW/M8jMJSXLFbHf2WtahFgC6kI9GOa3bLxHf8BnR/qgr5fJMNXzXMaWETvFu8vKK3/wAl5tHnTrujTc2dNp2uXRwTHET9D/jX58/FL4vax+zx+21GZLOxi0WXUIbzckb7ja3AAk/ixn5n9s1/QmY040owlHo0RltSVRyg+qP0pmvrgxl0ERjxuDgcEdc59MV4T8VP2vvhx8MWlg1bxhZz3yHDWOlAXUwOcYOzIXBznJBrrlOjQXNUehyxhWrvlprU+TviD/wU2a6aSHwt4YnkQhgLjVrnbg9j5cfUd8bhXjWqftj/ABw+Ik8sOk389uCu0waFYZZc99wDOD75r4vOo4XNnTeIh7tO7V3prbV/ce9hMAsMnKpK7f3FN/hr+0V8RZYnu7TxXdq3Ikvbl4kUHudzDHamap+xl8YWsbnUL3So5hbwvMyyahG8hCgsQo3ZJOOB3NfOf2rleDfs6c0ulor/ACO72tKOiPJvh74B1X4meKrXw9on2c6pchjClzOsKuVBYgM3GcA8e1eyn9lv44eHpBJa+ajocg2errnP4NXZi8xwmGqKhiHur6q6HUrU4PlmfZf/AAS5s/ifpXxj8WWfxAOr/Yl0JjajUZPMTf8AaIgdrZPaiuzDOhKmpYe3K+2w4ezavDY+sPEn/I3a1/1+y/8AoZqzY8gCus3PmP8A4KjeI30T9mSy0yJwh1fW4InH96ONHkI/76CflXBfsE/8E99E+PPwz8F+PvH+v6hqHhqGe7a18IrH5UJZZyCzSZyUfaCcAEgAZwKAPn3/AIKVaNY2H7Qkl5pFvb2WkS2otLO2s4hFDFFbsYkCKAABtC19TfBPxXF4i+D/AIS1Z3Zmk0+OJ93LF0Gw/qtfLZhg6mbxw9Gh8U58q8r3vf0t+B8/jKqWGjWlsrnoNlqLTYwgX9a6bSxuIJ61+r5Pw3g8ghL2F5TlvJ7vyXZeR8fLFTxLXNoux0kmrad4e0ubUtVvrfTdPt1Ly3V3KI40AGSSx4r8yf8AgoH8ZvAHxl8daBd+C72fUrnTLV7K9vfJ8u3lAfcnlk/M2MsM4A6YzWeaVIqnyPdn0uVU5OfOtkcPd/Gj45ftFwaZ4PsNQ1rWbS2torOLSdFjaONkRQgMuzG7gDJc4+lev/DT/gmP4w1mOK98d61beF4HG42Vri6u+R0Yg7FOfc149ChVxs7yenf/ACPZrV6WChaK17H0X4V/Yq+E/gGNSvh/+3bpQc3OsyGfP/AOEH5V6bpunWGh26wabY22nwqMLHawrGAPoAK+D4/jTw6w2GpafE357JX/ABPGw+Jq4iU51Hp0RO8xbqSfqaheUd+R3FfkcYnU2fl78ZtBuv2f/wBpC5utNDQw218mq2LAcGJ237R7D5lx7V+idnrdt4h0ax1WzYNa3sCXMRBz8rKCP51+g53+/oYbFd1r9yf+Z0Yp80IT7o9a/ZWfd8RtSH/UKk/9HRUV9JkemCj6v8zXC/wzrPEn/I3a1/1+y/8AoZq1p3Va+hPUPiH/AIK8XzL4T+GNiCdpur2cjsTsiWvsr/gmtOtn+xV4DuHBKxQXTkDrgTOeKBPQ/Oj9vfw+dW8G6T4gjUlrPUpIpDtydkuSMntyv60fsUeLTqvw3udFkcF9JvWKIXydkgDZx2GQR+FXwbKNWpTc905W9df0bPjcdeeUtro1+f8AwT6n0qTpXk/xl/bU8KfCRZtN0fZ4o8SKCpgt5P8AR7duf9ZIOpB/hXn6V+lZjio4Snzy36LueDluFni6ihHZbvsfGniDxt8W/wBrnxZHYAX/AIgl35h0uwQpaWwPQlR8qgc/Mxz15r2zUP8Agm3rHhn4MeJPE2sa8s/iywszeW2jaYnmRYT5nR5Dyzbd2NoAB7mvhYUKuM5q03/XY++nXpYPloQXb/hzrP8AglT8TodO1Hxn4HnaOOW9jTVLQ4AZynySrnqflKNj/ZJr751G7BzzXt5b71FeR4mZe7Wfmcjq8odHGetc+ZvevyjxDpv65h59HBr7m/8AM5sDL3ZLzI2l96ieX3r8qSPQbPj/AP4KDeCBe6B4e8XQR5ls5Tp9ywHPlvloyfYMGH/AhXVfse+NT4o+ClpYyyb7nRZ3sm4x+7+9H+jY/CvuZfv8kpv+SX6tfqjrm+bCp9mfZH7KTZ+JGp/9gqT/ANHRUV9Nkq/2KPz/ADN8I/3R2PiT/kbta/6/Zf8A0M1b004Za989U+DP+CvXnbfhh977P5d59N+6P9cYr7D/AOCXepy69+w/4cicrvt5dRsxgYAAmfbn8DTW6E9j5D+JOnn4m/CTxdoDgPqSQSSQgHBd4m3oR9SuD9a+QP2X/irYfC7xteyazcNbaPfWrRzOqFtsifMhwASf4l4/vc11YXDRyLN61B6QjPmX+GS/TVfI+Ly9vMcrqU4/E/z/AOHRt/Gf9rLxD8RDcaL4eMuieH5CYysR/wBIu1PHzsOgP91fxzXU/AX9iTVPGrW+s+OZJtC0dvnWwXi7uBwQTn/Vqffn2Fet+9znFuT0ivwX+bPS/dZLhFFayf4v/JH6CfDvwj4e+G+iRaT4a0q20ixXqlumGc+rt1Y+5Ndut7HcQSQzqJIJVMciNyGUjBB+oJr6f2MYRUIqyR8wq0pyc5O7Z+UFncTfso/thZUmHT9L1YqegD2M39PLcflX6pXOqx3EayROJInAZGU8MpGQfyrxcqXK6lJ/Zf8AX5Ht5q+ZU6q+0v6/M57UL3rzWBNqccJO/IHqOa5+JOHP7fw0I05KNSDum9td0/XT7j52ji1h5tvZlCbxTZRNh2kHvt4qe21W31BC1vMsoHXaeR9RX4pmvCGa5NQ+s4mCcOri727X2sepRzChiJckHr5nFfG7winj74U+JtFKB5ZrRpIMjOJU+dCPfK18ffsOeK20rxzrfh+VtialaeaiMDnzYjn/ANBLVWXfvMsxFLtr+X+R7tF82GqR7a/19x+mv7Jr7viVqf8A2CZP/R0NFfT5L/ucfn+Z1YP+Edv4k/5G7Wv+v2X/ANDNWbA42mvcPWPiP/grppryeDfhnqIVjGl5eW7MOgJSNhn64P5GvcP+CL/iptY/Z08SaJLt/wCJT4gkCAf885YY35/4FvoA+O/jl8crD4LeN/EWj6TImp69ZX9zbiNTuihIdh+8I6/7o/Svii9u3v7ye5lCiSaRpGCLtGScnA7Dmvoc9xVHGYtVKS1UUm+/X8Ls+XyDLqmAoSdV6yd7dl0+bPt/9lz4M+FdC8NaT4tYJrWs3sQnjuJ1G20z/Ci5IDDkFjznpivqGx1Dpls19lgMLDD4WChrdJt97nyGYYupicXNz05W0l2sb1pqWMc1pw6px1rWUDOE9D4h/wCCi/w/E9z4f8dWsZO5f7MvmUdxlomP4Fxn6V7T+yT8Vz8QvgjpC3Exk1LRh/ZlzubLEIB5bnknlMcnqQa+bw69lmc6f8yv+T/zPpcRL22WU6n8rt+n+R6fqOprHE8kkixxqCWdzhVHqSeleO+N/wBovwB4SZ473xLazTqQDBY5uHGef4MjH419JVxNDBx5q0rfn9x8xSwtfGy5aMb/AJfeeK+Jv21vDqCZdJ0TUL6QNhHuGWFGHr/EfwxXFTftra3ZX0Vzo2g2loQCHF1M8u/2428V8xmGfU8XQqYVUrwmmnfs/Q+iw3DPJJVK1XVa+7/m/wDInk/b28cu5I0nRFX+75MhH/odeKeE/iPf+DfiFF4u0+3t0u47h5/spDCEh85TAOdvPrX5thsroYWnOnTb95Wf9fM+tp4SFJSSe5+nP/BM39oCf40fFvxLZzaNFpj2WhNMZI5y4fNxCMYI4/OiuzCYZYSkqUXdIujh/Yx5b3Pp/wASf8jdrX/X7L/6GasWX3fwrsOs+bf+CmfhZvEf7LMmpR8toerW123H8D7oT+siflXjH/BG/wAXv/wnPxO8BR30mnXPiHQvtFpdxsN0M0JZNyqerATlv+AUAeH+MP2GPGnw0+Jt3o3xBuYIoh/pQubO485r1GY4cEjjOCTnkelc/wDtFfC/TdB8MaTquhaelnb2bfZblYhxtblHY9zuyM9TuHpX19PKFDKamMqfE7NeSuvxZ8ZVzpyzengoaRV0/N20+SPSv2GvF8Ws6JqvhW7lYT6e32u1UHG6Jz846dmwf+BGvri2hhiUBY1/EZr8xzvijNKPLgsPP2cYJard+r/DQxxWBowxdScle7v95dQIc/Lgn04qcKf4ZCPY81llnH2OwrUMfFVY99pf5P5/ecs8BTnrTdn+B5v+0Npmj6x8JPEGneItRs9Ms7iAmG6upQoWZfmjIB5JyMYAJ5Nfnt8HPjrr/wAEZ9YfRY7e5XUIBE0d0GMaOpysgAIyRyPxr7yWdYbHTpZhgHfRppqzT8/v6HsZbhJzw1TDV17re/8Al9xB4g+InxD+NGqfZ7u/1PW5XOVsbRT5SZ44jQYA5xk/ia6/wz+yP4w1ZUl1aS00GBgCVnfzJevI2r0OPU1eGwWLzeq5/e3t/XkjvxWOweT0lB6dorf+vNnoemfsneFtLCNqOpX+pyK+4hCsMbD+6QMn8Qa6LTfgt4I0lpDB4ftpg5/5ey0+PpuJxX3uE4awdJXrXm/PRfcj89xnFGNqu1G0F97+9nX+DPh18P4J3tL/AMH6JKJTmOaa0ViremT2NeC/tp+B7Pwz4z0XUdNsobGzvrMxGG3iCRiSNuTxxkhh+Vfl3EGCqZbn3LBtUqsbxXRNLVL5q/zPoeHswq4u0as22rp3+9H3h/wTP8PeHIdYi8QaNpVrp17qPhgC6ktAVDsJoQ3Gf7wNFeXhJznTftHdptfc7H1mGnOUXzPZtH0Z4oUx+MNaU9ftkp/8eNPtJAABXaeiZXxT8ERfFT4ReMPCDn5tW0ya3iOM7ZduYyB6hgtfj9+x18TZPgH+1P4K13UCbO3tNS/s/Ug38EUuYZQfpuJ/CgD9dv2/fAY1TwxoHjWzXzTYSfY7l05Hkyco3HYMOv8AtV8bDwhZ+O/AHiHQroKFv0MIkI+4wAKN+DYNfUZni5R4VbhvGUU/lNP/ACPy/HU/q+fe07pS/C36HxD8MfFl78Efi7aXt1G8TafdNaX0PQmMnbIPy5H0FfptY6jBe2sNzbyrLBMiyRyKchlIyCPqDX47xBSvOnWXVW/r7z63Ml70Ki6ovLdKiszOFVQSWY4AHqTXzl8av219G8FmfSfBqxa/rK5R71ubSA98Y/1hHtx7npXg5flssfW5dord/p6swwtJ15W6dT5QFt8Sf2lPFLT7b/xJeg4MjfLBbKT0zwkY9v51P8Zv2e/EHwStNEn1ie2u01JGy9oSyQyLjMZY4ycEHOMV+ixxOGw1WGCho+iXSyvqfQqpTpyVFH09+z14m0TVPhhp8mkWFrptxAPs97FboFJmUcsx6ncMHJPeu3vdTzn5q/fsr5J4SlKmrKy/4P4n4tmvPDGVY1Hdpvf8PwMea4Mrcnio8ivcWh4D1Y1iWwq/eJwPrXI/tnaL/aHwu02/IbztOvEBIGeHUqc/iBX5Nx1UjGvgV1vP8oo+y4YbjiW/NfqfQn/BIO9m1rSb+PAxp9ncW3fo08Lr/NqK+Iw8eVSXm/zP1GjBrm9WfZ3xd8MS6dqw1qJC1peMRKwH3JAxHP1GPyri4bkDHNdJ3F6y1I286sGxg9a/JL/goL8H/wDhWHx91DUrODytD8Tg6paFBhVkJxPGPo/P0daAP08/Yp+MOn/tZfskRaDrtys+sWNp/YGrhjlw6LiGf6soVs/3lb0r5YvLO++GHjLVfD2sI0U1pMYJeOOD8rj2Iwfxr6XAYf8AtPLcXli3kuaPqv8AgpHwnEkPY1aGM6K8X/X3nzV+2D8NBFqFv440yMNa3m2G/wDLHAlx8khx2YcE+oHrXSfsz/tH6TovgK50TxVqK2baLGXtZXyWmgz/AKtR3ZScAeh9q/NK1CeMwEadvfg7W81p+R7STxeBi4atf8N+R5p8Yf2lPE3xivv7D0SO403Q5nEcdhb5M90c8eYRyc/3Rx9a7z4M/scfaVg1bx6zwxkB00aB8Of+urj7v+6OfU1VapDJ8IqdPWb/AD6s65yjgaKhH4n/AFc+uNCsdN8M6bFp2k2VvptjEMJb20YRR+A6n3Nc58X/AAPa/FfwBqfh+4KrNKvmWsx/5ZTryjfTPB9ia+Ho1ZwxEa7d2nf1PFhUcZqb33PhD4P+NLv4T+PLrSdV3W1rPJ9kvI3biGRWwH/A5z7GvqtrnzMHcGB5BByDX9W8MYjnw0qEt4P8H/wbnzPFOH5cVCvHaa/Ff8Cwnm+9Hm+9fZXPirF3RVFzq1qhAYbwxHsOTUf7QNq2sfCDxPCuC6WwmAP+wwY/oDX4jx1VbzPCQXRX++X/AAD67IlyNS/vL9D6z/4JQfs/a18G/glceJPElvLZar4tlF5bWU67Xt7NQBGWB5Bckvj020V5KSWx+tJWvY+3J7GK8sJbO7t4ri3k3B0c5DAkn0rzPWfgSk0zS6Rf/Zozz5Nzlwv0I5/OmWc83wY15XIF5p5APB3v/wDEV5T+1F+xJqX7RPwwOhtqGl2Wt2MwutNv5WkKxP0dWwmdrL19wDQB5f8Asa/sHfF39lX4lvrB8X+GNT8OalF9m1XTYZLkNIo5R0zFjerdM9iw717z+0d+ypf/ABivbDWtJu9O0vW4V8i5kuHcpcRfw52pncvTPofavUyzGfUMVGs1dbP0Z5WZ4L+0MLKhez0afmjxDV/+CfXjfUtAv9Ludf8AD1zY3URjkt5Xn2N6H/V8EHBBHcV88t/wRj+JZY7fHHhTb2z9pzj/AL9VtmuIwuLre2w9Plb+Lzff179zkyfAV8vpyp1pqS6W6Hs3wX/4Jia38KLZbqTU/D2peIWyHv2kmxGP7sYMXyjHU9TXrA/ZG8aD/mK6F/3+m/8AjVfn+Lyuti6rqSmvL0FXwletUc21+P8AkOH7JHjT/oKaH/3+m/8AjVNm/ZF8bSQyJHquhJIykKxmmIBPf/VVy0cilGrGU5rlTV/S+pg8BWaaTX4/5Hzt8VP+CSXjjxzrUWq2Hivw1Z3LpsufNNwRIR91uI+uOD9BXceB/wDgnZ8TNG8P2+nat4r8NXtxagRpcRvckun8O7MfUdM/Sv1rDZrSwuYVMRCL5J9NL66/mRisoq4vL6eGnJc8La62009dvxN//h3945/6GLw//wB9T/8Axuj/AId/eOf+hi8P/wDfU/8A8br6L/WfDf8APuX4f5nzX+qmI/5+R/E0/D37AXjODVEkm8SaEqKp/wBWJmPIx0KD1r3H4cfsc+HvCF3FfeI3XxTexkOlvMNlqpHQlMHdz/e49q+Az2pSzbHQxSTSjFKz7pt/qfQZZkcsH/GknrfQ+gAZZ5o/3ccaIhHDk9x7D0oriPrrH//Z' width='200' height='133' class=\"itemThumbnail\">\n",
       "                       </a>\n",
       "                    </div>\n",
       "\n",
       "                    <div class=\"item_right\" style=\"float: none; width: auto; overflow: hidden;\">\n",
       "                        <a href='https://geosaurus.maps.arcgis.com/home/user.html?user=Esri_Curator_Historical' target='_blank'><b>Esri Curator for Historical Maps</b>\n",
       "                        </a>\n",
       "                        <br/><br/><b>Bio</b>: This account is managed by Esri, Inc. staff and used to curate Historical Map content for the Living Atlas of the World.  To nominate your content for the Living Atlas, please visit livingatlas.arcgis.com/contribute.  To contact the Esri Curators, please email curatelivingatlas@esri.com.\n",
       "                        <br/><b>First Name</b>: Esri Curator\n",
       "                        <br/><b>Last Name</b>: for Historical Maps\n",
       "                        <br/><b>Username</b>: Esri_Curator_Historical\n",
       "                        <br/><b>Joined</b>: March 31, 2015\n",
       "\n",
       "                    </div>\n",
       "                </div>\n",
       "                "
      ],
      "text/plain": [
       "<User username:Esri_Curator_Historical>"
      ]
     },
     "execution_count": 612,
     "metadata": {},
     "output_type": "execute_result"
    }
   ],
   "source": [
    "esri_curator_bmaps = ago_gis.users.get(username='Esri_Curator_Historical')\n",
    "esri_curator_bmaps"
   ]
  },
  {
   "cell_type": "markdown",
   "metadata": {},
   "source": [
    "## Creating new user accounts\n",
    "You can add new users to an organization with two `UserManager` methods, [`signup()`](/python/api-reference/arcgis.gis.toc.html#arcgis.gis.UserManager.signup) or [`create()`](/python/api-reference/arcgis.gis.toc.html#arcgis.gis.UserManager.create). The `signup()` method **only** works for adding built-in accounts to an ArcGIS Enterprise deployment. It will not work with an organization deployed on ArcGIS Online. Unlike the `create()` method, `signup()` does not require administrator privileges. \n",
    "\n",
    "> Note, you can disable self-signup in your ArcGIS Enterprise which would render the `signup()` unusable if you want to configure organization access in an invite-only manner.\n",
    "\n",
    "You need administrator privileges to call the `create()` method. With an `ArcGIS Enterprise` administrator account, you can use this method to add both built-in user accounts (provider=\"_arcgis_\") and organization-specific identity store accounts (provider=_\"enterprise\"_). For an ArcGIS Online organization, you can only create users that use the built-in credential store. For built-in accounts, you provide an explicit password when the account is created, which the `user` can subsequently change upon login. For enterprise accounts using your organization-specific identiy store credentials, you can ignore the `password` parameter and your users will authenticate through that identity store. See the [understanding identity stores](https://enterprise.arcgis.com/en/portal/latest/administer/windows/managing-access-to-your-portal.htm#GUID-7C7592BD-900B-49A3-87F9-CB346105308F) documentation for details on configuring an organization for access.\n",
    "\n",
    "What any new user can do is based upon the [`privileges`](https://doc.arcgis.com/en/arcgis-online/administer/privileges-for-roles-orgs.htm) assigned through the [`role`](https://doc.arcgis.com/en/arcgis-online/administer/member-roles.htm) and [`user type`](https://doc.arcgis.com/en/arcgis-online/administer/user-types-orgs.htm) arguments of the `create()` operation. See the [User types, roles, and privileges](https://doc.arcgis.com/en/arcgis-online/administer/roles.htm) documentation for detailed descriptions on how these elements work together. A set of _privileges_ is assigned to a _role_, and then based upon those privileges a role will be compatible with certain _user_types_. Together these values determine what tasks and workflows a user can perform in an organization.\n",
    "\n",
    "The `user_type` and `role` arguments are required when running the method unless they have been configured through new member defaults. See the [Configure new member defaults](https://enterprise.arcgis.com/en/portal/latest/administer/windows/configure-new-member-defaults.htm) documentation for detailed instructions on how to set these values. The `UserManager` provides the [`user_settings`](/python/api-reference/arcgis.gis.toc.html#arcgis.gis.User.user_settings) property which allows administrators to both get and set these default values.\n",
    "\n",
    "Let us look at some examples of creating users:"
   ]
  },
  {
   "cell_type": "markdown",
   "metadata": {},
   "source": [
    "### Create user using _new member default_ values"
   ]
  },
  {
   "cell_type": "markdown",
   "metadata": {},
   "source": [
    "The `ago_gis` connection currently represents a default administrator role connecting to ArcGIS Online. Let's first examine whether _New member defaults_ have been configured:"
   ]
  },
  {
   "cell_type": "code",
   "execution_count": 613,
   "metadata": {},
   "outputs": [
    {
     "data": {
      "text/plain": [
       "{'role': 'org_publisher',\n",
       " 'userLicenseType': 'advancedUT',\n",
       " 'groups': ['96c9a826e654481ba2cf8f6d04137b32'],\n",
       " 'userType': 'arcgisonly',\n",
       " 'apps': [],\n",
       " 'appBundles': [],\n",
       " 'categories': []}"
      ]
     },
     "execution_count": 613,
     "metadata": {},
     "output_type": "execute_result"
    }
   ],
   "source": [
    "new_member_defaults = ago_gis.users.user_settings\n",
    "new_member_defaults"
   ]
  },
  {
   "cell_type": "markdown",
   "metadata": {},
   "source": [
    "> **Note:** The `userLicenseType` key refers to the _user_type_ parameter, and the `userType` key refers to the _provider_ parameter."
   ]
  },
  {
   "cell_type": "code",
   "execution_count": 614,
   "metadata": {},
   "outputs": [],
   "source": [
    "# Create an ArcGIS Online account using `New Member Defaults`\n",
    "demo_user1 = ago_gis.users.create(username = 'new_uq_user_A9b4K1',\n",
    "                                  password = 'Ready4W8bGI$',\n",
    "                                  firstname = 'demo',\n",
    "                                  lastname = 'user',\n",
    "                                  email = 'python@esri.com',\n",
    "                                  description = 'Demonstrating how to create users using ArcGIS Python API')"
   ]
  },
  {
   "cell_type": "code",
   "execution_count": 615,
   "metadata": {},
   "outputs": [
    {
     "data": {
      "text/html": [
       "<div class=\"9item_container\" style=\"height: auto; overflow: hidden; border: 1px solid #cfcfcf; border-radius: 2px; background: #f6fafa; line-height: 1.21429em; padding: 10px;\">\n",
       "                    <div class=\"item_left\" style=\"width: 210px; float: left;\">\n",
       "                       <a href='https://geosaurus.maps.arcgis.com/home/user.html?user=new_uq_user_A9b4K1' target='_blank'>\n",
       "                        <img src='https://geosaurus.maps.arcgis.com/home/js/arcgisonline/css/images/no-user-thumb.jpg' class=\"itemThumbnail\">\n",
       "                       </a>\n",
       "                    </div>\n",
       "\n",
       "                    <div class=\"item_right\" style=\"float: none; width: auto; overflow: hidden;\">\n",
       "                        <a href='https://geosaurus.maps.arcgis.com/home/user.html?user=new_uq_user_A9b4K1' target='_blank'><b>demo user</b>\n",
       "                        </a>\n",
       "                        <br/><br/><b>Bio</b>: None\n",
       "                        <br/><b>First Name</b>: demo\n",
       "                        <br/><b>Last Name</b>: user\n",
       "                        <br/><b>Username</b>: new_uq_user_A9b4K1\n",
       "                        <br/><b>Joined</b>: July 26, 2023\n",
       "\n",
       "                    </div>\n",
       "                </div>\n",
       "                "
      ],
      "text/plain": [
       "<User username:new_uq_user_A9b4K1>"
      ]
     },
     "execution_count": 615,
     "metadata": {},
     "output_type": "execute_result"
    }
   ],
   "source": [
    "demo_user1"
   ]
  },
  {
   "cell_type": "markdown",
   "metadata": {},
   "source": [
    "We can examine that the new user has been assigned the default values:"
   ]
  },
  {
   "cell_type": "code",
   "execution_count": 616,
   "metadata": {},
   "outputs": [
    {
     "name": "stdout",
     "output_type": "stream",
     "text": [
      "New user: new_uq_user_A9b4K1\n",
      "--------------------------------------------------\n",
      "  role:          org_publisher\n",
      "  user type:     advancedUT\n"
     ]
    }
   ],
   "source": [
    "print(f\"New user: {demo_user1.username}\\n{'-'*50}\")\n",
    "print(f\"{' '*2}role:{' '*10}{demo_user1.role}\")\n",
    "print(f\"{' '*2}user type:{' '*5}{demo_user1.userLicenseTypeId}\")"
   ]
  },
  {
   "cell_type": "markdown",
   "metadata": {},
   "source": [
    "> **Note:** We did not enter a value for the _provider_ argument but rather accepted the default `arcgis` because the organization we're connected to utilizes built-in user security. If we were creating accounts for an organization employing an organization-specific identity store, we would specify the _provider_ argument as `enterprise` and enter an  _idpUsername_ argument as well to specify the account's username within that credential store. To learn more about this configuration, refer to this [Understand identity stores](https://enterprise.arcgis.com/en/portal/latest/administer/windows/about-configuring-portal-authentication.htm#ESRI_SECTION1_83F7B85FEF594A6B96997AF3CADF3D38) help topic."
   ]
  },
  {
   "cell_type": "markdown",
   "metadata": {},
   "source": [
    "## More about user roles\n",
    "We briefly discussed how to determine what a _user_ can do within an organization in a preceding paragraph when we talked about [user types, roles, and privileges](https://doc.arcgis.com/en/arcgis-online/administer/roles.htm). Specifically, the [member roles](https://enterprise.arcgis.com/en/portal/latest/administer/windows/member-roles.htm) define a set of privileges. The _role_ can then be assigned to a _user_ as we've demonstrated above. An organization provides _default roles_ upon installation or subscription activation. See\n",
    "\n",
    "* [ArcGIS Online Default roles](https://doc.arcgis.com/en/arcgis-online/administer/member-roles.htm#ESRI_SECTION1_C30D73392D964D51A8B606128A8A6E8F)\n",
    "* [ArcGIS Enterprise Default roles](https://enterprise.arcgis.com/en/portal/latest/administer/windows/member-roles.htm#ESRI_SECTION1_C30D73392D964D51A8B606128A8A6E8F)\n",
    "\n",
    "These default roles are configured with a set of privileges that cannot be changed. Depending upon the needs and security of your organization, you can however create [custom roles](https://doc.arcgis.com/en/arcgis-online/administer/member-roles.htm#ESRI_SECTION1_30C4E874B2A94ACFBDCC0F13400E5B4E). Depending upon the organizational deployment type, you may choose to use [ArcGIS Online templates](https://doc.arcgis.com/en/arcgis-online/administer/configure-roles.htm#ESRI_SECTION1_98A9741612744BAF9F169D255E5B6AEB) or [ArcGIS Enterprise templates](https://enterprise.arcgis.com/en/portal/latest/administer/windows/configure-roles.htm#ESRI_SECTION1_98A9741612744BAF9F169D255E5B6AEB) as a starting point for other roles, or construct specialized roles from scratch based on what your organization wants users to accomplish. \n",
    "\n",
    "To see the role for any `User` object, you can query the `role` property as previously seen:"
   ]
  },
  {
   "cell_type": "code",
   "execution_count": 617,
   "metadata": {},
   "outputs": [
    {
     "name": "stdout",
     "output_type": "stream",
     "text": [
      "<class 'str'>\n",
      "org_publisher\n"
     ]
    }
   ],
   "source": [
    "demo_user1_role = demo_user1.role\n",
    "print(type(demo_user1_role))\n",
    "print(demo_user1_role)"
   ]
  },
  {
   "cell_type": "markdown",
   "metadata": {},
   "source": [
    "Since this user was created with a built in role specified as a string, we get back a string with value `org_publisher`."
   ]
  },
  {
   "cell_type": "markdown",
   "metadata": {},
   "source": [
    "### Creating a new role\n",
    "Let's create a new _role_ in the organization. Use the [`create()`](/python/api-reference/arcgis.gis.toc.html#arcgis.gis.RoleManager.create) method on the [`RoleManager`](/python/api-reference/arcgis.gis.toc.html#rolemanager) class for this task. Specifically, we want a _role_ to assign to _users_ who we want to only publish tile layers. The _role_ should have a subset of _privileges_ of the default _User_ role and be able to create items, publish tile layers, join groups, and view and share items to the organization. This role will not have any administrator privileges. Let's demonstrate how to create a role.  In order to assign _privileges_ to a role, let's examine the exact syntax format for individual _privileges_ using the privileges property on our _user_ object:\n",
    "\n",
    "> **Note:** Even though _privileges_ is not technically a property of the `User` class, once a _user_ object is initialized, the individual _privileges_ from the _role_ hydrate the _user_ object. "
   ]
  },
  {
   "cell_type": "markdown",
   "metadata": {},
   "source": [
    "To use the API to set privileges, we need to know the syntax of an individual _privilege_. Each privilege will follow this basic structure:\n",
    "\n",
    "`*:<role>:*`\n",
    "\n",
    "For example, the user _privilege_ to create and manage their own groups is called `portal:user:createGroup`. As noted above, you can observe the specific _privileges_ of a user by querying the `privileges` property. For the `demo_user1` user we created above, we can see a sample of the syntax for the privileges from the role assigned to that user by looking at the first 10 privilges:"
   ]
  },
  {
   "cell_type": "code",
   "execution_count": 618,
   "metadata": {},
   "outputs": [
    {
     "data": {
      "text/plain": [
       "['features:user:edit',\n",
       " 'portal:publisher:bulkPublishFromDataStores',\n",
       " 'portal:publisher:createDataPipelines',\n",
       " 'portal:publisher:publishDynamicImagery',\n",
       " 'portal:publisher:publishFeatures',\n",
       " 'portal:publisher:publishKnowledgeGraph',\n",
       " 'portal:publisher:publishScenes',\n",
       " 'portal:publisher:publishServerServices',\n",
       " 'portal:publisher:publishTiledImagery',\n",
       " 'portal:publisher:publishTiles']"
      ]
     },
     "execution_count": 618,
     "metadata": {},
     "output_type": "execute_result"
    }
   ],
   "source": [
    "demo_user1.privileges[:10]"
   ]
  },
  {
   "cell_type": "markdown",
   "metadata": {},
   "source": [
    "For the custom role we want to create, we'll construct a list of specific privileges to provide the ability to publish tile layers, join and create a _group_ as well as view and share items in the organization. We'll then create a new role called `tiles_publisher` in the organization."
   ]
  },
  {
   "cell_type": "markdown",
   "metadata": {},
   "source": [
    "**Note**: the `privileges` parameter was provided a list of strings specifying each individual privilege. Refer to the [`privileges` property](/python/api-reference/arcgis.gis.toc.html#arcgis.gis.Role.privileges) on the `Role` class to see a comprehensive list of possible privileges."
   ]
  },
  {
   "cell_type": "code",
   "execution_count": 631,
   "metadata": {},
   "outputs": [
    {
     "data": {
      "text/plain": [
       "<Role name: tiles_publisher, description: User that can publish tile layers>"
      ]
     },
     "execution_count": 631,
     "metadata": {},
     "output_type": "execute_result"
    }
   ],
   "source": [
    "# create a tiles publisher role\n",
    "privilege_list = [\"portal:publisher:publishTiles\",\n",
    "                  \"portal:user:createItem\",\n",
    "                  \"portal:user:joinGroup\",\n",
    "                  \"portal:user:viewOrgGroups\",\n",
    "                  \"portal:user:viewOrgItems\",\n",
    "                  \"portal:user:shareToGroup\",\n",
    "                  \"portal:user:shareToOrg\",\n",
    "                  \"portal:user:createGroup\",\n",
    "                  \"portal:user:shareGroupToOrg\"\n",
    "                 ]\n",
    "\n",
    "tiles_pub_role = ago_gis.users.roles.create(name = 'tiles_publisher',\n",
    "                                            description = 'User that can publish tile layers',\n",
    "                                            privileges = privilege_list)\n",
    "\n",
    "tiles_pub_role"
   ]
  },
  {
   "cell_type": "code",
   "execution_count": 632,
   "metadata": {},
   "outputs": [
    {
     "data": {
      "text/plain": [
       "['portal:publisher:publishTiles',\n",
       " 'portal:user:createGroup',\n",
       " 'portal:user:createItem',\n",
       " 'portal:user:joinGroup',\n",
       " 'portal:user:shareToGroup',\n",
       " 'portal:user:shareToOrg',\n",
       " 'portal:user:shareGroupToOrg,\n",
       " 'portal:user:viewOrgGroups',\n",
       " 'portal:user:viewOrgItems']"
      ]
     },
     "execution_count": 632,
     "metadata": {},
     "output_type": "execute_result"
    }
   ],
   "source": [
    "# inspect the privileges of this role\n",
    "tiles_pub_role.privileges"
   ]
  },
  {
   "cell_type": "markdown",
   "metadata": {},
   "source": [
    "### Creating a user with values other than new member defaults\n",
    "Let's first return a list of possible values we can enter in for the _user_type_ argument. The [`license_types`](/python/api-reference/arcgis.gis.toc.html#arcgis.gis.UserManager.license_types) property on the `UserManager` returns a dictionary with comprehensive information about each license type. We're only interested in the specific `id` value so we'll use a list comprehension to return a list of possble values to use as _user_type_ arguments:"
   ]
  },
  {
   "cell_type": "code",
   "execution_count": 633,
   "metadata": {},
   "outputs": [
    {
     "data": {
      "text/plain": [
       "['advancedUT',\n",
       " 'basicUT',\n",
       " 'creatorUT',\n",
       " 'editorUT',\n",
       " 'fieldWorkerUT',\n",
       " 'GISProfessionalAdvUT',\n",
       " 'GISProfessionalBasicUT',\n",
       " 'GISProfessionalStdUT',\n",
       " 'IndoorsUserUT',\n",
       " 'insightsAnalystUT',\n",
       " 'liteUT',\n",
       " 'standardUT',\n",
       " 'storytellerUT',\n",
       " 'viewerUT']"
      ]
     },
     "execution_count": 633,
     "metadata": {},
     "output_type": "execute_result"
    }
   ],
   "source": [
    "usr_types = [ut['id'] for ut in ago_gis.users.license_types]\n",
    "usr_types"
   ]
  },
  {
   "cell_type": "markdown",
   "metadata": {},
   "source": [
    "### Listing all the custom roles in an org\n",
    "Next, let's inspect the possible values we can use for the _role_ argument. The default Administrator, Publisher, and User roles (see [Default roles](https://doc.arcgis.com/en/arcgis-online/administer/member-roles.htm#ESRI_SECTION1_C30D73392D964D51A8B606128A8A6E8F) for descriptions) are available by using `org_admin`, `org_publisher`, or `org_user` values as `role` arguments. To assign other default roles or [custom roles](https://doc.arcgis.com/en/arcgis-online/administer/member-roles.htm#ESRI_SECTION1_30C4E874B2A94ACFBDCC0F13400E5B4E), the values to use for the `role` argument are the `role_id` values returned from the [`all()`](/python/api-reference/arcgis.gis.toc.html#arcgis.gis.RoleManager.all) method of the `RoleManager` class. We can access a `RoleManager` object using the [`roles`](/python/api-reference/arcgis.gis.toc.html#arcgis.gis.UserManager.roles) property on the `UserManager`:"
   ]
  },
  {
   "cell_type": "code",
   "execution_count": 639,
   "metadata": {},
   "outputs": [
    {
     "name": "stdout",
     "output_type": "stream",
     "text": [
      "Role:                    Role_id              \n",
      "---------------------    ----------------\n",
      "Viewer                   iAAAAAAAAAAAAAAA      \n",
      "Data Editor              iBBBBBBBBBBBBBBB      \n",
      "Facilitator              iCCCCCCCCCCCCCCC      \n",
      "Analyst                  53JTWAmyPz3MLgwl      \n",
      "role_6f33c               8MueSvFrA35xyg5p      \n",
      "AGOLImageryAnalysis      bl8ksdIBpwV4pa1N      \n",
      "AllNotebookPrivileges    cMH6sh9YL5RNFtat      \n",
      "UC2018_GEOG471           DmZ9fQYjofiNtJWn      \n",
      "tiles_publisher          gBC4ANXsKok12Lm4      \n",
      "guest_notebooks_basic    o4mDG5PEwU2y7tlv      \n",
      "advanced notebooks       PAH6xJAmWgYuF2vX      \n"
     ]
    }
   ],
   "source": [
    "role_mgr = ago_gis.users.roles\n",
    "print(f\"Role:{' '*20}Role_id{' '*14}\\n{'-'*21}{' '*4}{'-'*16}\")\n",
    "for role in role_mgr.all():\n",
    "    print(f\"{role.name:24} {role.role_id:22}\")"
   ]
  },
  {
   "cell_type": "markdown",
   "metadata": {},
   "source": [
    "We can see the `role_id` value for the custom role we created. Let's use that id to create a new user and assign that user to this new role:"
   ]
  },
  {
   "cell_type": "code",
   "execution_count": 697,
   "metadata": {},
   "outputs": [
    {
     "data": {
      "text/html": [
       "<div class=\"9item_container\" style=\"height: auto; overflow: hidden; border: 1px solid #cfcfcf; border-radius: 2px; background: #f6fafa; line-height: 1.21429em; padding: 10px;\">\n",
       "                    <div class=\"item_left\" style=\"width: 210px; float: left;\">\n",
       "                       <a href='https://geosaurus.maps.arcgis.com/home/user.html?user=tiles_publisher_1' target='_blank'>\n",
       "                        <img src='https://geosaurus.maps.arcgis.com/home/js/arcgisonline/css/images/no-user-thumb.jpg' class=\"itemThumbnail\">\n",
       "                       </a>\n",
       "                    </div>\n",
       "\n",
       "                    <div class=\"item_right\" style=\"float: none; width: auto; overflow: hidden;\">\n",
       "                        <a href='https://geosaurus.maps.arcgis.com/home/user.html?user=tiles_publisher_1' target='_blank'><b>Tiles Publisher</b>\n",
       "                        </a>\n",
       "                        <br/><br/><b>Bio</b>: None\n",
       "                        <br/><b>First Name</b>: Tiles\n",
       "                        <br/><b>Last Name</b>: Publisher\n",
       "                        <br/><b>Username</b>: tiles_publisher_1\n",
       "                        <br/><b>Joined</b>: July 26, 2023\n",
       "\n",
       "                    </div>\n",
       "                </div>\n",
       "                "
      ],
      "text/plain": [
       "<User username:tiles_publisher_1>"
      ]
     },
     "execution_count": 697,
     "metadata": {},
     "output_type": "execute_result"
    }
   ],
   "source": [
    "tiles_pub_user = ago_gis.users.create(username='tiles_publisher_1',\n",
    "                                      password = 'b0cb0c9f63e',\n",
    "                                      firstname = 'Tiles',\n",
    "                                      lastname = 'Publisher',\n",
    "                                      email = 'python@esri.com',\n",
    "                                      description = 'Custom role, can only publish tile layers',\n",
    "                                      role = 'gBC4ANXsKok12Lm4',\n",
    "                                      user_type='GISProfessionalAdvUT')\n",
    "\n",
    "tiles_pub_user"
   ]
  },
  {
   "cell_type": "markdown",
   "metadata": {},
   "source": [
    "Querying the `privileges` property of a `User` object returns a list of strings with fine grained privileges. When creating a `Role` object, you can pick and choose from this or refer to the [api ref doc](https://developers.arcgis.com/python/api-reference/arcgis.gis.toc.html#arcgis.gis.Role.privileges)."
   ]
  },
  {
   "cell_type": "code",
   "execution_count": 698,
   "metadata": {
    "scrolled": true
   },
   "outputs": [
    {
     "data": {
      "text/plain": [
       "['portal:publisher:publishTiles',\n",
       " 'portal:user:createGroup',\n",
       " 'portal:user:createItem',\n",
       " 'portal:user:joinGroup',\n",
       " 'portal:user:shareToGroup',\n",
       " 'portal:user:viewHostedFeatureServices',\n",
       " 'portal:user:viewOrgGroups',\n",
       " 'portal:user:viewOrgItems']"
      ]
     },
     "execution_count": 698,
     "metadata": {},
     "output_type": "execute_result"
    }
   ],
   "source": [
    "tiles_pub_user.privileges"
   ]
  },
  {
   "cell_type": "markdown",
   "metadata": {},
   "source": [
    "Querying the `roleId` property of a `User` returns you the custom roles' ID. You can use this to search for that role to know more details or create another user with the same role:"
   ]
  },
  {
   "cell_type": "code",
   "execution_count": 699,
   "metadata": {},
   "outputs": [
    {
     "data": {
      "text/plain": [
       "'gBC4ANXsKok12Lm4'"
      ]
     },
     "execution_count": 699,
     "metadata": {},
     "output_type": "execute_result"
    }
   ],
   "source": [
    "tiles_pub_user.roleId"
   ]
  },
  {
   "cell_type": "code",
   "execution_count": 700,
   "metadata": {},
   "outputs": [
    {
     "data": {
      "text/plain": [
       "'User that can publish tile layers'"
      ]
     },
     "execution_count": 700,
     "metadata": {},
     "output_type": "execute_result"
    }
   ],
   "source": [
    "searched_role = gis.users.roles.get_role(tiles_pub_user.roleId)\n",
    "searched_role.description"
   ]
  },
  {
   "cell_type": "markdown",
   "metadata": {},
   "source": [
    "## Deleting user accounts\n",
    "Provided you are logged in as an administrator, you can delete user accounts by calling the [`delete()`](/python/api-reference/arcgis.gis.toc.html#arcgis.gis.User.delete) method on a `User` object.\n",
    "\n",
    "> **Note:** You can also use the [`delete_users()`](/python/api-reference/arcgis.gis.toc.html#arcgis.gis.UserManager.delete_users) method in the [`arcgis.gis.admin`](/python/api-reference/arcgis.gis.admin.html) submodule to delete a list of users.\n",
    "\n",
    "The Web GIS prevents you from deleting users if they own [`items`](/python/api-reference/arcgis.gis.toc.html#item) and/or [`groups`](/python/api-reference/arcgis.gis.toc.html#group). It is important to query a _user_ to investigate whether they own content.\n",
    "\n",
    "### Accessing user content\n",
    "As an _administrator_, you can view the _folders_ and _items_ owned by any user. Get the `User` object and then query the [`items()`](/python/api-reference/arcgis.gis.toc.html#arcgis.gis.User.items) method and  [`folders`](/python/api-reference/arcgis.gis.toc.html#arcgis.gis.User.folders) property."
   ]
  },
  {
   "cell_type": "code",
   "execution_count": 702,
   "metadata": {},
   "outputs": [],
   "source": [
    "pub1_user = ago_gis.users.get(\"publisher1_uq\")"
   ]
  },
  {
   "cell_type": "markdown",
   "metadata": {},
   "source": [
    "#### List the folders owned by a user"
   ]
  },
  {
   "cell_type": "code",
   "execution_count": 703,
   "metadata": {},
   "outputs": [],
   "source": [
    "publisher_folder_list = pub1_user.folders"
   ]
  },
  {
   "cell_type": "code",
   "execution_count": 704,
   "metadata": {},
   "outputs": [
    {
     "data": {
      "text/plain": [
       "[{'username': 'publisher1_uq',\n",
       "  'id': '01bf52ddd49b45caa9c5a6ef263d8352',\n",
       "  'title': 'Arkansas data',\n",
       "  'created': 1690416367000},\n",
       " {'username': 'publisher1_uq',\n",
       "  'id': 'b73d3fd029a14fcda72ba1af8fdbdd3c',\n",
       "  'title': 'chicago_data',\n",
       "  'created': 1690415221000},\n",
       " {'username': 'publisher1_uq',\n",
       "  'id': 'ff046ef454c04788b53b96261d5803ef',\n",
       "  'title': 'historical_data',\n",
       "  'created': 1690415732000}]"
      ]
     },
     "execution_count": 704,
     "metadata": {},
     "output_type": "execute_result"
    }
   ],
   "source": [
    "publisher_folder_list"
   ]
  },
  {
   "cell_type": "markdown",
   "metadata": {},
   "source": [
    "#### List the content in a user's root folder"
   ]
  },
  {
   "cell_type": "markdown",
   "metadata": {},
   "source": [
    "In addition to folder a user may have created, each user also has a root folder that contains those items that have not been explicitly added to a folder:"
   ]
  },
  {
   "cell_type": "code",
   "execution_count": 705,
   "metadata": {},
   "outputs": [
    {
     "name": "stdout",
     "output_type": "stream",
     "text": [
      "Total number of items in root folder: 3\n"
     ]
    },
    {
     "data": {
      "text/html": [
       "<div class=\"item_container\" style=\"height: auto; overflow: hidden; border: 1px solid #cfcfcf; border-radius: 2px; background: #f6fafa; line-height: 1.21429em; padding: 10px;\">\n",
       "                    <div class=\"item_left\" style=\"width: 210px; float: left;\">\n",
       "                       <a href='https://geosaurus.maps.arcgis.com/home/item.html?id=da549a4928c643ddb6b44c1ed1e113fa' target='_blank'>\n",
       "                        <img src='http://static.arcgis.com/images/desktopapp.png' class=\"itemThumbnail\">\n",
       "                       </a>\n",
       "                    </div>\n",
       "\n",
       "                    <div class=\"item_right\"     style=\"float: none; width: auto; overflow: hidden;\">\n",
       "                        <a href='https://geosaurus.maps.arcgis.com/home/item.html?id=da549a4928c643ddb6b44c1ed1e113fa' target='_blank'><b>Colorado Mountain Peaks</b>\n",
       "                        </a>\n",
       "                        <br/>Data about peaks in the Rocky Mountains of Colorado.<img src='https://geosaurus.maps.arcgis.com/home/js/jsapi/esri/css/images/item_type_icons/datafiles16.png' style=\"vertical-align:middle;\" width=16 height=16>Shapefile by publisher1_uq\n",
       "                        <br/>Last Modified: July 26, 2023\n",
       "                        <br/>0 comments, 1 views\n",
       "                    </div>\n",
       "                </div>\n",
       "                "
      ],
      "text/plain": [
       "<Item title:\"Colorado Mountain Peaks\" type:Shapefile owner:publisher1_uq>"
      ]
     },
     "execution_count": 705,
     "metadata": {},
     "output_type": "execute_result"
    }
   ],
   "source": [
    "publisher1_root_folder_items = pub1_user.items()\n",
    "print(\"Total number of items in root folder: \" + str(len(publisher1_root_folder_items)))\n",
    "\n",
    "#access the first item for a sample\n",
    "publisher1_root_folder_items[0]"
   ]
  },
  {
   "cell_type": "code",
   "execution_count": 706,
   "metadata": {},
   "outputs": [
    {
     "name": "stdout",
     "output_type": "stream",
     "text": [
      "Root folder: publisher1_uq\n",
      " Item Title                      Item Type                \n",
      " ---------------------------     -------------------------\n",
      "  Colorado Mountain Peaks        Shapefile                \n",
      "  Colorado Mountain Peaks        Feature Service          \n",
      "  World Country Boundary Data    Service Definition       \n",
      "\n",
      "\n",
      "Folder: Arkansas data\n",
      " Item Title                      Item Type                \n",
      " ---------------------------     -------------------------\n",
      "  AR Boundaries                  Shapefile                \n",
      "  AR Boundaries                  Feature Service          \n",
      "\n",
      "\n",
      "Folder: chicago_data\n",
      " Item Title                      Item Type                \n",
      " ---------------------------     -------------------------\n",
      "  Chicago Accidents              CSV                      \n",
      "  Chicago Accidents              Feature Service          \n",
      "  Chicago Accidents Volume2      CSV                      \n",
      "  Chicago Accidents Volume2      Feature Service          \n",
      "\n",
      "\n",
      "Folder: historical_data\n",
      " Item Title                      Item Type                \n",
      " ---------------------------     -------------------------\n",
      "  Ancient Woodland Inventory UK  Shapefile                \n",
      "  Ancient Woodland Inventory UK  Feature Service          \n",
      "\n",
      "\n"
     ]
    }
   ],
   "source": [
    "# list all items for the user\n",
    "print(f\"Root folder: {pub1_user.username}\")\n",
    "print(f\" Item Title{' '*22}Item Type{' '*16}\\n {'-'*27}{' '*5}{'-'*25}\")\n",
    "for root_item in publisher1_root_folder_items:\n",
    "    print(f\" {' '*1}{root_item.title:31}{root_item.type:25}\")\n",
    "print(\"\\n\")\n",
    "for pub_folder in publisher_folder_list:\n",
    "    print(f\"Folder: {pub_folder['title']}\")\n",
    "    print(f\" Item Title{' '*22}Item Type{' '*16}\\n {'-'*27}{' '*5}{'-'*25}\")\n",
    "    for folder_item in pub1_user.items(folder=pub_folder['title']):\n",
    "        print(f\" {' '*1}{folder_item.title:31}{folder_item.type:25}\")\n",
    "    print(\"\\n\")"
   ]
  },
  {
   "cell_type": "markdown",
   "metadata": {},
   "source": [
    "As an administrator within an organizaion, you are able to query the contents of another user without knowing that user's password or logging in as that user."
   ]
  },
  {
   "cell_type": "markdown",
   "metadata": {},
   "source": [
    "### Reassigning user content\n",
    "When the time comes to delete a user account, you can filter these items and choose to preserve some and delete the content that is no longer needed. We're going to delete the `publisher1_uq` account we've just looked at, keeping only some accident data we plan to analyze later.\n",
    "\n",
    "> **Note:** It is import to consider the _privileges_ of each _user_. If the receiving _user_ does not have the proper permissions to be reassigned an item, errors may occur. \n",
    "\n",
    "> **Note:** If an item's sharing level is _private_ but shared with _groups_, the receiving _user_ must have the appropriate sharing access to all groups the item is shared with.\n",
    "\n",
    "We'll reassign the source [`Feature Layer`](/python/api-reference/arcgis.features.toc.html#featurelayer) items about accidents in Chicago to the `tiles_pub_user` user we created earlier. We'll use the [`advanced_search()`](/python/api-reference/arcgis.gis.toc.html#arcgis.gis.ContentManager.advanced_search) method to query for specific item titles and types, and reassign these items. You can reassign specific items to another user by calling the [`reassign_to()`](/python/api-reference/arcgis.gis.toc.html#arcgis.gis.Item.reassign_to) method on the `Item` object. "
   ]
  },
  {
   "cell_type": "code",
   "execution_count": 707,
   "metadata": {},
   "outputs": [
    {
     "data": {
      "text/plain": [
       "[<Item title:\"Chicago Accidents\" type:Feature Layer Collection owner:publisher1_uq>,\n",
       " <Item title:\"Chicago Accidents Volume2\" type:Feature Layer Collection owner:publisher1_uq>]"
      ]
     },
     "execution_count": 707,
     "metadata": {},
     "output_type": "execute_result"
    }
   ],
   "source": [
    "chi_flyr_items = ago_gis.content.advanced_search(query=f\"owner:{pub1_user.username} title:Chicago type:Feature Service\", )[\"results\"]\n",
    "chi_flyr_items"
   ]
  },
  {
   "cell_type": "code",
   "execution_count": 709,
   "metadata": {},
   "outputs": [],
   "source": [
    "for flyr_item in chi_flyr_items:\n",
    "        flyr_item.reassign_to(target_owner=tiles_pub_user)"
   ]
  },
  {
   "cell_type": "markdown",
   "metadata": {},
   "source": [
    "Let's now query the _tiles_pub_user_ to verify the items were successfully assigned."
   ]
  },
  {
   "cell_type": "code",
   "execution_count": 710,
   "metadata": {},
   "outputs": [
    {
     "data": {
      "text/plain": [
       "[<Item title:\"Chicago Accidents\" type:CSV owner:tiles_publisher_1>,\n",
       " <Item title:\"Chicago Accidents\" type:Feature Layer Collection owner:tiles_publisher_1>,\n",
       " <Item title:\"Chicago Accidents Volume2\" type:CSV owner:tiles_publisher_1>,\n",
       " <Item title:\"Chicago Accidents Volume2\" type:Feature Layer Collection owner:tiles_publisher_1>]"
      ]
     },
     "execution_count": 710,
     "metadata": {},
     "output_type": "execute_result"
    }
   ],
   "source": [
    "tiles_pub_user.items()"
   ]
  },
  {
   "cell_type": "markdown",
   "metadata": {},
   "source": [
    "Notice how the _related_items_ for the Feature Layer are automatically assigned as part of the operation."
   ]
  },
  {
   "cell_type": "markdown",
   "metadata": {},
   "source": [
    "### Delete user and reassign items"
   ]
  },
  {
   "cell_type": "markdown",
   "metadata": {},
   "source": [
    "Now we are left with a few more items which we want to reassign to a _user_ named `arcgis_python` in our organization. We can call the `reassign_to()` method of the `User` object or we can call the [`delete()`](/python/api-reference/arcgis.gis.toc.html#arcgis.gis.User.delete) method on the `User` object and provide an argument to the `reassign_to` parameter to accomplish the same task. First let's take a look at the remaining items owned by the `publisher1_uq` _user_:"
   ]
  },
  {
   "cell_type": "code",
   "execution_count": 711,
   "metadata": {},
   "outputs": [
    {
     "data": {
      "text/plain": [
       "{'total': 7,\n",
       " 'start': 1,\n",
       " 'num': 100,\n",
       " 'nextStart': -1,\n",
       " 'results': [<Item title:\"Ancient Woodland Inventory UK\" type:Feature Layer Collection owner:publisher1_uq>,\n",
       "  <Item title:\"Ancient Woodland Inventory UK\" type:Shapefile owner:publisher1_uq>,\n",
       "  <Item title:\"AR Boundaries\" type:Feature Layer Collection owner:publisher1_uq>,\n",
       "  <Item title:\"AR Boundaries\" type:Shapefile owner:publisher1_uq>,\n",
       "  <Item title:\"Colorado Mountain Peaks\" type:Shapefile owner:publisher1_uq>,\n",
       "  <Item title:\"Colorado Mountain Peaks\" type:Feature Layer Collection owner:publisher1_uq>,\n",
       "  <Item title:\"World Country Boundary Data\" type:Service Definition owner:publisher1_uq>]}"
      ]
     },
     "execution_count": 711,
     "metadata": {},
     "output_type": "execute_result"
    }
   ],
   "source": [
    "ago_gis.content.advanced_search(query=f\"owner:{pub1_user.username}\")"
   ]
  },
  {
   "cell_type": "markdown",
   "metadata": {},
   "source": [
    "> **Note:** The `advanced_search()` method searches all folders owned by a _user_. When using the `reassign_to` parameter in the `delete()` method, the output items are stored in folders named after the original _username_ followed by the _folder title_, including a folder named _username_root_ for items that are stored in the original user's root folder."
   ]
  },
  {
   "cell_type": "markdown",
   "metadata": {},
   "source": [
    "Now we'll use the `delete()` method to remove the `publisher1_uk` user while reassigning their items:"
   ]
  },
  {
   "cell_type": "code",
   "execution_count": 712,
   "metadata": {},
   "outputs": [
    {
     "data": {
      "text/plain": [
       "True"
      ]
     },
     "execution_count": 712,
     "metadata": {},
     "output_type": "execute_result"
    }
   ],
   "source": [
    "pub1_user.delete(reassign_to='arcgis_python')"
   ]
  },
  {
   "cell_type": "markdown",
   "metadata": {},
   "source": [
    "We'll search for the user to verify the deletion:"
   ]
  },
  {
   "cell_type": "code",
   "execution_count": 713,
   "metadata": {},
   "outputs": [
    {
     "data": {
      "text/plain": [
       "{'total': 0, 'start': 1, 'num': 10, 'nextStart': -1, 'results': []}"
      ]
     },
     "execution_count": 713,
     "metadata": {},
     "output_type": "execute_result"
    }
   ],
   "source": [
    "ago_gis.users.advanced_search(query=f\"owner:{pub1_user.username}\")"
   ]
  },
  {
   "cell_type": "markdown",
   "metadata": {},
   "source": [
    "Thus, we have successfully deleted a user after taking care of that user's content."
   ]
  }
 ],
 "metadata": {
  "kernelspec": {
   "display_name": "Python 3 (ipykernel)",
   "language": "python",
   "name": "python3"
  },
  "language_info": {
   "codemirror_mode": {
    "name": "ipython",
    "version": 3
   },
   "file_extension": ".py",
   "mimetype": "text/x-python",
   "name": "python",
   "nbconvert_exporter": "python",
   "pygments_lexer": "ipython3",
   "version": "3.9.17"
  },
  "toc": {
   "base_numbering": 1,
   "nav_menu": {},
   "number_sections": true,
   "sideBar": true,
   "skip_h1_title": false,
   "title_cell": "Table of Contents",
   "title_sidebar": "Contents",
   "toc_cell": true,
   "toc_position": {},
   "toc_section_display": true,
   "toc_window_display": true
  }
 },
 "nbformat": 4,
 "nbformat_minor": 2
}
