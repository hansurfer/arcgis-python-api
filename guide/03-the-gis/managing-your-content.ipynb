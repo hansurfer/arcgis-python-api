{
 "cells": [
  {
   "cell_type": "markdown",
   "metadata": {},
   "source": [
    "# Managing your content\n",
    "\n",
    "As an organization matures and expands its GIS, users add items of various types and properties with varying relationships to one another. Any administrator must regularly manage items contained in various groups and owned by various users. In this section we demonstrate how to work with individual items in a GIS. This guide shows how to retrieve item properties, delete an existing item, and how to examine relationships between items.\n"
   ]
  },
  {
   "cell_type": "markdown",
   "metadata": {
    "toc": true
   },
   "source": [
    "<h1>Table of Contents<span class=\"tocSkip\"></span></h1>\n",
    "<div class=\"toc\"><ul class=\"toc-item\"><li><span><a href=\"#Managing-your-content\" data-toc-modified-id=\"Managing-your-content-1\"><span class=\"toc-item-num\">1&nbsp;&nbsp;</span>Managing your content</a></span><ul class=\"toc-item\"><li><span><a href=\"#Properties-of-an-item\" data-toc-modified-id=\"Properties-of-an-item-1.1\"><span class=\"toc-item-num\">1.1&nbsp;&nbsp;</span>Properties of an item</a></span><ul class=\"toc-item\"><li><span><a href=\"#Updating-item-properties\" data-toc-modified-id=\"Updating-item-properties-1.1.1\"><span class=\"toc-item-num\">1.1.1&nbsp;&nbsp;</span>Updating item properties</a></span></li></ul></li><li><span><a href=\"#Downloading-your-items\" data-toc-modified-id=\"Downloading-your-items-1.2\"><span class=\"toc-item-num\">1.2&nbsp;&nbsp;</span>Downloading your items</a></span><ul class=\"toc-item\"><li><span><a href=\"#Download-item-data\" data-toc-modified-id=\"Download-item-data-1.2.1\"><span class=\"toc-item-num\">1.2.1&nbsp;&nbsp;</span>Download item data</a></span></li><li><span><a href=\"#Download-metadata\" data-toc-modified-id=\"Download-metadata-1.2.2\"><span class=\"toc-item-num\">1.2.2&nbsp;&nbsp;</span>Download metadata</a></span></li><li><span><a href=\"#Download-thumbnail\" data-toc-modified-id=\"Download-thumbnail-1.2.3\"><span class=\"toc-item-num\">1.2.3&nbsp;&nbsp;</span>Download thumbnail</a></span></li></ul></li><li><span><a href=\"#Deleting-content\" data-toc-modified-id=\"Deleting-content-1.3\"><span class=\"toc-item-num\">1.3&nbsp;&nbsp;</span>Deleting content</a></span><ul class=\"toc-item\"><li><ul class=\"toc-item\"><li><span><a href=\"#Delete-protection\" data-toc-modified-id=\"Delete-protection-1.3.0.1\"><span class=\"toc-item-num\">1.3.0.1&nbsp;&nbsp;</span>Delete protection</a></span></li></ul></li></ul></li><li><span><a href=\"#Finding-relationships-between-items\" data-toc-modified-id=\"Finding-relationships-between-items-1.4\"><span class=\"toc-item-num\">1.4&nbsp;&nbsp;</span>Finding relationships between items</a></span><ul class=\"toc-item\"><li><span><a href=\"#Relationships-of-web-map-items\" data-toc-modified-id=\"Relationships-of-web-map-items-1.4.1\"><span class=\"toc-item-num\">1.4.1&nbsp;&nbsp;</span>Relationships of web map items</a></span></li><li><span><a href=\"#Adding-relationships\" data-toc-modified-id=\"Adding-relationships-1.4.2\"><span class=\"toc-item-num\">1.4.2&nbsp;&nbsp;</span>Adding relationships</a></span></li><li><span><a href=\"#Deleting-relationships\" data-toc-modified-id=\"Deleting-relationships-1.4.3\"><span class=\"toc-item-num\">1.4.3&nbsp;&nbsp;</span>Deleting relationships</a></span></li></ul></li></ul></li></ul></div>"
   ]
  },
  {
   "cell_type": "markdown",
   "metadata": {},
   "source": [
    "<a id=\"properties-of-an-item\"></a>\n",
    "## Properties of an item\n",
    "An `Item` in your GIS is rich with multiple properties. You can access them as properties on the [`Item`](https://developers.arcgis.com/python/api-reference/arcgis.gis.toc.html#item) object;"
   ]
  },
  {
   "cell_type": "code",
   "execution_count": 1,
   "metadata": {},
   "outputs": [],
   "source": [
    "#connect to GIS\n",
    "from arcgis.gis import GIS\n",
    "gis = GIS(profile=\"your_enterprise_profile\")"
   ]
  },
  {
   "cell_type": "code",
   "execution_count": 2,
   "metadata": {},
   "outputs": [],
   "source": [
    "#access an Item\n",
    "volcanoes_item = gis.content.get('d7fd78fb56aa48a2a376e08e0c3caefb')"
   ]
  },
  {
   "cell_type": "code",
   "execution_count": 3,
   "metadata": {},
   "outputs": [
    {
     "data": {
      "text/plain": [
       "'test_volcano'"
      ]
     },
     "execution_count": 3,
     "metadata": {},
     "output_type": "execute_result"
    }
   ],
   "source": [
    "# title\n",
    "volcanoes_item.title"
   ]
  },
  {
   "cell_type": "code",
   "execution_count": 4,
   "metadata": {},
   "outputs": [
    {
     "data": {
      "text/plain": [
       "['python', 'vei', 'empirical', 'in-situ']"
      ]
     },
     "execution_count": 4,
     "metadata": {},
     "output_type": "execute_result"
    }
   ],
   "source": [
    "# tags\n",
    "volcanoes_item.tags"
   ]
  },
  {
   "cell_type": "markdown",
   "metadata": {},
   "source": [
    "<a id=\"updating-item-properties\"></a>\n",
    "### Updating item properties\n",
    "You can update any of the `Item`s properties using the [`update()`](https://developers.arcgis.com/python/api-reference/arcgis.gis.toc.html#arcgis.gis.Item.update) method. It accepts parameters similar to [`add()`](https://developers.arcgis.com/python/api-reference/arcgis.gis.toc.html#arcgis.gis.ContentManager.add) method."
   ]
  },
  {
   "cell_type": "code",
   "execution_count": 6,
   "metadata": {},
   "outputs": [
    {
     "data": {
      "text/plain": [
       "True"
      ]
     },
     "execution_count": 6,
     "metadata": {},
     "output_type": "execute_result"
    }
   ],
   "source": [
    "# update the tags\n",
    "volcanoes_item.update(item_properties={'tags':'guide, update, empirical, in-situ'})"
   ]
  },
  {
   "cell_type": "code",
   "execution_count": 7,
   "metadata": {},
   "outputs": [
    {
     "data": {
      "text/plain": [
       "['guide', 'update', 'empirical', 'in-situ']"
      ]
     },
     "execution_count": 7,
     "metadata": {},
     "output_type": "execute_result"
    }
   ],
   "source": [
    "volcanoes_item.tags"
   ]
  },
  {
   "cell_type": "code",
   "execution_count": 8,
   "metadata": {},
   "outputs": [],
   "source": [
    "# updating thumbnail\n",
    "volcanoes_item.update(thumbnail=r'pathway\\to\\your\\directory\\IMAGE_NAME.jpg')"
   ]
  },
  {
   "cell_type": "markdown",
   "metadata": {},
   "source": [
    "<a id=\"downloading-your-items\"></a>\n",
    "## Downloading your items\n",
    "You can download various components of your items, such as the thumbnail, data, or metadata. Downloading assists you in the process of archiving content for a GIS your organization is retiring, or for publishing and migrating content from one GIS to another."
   ]
  },
  {
   "cell_type": "markdown",
   "metadata": {},
   "source": [
    "### Download item data\n",
    "The [`get_data()`](https://developers.arcgis.com/python/api-reference/arcgis.gis.toc.html#arcgis.gis.Item.get_data) function reads the binary or text data associated with an item and returns it as a byte array. \n",
    " * If the text data is JSON, it converts the data to a Python dictionary. If it is another text format, it returns the file as a string.\n",
    " * If data is not text, binary files are returned along with the path to where the data is downloaded."
   ]
  },
  {
   "cell_type": "code",
   "execution_count": 19,
   "metadata": {},
   "outputs": [],
   "source": [
    "csv_item = gis.content.get('36ce5320085a4df0abc94b0075fc215b')"
   ]
  },
  {
   "cell_type": "markdown",
   "metadata": {},
   "source": [
    "The data for a csv item is the csv file itself. It's downloaded to your default temporary directory"
   ]
  },
  {
   "cell_type": "code",
   "execution_count": 23,
   "metadata": {},
   "outputs": [
    {
     "name": "stdout",
     "output_type": "stream",
     "text": [
      "'\\pathway\\to\\download\\Local\\Temp\\test_volcano.csv'\n"
     ]
    }
   ],
   "source": [
    "csv_item.get_data()"
   ]
  },
  {
   "cell_type": "markdown",
   "metadata": {},
   "source": [
    "### Download metadata\n",
    "You can download metadata into an XML file using the `download_metadata()` method. Once you have the XML file you can edit it and then modify existing portal items by entering the file name as the metadata parameter of the [`Item.update()`](https://developers.arcgis.com/python/api-reference/arcgis.gis.toc.html#arcgis.gis.Item.update) method. You can also add it with the metadata parameter on the [`ContentManager.add()`](https://developers.arcgis.com/python/api-reference/arcgis.gis.toc.html#arcgis.gis.ContentManager.add) method when creating new content.  See the specific documentation for enabling metadata with [ArcGIS Online](https://developers.arcgis.com/python/api-reference/arcgis.gis.toc.html#arcgis.gis.Item.update) or [ArcGIS Enterprise](https://developers.arcgis.com/python/api-reference/arcgis.gis.toc.html#arcgis.gis.Item.update)."
   ]
  },
  {
   "cell_type": "code",
   "execution_count": 9,
   "metadata": {},
   "outputs": [],
   "source": [
    "csv_item.download_metadata(save_folder=r'\\pathway\\to\\download\\the\\metadata\\')"
   ]
  },
  {
   "cell_type": "markdown",
   "metadata": {},
   "source": [
    "### Download thumbnail\n",
    "Finally, you can download the thumbnail of an item using the `download_thumbnail()` method."
   ]
  },
  {
   "cell_type": "code",
   "execution_count": null,
   "metadata": {},
   "outputs": [
    {
     "data": {
      "text/plain": [
       "'pathway\\to\\your\\directory\\IMAGE_NAME.png'"
      ]
     },
     "execution_count": null,
     "metadata": {},
     "output_type": "execute_result"
    }
   ],
   "source": [
    "csv_item.download_thumbnail(save_folder= r'pathway\\to\\your\\directory\\')"
   ]
  },
  {
   "cell_type": "markdown",
   "metadata": {},
   "source": [
    "## Deleting content\n",
    "You can delete any item using the `delete()` method of the `Item` object. When deleting a hosted layer, this operation also deletes the hosted services powering the item."
   ]
  },
  {
   "cell_type": "code",
   "execution_count": 10,
   "metadata": {},
   "outputs": [],
   "source": [
    "item_for_deletion = gis.content.get('a1752743422b45f791b7eb4dbc5a8010')"
   ]
  },
  {
   "cell_type": "code",
   "execution_count": 11,
   "metadata": {},
   "outputs": [],
   "source": [
    "item_for_deletion.delete()"
   ]
  },
  {
   "cell_type": "markdown",
   "metadata": {},
   "source": [
    "#### Delete protection\n",
    "You can protect items from getting deleted inadvertently. Use the `protect()` of the `Item` object for this. "
   ]
  },
  {
   "cell_type": "code",
   "execution_count": 12,
   "metadata": {},
   "outputs": [
    {
     "data": {
      "text/plain": [
       "{'success': True}"
      ]
     },
     "execution_count": 12,
     "metadata": {},
     "output_type": "execute_result"
    }
   ],
   "source": [
    "# let us protect the ports item we accessed earlier\n",
    "csv_item.protect(enable = True)"
   ]
  },
  {
   "cell_type": "code",
   "execution_count": 13,
   "metadata": {},
   "outputs": [
    {
     "ename": "Exception",
     "evalue": "Unable to delete item 36ce5320085a4df0abc94b0075fc215b. Delete protection is turned on.\n(Error Code: 400)",
     "output_type": "error",
     "traceback": [
      "\u001b[1;31m---------------------------------------------------------------------------\u001b[0m",
      "\u001b[1;31mException\u001b[0m                                 Traceback (most recent call last)",
      "\u001b[1;32m~\\AppData\\Local\\Temp\\1\\ipykernel_24116\\3955233367.py\u001b[0m in \u001b[0;36m<cell line: 2>\u001b[1;34m()\u001b[0m\n\u001b[0;32m      1\u001b[0m \u001b[1;31m# attempting to delete will return an error\u001b[0m\u001b[1;33m\u001b[0m\u001b[1;33m\u001b[0m\u001b[0m\n\u001b[1;32m----> 2\u001b[1;33m \u001b[0mcsv_item\u001b[0m\u001b[1;33m.\u001b[0m\u001b[0mdelete\u001b[0m\u001b[1;33m(\u001b[0m\u001b[1;33m)\u001b[0m\u001b[1;33m\u001b[0m\u001b[1;33m\u001b[0m\u001b[0m\n\u001b[0m",
      "\u001b[1;32m~\\Anaconda3\\envs\\arcgis_210\\lib\\site-packages\\arcgis\\gis\\__init__.py\u001b[0m in \u001b[0;36mdelete\u001b[1;34m(self, force, dry_run)\u001b[0m\n\u001b[0;32m  13869\u001b[0m                 \u001b[1;32mreturn\u001b[0m \u001b[1;33m{\u001b[0m\u001b[1;34m\"can_delete\"\u001b[0m\u001b[1;33m:\u001b[0m \u001b[1;32mFalse\u001b[0m\u001b[1;33m,\u001b[0m \u001b[1;34m\"details\"\u001b[0m\u001b[1;33m:\u001b[0m \u001b[0merror_dict\u001b[0m\u001b[1;33m}\u001b[0m\u001b[1;33m\u001b[0m\u001b[1;33m\u001b[0m\u001b[0m\n\u001b[0;32m  13870\u001b[0m         \u001b[1;32melse\u001b[0m\u001b[1;33m:\u001b[0m\u001b[1;33m\u001b[0m\u001b[1;33m\u001b[0m\u001b[0m\n\u001b[1;32m> 13871\u001b[1;33m             \u001b[1;32mreturn\u001b[0m \u001b[0mself\u001b[0m\u001b[1;33m.\u001b[0m\u001b[0m_portal\u001b[0m\u001b[1;33m.\u001b[0m\u001b[0mdelete_item\u001b[0m\u001b[1;33m(\u001b[0m\u001b[0mself\u001b[0m\u001b[1;33m.\u001b[0m\u001b[0mitemid\u001b[0m\u001b[1;33m,\u001b[0m \u001b[0mself\u001b[0m\u001b[1;33m.\u001b[0m\u001b[0m_user_id\u001b[0m\u001b[1;33m,\u001b[0m \u001b[0mfolder\u001b[0m\u001b[1;33m,\u001b[0m \u001b[0mforce\u001b[0m\u001b[1;33m)\u001b[0m\u001b[1;33m\u001b[0m\u001b[1;33m\u001b[0m\u001b[0m\n\u001b[0m\u001b[0;32m  13872\u001b[0m \u001b[1;33m\u001b[0m\u001b[0m\n\u001b[0;32m  13873\u001b[0m     \u001b[1;31m# ----------------------------------------------------------------------\u001b[0m\u001b[1;33m\u001b[0m\u001b[1;33m\u001b[0m\u001b[0m\n",
      "\u001b[1;32m~\\Anaconda3\\envs\\arcgis_210\\lib\\site-packages\\arcgis\\gis\\_impl\\_portalpy.py\u001b[0m in \u001b[0;36mdelete_item\u001b[1;34m(self, item_id, owner, folder, force)\u001b[0m\n\u001b[0;32m    772\u001b[0m         \u001b[1;32melse\u001b[0m\u001b[1;33m:\u001b[0m\u001b[1;33m\u001b[0m\u001b[1;33m\u001b[0m\u001b[0m\n\u001b[0;32m    773\u001b[0m             \u001b[0mpost_data\u001b[0m \u001b[1;33m=\u001b[0m \u001b[0mself\u001b[0m\u001b[1;33m.\u001b[0m\u001b[0m_postdata\u001b[0m\u001b[1;33m(\u001b[0m\u001b[1;33m)\u001b[0m\u001b[1;33m\u001b[0m\u001b[1;33m\u001b[0m\u001b[0m\n\u001b[1;32m--> 774\u001b[1;33m         \u001b[0mresp\u001b[0m \u001b[1;33m=\u001b[0m \u001b[0mself\u001b[0m\u001b[1;33m.\u001b[0m\u001b[0mcon\u001b[0m\u001b[1;33m.\u001b[0m\u001b[0mpost\u001b[0m\u001b[1;33m(\u001b[0m\u001b[0mpath\u001b[0m\u001b[1;33m,\u001b[0m \u001b[0mpost_data\u001b[0m\u001b[1;33m)\u001b[0m\u001b[1;33m\u001b[0m\u001b[1;33m\u001b[0m\u001b[0m\n\u001b[0m\u001b[0;32m    775\u001b[0m \u001b[1;33m\u001b[0m\u001b[0m\n\u001b[0;32m    776\u001b[0m         \u001b[1;32mif\u001b[0m \u001b[0mresp\u001b[0m\u001b[1;33m:\u001b[0m\u001b[1;33m\u001b[0m\u001b[1;33m\u001b[0m\u001b[0m\n",
      "\u001b[1;32m~\\Anaconda3\\envs\\arcgis_210\\lib\\site-packages\\arcgis\\gis\\_impl\\_con\\_connection.py\u001b[0m in \u001b[0;36mpost\u001b[1;34m(self, path, params, files, **kwargs)\u001b[0m\n\u001b[0;32m   1555\u001b[0m         \u001b[1;32mif\u001b[0m \u001b[0mreturn_raw_response\u001b[0m\u001b[1;33m:\u001b[0m\u001b[1;33m\u001b[0m\u001b[1;33m\u001b[0m\u001b[0m\n\u001b[0;32m   1556\u001b[0m             \u001b[1;32mreturn\u001b[0m \u001b[0mresp\u001b[0m\u001b[1;33m\u001b[0m\u001b[1;33m\u001b[0m\u001b[0m\n\u001b[1;32m-> 1557\u001b[1;33m         return self._handle_response(\n\u001b[0m\u001b[0;32m   1558\u001b[0m             \u001b[0mresp\u001b[0m\u001b[1;33m=\u001b[0m\u001b[0mresp\u001b[0m\u001b[1;33m,\u001b[0m\u001b[1;33m\u001b[0m\u001b[1;33m\u001b[0m\u001b[0m\n\u001b[0;32m   1559\u001b[0m             \u001b[0mout_path\u001b[0m\u001b[1;33m=\u001b[0m\u001b[0mout_path\u001b[0m\u001b[1;33m,\u001b[0m\u001b[1;33m\u001b[0m\u001b[1;33m\u001b[0m\u001b[0m\n",
      "\u001b[1;32m~\\Anaconda3\\envs\\arcgis_210\\lib\\site-packages\\arcgis\\gis\\_impl\\_con\\_connection.py\u001b[0m in \u001b[0;36m_handle_response\u001b[1;34m(self, resp, file_name, out_path, try_json, force_bytes, ignore_error_key)\u001b[0m\n\u001b[0;32m   1025\u001b[0m                     \u001b[0mdata\u001b[0m\u001b[1;33m[\u001b[0m\u001b[1;34m\"error\"\u001b[0m\u001b[1;33m]\u001b[0m\u001b[1;33m[\u001b[0m\u001b[1;34m\"code\"\u001b[0m\u001b[1;33m]\u001b[0m \u001b[1;32mif\u001b[0m \u001b[1;34m\"code\"\u001b[0m \u001b[1;32min\u001b[0m \u001b[0mdata\u001b[0m\u001b[1;33m[\u001b[0m\u001b[1;34m\"error\"\u001b[0m\u001b[1;33m]\u001b[0m \u001b[1;32melse\u001b[0m \u001b[1;36m0\u001b[0m\u001b[1;33m\u001b[0m\u001b[1;33m\u001b[0m\u001b[0m\n\u001b[0;32m   1026\u001b[0m                 )\n\u001b[1;32m-> 1027\u001b[1;33m                 \u001b[0mself\u001b[0m\u001b[1;33m.\u001b[0m\u001b[0m_handle_json_error\u001b[0m\u001b[1;33m(\u001b[0m\u001b[0mdata\u001b[0m\u001b[1;33m[\u001b[0m\u001b[1;34m\"error\"\u001b[0m\u001b[1;33m]\u001b[0m\u001b[1;33m,\u001b[0m \u001b[0merrorcode\u001b[0m\u001b[1;33m)\u001b[0m\u001b[1;33m\u001b[0m\u001b[1;33m\u001b[0m\u001b[0m\n\u001b[0m\u001b[0;32m   1028\u001b[0m             \u001b[1;32mreturn\u001b[0m \u001b[0mdata\u001b[0m\u001b[1;33m\u001b[0m\u001b[1;33m\u001b[0m\u001b[0m\n\u001b[0;32m   1029\u001b[0m         \u001b[1;32melse\u001b[0m\u001b[1;33m:\u001b[0m\u001b[1;33m\u001b[0m\u001b[1;33m\u001b[0m\u001b[0m\n",
      "\u001b[1;32m~\\Anaconda3\\envs\\arcgis_210\\lib\\site-packages\\arcgis\\gis\\_impl\\_con\\_connection.py\u001b[0m in \u001b[0;36m_handle_json_error\u001b[1;34m(self, error, errorcode)\u001b[0m\n\u001b[0;32m   1050\u001b[0m             \u001b[0merrormessage\u001b[0m \u001b[1;33m+\u001b[0m \u001b[1;34m\"\\n(Error Code: \"\u001b[0m \u001b[1;33m+\u001b[0m \u001b[0mstr\u001b[0m\u001b[1;33m(\u001b[0m\u001b[0merrorcode\u001b[0m\u001b[1;33m)\u001b[0m \u001b[1;33m+\u001b[0m \u001b[1;34m\")\"\u001b[0m\u001b[1;33m\u001b[0m\u001b[1;33m\u001b[0m\u001b[0m\n\u001b[0;32m   1051\u001b[0m         )\n\u001b[1;32m-> 1052\u001b[1;33m         \u001b[1;32mraise\u001b[0m \u001b[0mException\u001b[0m\u001b[1;33m(\u001b[0m\u001b[0merrormessage\u001b[0m\u001b[1;33m)\u001b[0m\u001b[1;33m\u001b[0m\u001b[1;33m\u001b[0m\u001b[0m\n\u001b[0m\u001b[0;32m   1053\u001b[0m \u001b[1;33m\u001b[0m\u001b[0m\n\u001b[0;32m   1054\u001b[0m     def post_multipart(\n",
      "\u001b[1;31mException\u001b[0m: Unable to delete item 36ce5320085a4df0abc94b0075fc215b. Delete protection is turned on.\n(Error Code: 400)"
     ]
    }
   ],
   "source": [
    "# attempting to delete will return an error\n",
    "csv_item.delete()"
   ]
  },
  {
   "cell_type": "markdown",
   "metadata": {},
   "source": [
    "As expected an exception is raised. You can disable delete protection by setting the `enable` parameter to `False`."
   ]
  },
  {
   "cell_type": "markdown",
   "metadata": {},
   "source": [
    "<a id =\"finding-relationships-between-items\"></a>\n",
    "## Finding relationships between items\n",
    "You can add many [types of items](http://enterprise.arcgis.com/en/portal/latest/use/supported-items.htm) to your web GIS. Depending upon the type of item, you can then perform different operations on that item. Once an item is added to the GIS, it  seldom exists in isolation but often relates to other items. You might [publish](http://enterprise.arcgis.com/en/portal/latest/use/publish-features.htm) new items from other items to create a new service, or create a new service as a result of a geoprocessing operation on a source item. You may also add one or more layer items to compose a web map or web scene item. Whenever you perform such operations, you establish a relationship between the items. A GIS supports different [relationship types](https://developers.arcgis.com/rest/users-groups-and-items/relationship-types.htm) depending upon the items involved. These relationships represent how items in your GIS are connected to one another. They also convey the impact removing an item from your GIS may have on other items. See the [Relationships between web services and portal items](https://enterprise.arcgis.com/en/server/latest/administer/linux/relationships-between-web-services-and-portal-items.htm) article for more information."
   ]
  },
  {
   "cell_type": "markdown",
   "metadata": {},
   "source": [
    "The `Item` class has 3 methods that allow you to determine the relationships to and from an item:\n",
    " * [`dependent_upon()`](https://developers.arcgis.com/python/api-reference/arcgis.gis.toc.html#arcgis.gis.Item.dependent_upon)\n",
    " * [`dependent_to()`](https://developers.arcgis.com/python/api-reference/arcgis.gis.toc.html#arcgis.gis.Item.dependent_to)\n",
    " * [`related_items()`](https://developers.arcgis.com/python/api-reference/arcgis.gis.toc.html#arcgis.gis.Item.related_items)\n",
    "\n",
    "Let us observe how the ports csv item and the feature layer published from this item share a relationship"
   ]
  },
  {
   "cell_type": "markdown",
   "metadata": {},
   "source": [
    "> **NOTE:** The Relationship Type functionality is currently evolving within Enterprise and ArcGIS Online implementations. Some items do not currently return all relationships they have between other items.  "
   ]
  },
  {
   "cell_type": "code",
   "execution_count": 14,
   "metadata": {},
   "outputs": [],
   "source": [
    "ports_feature_layer = gis.content.get('238d3e97434f40fda38bc846a97b5cfe')"
   ]
  },
  {
   "cell_type": "markdown",
   "metadata": {},
   "source": [
    "Since we know this feature layer item is published from the csv, we can specify the `relationship_type` parameter as `Service2Data`. The direction of relationship would be `forward` as the current item is a service and we are looking for the original data used to publish it."
   ]
  },
  {
   "cell_type": "code",
   "execution_count": null,
   "metadata": {},
   "outputs": [
    {
     "data": {
      "text/plain": [
       "[<Item title:\"US Locations of LNG and Oil Deep Water Ports\" type:CSV owner:arcgis_python>]"
      ]
     },
     "execution_count": null,
     "metadata": {},
     "output_type": "execute_result"
    }
   ],
   "source": [
    "ports_feature_layer.related_items('Service2Data', 'forward')"
   ]
  },
  {
   "cell_type": "markdown",
   "metadata": {},
   "source": [
    "On the ports csv item, the `relationship_type` remains the same whereas the direction is reversed"
   ]
  },
  {
   "cell_type": "code",
   "execution_count": 53,
   "metadata": {},
   "outputs": [
    {
     "data": {
      "text/plain": [
       "[<Item title:\"US Locations of LNG and Oil Deep Water Ports\" type:Feature Layer Collection owner:arcgis_python>]"
      ]
     },
     "execution_count": null,
     "metadata": {},
     "output_type": "execute_result"
    }
   ],
   "source": [
    "ports_csv_item.related_items('Service2Data', 'reverse')"
   ]
  },
  {
   "cell_type": "markdown",
   "metadata": {},
   "source": [
    "### Relationships of web map items\n",
    "As seen above, source data and the services published from the data share a relationship. Web Map items share a `Map2Service` relationship with the items used as layers in the map. Let's examine what results we get with a web map using the methods described above."
   ]
  },
  {
   "cell_type": "code",
   "execution_count": null,
   "metadata": {},
   "outputs": [
    {
     "data": {
      "text/html": [
       "<div class=\"item_container\" style=\"height: auto; overflow: hidden; border: 1px solid #cfcfcf; border-radius: 2px; background: #f6fafa; line-height: 1.21429em; padding: 10px;\">\n",
       "                    <div class=\"item_left\" style=\"width: 210px; float: left;\">\n",
       "                       <a href='https://pythonapi.playground.esri.com/portal/home/item.html?id=e92ec599e2a64c69945fe5cd833c8cb8' target='_blank'>\n",
       "                        <img src='data:image/png;base64,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' width='200' height='133' class=\"itemThumbnail\">\n",
       "                       </a>\n",
       "                    </div>\n",
       "\n",
       "                    <div class=\"item_right\"     style=\"float: none; width: auto; overflow: hidden;\">\n",
       "                        <a href='https://pythonapi.playground.esri.com/portal/home/item.html?id=e92ec599e2a64c69945fe5cd833c8cb8' target='_blank'><b>Liberia Map</b>\n",
       "                        </a>\n",
       "                        <br/>A web map demonstrating the relationships between items.<img src='https://pythonapi.playground.esri.com/portal/home/js/jsapi/esri/css/images/item_type_icons/maps16.png' style=\"vertical-align:middle;\">Web Map by arcgis_python\n",
       "                        <br/>Last Modified: April 13, 2018\n",
       "                        <br/>0 comments, 0 views\n",
       "                    </div>\n",
       "                </div>\n",
       "                "
      ],
      "text/plain": [
       "<Item title:\"Liberia Map\" type:Web Map owner:arcgis_python>"
      ]
     },
     "execution_count": null,
     "metadata": {},
     "output_type": "execute_result"
    }
   ],
   "source": [
    "webmap_item = gis.content.get('e92ec599e2a64c69945fe5cd833c8cb8')\n",
    "webmap_item"
   ]
  },
  {
   "cell_type": "markdown",
   "metadata": {},
   "source": [
    "The `dependent_upon()` method lists all forward relationships for an item. It also lists the items it depends on, and the type of dependency between the two items. In the case of this web map, it has three operational layers dependent upon hosted feature layers (with corresponsding item id values) and a base map layer that depends upon a map service (with corresponding url)."
   ]
  },
  {
   "cell_type": "code",
   "execution_count": null,
   "metadata": {},
   "outputs": [
    {
     "data": {
      "text/plain": [
       "{'list': [{'dependencyType': 'id', 'id': '77561ef541054730af5597ff4d1a3d98'},\n",
       "  {'dependencyType': 'id', 'id': 'a1752743422b45f791b7eb4dbc5a8010'},\n",
       "  {'dependencyType': 'id', 'id': '656e5b4e46ba474c8b146fd02803809a'},\n",
       "  {'dependencyType': 'url',\n",
       "   'url': 'https://services.arcgisonline.com/ArcGIS/rest/services/World_Topo_Map/MapServer'}],\n",
       " 'nextStart': -1,\n",
       " 'num': 4,\n",
       " 'start': 1,\n",
       " 'total': 4}"
      ]
     },
     "execution_count": null,
     "metadata": {},
     "output_type": "execute_result"
    }
   ],
   "source": [
    "webmap_item.dependent_upon()"
   ]
  },
  {
   "cell_type": "markdown",
   "metadata": {},
   "source": [
    "Calling `dependent_to()` lists the items which are dependent upon this web map item, which in this case is none."
   ]
  },
  {
   "cell_type": "code",
   "execution_count": null,
   "metadata": {},
   "outputs": [
    {
     "data": {
      "text/plain": [
       "{'list': [], 'nextStart': -1, 'num': 0, 'start': 1, 'total': 0}"
      ]
     },
     "execution_count": null,
     "metadata": {},
     "output_type": "execute_result"
    }
   ],
   "source": [
    "webmap_item.dependent_to()"
   ]
  },
  {
   "cell_type": "markdown",
   "metadata": {},
   "source": [
    "The table in [this documentation](http://resources.arcgis.com/en/help/arcgis-rest-api/index.html#/Relationship_types/02r3000000mm000000/) gives you the list of all supported relationship types that can exist between two items in your GIS."
   ]
  },
  {
   "cell_type": "markdown",
   "metadata": {},
   "source": [
    "### Adding relationships\n",
    "It is beneficial to add a relationship to establish how information flows from one item to another across a GIS. In the web map example above, the map is dependent upon 4 other items. However, for the hosted feature layers (powered by feature services) the dependency type is listed as `id` instead of `Map2Service`. We can change that by adding a new relationship.\n",
    "\n",
    "You can add a relationship by using the [`add_relationship()`](https://developers.arcgis.com/python/api-reference/arcgis.gis.toc.html#arcgis.gis.Item.add_relationship) method to pass the item to which the current item is related and the type of relationship you want to create."
   ]
  },
  {
   "cell_type": "code",
   "execution_count": null,
   "metadata": {},
   "outputs": [
    {
     "data": {
      "text/html": [
       "<div class=\"item_container\" style=\"height: auto; overflow: hidden; border: 1px solid #cfcfcf; border-radius: 2px; background: #f6fafa; line-height: 1.21429em; padding: 10px;\">\n",
       "                    <div class=\"item_left\" style=\"width: 210px; float: left;\">\n",
       "                       <a href='https://pythonapi.playground.esri.com/portal/home/item.html?id=77561ef541054730af5597ff4d1a3d98' target='_blank'>\n",
       "                        <img src='https://pythonapi.playground.esri.com/portal/portalimages/desktopapp.png' class=\"itemThumbnail\">\n",
       "                       </a>\n",
       "                    </div>\n",
       "\n",
       "                    <div class=\"item_right\"     style=\"float: none; width: auto; overflow: hidden;\">\n",
       "                        <a href='https://pythonapi.playground.esri.com/portal/home/item.html?id=77561ef541054730af5597ff4d1a3d98' target='_blank'><b>Access_To_Services</b>\n",
       "                        </a>\n",
       "                        <br/><img src='https://pythonapi.playground.esri.com/portal/home/js/jsapi/esri/css/images/item_type_icons/featureshosted16.png' style=\"vertical-align:middle;\">Feature Layer Collection by arcgis_python\n",
       "                        <br/>Last Modified: April 13, 2018\n",
       "                        <br/>0 comments, 3 views\n",
       "                    </div>\n",
       "                </div>\n",
       "                "
      ],
      "text/plain": [
       "<Item title:\"Access_To_Services\" type:Feature Layer Collection owner:arcgis_python>"
      ]
     },
     "execution_count": null,
     "metadata": {},
     "output_type": "execute_result"
    }
   ],
   "source": [
    "#from the example above, use the item id of first relationship to get the related item\n",
    "webmap_related_item = gis.content.get('77561ef541054730af5597ff4d1a3d98')\n",
    "webmap_related_item"
   ]
  },
  {
   "cell_type": "code",
   "execution_count": null,
   "metadata": {},
   "outputs": [
    {
     "data": {
      "text/plain": [
       "True"
      ]
     },
     "execution_count": null,
     "metadata": {},
     "output_type": "execute_result"
    }
   ],
   "source": [
    "# add a relationship\n",
    "webmap_item.add_relationship(rel_item= webmap_related_item, rel_type= 'Map2Service')"
   ]
  },
  {
   "cell_type": "markdown",
   "metadata": {},
   "source": [
    "Now that a relationship is added, the property is reflected on the web map item. After the update, querying for related items on the web map item promptly returns the feaure layer collection item."
   ]
  },
  {
   "cell_type": "code",
   "execution_count": null,
   "metadata": {},
   "outputs": [
    {
     "data": {
      "text/plain": [
       "[<Item title:\"Access_To_Services\" type:Feature Layer Collection owner:arcgis_python>]"
      ]
     },
     "execution_count": null,
     "metadata": {},
     "output_type": "execute_result"
    }
   ],
   "source": [
    "webmap_item.related_items('Map2Service', 'forward')"
   ]
  },
  {
   "cell_type": "markdown",
   "metadata": {},
   "source": [
    "### Deleting relationships\n",
    "You can remove defunct relationships by calling the `delete_relationship()` method and passing the relationship type and related item."
   ]
  }
 ],
 "metadata": {
  "anaconda-cloud": {},
  "kernelspec": {
   "display_name": "Python 3 (ipykernel)",
   "language": "python",
   "name": "python3"
  },
  "language_info": {
   "codemirror_mode": {
    "name": "ipython",
    "version": 3
   },
   "file_extension": ".py",
   "mimetype": "text/x-python",
   "name": "python",
   "nbconvert_exporter": "python",
   "pygments_lexer": "ipython3",
   "version": "3.9.16"
  },
  "toc": {
   "base_numbering": 1,
   "nav_menu": {},
   "number_sections": true,
   "sideBar": true,
   "skip_h1_title": false,
   "title_cell": "Table of Contents",
   "title_sidebar": "Contents",
   "toc_cell": true,
   "toc_position": {},
   "toc_section_display": true,
   "toc_window_display": true
  }
 },
 "nbformat": 4,
 "nbformat_minor": 1
}
