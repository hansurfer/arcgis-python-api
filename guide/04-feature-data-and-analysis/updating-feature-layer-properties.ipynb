{
 "cells": [
  {
   "cell_type": "markdown",
   "metadata": {},
   "source": [
    "# Feature Layer properties\n",
    "\n",
    "Hosted Feature services, also called hosted feature layers, can contain one or more feature layers with spatial information, or one or more tables that do not have spatial information. They also contain many properties that inform client applications about their state, version, capabilities, extent, allowed operations and much more. Together these properties make up a service or layer `definition`. Refer to the [Hosted feature layers](../documentation/mapping-apis-and-services/data-hosting/hosted-feature-layers/) page to learn about these types of services in detail. This guide outlines how you can query and update feature service properties using the item sourced by this feature service.\n",
    "\n",
    "> **NOTE:** You must be the item owner, an organization administrator, or an user assigned a role with the appropriate privileges to run the `update_definition()` method used in this guide."
   ]
  },
  {
   "cell_type": "markdown",
   "metadata": {},
   "source": [
    "## Connect to a Web GIS and retrieve a Feature Layer item"
   ]
  },
  {
   "cell_type": "code",
   "execution_count": 20,
   "metadata": {},
   "outputs": [],
   "source": [
    "# connect to your GIS with publisher or higher privileges\n",
    "from arcgis.gis import GIS\n",
    "gis = GIS(profile='layer_owner')"
   ]
  },
  {
   "cell_type": "code",
   "execution_count": 21,
   "metadata": {},
   "outputs": [
    {
     "data": {
      "text/html": [
       "<div class=\"item_container\" style=\"height: auto; overflow: hidden; border: 1px solid #cfcfcf; border-radius: 2px; background: #f6fafa; line-height: 1.21429em; padding: 10px;\">\n",
       "                    <div class=\"item_left\" style=\"width: 210px; float: left;\">\n",
       "                       <a href='https://geosaurus.maps.arcgis.com/home/item.html?id=e0dae2efe40a414a9700bee3a35c846b' target='_blank'>\n",
       "                        <img src='data:image/png;base64,iVBORw0KGgoAAAANSUhEUgAAAMgAAACFCAYAAAAenrcsAABb3UlEQVR4Xu29WZNj15Uupt/gN0f4wX5whMNPDocd4XA44vrBvvfhdku6arndUkvNlqwWSZEixUGkKFKUSIriTJHFeaziUByKrGLNlfM8T0BmIgEkgEzkgHkeMrNIsSOW97c2FrCxcYAEsgaSVXz4AsDBOQcH5+xvr3nt77y2WiIbbwfL9HF41xFd0YvUrXBya49OKXTFLtIxh/2uNj7d0NfWE6thPPUFzWT+Rv7iv1OoXI9gKk7x1AjFM4MNSOdGKRDqoUVvPyWyQ9XtKbXd3tcJOAbIFsYpV5ygQmma9vY8dHFvpSlKsWnaLS2Ra2OFZn3TFF4fbUAg2E++QBctrpxmLHnPkHf1PG8DvP4eOjXcTdniFP9urjipfne57nfyxZm6/9QMmfwUraz0086Om8o7LiqXXep/zFI2P1ndJ5Ubo0zlP8r/LMYmKB8ZpdzWCO2Vl2l3d5FK5XnKl6bqriOUW6N4YVF9v0TF0oy+R7v6WrEtX5psuEcHxU52gcrJOdrNuxu+2w/fsckBvNWCIGe293jwnYvsVQckttn7XU0cU+Q4G7lYR5De+EUmRzOCrMdXGwaFCQzumcnTakBN0/TcKZpznaFk1iTIEG1FR8m1dI7fy/Zkbpjh8fWoQTZZHagYKPbNz+Q8NLM8SqPzgzQxcYHGF8doZnGYspkFR2xF+2kj0kfh7Z7qazQ+RNHEcBWulS5a2lrgAYnfxuC8WCEnyGH/z2bI5Cdo0d3D5AARSuUFNXGMGf9zhO9NMjvMv5MpjKn9RiidGaVyeo4Km+OKLFNUzM2oge9RBFvga9jNuXgymI9vqHvi5W0gofnK++1q8tj3rBPsghipgxFD0DFBPt1QkkMR4hM1KD9R7y+oQQl81VIE12NKD2Ak2VyCrCX8DYPCBKTItLufCpEZuuWWm+nWW2+iweHT9OrrT9LA0Cf0yqtP0Q03/JTuuPM2Ovrhy3T85Jv07vsv0EfHXqXjJ96gn/zkR5TJzNc9dGBHzaqe5X5amOujyYluiocnqRSf2fch7uy6KZ2vERQDUySUCWzrVucNREGSaU2SnXkevPZ/bAV/6DwtLnVRrjCl70d+TM3083X74LsdNYghkSBdMTGkFUlL+VkCKUGKcmaOStHpCqZot6D+5+4K+cLLtKMGr/w/SLpiedZxIsFA3yu1T5bdrJJ2SuKCjPZ3ncKRIK1UrPpBuceqlr39qwAIaqtYwxWCzGe/pEDJUrGiXkcVC7Olfh0h99gJip88RDf9/F/p9defoiPvvEhnzx+jf/zH/4cu9HxGt/3m1/SbO26nx554jH7xb7+g3/3ubrrttpvV6z10042/oEBggqZm+2gr6yPv9jLNLgzQ9Ew3RVIeNSBqDwGDBzNdOaEGSLFxgOypQYiBjmvSg3GEieBEEEZhguZXBmjWO8qfMehAKPu/tsKs6wRFUwMN24F0flwRX18nJA224b6BJLnYGOXUtrySmpBeWrVUZNlZqKqZe3teCmTX1aBfVtJkhsr5+eq11xEEkkdNHqwiqXsDtCIKVDrss5NSUnPHw5KqnFTHpedZxcJ2p/vbDDtKejoS5COHAfhNANSsc5EaQfrjn1fVrKX8l3UECSgRvx1r1MUxKxZL6maqmS72xE9p78Uf0eCdP1cP2EOh8BD99dAjdLzrFF3o/ozePvwsnTz1Dh0+/Bx9fOx1+uTYEXrzrdfomWeeoldefpYCvlEqKD3bNddFq54+KhX2fzg7eJgyGMpaJ8fMKgNIqzSiuk1UVSl+r7abnwdnuymanuDj27E7TMDGCYa7qp89/rM0PnWM34vqg1f5HtIDalYhM0nlwoIixxyTAvtBOkCSij0ULwYoWgxW/zMGby42QpnoEJUSyo7ZUte8PckD3L4/GPAikXaUhAaJdjIVAiUhuRrvqQkcZ29rBkheR4K0K0G+bji+qR0HphSZTGuCAKuGFAlEQ5RI13RqAXRt3Jzd8hJ57/17it7239H0P/9fdKK/n7omh2hosovGxo/Vza7ZPFSbCdreGqVgaKzhRh8UGCCZzYE66VAoQaeHRJnkgY9ZGYMRxMAgNMnkDfXT6qZWxez/uR+mZj9lkmzF+2hm4QQtLJ2kcKSH+gePVu9RWf2e7A9yYGIp5eeY5PIfcK3FsjbC+doVSVzJzar9AWTy+vqgQoJUueKUmghGWEoBsJ12Kwa8CbZnIlO0V2wuVWzsKPWrE9XLkSCHv6EEAU5XnAi2BAE8hZoUCcZCFE/OVFUqASSI3Jy++35K8Qf/J1q/5T+w4ZnJTjcMpOoAUTo6DFr7Bl8KYHfk1ODObGmSlMp6hsRgyxbHWdWCnWEeU97R6goG3fnJXiU5RvjacI2dShFv4BwNjX5I0eQA/xYwOv4xq1L4LXidMJATGe2xYzsiNd2gBglpQRQQYzmxpP6Li4lmegZh58gxucJ0lTjmM7kcaEfSaCfBojNBgHdCOw2D7+sO2w4ZrdggAneuRhD/pod2ldqULdTclngg5k3a8nbT2J9/SRsT7/JgwEzdzNjVs9/lIQgGGh6OqEuZiJJSiREmBr6Hbm/+dqEkMzakiSaIf72f3OExvi4gldcD3L7uVoDaxDaPOhYSAq7XFf8FJgTUK3HLFtQMrwmspIeanW2C4LrwX0CU7UKQNpRKhHsNW8a8f5CKcgwkBiSSEAguZvs+HRSQOvY2E5BicD3j9ZoiiO3JMtUrQdWLtb3IhjJmwOpDytWrR+wi3PVVBysGqD2IqoNJ2QaYve2b3Qkw6LSK4WB4I+awOVgxMj1VjxaM5LxSSUB0liwVw7136jzFMpoUkCBO5GCXtGG845zirsV58B6Q7/Eb6cwMzblP8u/KdYMo+G1cO64PNoH930Bc3MeF1GbVuwYpKFINv226dbE/vsNroawHq33OdqBJXB+DwvU1U8ugssKWk/9zTRHkxGZz9comSCjqUzditm7AFEo1tyNQiusZWwZtK08QAmb2g2gXpt3QDDLwM+sD/NBh8+B3MZjNfTCooqlRmvP21bmFq99XYjZQLTEgRY2ReEb1XMVGu0VUnSXPeYpA7VKTC1ShvJpt5b+wJ8lw3wogXYtKwvgyYX7FIJR7ims2CQAJCmmkpYq+HpFWnQK/hftrbmMHyE7z87H0UqSExLymCPKZYaCLi9fEXLZGkI3EcvXBJ9RDsuMV8KzAQ4L30JXtwWICg06rB+0RhNUTNQgwKDA72mQQyACRwYrP+biWcoUSDNnh6j6sAhWn+b+MzHep1/EqofX16fOIRNAGsJsJJvuJJ8qJIHo2n9N2RmmBzl14p6oWmTN/2cHzBMBlCim8lApTacfH20By/CZ75RT5TO8YfkvuAwaqSRAJIu6XnQCAIHZGAatYlWfbCiBKU4K8GfjmGeqIqEuk34kgpqt3KwIjV8+weIX0MB+C6KkYSDYhbGDw6Iew/03HTGoTwQky+4sdINeJmAB0fPwWvEKS1iK2Riw9TIOzXXwO7Vma59/UqS+18wJ4z6qUUsHkPNiObaKSyTbsowfrFA+2RHKCXItn6siB6zI9WDXgWrValS4uUDgf4tQVGOU4/9pGDy37zpJvtZtCa4O0vj5CgVAf+YPddQiG+mltbZixGuzh1Jv1tVG1/xgjLAgLxjlFZ5WP7VP7jPK29eAIrXkH9ff7oClBvqkkETev5GGZ8IoXq/Q32ow0enTEfQn9VPTo/aQHDx41oNrRkdkr5UAGJ8Awtn9HvEfiyxcXLwY0BltBSZBIfJzm/VqlAtguYLfwFLtLTZuidv168IMwmkha+ki0Xl5BSOyH80WiY+QP9Oj/VZG+iJpL7Mb+32Z8ZiEZUjP7gpJSs3x/3cunmbztAtdhq018P3ZNeBiQApi8asfO8vWWlIYAVXAn767u64SWBAG+aUHDs00kyLIhPYKZNCUziEzXZlPMmHKj2Q1YEcGY6UxD3gmYXdvJG8KDwQDRBqBLe0sQy1APsVxGWoqruo85g8ugxjZWjRyMYABeudGFQQ6Ayu/AGyNEAUGEBDZBoFLJABYD3SSsNpRd1f9ZLi/S5PRx8vp6KZkeZxKAoEibabguqETquuVc4axLkSRMI9urtJ6eVTbN2brfkmswr8kG/pf9O07AvTXJKefG9eJ7DkbuNJf81xxBJA5iEyQoxjkIktymUsnNs4u4Gk2vTH2gq94V7AQ8yE48WFrdmFQPaZHfY5sMPkRv8RBlIGv1rf7h5pV645S7NanIEUzUBgS8RSCG9mSNs55vkwOAGgeJZQ9CAa5JfgOxGBjYnKVbclE2N0Mzc5+xJw3/pRRv1O+FVLAHRNWC9Alt9NN8IkTTSz3qHk5SRsGfXqT1jJbapgPCBqSI/f+bAZOOSRKRiJDAkHjOaqHGvgR5f22HPlxvHIhfV8AOsQnSkGaSiKiHu1Q38FlFqfjaOZencoNg9NoDyoQ2gLWP37652m0LqYD4iB40psuYXZiY5S0vlgQBJXYh7tbqgIVnJjtD+chY1V1ZVg+6f36cz40BXLOHtEuYJZH6j7YnLpEZoUhMG/qJpB68QCwBQsFDVW8gi/Fspq8HlD2wuTWkVS1FjqKy35rnPHlY4gSDg+Tx9FIiNU4j7gGaTfhpKuaj1STuiw4g2lLMBNtCbUhtgSlJxOaCRMV3yPey9xfsSxDg3avo0frQYVsnaIcgweSWUgfmOGVbBgrIIoNYZhTcVDvSbgPn0HlH9bOQPegxC4Mw2A7SSK6SU9wDA1psgNrsPskDUKdsIF9shokHlyV+zx2YVoMarskpPr95LUhehATBsabHCr+TUqrm0mIfrfpHaXa6Vxm14+R29ZPL1cMZx8nEAi0vDlJkuzaIJBjJ5FEGeza7QIFAP38HNW9PAc6E0LI6r3eAQsooDgWHFSmGFIbV7/XQxoZOTXEvniPPSjefj22pnJB5Qs/8ReSX1XLPTILgHtoDuhXk/ul7jCAq7KsRKmZmm6aftEUQSBFzEB5Vn9+ztl0uHF3fYdjb24UQRIz0hdyXdeoVI7HJD6B+sA9VZ0pT5EKq2KSoJ4iOH5gEAREwiO2HagIPCgMc++LB8WCvEEYMa0gbliQK8MvbDw+A56iQmKPhmT4CwZ08aXpQ4Homq7aNECSbn1YDdlBhgJbcg0yO8+c+oUX1uhaaYJL4vaO8vfb/avYE1CZs8yyDTLPkWujmOhK8ut3dXBeyC2N5B8HEWSZFuYycMV1ElUiP0MjoMZYWcm2muludtAw1Sde4NN6LdoBrh3qm769OtsS5nWI3QFsEeSNQog+sQXskVObtIMqlzvo23r0E8iH93iyW8jnUgoSU3msWOQnEGwOCwD7RiXLNo+dQv+AZ0QSxDedaEqFNjkboxENIGQAzJsdHKjYDZn2tUjR6iIBibIZ6Z7WHywmQNnrGrDfQ9blHKR6foGh0kmLROYorozUcxrYpSqamKZ2eoei2GtiF+t9mo7+iKrI9olS9+bkLar+abQRvEtQXXLd43ORegfDy/5dXzlXUylGC3SRJmPo8eNXvtVrqPJDbBSQerhvXjN+AxGKvGNRCB7uuLYIAcPkCIMQHyiaBXQIDHurXW2o7AovYbg/YgwASpB3ngNPvSbrJdKY+98rEeqyWpm2iUKzYIIog+xnmAp5FmxiMeAjmQBCInWBvF0hyYVXNUsA2HGP/Bv+Osj+6Bi7Q7Mo4bWX9Dd9jUGB2tskhgUP8pumFw3v8FgYqHAn2+ep+G2pjk/8PIG1d6/+mqlT/34Ugps0h9SRyHU5luweFnEueDzsdSkpCrek4k+lkaJsgR4JaYoAkrwf0tjcqxIAEAWHw2WnQdgoQpB3HAPYRMuH9+xUph4TFifQXjapVBRsJV8NABxBUw00BQbhCbh/3LsDRbb7ZHirkFnnWNB8Ge0pYjYI6pWct2W5Gi/eDVguaD9ZyZoHS8VnqnhwkFCTVf++pqi+issG5IFF4GZAS3ceAxrWJh20/SJq9vR2QmE2xVLPJ7MkBBDGj+K2gbSwUXzlL03YgBGFJrf4jE6To5gpHqKxcxIViKyX92iaIANICUgQ1I7INhBGJYtsrBwHOZatZcm6TELCFhKivV65D0k1gpPutKkJBJFVLMzEhVXIgCDwp7UoRDLilpX5a9Y0q3buftrdmKJty02ZYGdT5JYpF5pSRO0ep5IJ6nWXDN7w2SeUS9OF2VDBTJ2+OzOYkTbkGG7aDIJLLBUAamZ8BUV3qnQt69m48nyaFKXWakanmIdL2kT4GkwZUWDgr5snj7eJ7KO5X+78D4nxgiVJCfYmuLbF/rx3gOnQKSu38O8WFuhJgQccEATF4hleDVCSJHqS6lh0SpF0VqRVsggD47XeU7YNz4z1IYV4bvhMVqxVBwptKt880um/h9uMHh5mEPVjQ2Rv3M8G1EPlxmp66wK7j6ckumpnupsiWMpwHzyjjdZh8KyDOAC0uDNLsTDeNj50nr2dUEUkbzvZgEHBchGfy5iqMCXiQJqe6uea74bsWUXw5P/6zRMvrBg/bZvXGP1QvUYP0+bVTwf5d8bI1A0gCCQJ7Swcyta3EgcIKWXQmsM50xm8gqGp6AvdTA53AZGNPmHa17xRdjvGQjgkitghgfwfwTK5gzvQHIYtNEJyD1btV7TAAIe3fhiSBkQ6CDCU+p8X8lxxBN6PoQDy1wA+iYbBzmsUkZeNI25jh906BNROipkSi4+Re6FUSYprWWTp4aHlRHRudV6ToZRfqemiSfN4Rfo1HFygac54tBfbD2g/JjJtWVieaFAR5Gs5fTwJ40ZzzxCRWIzO/SBXJutXvRTrU/y5Hqh0Ia14XCAJniJwnlpvWKpeQJa9tLxnQVWdKhaRipzSeuzWgMeA4SCTYIJeFIO0CMzwGtRAGg1vsE5MwTi5dbVs0kgbH279jAhIMHVZAENOTBQg5goVdiiSaS4VUVg34qG5AYH9XD53856QSYNCYgyUem2P7xLzxEjE3j5HBJ9saPWOtsbQ2R9msmwclYhHmd3BDO0mHTgA7QqeC41X/Py19Gl3LAgQMy3llo+z41ICu2UZs51Rc435/P0sGVrl2lmgxtca/J/EWnWIj5IXdoNNe0DVF7Bkn6dUOquk+pWXHFJ4rRhAAM7r5GQY9yAEb5oh6j9Jep/r3VnaMk+QQ4JxVglgJi1WCZNKUz887GuAsLda6Ke3Q7cRGpqADd/YgEuzncdEBQ/1wsG91Vq4YyFrH7+yhDy8h90oH6sqJerWMvU0V8ulB1Vy1aw49W9f/bnNyMHY95N9Y5i4m3kyYG8YV1MCXqD5m8cDqEJ8HA3855aNUEensy3wvOE60iziRDhpW7y8Ma7iX1bmaub/bRyXl5GoTxAYGMOInIAY+Y7DDjsF2kOKjitQ4utZIjHYIAuJJsuJAor5gSgiynlxnb5U94HnQ59VstdnfsN0JXF2Xa+512a8zoH6oNbWkk7SJZvD4R2gpuUbrahCi4wckCZIH2XW5p703GGh64NVKeltB9tH2hvZsSaJfu4iFZylVWuX3mfIq14SsZVysRiFw6Fnp4vNuIvqeDeoYC7KPK+5wzh4oV+zDysShydG5WtUKLHmtcuGrShCQARIDsZP3KySA2gTC4DuoYrA9mhn5+6lYOLfYIE4q1mosQyFXH6WzjfYHEySq1KucbpS2HySCbgNqyEFm/8sBzMRoTLeZD1G0UGurs4cyWAf92r52dnlWCKGj77oYStsZOmB3kNk6sTFDEeN6YDsEswFaVbYSnBwLS6colR+n5XSYJQcmF5DQTMPBNt304dInkqbYrZDEUE+vKkFswC6B9IBHTNy4IAmkRDOCIB5jn0cAG0QKpgYNCQJjPZDdJd9vf0SJW/4PCr15L8XT9U3ROJ0jMeVovNuQCj0nHNT1eDkgBEGt/VJ6k0qmzo8aF4skEsQUQ1dyuKqGd4UMPHMfkPA7ZQ+tb7jr7A9RK5dSAYrmZrgeZDs9QgsJn9oOo3m2Yjzr/TRB0NbIpQ3qA15LO7Cze79SgkBySFReSCA2ik0OE83ULBAOvbFAEGk7KukmgcwueX/6v1P5pf9IG7/9O4rFe+sGPccG4kg81HUTNilsNEvF/joQBO9Luz7ypDcoWQxUv0dLTvSFks/ieTqIVGgHO2pG3txENrP2GLGLVkkF2BqQCGW1bS6xQW5PN9sjMzEfJfK1ZM5agZmOwuvzalvF/q3LBmUzfW0IArVKYhoiMWDI4zOrYrBLOiAIpA/2t1WsatvR0WO08dYttD37dsOAh0oh7lGzHY0TOKDVpJjHzqS9mjAJAuTKfjaMM+Va+gmrEE1T0S8f0P9qPexidzc+c15bJdgHkkgWQVrp/AOuYVpJLdFkNFBxUGiPlXQzge3ETo2yjnmIXWL/5sU9r/q9FSoXkRypfrNkf18P7Idj7O3csbHy/qslyKpWp/AedgckCuyTqk1S+Q6qk3i22HXchCDAh+o8JkFmxUAvfUHxlPaCSNqFACoTMk3RXBn5WDYhbDSTHgfxxV9O2AQBdtUAWExt1qk4mCHFcL8SgIrnSW1QLlaLTENS8SS0g2xlHUHHPYNUmfcMUiSnPWzslaokFOIznBc6XQderZptwASySAJSIPt4bPQcrfrHadU3RpmUmxKxBVpZHuJXv2+UVjzDFApOkGdpiMJrU5zJXMgt0ZJ7gJLx+brM3q+MIJLcCHUKn0EUcfmK1IDqBbUJ298M6HQWbAdZ7PMJxNULgoAcK5U69GA2T4m0zmY1GxdoiYD8pFFu87Nf/Yfe39lAl0AW0hj0g97HBXqZ4UQQADEIkCSrJAkMeJAF/1U8NvjebKZ9KcB5VpRql817qtmxumhM52vpaL2uyeB4hrpPK140mai5cM3Uf7mH7NkqaacBB/g43UQTzvx9BGdd8wM02H+aUgkXTYxdUCSYVoSYpEWk8y8M0PxsL2Nmqptmpns402HRNUjB1XEmkBlo/UoIAjJAUoAIkA6yvVmrIRBJ1CfZBonjJElAJEl5Ry1I1b2bWOPAHga3U0MEbsAWm1BSxrmjuQmpzrMJUo/2upxcTjQjCICBu5oN01YhROv5Ne5PNRdeJe+2j9a2lmhNGdLpjcZy2U7hV+dNFle5AAkEEUkhEwj2kTQPbIMEwXVLy1QARHKKb+jjEH/SdTTcX4tJU1MZs2k3Y2N9mtUtEGBHqXmQFCAMZzBE5im6NUfbW7OcEoTt25uzTKbA6lhdRelXQhAkPMrAl23Io2qWwQsp42S4Y38zaRIAkT5ThvpwUnuxOB+r9DeKcB/eGjGkgVodon0Uj+8fB9EpKc42iD0YriZaEcQJkCQiOWLFIM0mtikf2S81pDm280HtsYIKB6CD4Y5eugGzPga4DGaTEJAgUKWENLrtZ6MtZ9eUiFTSBnwjseFBy1sZDM2ALGxkPOAYTlaFur2xT9ufKwkMeLE18NnOvTKBrF17mwmbJPBkiQ0iUiQcdU5xr8Nad+M2B2QLummbTQoTUB8kZ+hqoVOC2EAQz58Kcbr3fv1rbaSU1PCtLda1/YEEQTYvBxetewHVSgjh8/XygDfvH763f0MgKhpnIlTSZ8Q1fbnxlREEapbEO0ASp9wrAImJTp4sE7YkEVfvVLpmpMMG2Y43qlZ1CPfUfYYa5dRHCrPWfhJEoP33V4col0oQIFYMsHs4lAo0lSairnkzGxwVX46HaC00z2ss2vvygja7Os9KZw7omhgzLwzJiiIZBJIl7AR9vG4oIek6OOZKBBG/MoIIJEXeHvSCZnaJCUgisWWgYmFBT043qfTnFTtkO9GivgO2x3pNgiDVAX546Ln2vhD/0ru1nZwm25C8UrgcBBEgNSSUDpJnw0sbMTUg0y5KJhcprN7DbolsYWFMrOY055jDJLA7hrBXahep8bU8Nk53t+6ZJlTj+arn2dOrVpmthFqR6iAAsb8ygiAnS+o57AEvgCHear1EgZ16D1fv+YhOWKx2NCnCzWs3arCgJEgyoSQHurwbxqpdOMUuxz1dZ22rBk7Q/n9dqWc/hMuJy0kQAaQFVoMK5dZpIx+iRCnAQUjcH64W3Meob2wkh9lfS1VJr3ciSLuDXQc7L33Bz2b4ygjyXkjXsptp8CagWoFETunwNmy3LyQKWpAiYRENqzlQWLyoJMg+Khaw1UuJrT4qRCaqD18WshQgkIjtOiK8f8KfkASvV1KaXAmCtATWAdynEbS95BkGtNwHvMd9WV4533C/rmi0vAN8ZQQBoD5BiiB2YQ/6ZlF0J3B1Y+WceIVNYrb+YSlS+pKiyTYTEZUBXiopybA9xi0zkXEqAUR28RawmpTu6iF6MLsgm6hb0K9Fx76SeURXnSAKWEagFUnQtMH8LFFymfEhSbxe3RfLxJWcSDrBV04QsR1sL1YnzerM8l+QTRpYj5kEgScr7tzNxIbu6qfUseQAZaO6nQ76SiHAKBWE4lo0Yx2Shr2zK2TRWan47lolCIDsV1tSCLAgp/mZ6zoqk4psW/UPsEpVsyWwzIIz4a42vlKCcF05e7N0jQhUJalpl/QSM5qOfWypgs8AiIFzmgQxuyuyJysZoViqdZ5VLD2gYGzb7qVsTgcYub9tZYZrFecwS1dFl0YSpHy+XFFrG18VQYDd4hKVHOrP0W/K/CyBQzNNBNfN+5Z1qcDXRXoAXylBpNED7BF8hk2C1yNBHSWHDQJbxDwG+wiZ8L0UWx0O6WNBJKS8I1A4marVg0gDOc+6hxY9p5vCtXSSXMunatsWT5HHdZpWfF204r1A/tVuBaxNMUhra6OOwHergX7y+rF/L4VCuu2m16/O4UPHwZ6GYy4HlpZ61e+MNGy/HHC5uhu22Qh6B2h1sYdCasCvhfQ2fJb3AO6dvi+1e7Cw0MWD8esiNUx8pQQRcJ1HJZKOAKJ4pbCdpUNFepjHCLnwPaeiVFQs2CAgiKhXAlGz1hIbHOizJYcTEHlntWqtj6UCZj32XrXpjcJsCUmjO3JUevMW3bQRrl8s9JuAULB550YbcP1yNxMu/a2XKuKsMCsuRYJ8HfG1IIidRgLbxFy8R6tQZZYSpjEu3i/TSAc4kh6rX8RTCLIe9VIq21rNEsAgz6HpM7qoV4JTkuIgdRTtznrwynCOkVJFrnWCMGCXxHRLT3O72Bmcq1aZaK4KQXaVvVhY1IHLtM7YZajPXJqMRnHqvd1+9GtHEImKgxC2MQ5IRSEIhBp2OdaMhaA31pBSsdB+1CZIKL9DG9HG6LgNyfpNRQaonNGzoFPMQ0fUzXX6dL6QnRsEgnD56jVKkOKOn1aycUqVQnXbS9vq3lT69YqLVyDBwEshCHeSz8zr5RZQKmsAVZQY9EwEBDWNOo9mQBkAS71KBsFlI4iZldspZJDDloDqBHWqVfwD+4kBL6qWeT5IFhjpThKEvVkJDxvdNilM1PWJTeiYCNQsEELad+IcQiRE3uGhkmo5W7KwAbrrviYJglanw/EinY/s0UI6ZX1X6Y3F7zVBJH9KPHxtEcQe/GgRGp/Vqekok825+D28aSINnDoltoO98hIVohOK2Jcpkq5ry3XQr1m1XzNgf8niBSnMmhAhjlMgUWCTA4CK1l0hCICcLJMggfhmvafKAWZThnx+koqxWoxD6klAEl6+zOgCyK5dh9wr6eV0LRKkvOujniiyF/ZoIpmjpJIiKNQK5rdpOpmlSMJLO7yil87sFS+fSN1WBEHyo6hAiLeAAEhf4VWIHfa/FGCC48aBBSwTMUolRbhLIogY1hioeM+d3h0GbDNI2rvAJIgA54R9IWW5UKtAAAAeLMeakIona0QZ6n1x3SdrPlsjCLt79yOIla2b3OyjXIUI0m2xWWcT6NnS20puvibIwjVJEGAulWaCABcU4qU16lakwfvFeITyGR3f4HtQcfVKBaYTQSAhIBHsXK4rDWRJoDYoV0QG8iVKELETMHB1xV9nBIEqZRPEtj1MAkjk3T6PDa4JMdZMF3VrtVKbHkysNxDChnQbl9rzNBrNBbvq9rE7pNtAsFAMUclevVa9WFCthCCALxulgViJ7RLurpjFwjnakyeGuniyVn0D2vNVsRXKqfkG79flBp6LENbcjqwJdLaBBGm5TnorYACK+gMJgoEuXicQxd6/GWyCsBSyPFpSm84tgTo49/FNbYcIJgw1a0PZIDYhmkGKo1hqbNV3QgGa1aeb4BVgKwRBV8drkSAovlrJxqoE6YuVqSu6S71KihQLyn5LzVIyPUnvvf88zc6f5fy2jFJdpyYv0OzYeW68jabfOBeKlxDwnJ5CIZX+LNv7ej+mk58d5jryUHBKHeerfmdfU2toG7G8g6rHmrqGuneUYCOwC1XwkgiCQQuJAXKgqEmWI2gXtnsXBDAJAvctPpuxkXYB1Qy16X3xz7mR9ZQY6sXPaSu6X99dByT6Kb5RXy8C2KqYDa1SzFVqFpQdk5/5ehEEXiBU/2HWxuwNb4/S7832QMB+BAHS5SCrVKYkAbyKOLnQKK0s9NBdd91Bb77xCn344Tt05Mir9McHH6Q777xdqZ4+euqpxxQxluiTT96lt99+le655276+KP36IVDz9Cpk+9TeH2SHnzwXhobPUsff/w+3X33XfT66y9Tf/9pWltzTnVpBl3TU8vu5r5oJU0UblqutAN04DwQQUzo5MCaF8r+vhVsCWIWTkFts4ODnQDnQm262Z93GQ0cin+jjXhjjce+aFJt2KoeRPex1R05MBvBi3NZVCwE4JQ6gpLQS2nhg7pxlJY6JRpyPXlspvpdOwSJFMMsNWyCANOhDZ71X3n5OUWS39Ddd91Jv7r5Znr66Sfp4Yf/SIHAiCLEXfTZqcP029/eRTfffCP9/Oc/o8cf/zN973vfpccee4Tc7j5Fpl/TCy88TS+99Dw999zTdOLEh/Qv//ITCgbHKBQaaRPDnOngX+2jJe9ZcntOKZwmn7+vug8yHpD90DFBMJNjVud6jorKg4EMgxmDuxMVy0xIFHJJrhVSTFCn3o7NYQLXIn21cB6zgdxKvEBr7x+i9Xcf4kREe7C3QmKjlxKGYY/VbWV9QmeYsZEaLtlIlzoMOZ8a4M7LHTQHPEPwAsE1an9nA54jGMztEATYViRZyiRoRN1rkyBnPOsU9PfSvOu8ksaztLzQRctLfbSmpILH26fUrSlyL3XTgvsCLS73kGvpAvkDgxQIDfHrVgRr0btoY2tcDe5hWt8Yps2tKTp75lN6+eWnGq6jOXTAV3eJn2bVmW3JnLY7ZD+oWNjWMUFkUEuSIAaxfAevFMhjH+MEJ28Vtpv1553YHDifrbIBULOEIK6eHiof+gGlf/W/Unj+aAMJWiFfVCpSuLJ8WRZrbE/zDcR3zTqcwFtju3wviSAgRyWmYAL+eh3capQE9vG6qXVnniH8JvKs+PxmPAKfK4A04tgDqgvVZ1/FHrkQ2aX+YJheUarQy6+8QCveM5RXKkxue5QKxdq67FWpy62TdLYCAolY1BMxpmbLs4U3RpUqtD/RBUgVMo8HKcRQL5Xrz1NQKlfHBMGMjtkeg1FLkhohpBajnVkftguOhUTic1XOI4mIJvH2A37PzvIFjinAzYuIOuyP1WiGfA/9gELP/aSh9WgzaEmhO5vnNof5ZkJ/FXIAnJLS8PB0OxruBWUEDS+FIK1cnhwvgLqEIBpHlxfYtsDsDzUMKhnSPuzu5e0isNzHtR1IXy9uTujXSlwChJMUDbmOVHyRRtbiFA6r/+vpoXePvEHnTn9Gi5PHKLsxyNIL96fxvtXcwdyft8kiqBxTUvutBrs5y1rWGmkHIJ940uCFlIg+vFb2vh0TpBUw2NslyOUCfst2DZvAgp7z2b+RH9m86SQVCy7K5NrLxRJAahQKtdakENOmgScr0UrgUB4iJIitZh2UII2lqw6AhFH76VWd9MzOQbUDRpRNICPX3tYKe7tebkgnnyNQlWZP6Xw0lqwu9hhJw4V6AkhjOa0K4b3uAYCVrsz74KHQ2gATREjTSX6c/LbOk5tjrcDe57IShNcuXG+9REEztEMqSSvBvrK/rarZOK0MdU+lu2I07eNBrNv27F9+C8mg3biTHOgyOwXa3RnNY8yHfTlULKhQV7JVaDtYU4arva0TcOAPsZBKJaYUjpndTeS9DrTqdQhBAumRxR1RjFkek09wrb++ToeL1NpzXMgioizJeLUwnVgpkgRNzC8rQWBYc7zC4TsAEkarVvoVkLY+p7f32OsEj5g0ijNhrhmCV3EB43hsQ4Liic29BpxTejBcvJAgsZSbdU57UDtB4h/mbGRWx0GXRRDRKafLbAl0OSQI3K72tquNSyYIHAPIlkUTa6ifldea1JC2orpron18M2yEx6hclqZ06LbYWtJCLQMB7UYPqBjl2IeyQ6A+I5qOqPplJQjsBgxk5E455WTxzB/Qs74udtKr1pqQ7TZYclSChgLpqwVbA0QwA4NId0dwEHUhAOyQ9USQjW3YFTUiQDVqJI0Y3mZWrp3/g4bX9ccoYsAALeoG2Vr6YFa6NBsEkWV729XGpRIE4Pr1uHOjCwxaBFQ7XT4C93J3x/kYJEWa0grnxjZdp2O2LMU68lhZF3l0i2T2Z76sBBE0kyBXAkh/Z4miSCmrS5npJVUPVu5L8qdSFFf6uKleQVUqlhuXZEP/XkgCMxWB142A90Y+q5tpkg03FueStqay7rfZoaNTgiBgZy98c6UgrXjs7cDlIAgAKYLkT5sgNXutPftB0JIglT4AALcoNSRWhvPqdOIkbA95XrpxtpsnzitGkKsNSBN4xGSNdFOKmGW36LLoS2cpHNM3BGoUp6erWV7SSWTmh7Et9ofMNLAD7MFqtwQyIR1Q8ECqrsQOCMLkuIq2hxSFyWezwcTlIgjiKubANYHt9v77wSQI7BNd1667yQOOgVwlKbRTRU+O+J94TgDGQ2HHR4niMgXTC9cGQQA0foAtgiRFWelWSIL6dETUJ9NfsEdrNZ2irZg582tpIXlVkABmCrvYITDSUZUmD2d3Z/8uKWauFm5+qbjYFkHgpkVswd5+JcEFXZVBKukx8h0IAldqux4iJ6DOophujH1ocuiGDfYx+8EkiNgXWgrpnlv27+B54LlA8uN77VVDl3i9LxbyWUmHaDMfoEjuAHGQrzMkiHl8AzZJjST1SYtfkFcZ7MFUlKIprQrZGbmSzs7EKdYGM8iBZcyqn3fh7m3RzhTnzlXaBMEThuhtwbUvQSClrjY5tPTQK8mCKHaWqxDkIINYgGZ89oCtQc/0pvfKPt4JNkE0Kp4p4/yY7EzPoylZwkpKuxI+cidWyJ/U7l5oBgeKpH/dIQVYttEuGFHSBFIkVP6S1uOLfLNs1yxupmzHTZWH4bQQJgaTkyeLj69IIpwTrsd2Sm7hCNjNHXwQHhRaF9eVkNqbVLsGfEZ3FiyqaR/XCUqxxhm9GTjA6hC4s4F7iQRHOEwkrgFpYMZQAKhP8jxNL2Mw4yJPSk10at9IdqqiTSDTeIJxzREEgFv4mJIi6I8FdUuAfr0sRZS6hTZAqAtB4VQzggDwZsnD4BVQHVyuSFGwyVElCeyQikcMMxsClc0I4tQ04GoBDaXReUVmcDMFHECCny1VOgVWtZKVocz4BzxKepu5DPUUE0T6ijmBl5MOoZCtPeJxj4G8tiv1c56gpYQiB9y62wOUTmv1C/EPRmH62iQIZwUbeVnocoIKQ5ThgiBoKOfOf0nBbI62YyJypQFDvTjGABfXI1I4yolGPzuMQjbynRblyejiK8zOeNiZ3CSF1w3SVdJCkJnbKTkgjaKRWUolFrieoqEmwviM/fC5YZ89rV7hFUYyBiXXzlsEuVQjHY3l8nFEvKd1tHsX9el6YEttuoZuRi2dKTVZEEGH9NK2Bd5LwFFSTWwyaNTOUSrNUTYzTpnUKKVTYxRNqOewptTjTfVsUsreVOdIqrGQ3Oyl1Ga/ulZFqK1rxIvlBHPZBNgkkCayhvp0xf0byKBeWqtHdrqIGHMgSDWfqkmyoDQjsIkhx4M8UjcSSwxRcLmbiVaOzbDUOGh+VCblot6eE7wYZTw6R/Nzfbyk2NbGDG2Gp2nJPchr7vm8o9R1/lPa2pyl6cnuulWXZJY2jXKOFxgGOnBQgqSSWPZMXdtsDwX8YxSLT1FSETqfd/FimiiicupS6dRBBtcIdc/c1owg1TZL+QUKb8ySO7RErsgquSMeWk/61GQGCaYJBFVKq8OwE/US4PmoInPuGpUgkvJuppxgzRCRIOL2DSQi6mboWV8GMoghRNHiuKIaVWbUIhICHQYCHh6kDs5jxkZYKilRnkEgKjNKrskTavYaqnOhHhQgyMryMPV2n6BVRYSpiS5aC07QyPBZXosPnyfHL5Brvp+Gh8/w4pbjo+fVd7XBr1eRrZGE0zmwymyxvun0QQmSjC/Q1vokTajfX14cVOrlNF+DzztEblc/LS8NNlGjZJEcNAh3VqFwjYFQL5XLul2pqbZBXSykF2gxrKRsblZNelqNEzWxtu8kEwnFUbC7UDS1mUZ0XidTXpMEkYi9dEORhg/i/gU5FnNfKoJsUTRZm+1TFW8Wbp4pVdjoq6Qw2N3KTchNr0bmt3spudVPmYgiSnyYCtlpci+coXhq5LIQBOvpFfJLinhuXqgSMzW24TNUqURsntJqBs9lF/k7vPIyxyVn41dUSc5cLsK9XdvvoAQpFZdpdqqblpU021ybUlJknKYmuygYGFOq5jgvx9wseq5VP08lnmETRDsU2ItV6UfMBWlsqCt1tuQi38YSpQqy0JFIFp1mAjtLMnpFfYNNAwK5kv6qRL0mCSIAURAfwXukqkikHQRxY+3C4kXaitY8UKIGYWbiPKucXhHXHCytCMK6Mx4GVKrtPr0oqEinIvK6lnmgxRO6+Mc+vlPgfDBmW7lEhYjtEBJeKqgwNZ0f2/W5D0oQ2FdIUtTv9X+WGo92c660vVIvOdhuUdtDi+h9PKfUKDXjg/jIEMYEtzVG6dxCxZ6Z4mcpXix2t5d0trWWTrq5Bmy6RXc/zXshVdxUKF5jcZD9AMMdUkT69iLDdwtLA1cGMdIL7JlKDHcRzbxyq4PNgAZpOzsYsDMsMeKJWsUi/OlIS8F+8Nn7Az1tDdj9gHPYxrQNXDerTW24TLGvpJtIjYScPxTsnCDw+hXjugUSPnMmgiEN6o3zVsCgl9R05Gzpe4e8rgXfFIWzAcqWfBSKrFBwa5m2Ykvk2VqqdCep2ZIyCeKZSqxFpA7OB3stpiRtPO6m+eVxWpjvvb4IAtsEUkTKcJkgSpzKDZREQyfo+g54eZzWwvDSoUNP0v3330tbW1MUWlGqVWaCgusDtBEZodCGUi+21Hmyy+oBzJPL3UU5ZSjHlX5eKKxQLLZAifgiHfv4bbXPEhu2jYOkEZq0zaWH7GMb3M2g85DQzUMPZGzTkeZ5pRJ1ThA4NFA1KPETTC4Sq2CPWTPVasejWwUl0Tt3hpMcsZz0TlGpkgW3rqBU32FF3sXgFBWLOjAIpEt+SpYChHwqmeCk8yXyr/BeUkokexjXgf+8vT2hVOB+WnQNKNtI20jXFUEA2CWQIsj05WbWyTDF0jK76JQTmxwmeDZGbUNd3yYvvfvua3TTTf9G3edP0o033kgP/vH39NLLz9J9991Dxz55lx544H76y1/+TI899mf6wx/upWeeeYJuvvkmevnlFxSxfksPPvgHuvPO2+ippx6nhx9+QNkS/oaBY4MLhFoQRLxvnF9kJEw2AwaL6OUmQaCyBAPDDfu3AqtWuVoKRymuBjIChTE1QGOIO9V6hgkZUKGI4i5Os4HLu1LWy9WRnHrj5u3IMthR6hRW4w2HR+vrQaoqpzbyMalBUomxL9eDtHgQBCpxzQkwScmUUq/zsCXd5I16rj+CIHUeUqQ//jl5i1iaTREl5qNYCl6sRkLYkBmby1llsRplED//3BN091230+G3X2FSHHrhGfrdfXfTo3/5E01OX6C77r6Dnn76CTp37hP66OPX6K23XqXbb/81ffjhu3T06Gt05Mjr6rjfKsI8r4j0kBo8+xMEgxgPWXueGomiHQtopt1eDhX240FmDF4QBAMtsNo+QfZKOq1dcpwK28qQLunyY5w/m1EzeHJCtxGtdFuHlLDP0wqRQpAXFgVB7EChk1cM/x//SeIiWk1Dvpaz1oAJxZtZv/4IAiAV5XzFFvGj22LpC1pL+GpuWeNGO904vukwBtWMtz38Pq08/ksKDX2kVAAMQi83EeCy0YKyR9TDg22TyCqjMY/ZCrMTZukZiiXHedGbchlloj51HFQmn3qQtVLVVoAEwQPHILRtDD1r2qpga7A6xdF0bTPwoNpD4HCxI4JAtYJKw2RIjNBOviaZqshi/cdGW64dQIVaza6xWgQ3L4zp+ufU2B9ZcrT0M6xJfzuqb2It67v+CCIuX6SioF4dKfDcs7d4kcIxpBjg5rp4gGFmtm8aIFIEqtbq779HF9/8MU3d/D01S+oHbh4HfVeMdWljaiKdnib34vlKkMq5VVArSCWdvV17olob8Nogr6WPIHaAbTIDm7YLVKx2pBCQ31STQbifMhsDVEppSYL/KrO16P/2ce3AlwkrcqzzNeJ8dqBQ0no48dK4XpFe+rtpnghw78SbiM9SCy9wJbzXH0EAJDSi8hEZvzDYpWY9WNilzQTSIOSB1LwnJqrGpZIiwbfvJ9eN/wMtv/MwG/DyQGR2NzNIpQjLPBcecjo7TnMLpymTOfjAMaGN7P29ZLYBr71XWm3DZwkc4j0Iol3KjecxgWOz27XcNkgfsQV0TMOZ0O0gp+yypfRm9Xdw/UIQrQrOsOeK89/UxCRpLfr4+vR3/E9b6nKA1NgnraT/dUkQAAQ5G9njtqSz6HpSaWwdKn1O8ZT5AGs3Fg8E781ZF7pzcrWPPS/2AxW1wiQJ0t9tkgB4yC73WYrFa/UnBwEeMpO4Dbcu/ovpai0Z/wsQlyz2CQV1Ptl+XjOgGEWcQdYA0a5oGPr2fp1iNRum8q6X33PPrKKWILmCDv4hKwC/A0kN965kR4A82iDXnkieCCp2G/6bGOw6eGiqW5PXL0EkLR4eLdSrI7JeXR4hsU2FusRB3Vkjl5qlVLrxQcO/X8guUia9SDvl2naIbbnZHGfJjFAkoasW+WGxWNeBKh7U6ndWV+ESHj7wLAu0c6xOL2mtgolKhGtcDfTx+3YCnEjHkfJWllKl+mIoHcnuLDMYVX7L6Y26bWj8sBrsIfQZ0NvEe6XzrCR1CISBTcRePZ44nIupBKbhft0SBECZLnK0YKzPcY2ISJEvKLimRHQRMwtmJg/Fx45S+Hffp+M//r8pHJyi4eFTynCdoJGR01TMLdLLh56i1149RGNj3QpnaXDwM1oPT9LQ8HHyB/ppaOQT8vrH6dSZD6ir+yilkos0MHCC4vE56h/4hGKJWgo8elChP6w9SC4XxFjdj0imkwIr0+JVVCWnY/EdBmd2S6tY7DzgAVvvLJDztksSdI6HS1ekh4lawRQmMXQl0U4GmXRMSPATaGaYi8dPnBzXNUHEFkEHeLFDtMH+Ba2tj7EBjYecSk3T/AO/oJ2X/hN5/st/Tx+88RrdcMMN9OSTj9Fzzz1BC3PddPwPt9LbP/sv9OyTj9LJkx/Sbbf9mmMazzz9KP35zw/T40/8kYaGuui+++6lH/7wH+j+++/jJsyPPPIneuutl+j55/9c9+C3NicOFL3eD3j4tYHe+L0NUROFIIDuDGIfr93JhewU553pfXWCoPYq6eQ/VlONwQu1yP5NE6VdH61kNuqa0MnvQQqur6MruxBNk8SJHLrcQF8zrqPBqyb/jQOjOmsY+17XBAFQpntqe69uibZgvkyBZISj7MXiAkW7XqDMQ9+n5R/8N9T30E3U13uCDh9+hc6c+ZRmpntpZeI05R/5z1T883+ic0/+QUmWSXrzzZfo7NnjNDlxgbq6PlMkeJEGBk/TsWOH6dXXnqfzFz6gQy88RefOH6VXXvkruRb02hgmEvHZjgN0+0Ei5fb2ZhAJsFIhCNSlZoO6XJinYlyrjGKr6cGpK/xMtQYzuKR72OcRaLVqk0kihJDrh8cN+4TDY1zYJA4F2FG139DZuxxQNYqvQFabGHydvH+tshL7XvcEgRSBmoWmDkGRIFVJ8jkFIqu0fPvfU+qB/5HC3/9vKfzy7xqCWjuZOdp65Ae09fv/QIVgb8ODBsTVaQPbdYc/vWSb5FdJYAsk8fsHDc/a1QcGmdd3vqWhDScFbA9RXcTNisGGQWcGIbWB3NqJEMytUSC7zmoVG+SWzSC2kKhYmPl1EqK2P/B74oGzsbMLt6++zowiLzJ+8V4b88t1zorvvOowaF7yadjbr1WIRwuluBxdN0gSzF+k7h//n+T/7n9FG//8X9PaDf8bE6LhpqfnqJRoHphzIojERWRGl6i1kEYM23RqjpcKaNb/6UpCVDLfak/DdtMDVkCBkaHayCws0kY8Yu3UtYMU/my4+tm8d0IU+W0hiHarmwTS99T2COKzL71Kq+llCqRdNBldJXdiiZaS8P5Vqh2NY77z3EqxYcA8r7Yd8jZuB5me9RTpGYVX/Pqzvc83EVjTBDlaqDgcNeIiguGhATp+3w3keuo22jr7vG4MbT1UdFA3WwI5wRxAgK6F1zMsBpIMokb9XpFHnXvF01cXa7lyqP2GeOJWlAQBeUU3x0wLQnOgMq+uO1PvukbMhDslVtzNEg/RrmL79+oByREvBqqfzcCrSFv5DgRBwZTkW1WJVETK+hxnUiMIi4IoXLuuvXep8/toK7tE8Rz6NA9TOD2piOIlbzrI5ERAMlP203dedJAUTy8X6AWLICDDq34tWZ72FOhZRaJrScqgpzBsEakXMdWttVSECnkXrW8rRJa5/ls/OB2sgrqAhLv91uXGYJGHqOsTdOo1HiRUAjx47ZN3VkGymQXyLPfx+n32d5cTOl6gI81yvSAIXoUUPAhLcOcqROrbJkmth54QJK9Lp5WbJHPCulKtNvKhhu3NVCYQBNm8opaaEfNsUZfSSgxKrzuITAG9OA6SUzk/q9L8T1Yt5pp8ZfeE1LU4qljY9ldFAPM7SA0QBxLESbp8k4H0k8829zj1ZCDxua44NIz2UL5ICW68vExRpWdvbWmXLB60PAw8GE66KzZ/+ICWElqSSMVi7Rw6oNYqyIfGc8tYq2MfaXUp0AZ1vbQTgtjbs+lRyiZbL2RqOgX0IHeWgqxaZWqqVTuotf3RwT5tjFdSW9gmma12UQRZpC5EgrYgC9z5+N5cukLI2NRIf1lJi+crRHjJV6SnFDmAJ5f0K4iCfezjvolA1eGJTZ3AKAQBqtF1hVRap5ZjZq+uuloxQuVh4OG0sxyaRHVxnNPKSaa/3gmQIIvuHspcgZ69nG7B9oP2GOlrmiSvv4snAS1BjIYKEQwyNFtzcK0ilbxYqf5z+C0bXkWOfIM7tzVMG0QSSevtPd1mVPoFmASRjAZpXG26fqtuXicJIoDUAElkH0gOqFUgyBNLmiy2KvZNxOGQXoYB3iyoWNL0mstyKwTZSq9Xa80x44ghZ1fItVoFygQeaAytZ7ZG1ExWP7jsfZ0AW8S7MsBeLvu7S4XpxhWy2jEZDMJCcqraARIDCtvYwYD7sKMrGduJvAOZ8iqrNPb2/WB6saCGmStSmbUeppsZqhQ3kGMnCbqa6PwtOU5SU3D+77RSl56ExFAQgkBqgBgmnIz8bxpkqQYppoKhbkuRYCpO2/FaryzMSvLwtS6uZ0oYrLxOn8PDtHHPPb+hZ555jC50fUyj4yfo5Om3yePtpdOn31G2xhD19n5CodAEnT//AW1tOnvIECeJRvZPIrxU2ASRNQnt/TpFSUmMLWVzLKY2OWJuf78fzEh6LdmwVgLA7t+KTQVHAewju9VsrS1TbaISD+J3mqlJLyq16q+KEKbNwQY6DHj1nZDnWjLU4e5Fh3i0LUVBFTJ9F3LaYAfWMglKZ7F45zjP+joVBQVLmD2RoqBtB6hZTnXrNu6++zZ69dW/KqLcSc8feopuv/02XkcclYYounr22cfp+9//ntrnEN177+0NxwvQUKHTJdI6xdJiL2GxGmBdkSW0XPvcCgjkhUIDDdtWQlM06ZujoZUFcgemG45rF/PzF2h9bbRu2/r6MOdoIcq+tjbICY1+hUAIq+oOUTDUz5/rEOgm7+oFhfP8ObSGFkVNevNCrYKRjvdw50KlesFb+x5SA6RpRq5vImCHYNUqWckKHi300QJRkKuFzvB+xEjSCQqnNigcX63aIk7guvUWLtmyItDxT4/Q5xdX6cyZo+rBjSuSPEYnPjtMr73+V/rk07dobPwsffTRm/Tii0/R5MSZhnOY2NyYOHDnkXbg9ymdPTlHKTVoMlE1SysJ0g4ymVlKZ+r3Dyc9tBpfadj3IFj1D7ItZm+vQdlL2QVlQ05RIjVGybSyOdKTFE8O10Ff5yxtxfrV6wwlUxN8nCNBbLsERIDkACnwHewOuHzt464VYKk4WdYN5bmQKFgtFxIFKSkrhS/Jmy6om6/FsJP7URbQbNiusLx0no4efZ1Gho9Vt2l1ACWqOhosbtb9DHYT8dg0p6Xb2y8FKCuG2uh397TlgKiHzqw1vVhQo6Sm43LA7O7eLti1a6hYYqMgtoN6El2MpV3VjgRxAggCmwMxEJtA1yIQFzE7M4Io8HANK0z3dNHGi/dRZPJjvuG4mdB17QcBPd1pGYPnn/8TZbNZOnbsSDWmUnfcLtba02tddJI3BSQTOn+rlXRzBvR/wwYAwdW5QPLd/GLFBunMRpCYhPkf4KlC4ZO9rzMa742NgxDEDDyahjmIY2b5dpzNC9ULJEGk3f7uWgM6xJsEOb6pbZNzGyXyPfDPtPv6D2jzTz+t5E9hQOssUPth6N679Q8QOvl7775Ac3OnGvbnIBU8QR1IDhsgSaBDkqTTy9TdpQmfSbsptz3NXRnRqXFs7Az195+kTz55jwp5xGKUMZxbUu89lVd0d1ykYqH2PzkoWjF6JYcrUQzQpkMQ0AnabevsmDBxEILoorJ6z2E13cdKg3eMpDcD7BEY7XDv4r39/bUENL+GFIH7F2TBKrzI1+qK7tHMmc8o9Nh3KT79TvXmckzECDCZ0PZI44NqBlMiSdKivc9+cJIkEtG29wUi2wv03HN/ZgL85vbb6Y9/fIB++MMfUl/fCXWeUbrllpvpwQfvo1tv+RX95S+P0K9//Su655676dFHH6Y77ridfvazG+i11w6RSBkzoo3BuKsG5aJV8LQf2G2MVa0c/r8u+JpVxnS/ke7ePpANbF4fS5A9SZc/IEEEMNKvB1ULtgii7HD/giCIkcAFvJC5SJGo1lEl6sxR3D0pJNK6t0gCXgK5A/1dp6RMVwOTrbJoW4ElySpIUiMFrlWnbdR72aJRlyLGr+iD99+iW2+9RZHhfibAW289r473KmLcRLMzfXTHnbfRCy/8lW677RZFkluYOPC4PfbYo+qY31GmjI4j67SV99cFDwvlJU4jsa+xFcwYk1M8BZMRPFS1isL2US7rZtc6M6Ai6cq6f5iQBt995yCBPhjtcAEf5NhvGtDfVxYHRf06YiPLykhfi/tIGiNIflLdA6jMRJgBMRiR7dvu+h9Qs2ShSfPhOc2k+yGVnKNV/1CVJJrUehCIW3rF001jo59SIbpAn18MVnFxD686sr2xAZLivV8NLh8dOvQEHTnysvoc4H13dtGnapPrxncVoabiWxTL12bjjPofnnTnBJE0eYmSC3DtSIgEQRAFt49tF5xsuatThjDZ6VSVBY6Z4Hu2QSRCbg8OSIhXVjUh7O+uJ0gAUS++8zlNpf9Gc+ldWo36qFA06xzqCYAHzAVGEh9BG802Ew3xkCRFQgYZVC97v3YAN+iKp7/qEMB14Vx4zSjifvTRuzQ9NUmjw9oGQZ/hYhELlC5RvqwJMrY4wVm2okpqrw+SKlc48xb14qbx7Umt0lxijbZzkAI6eDefDHccDMQ1mvXsApmApKuJDOiDAA0DEU2XiU7sESQsMkGQUgLbwh4YiIVwUBA2R2UbSONEpmsZ6MZ4YrN+9Vyds/UF+SNYyFMPYM7KrdgjcvPtWR8dB+0H5AQMCjOBTmDv1y5yWRctLvbUZQLjOpH8+P47L9FH775FvpVuNThWaGi6l8YWhmjO3U8985O0EZmlMc80G9hb+UDVvkAi4FxSSY0MiprqB7Em0hz5M35aSoUomPWTO9VZImIriGQRgrRj0DcDFtCRbF7pAI9nyZ0VJbdKEhMFIEbVtWtEzCVweK0b6SaQiiItS80FQWGPzKV3aCOu66zFBrHVARPI9i2n2ksydFo5yZZSnQCdWtyuepIA+a1xysSmqKTsqmJ0mkaHzlQ9b5HIFE0vYoVbLUmQbZsre5kkWGPclVyvkMVpgNZae6YKINXBJKAToF6ZBKml1Tfuux+EICZwrbCluGDqmUq+FVQp2BUwwKF24f0z6j22Yz+pNLyeyCGAwY5ujLJKFYAG2LBJPIkYp57ooFijAWyDV7It7D/Q4Z2xJUincREbWAOD251KKgx3qzcGrvo85R6hbMyZxFCR3KlNpXp5KVtyKYIE+bp0IVSjhwz3wzTWL8V9bULOV2sc1+hibxdCEKkdgSSJ5+eU1FMEESkhaex2MiIA9UskzfVgmDcD4iGmBEE/LRAELYPWEgFWtTCTtjPLQ9VyajZnAut18/kqtoysgGTv1ykgQVB4BbIgEGjnjc0vDVE26RzkBKCbo+JOE0WX5LKBywRp/E8cJ6pkB5jq56XAJAgKnuzvOwGeG9Qq2HxMEGWPYN30grpP37HJ4AQhCN4fxC18rQCrVIkd0msQBP19/bkd2o7NUjav6wqc4iF12F2pDk5uAgEvkxUraes8BwSCa57lfso6rJg1t4Q1FL3q+vZ3n0oVn3ZJa/e2vc/lhhnDWFsb6DhQaAN2o64hQbO5CfKkApRWk8du2d0eQSBdIGmuhdT2SwHULBjrTJB4rW6ESaKkiK/wBW0m/GrG1/XlTrOpCSwEA/UGr5itTQNe0h7w4LhmfZ9zHQQ7ipyzoye5KYS5fWZJ53M1roPSGvqanWwRbVTr/3Fpg1mfq1YQJQRBPwDcw+pk43CcANchLYBMYDLKlv0Uyq7p5xGbbo8gAsQ+7EFzvcF0+YIkspybwJO7SOHEKhVRo476kF28OteY80NRhjNsErxnghhqF9QpXeXmrN8fCGrwaDJOU3F7ijvSw7tlksS1PESx/Cq/x7W165oGpPai9n/RUK6+wg+Gux036gQStxAVq6juG8qdsQYJFujJRceojLgTypItspj19PZ5geVkmPLR2ap62RFBnvbU16lfj+CevsoWQdqJxEVMggCrxb/R5rZuZIYHAhUEA90poZEfOEiCmVo9zHxoRC8sgwFbebiQRpfF9lCDiG2fYr3ahiCiy9XNQUV8zmYXaGK5onq1yEquHo/1TWDHoDdWSZY6wGpO9WWsJpoZ9e2Ce2VlFUGWzlO5klVtprfkleFdyEypSWCieh/xPMSr5kTQWCFAa2Fle5X1cm7YpyOCANdbDMQJcPmiXsS0Q0ws5z+nRGqRA3OY7aS7Bx5MM1fkTtZFO5l5HsT4jEHHqzQVdMeTZuRqFzhvq0pHkATeLaSn4POiv9YrGM25kSoDz1sdWPrNspThfXC9iRnKbY9SYWucW5BmYgrbg5TeHOBXrC6VTalZPot7cTCCgOBQf/CfNtaxEM+yDn4a3rIqUXKTPNmYyZM1h4Jxzj0v+cJLVMwj3USvrQKSdEyQ69HFawPFVUg/gcvXSYJwI+xcgdYSG1Qo1Bo06JlLtwmyHzoAkhTW6isDS4hPqEG3k3NeXXdfqEGIdkStyCFAYiPS2je3p2lo0bAl0IkwMqUlRR0gNZz/Czqv59QsjiWxqwMW3qK1Pt0JRZGkEJ/UAx3rDzqoQ3XY1eUDmDRY/ak4NCSbV2w2TCSQLqbkKqTV7ygil4rKnis5JD+q341nvbSxNqf2neIuLTuVBMi2CQIX77fSQwP5Wag6RAJjMymyWlnaLZfXJbnywDCL2etwmMCAQY8tezvIwVIgNV+tM2HCsPercWDBWMW+pVijSrUfkOA4Nj9UOxcHN9uPM+hkS2QkN3ZZB0GqA5c9Xp5qURakkUgGzlsDCUBwRSC+Lw6xIyGIlByYTgKZmFhiwOGg/gOvnCs2SxaG+Ayrt6tbK4qwc9qOySopFx9hMrZNkOvdg2XiLStoONWEIMFsXunCMjhrLYIAOyUFD1iAnC17IFQHn1Lb2DWsBu2OIomoOKzeYHCpQSA2TCfGNaNCtoIakEMLNRVLnAgHQW1m1wt6Qs3KGRkCTrYAyA0y6MELgjeXnDWC6M6NVdJxMqOelPCqvVa1+121myqSKLitnkFRZ2TjGMmgbpsgiH8gog4pIjXp17PB/o6yQ0COflQYNiEIJEgmW3u4kugng4OlSVl3BKyrQ9juvLZcuqlUZ+LoFH+ukzIGoP/zMTDc1b5cPcgzrHpVxw1P6+RGHN9u/pgzamuJsBGdG6NMdXmEWj+xxuPaQ7OCKd2tElWZOrFSS5ZGSVs9z6YmKjyOTNxyhyqWE67nqDrwcXiHu8Lbrl4A7YLWyl9wkmD9w9BuT1OaaINQqwg8aJQBC3clHmpb3is12CE97O2slsH4V6oWSxmQQBGAbRKoakrvbyZlkol5mp0f1Kpck32awZSMZmXgbsFF2e3heruEZ/iZtuJGTnAmiJ5wJLKP+y1ODqyvDlurXDSOUZ/jcS3pcRzS58tqP1RTXhJBrueoukASGGGsm4FDbhdUvEhJQz3R6oSuEDRrn52QiQ5VVRHtdVmhwUGU6Op08Wp3x13toQIZUskFOn36Pd6nvpKw9lrIe8nt6q3bVj+4apj0TFK+7frxGnSKul6ZqzpA4Y1Tql+p1Li0do0oen0O+3yt4EQQHQg07jsXR+lqz+DqGC0vDap7MEC5zCJtb85QIjZPwbV5SsQVOfIzSpqM0sx0N/cmuySCoC8W1K3r2bOF6PpnW7ocl1Wu+OcsVUASlyLJWi5L8eQ8xVOzlExNUSozpWYoNJrTAUBJlbcBCVOIodO7Xt8PVX3omYUCJp93kB599EHq6vqE/vjgfXThzAc8EI4efY3+6Z/+kcLrM/T004/Sk08+TB988AavgnX69If08MP30/h4D7344jP02GN/ooGBz+ipJx+hTz99h5waMvj8wzQfba+G3AT0/bW1UfL5hnjGRm37qneE4ywJpa5lstMUi0+q1ymKxtQ9yE9RPDGh7k2tOKxdaeJEEA1TitU8h8HAGE1PdtPI8FkaHT5Dvd0naNk9REMDZ2h48Az3+d3emqL+vpM0N9N7aQRBSrwkMSLr93olCurXkciIZaWFJKYkWUyXaTG7R57cDi1lyrSSiNNaOqoQofVEgGLJGinwMGWdPQS6sM64LlCaod/85jba2p7gar7RsXP04x//iG688Zf00EP3qwfrpR/84Hv043/+J3rllefogQfupV/84l/pR//0/9Ibr79A//AP/8DLv7377mEuqUVzumeffZrLajXxGiUFkhqnF4dpOgTj1R6AzQHJMTl+nkaGzlBke5ZWXP3kmu+jzY0Zci300uxMFy0tDtCiu1/N5P3k9w3T7HQPS7bqBIHSYKzbjmwENbjx6pQJ3JwglWup2EAASBKNzLDk8K4M05aSHivLwxTZXOD1JtfXdHQ9nXIpSaM/XxJBqh0X/ejE2DhwrhcgLiLdT5CGgv5Ztk1iw1w0dC2XU1KmkvBXMVjxyiWnCUWQiDJsU2P04Udv0OEjL9DA0Ak68s6LNDVzmt55+0XqH/iYEqlp6ur+kCLxcTp+/F0aGTlH5859rCTJ4/TrX99Kx5WUeO+919WsPklTagb96KO31UDtoRMn3qOe7k/JSYLoAbZCA9MDlCy031QaXU78vhHu0bUWnKJEZJa8aiBOT3UpgvSR1zvEJAkFRhVpJimgXscV4T3LqMNolKYmaWybzCaIrnLE5xoxMPEAeC9OEdkfXkHvtq+pKnlggkBi2APlegY6n6ArI9QtkyBoNAePFpZTmM8K/savUMHQhI7XIsmkKJvTXcoll4k7dyjVrKvrHTp65BXqO/sm5aIjlI0MK4xQTiG/MUKFqF50p97w156nlZUBpS58omyA5q7SZkBjvOGFUQqsdV7JqCPXU8rYdXOUHVJF1/B7WRpCxcRaHdiH87Owzgi/byQGgP65SEnHss7avtD2jUkQ3C/xEsoS2xJhl6xo7GNmSMMBMb8ZaCohOyIIsnqlgfXTy9e3B8sGbBGoWrBFEB8BSWC0I8s3kIzRaixMgXSKFwcNRNdpI+EnfzJKvoRC8d9pWRFoMV2kQDxA2/FpZbNMUFRJj+T2uFKRXqQvv/ySPjj6un6oCAKqQVfantRxD6XXw0Wrk/h0/pOdStEpMGBGXGMc6LS/ax/aTQxPGNaPRwInzlso6pVo0UXedHvXESKviYP3IAUg5bA64RG5XlPc9gf1IPjPdqqJ7jYDZ0FzFQwewLmN2mpWNuoIAlsCAx+A8W0TBN9L5eH1am+0AgiCBnNIQ5GMX7QsRZuglWyJQtvLFInOKpJEKZgI01J0k1zJHEsUU/WaV/svpIq0nPucQqkonfzoVfr02Ht0/szbdQ/PTCJEMA2u3mJ0koox5B/p5Ef7gbeLaN5Pc4uDDds7BZM5s0BPPfWwspX+QC+99Cw988zjFN4cVURx01p4hDKKDOsbw5RURvrG9ihtbI2y42BdqV9RpTJGEpoc0lkf7UFBAFT++QLnHUuTdcqJu26igC2D7XaNjWtztWkziTqC2EshYOEcEEUqCa+HjoqXAjHWAZAEax6CJIOVdkEgij9XYrtjNPUFG/PSRd62UXh/pYIt5y7SlqeLNv9yA8Ufv4FK6Yo/Xz38XHy0Icqsqw+VRCnqxEfOEt6nctEJqbyHFpZr6SYHBmIOqXm6665b6I47fk0vvvgs/fKXv6Abb/wF3X//vfTyy3+l3//+t+rzv9Gzzz5Bt99+K9166030hwfvo1dfO0Q///9uYJKg9FjqxVEaKw0WPP6zvJwaJAs6kwhBnAx6nfoCdbRWC4L7t7Cx6rAOu0ZLggBQqZw6nnyLRiAVHqrW4WCZzkPVMrqgTKQ1CdBTCwTBe7N814yhmJhN79Hy0CnK3vu/UPqO/5kiwx9xBByzIKsim0MNSYxabamsMqt0bI6WI5cJxxXcOvdJvZaR24W8rso28xyx2AzNByuZxVCTsM8BiMZBzPgs/fGP99KyMsJLRQ/96U9/YJfz3XffoV4foEceeZB+8pMf02uvvaQkzaNq33sUeX5Hzz33FN1007+xdIENYq43KFj2naFoaqBhzQ8Y87qNjzbqte2hVTqxz4DNTTet55q7svclCDxU36pTnUOazQlEikCFguGOV7QOku8lduKI+A55jh8h78m3aS0apExUp5XDHYzBUIiNV0mCgaD1b124JA8ag3s37+IEPW4akdURckTTEW3n7Ug1qeRyLc1coIBfp4rD3mEoVUm+52S/NtZJzITHyDV+nHsFIzKNbfHYPCUTC1TIL1N4fUIZ2Vi+YZL7/GL7dnRcqVojihhDSnqMUSypJQNIYDZXiKtXX+ACf8b3sFOEIGKYSxUjHAPs9KhIEdglpcQcLcVDhFR3+7oFTBBZas1+yN/i4EDNiAQPxRaBOoV1RjDosdQ0DHhsw/dm2rxIk7lkgeYTuSqxFnJfstq1lMxQfAMeokpUGsHGreFqoY/4/Hd3oYO3MFBbAJ1NiuXG7QJOlkQNCNQ4zv3SEgop8EI85HR9/NZfaXJinJd7wErB9nmcod3dQF2OGiSmkiQACALCrAZ72QbBcmogikgSIYiOIWkDXlJPmDRqQtmOLVGkgA6S9u/XwH2xrvfOiVcCSIlHxq+pQiE1fqIiKWRpN7h/QQ60NZWkR5TyDmDhnlieFsMeckW2CE3qTKmykshSErMu3KPw6ERr+jdUC3Fx2g+8Hcx4xsi/3pjb1RKVeg1OTUeiZEXifPzBq0pdi9EH771NaTgO7OP2AQa1XQzFWcGVfC5p+yOkqXm66o12lhrGZAHbbDG5oQz35tID6Gj5g2/RGRAbwdLSQhCoVJAkGOAghr/47xSIhcmX22NyiMEOgoBMXPMezdLM1ibNpPbqCMKdVFJ5im+Os8RAWngiOUHDo59QBHXZxcZmbsmEi6amzlM4jKWsZyibcSbQ8mot1f0gML1rsegkDQ0eI/fMScc6l3YhDSHwv9i+qOSyCUFMI16kixADqhcMeNNwL6bm22qm/S1BriBgtEPN4kV31ICGlBCyiLRwq9nVnSqw6gVC4HtID5E4poom0qeOJMk0FZCpm52n119+mn57z5303vtv0KnTh+n4ibd5zY8Pjr6mZvE5Ghk5Tb///Z30s5/9hA4deoZ6e0/Q4cMv0NbmHH3wwevU3/8ZjY2eotcPv6bsgtYzayvUNaITKGO9k6IrJ0CaSH8tGfzcvDqvI+ywM0AGeLjEHhHVCxLGTITMxBe+JcjXAYiuY4BjQKPpNQY9BjuAz9gOyWKSAUBb08nkDvXFtJqG/Z3S6kGS9bD2VnWd+ogee/whdp9i+YLvfvfv6V//9V/ozTdfpLNn32OCfPjha7wgKJYt+Lu/+8+8FsivfnUzvfACXKy30e9+91t66KH7qH/wNBXbMMKd4EgQbEdK/iXEZgToiyUlAkFUKBqN4xCtl0ZwYq/wqsQ5rEpcS1MJRLxNXbsmviXIVcBnW7vVAS1SRBvmtQE/kap3+0KazMdSNBsOMHnMpanhMhZyAUvbMdb5e069x4mL7x99hR5+5AH6059+T08++aiSChdoYuIM50E9oMjz/POPcyDuyOGX2cV67twJTlq8++676K23XuRM4NVNF43Mt7/eoRjmIAFgu431Ptqwt7d3ClYpK9IgHEb8Q1RCTT6oUqbtIfYJOubjewQvN+KN53XCtwS5CkBsRIKBCBCaRIBUEHXLJI+WIp/T4sYqLWyu1UkNqF9iywBTo8Pk+stNNHHqZSrGlG0RUzr39jBlosOEBtO19Qe91fU+zM+J+Dy9/faLNDz0WXV7Pu+mkcXmOVhc4w3VrgKul6/UpegOKtq7BXuEXysu5EJ47LJIEQFysUol3VgPEgI5WLr3VS0dBdIGKpdUCaJSMhp1tr9sfEuQq4QPwztVFy+8VkIOM5IOouA7UbdG1PvZ9EWaTZU5jmKW9oJM7PlK7JLn9z+mi6/9iM786D8qQ9yYOeNKD4+O6vrrMla50iW1xcQs5bcnKR0aplhwmMK+flpZ6qLZqZM0OfgxDfcfo7HpPorGdKwDxjW/Vtr/cFUiyOAgJfYDXMG6N1d9cBMkXVjoIb+/s/XezWRFydwFQaTMV2BuQz7Y8oaXStn9g5//P4yij+SuuTZPAAAAAElFTkSuQmCC' width='200' height='133' class=\"itemThumbnail\">\n",
       "                       </a>\n",
       "                    </div>\n",
       "\n",
       "                    <div class=\"item_right\"     style=\"float: none; width: auto; overflow: hidden;\">\n",
       "                        <a href='https://geosaurus.maps.arcgis.com/home/item.html?id=e0dae2efe40a414a9700bee3a35c846b' target='_blank'><b>Ports along the US West Coast</b>\n",
       "                        </a>\n",
       "                        <br/>Locations of various ports along the West Coast of the United States.<img src='https://geosaurus.maps.arcgis.com/home/js/jsapi/esri/css/images/item_type_icons/featureshosted16.png' style=\"vertical-align:middle;\" width=16 height=16>Feature Layer Collection by api_data_owner\n",
       "                        <br/>Last Modified: July 18, 2023\n",
       "                        <br/>0 comments, 3 views\n",
       "                    </div>\n",
       "                </div>\n",
       "                "
      ],
      "text/plain": [
       "<Item title:\"Ports along the US West Coast\" type:Feature Layer Collection owner:api_data_owner>"
      ]
     },
     "execution_count": 21,
     "metadata": {},
     "output_type": "execute_result"
    }
   ],
   "source": [
    "search_result= gis.content.search(\"Ports along west coast\", \"Feature Layer\")\n",
    "ports_item = search_result[0]\n",
    "ports_item"
   ]
  },
  {
   "cell_type": "markdown",
   "metadata": {},
   "source": [
    "## The feature service definition\n",
    "Once you have a `Feature Layer` item, you can access the definition of the feature service that sources the item.  First, import the [`FeatureLayerCollection`](/python/api-reference/arcgis.features.toc.html#featurelayercollection) class. This class contains a method called [`fromitem()`](), which returns an instance of a `FeatureLayerCollection` object. "
   ]
  },
  {
   "cell_type": "code",
   "execution_count": 10,
   "metadata": {},
   "outputs": [],
   "source": [
    "from arcgis.features import FeatureLayerCollection\n",
    "ports_flc = FeatureLayerCollection.fromitem(ports_item)"
   ]
  },
  {
   "cell_type": "markdown",
   "metadata": {},
   "source": [
    "Querying the `properties` property on this `FeatureLayerCollection` object returns a dictionary of all the feature service properties. Let's inspect if the `description` or `copyright` attributes of the service have been entered."
   ]
  },
  {
   "cell_type": "code",
   "execution_count": 11,
   "metadata": {},
   "outputs": [
    {
     "data": {
      "text/plain": [
       "{\n",
       "  \"currentVersion\": 11.1,\n",
       "  \"serviceItemId\": \"e0dae2efe40a414a9700bee3a35c846b\",\n",
       "  \"serviceDescription\": \"\",\n",
       "  \"hasVersionedData\": false,\n",
       "  \"supportsDisconnectedEditing\": false,\n",
       "  \"hasStaticData\": false,\n",
       "  \"hasSharedDomains\": false,\n",
       "  \"maxRecordCount\": 1000,\n",
       "  \"supportedQueryFormats\": \"JSON\",\n",
       "  \"supportsVCSProjection\": false,\n",
       "  \"supportedExportFormats\": \"csv,shapefile,sqlite,geoPackage,filegdb,featureCollection,geojson,excel\",\n",
       "  \"capabilities\": \"Create,Delete,Query,Update,Editing,Sync\",\n",
       "  \"description\": \"\",\n",
       "  \"copyrightText\": \"\",\n",
       "  \"spatialReference\": {\n",
       "    \"wkid\": 102100,\n",
       "    \"latestWkid\": 3857\n",
       "  },\n",
       "  \"initialExtent\": {\n",
       "    \"xmin\": -17764735.368653413,\n",
       "    \"ymin\": 2241467.1730974796,\n",
       "    \"xmax\": -13044788.959018612,\n",
       "    \"ymax\": 5721784.0173567245,\n",
       "    \"spatialReference\": {\n",
       "      \"wkid\": 102100,\n",
       "      \"latestWkid\": 3857\n",
       "    }\n",
       "  },\n",
       "  \"fullExtent\": {\n",
       "    \"xmin\": -17764735.368653413,\n",
       "    \"ymin\": 2241467.1730974796,\n",
       "    \"xmax\": -13044788.959018612,\n",
       "    \"ymax\": 5721784.0173567245,\n",
       "    \"spatialReference\": {\n",
       "      \"wkid\": 102100,\n",
       "      \"latestWkid\": 3857\n",
       "    }\n",
       "  },\n",
       "  \"allowGeometryUpdates\": true,\n",
       "  \"units\": \"esriMeters\",\n",
       "  \"supportsAppend\": true,\n",
       "  \"supportsSharedDomains\": true,\n",
       "  \"supportsWebHooks\": true,\n",
       "  \"supportsTemporalLayers\": true,\n",
       "  \"layerOverridesEnabled\": true,\n",
       "  \"size\": 32768,\n",
       "  \"syncEnabled\": true,\n",
       "  \"syncCapabilities\": {\n",
       "    \"supportsAsync\": true,\n",
       "    \"supportsRegisteringExistingData\": true,\n",
       "    \"supportsSyncDirectionControl\": true,\n",
       "    \"supportsPerLayerSync\": true,\n",
       "    \"supportsPerReplicaSync\": true,\n",
       "    \"supportsSyncModelNone\": true,\n",
       "    \"supportsRollbackOnFailure\": true,\n",
       "    \"supportsAttachmentsSyncDirection\": true,\n",
       "    \"supportsBiDirectionalSyncForServer\": true,\n",
       "    \"supportedSyncDataOptions\": 4\n",
       "  },\n",
       "  \"supportsApplyEditsWithGlobalIds\": true,\n",
       "  \"supportsReturnDeleteResults\": true,\n",
       "  \"supportsLayerOverrides\": true,\n",
       "  \"supportsTilesAndBasicQueriesMode\": true,\n",
       "  \"supportsQueryContingentValues\": true,\n",
       "  \"supportedContingentValuesFormats\": \"JSON, PBF\",\n",
       "  \"supportsContingentValuesJson\": 2,\n",
       "  \"advancedEditingCapabilities\": {\n",
       "    \"supportsSplit\": false,\n",
       "    \"supportsReturnServiceEditsInSourceSR\": false,\n",
       "    \"supportsAsyncApplyEdits\": true,\n",
       "    \"supportsReturnEditResults\": true,\n",
       "    \"supportsApplyEditsbyUploadID\": true,\n",
       "    \"supportedApplyEditsUploadIDFormats\": \"JSON\"\n",
       "  },\n",
       "  \"editorTrackingInfo\": {\n",
       "    \"enableEditorTracking\": false,\n",
       "    \"enableOwnershipAccessControl\": false,\n",
       "    \"allowOthersToQuery\": true,\n",
       "    \"allowOthersToUpdate\": true,\n",
       "    \"allowOthersToDelete\": true,\n",
       "    \"allowAnonymousToQuery\": true,\n",
       "    \"allowAnonymousToUpdate\": true,\n",
       "    \"allowAnonymousToDelete\": true\n",
       "  },\n",
       "  \"xssPreventionInfo\": {\n",
       "    \"xssPreventionEnabled\": true,\n",
       "    \"xssPreventionRule\": \"InputOnly\",\n",
       "    \"xssInputRule\": \"rejectInvalid\"\n",
       "  },\n",
       "  \"layers\": [\n",
       "    {\n",
       "      \"id\": 0,\n",
       "      \"name\": \"Ports_along_the_US_West_Coast\",\n",
       "      \"parentLayerId\": -1,\n",
       "      \"defaultVisibility\": true,\n",
       "      \"subLayerIds\": null,\n",
       "      \"minScale\": 73957191,\n",
       "      \"maxScale\": 0,\n",
       "      \"type\": \"Feature Layer\",\n",
       "      \"geometryType\": \"esriGeometryPoint\"\n",
       "    }\n",
       "  ],\n",
       "  \"tables\": []\n",
       "}"
      ]
     },
     "execution_count": 11,
     "metadata": {},
     "output_type": "execute_result"
    }
   ],
   "source": [
    "ports_flc.properties"
   ]
  },
  {
   "cell_type": "markdown",
   "metadata": {},
   "source": [
    "Both properties are empty. Let's update them as an example of how to update feature service properties"
   ]
  },
  {
   "cell_type": "markdown",
   "metadata": {},
   "source": [
    "## Update the feature service definition"
   ]
  },
  {
   "cell_type": "markdown",
   "metadata": {},
   "source": [
    "The [`manager`](/python/api-reference/arcgis.features.toc.html#arcgis.features.FeatureLayerCollection.manager) property accesses the [`FeatureLayerCollectionManager`](/python/api-reference/arcgis.features.managers.html#featurelayercollectionmanager) class. Use the [`update_definition()`](/python/api-reference/arcgis.features.toc.html#arcgis.features.FeatureLayerCollection.update_definition) method and pass in a dictionary of the properties you want to edit to update the definition of the hosted feature service."
   ]
  },
  {
   "cell_type": "markdown",
   "metadata": {},
   "source": [
    "### Updating feature service properties"
   ]
  },
  {
   "cell_type": "code",
   "execution_count": 12,
   "metadata": {},
   "outputs": [
    {
     "data": {
      "text/plain": [
       "{'success': True}"
      ]
     },
     "execution_count": 12,
     "metadata": {},
     "output_type": "execute_result"
    }
   ],
   "source": [
    "update_dict = {'description':'Updated using ArcGIS Python API',\n",
    "              'copyrightText':'copyright Python API guide'}\n",
    "ports_flc.manager.update_definition(update_dict)"
   ]
  },
  {
   "cell_type": "markdown",
   "metadata": {},
   "source": [
    "Let us access the service definition once again to see if these fields are updated"
   ]
  },
  {
   "cell_type": "code",
   "execution_count": 13,
   "metadata": {},
   "outputs": [
    {
     "data": {
      "text/plain": [
       "'Updated using ArcGIS Python API'"
      ]
     },
     "execution_count": 13,
     "metadata": {},
     "output_type": "execute_result"
    }
   ],
   "source": [
    "ports_flc.properties.description"
   ]
  },
  {
   "cell_type": "code",
   "execution_count": 14,
   "metadata": {},
   "outputs": [
    {
     "data": {
      "text/plain": [
       "'copyright Python API guide'"
      ]
     },
     "execution_count": 14,
     "metadata": {},
     "output_type": "execute_result"
    }
   ],
   "source": [
    "ports_flc.properties.copyrightText"
   ]
  },
  {
   "cell_type": "markdown",
   "metadata": {},
   "source": [
    "### Updating feature service capabilities\n",
    "\n",
    "Let's edit the `capabilities` property to disable `editing` and `sync`"
   ]
  },
  {
   "cell_type": "code",
   "execution_count": 15,
   "metadata": {},
   "outputs": [
    {
     "data": {
      "text/plain": [
       "{'success': True}"
      ]
     },
     "execution_count": 15,
     "metadata": {},
     "output_type": "execute_result"
    }
   ],
   "source": [
    "update_dict2 = {\"capabilities\": \"Query\",\n",
    "               \"syncEnabled\": False}\n",
    "ports_flc.manager.update_definition(update_dict2)"
   ]
  },
  {
   "cell_type": "code",
   "execution_count": 16,
   "metadata": {},
   "outputs": [
    {
     "data": {
      "text/plain": [
       "'Query'"
      ]
     },
     "execution_count": 16,
     "metadata": {},
     "output_type": "execute_result"
    }
   ],
   "source": [
    "ports_flc.properties.capabilities"
   ]
  },
  {
   "cell_type": "code",
   "execution_count": 17,
   "metadata": {},
   "outputs": [
    {
     "data": {
      "text/plain": [
       "False"
      ]
     },
     "execution_count": 17,
     "metadata": {},
     "output_type": "execute_result"
    }
   ],
   "source": [
    "ports_flc.properties.syncEnabled"
   ]
  },
  {
   "cell_type": "code",
   "execution_count": 18,
   "metadata": {},
   "outputs": [
    {
     "data": {
      "text/plain": [
       "False"
      ]
     },
     "execution_count": 18,
     "metadata": {},
     "output_type": "execute_result"
    }
   ],
   "source": [
    "\"syncCapabilities\" in ports_flc.properties"
   ]
  },
  {
   "cell_type": "markdown",
   "metadata": {},
   "source": [
    "Turning off `syncEnabled` automatically removes `syncCapabilities`."
   ]
  }
 ],
 "metadata": {
  "anaconda-cloud": {},
  "kernelspec": {
   "display_name": "Python 3 (ipykernel)",
   "language": "python",
   "name": "python3"
  },
  "language_info": {
   "codemirror_mode": {
    "name": "ipython",
    "version": 3
   },
   "file_extension": ".py",
   "mimetype": "text/x-python",
   "name": "python",
   "nbconvert_exporter": "python",
   "pygments_lexer": "ipython3",
   "version": "3.9.16"
  }
 },
 "nbformat": 4,
 "nbformat_minor": 1
}
