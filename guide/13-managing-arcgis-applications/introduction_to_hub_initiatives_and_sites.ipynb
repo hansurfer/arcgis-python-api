{
 "cells": [
  {
   "cell_type": "markdown",
   "metadata": {},
   "source": [
    "# Introduction to Hub Initiatives and Sites"
   ]
  },
  {
   "cell_type": "markdown",
   "metadata": {},
   "source": [
    "In this sample notebook we will demonstrate how to search for initiatives across a Hub, create a new initiative and edit the layout of its site, link and unlink a page to that site, and clone a site. We will also clone the same site to an Enterprise organization to demonstrate cross-platform cloning of Hub Sites. Finally, we will demonstrate how a site can be fetched using its domain. "
   ]
  },
  {
   "cell_type": "code",
   "execution_count": 1,
   "metadata": {},
   "outputs": [],
   "source": [
    "from arcgis.gis import GIS"
   ]
  },
  {
   "cell_type": "markdown",
   "metadata": {},
   "source": [
    "### Login to Hub\n",
    "\n",
    "In the interest of demonstrating the Hub Premium `Initiative`, we will sign into a Hub. Sign-in with your ArcGIS credentials while executing this sample notebook to leverage the capabilities of your Hub/Sites licensing."
   ]
  },
  {
   "cell_type": "code",
   "execution_count": 2,
   "metadata": {},
   "outputs": [
    {
     "name": "stdout",
     "output_type": "stream",
     "text": [
      "Enter password: ········\n"
     ]
    }
   ],
   "source": [
    "gis = GIS(profile=\"your_online_hub_premium_profile\")"
   ]
  },
  {
   "cell_type": "code",
   "execution_count": 3,
   "metadata": {},
   "outputs": [],
   "source": [
    "myhub = gis.hub"
   ]
  },
  {
   "cell_type": "markdown",
   "metadata": {},
   "source": [
    "### Searching for Initiatives\n",
    "\n",
    "You can either search for initiatives or filter using parameters like `title`, `owner`, `tags`."
   ]
  },
  {
   "cell_type": "code",
   "execution_count": 4,
   "metadata": {},
   "outputs": [
    {
     "data": {
      "text/plain": [
       "[<Initiative title:\"Community Test\" owner:brollison_dcdev>,\n",
       " <Initiative title:\"Increase Community Pride - Graham\" owner:ghudgins5>,\n",
       " <Initiative title:\"Community Driven Conservation\" owner:rohitsharma_dcdev>,\n",
       " <Initiative title:\"Increase Community Pride Hamhands\" owner:phammons_dcdev>,\n",
       " <Initiative title:\"Increase Community Pride - v181203\" owner:ghudgins5>,\n",
       " <Initiative title:\"Community Driven Conservation -Sharma\" owner:rohitsharma_dcdev>,\n",
       " <Initiative title:\"Racial Equity Community Outreach\" owner:jdev_dcdev>,\n",
       " <Initiative title:\"Increase Community Pride\" owner:ghudgins5>,\n",
       " <Initiative title:\"Increase Community Pride - v190318\" owner:ghudgins5>,\n",
       " <Initiative title:\"Community Parks Site\" owner:KThompson_dcdev>,\n",
       " <Initiative title:\"Racial Equity Community Outreach\" owner:mmajumdar_dcdev>,\n",
       " <Initiative title:\"Community User Sign-Up\" owner:brollison_dcdev>,\n",
       " <Initiative title:\"Community User Sign-Up\" owner:brollison_dcdev>,\n",
       " <Initiative title:\"Sharma- Community Driven Conservation\" owner:rohitsharma_dcdev>]"
      ]
     },
     "execution_count": 4,
     "metadata": {},
     "output_type": "execute_result"
    }
   ],
   "source": [
    "myhub.initiatives.search(title='community')"
   ]
  },
  {
   "cell_type": "markdown",
   "metadata": {},
   "source": [
    "### Creating an initiative"
   ]
  },
  {
   "cell_type": "code",
   "execution_count": 5,
   "metadata": {},
   "outputs": [
    {
     "data": {
      "text/html": [
       "<div class=\"item_container\" style=\"height: auto; overflow: hidden; border: 1px solid #cfcfcf; border-radius: 2px; background: #f6fafa; line-height: 1.21429em; padding: 10px;\">\n",
       "                    <div class=\"item_left\" style=\"width: 210px; float: left;\">\n",
       "                       <a href='https://dcdev.maps.arcgis.com/home/item.html?id=a9034163a7534b1480f1ce834b8336b0' target='_blank'>\n",
       "                        <img src='http://static.arcgis.com/images/desktopapp.png' class=\"itemThumbnail\">\n",
       "                       </a>\n",
       "                    </div>\n",
       "\n",
       "                    <div class=\"item_right\"     style=\"float: none; width: auto; overflow: hidden;\">\n",
       "                        <a href='https://dcdev.maps.arcgis.com/home/item.html?id=a9034163a7534b1480f1ce834b8336b0' target='_blank'><b>A sample Hub Initiative1</b>\n",
       "                        </a>\n",
       "                        <br/>Create your own initiative by combining existing applications with a custom site. Use this initiative to form teams around a problem and invite your community to participate.<img src='https://dcdev.maps.arcgis.com/home/js/jsapi/esri/css/images/item_type_icons/layers16.png' style=\"vertical-align:middle;\" width=16 height=16>Hub Initiative by mmajumdar_dcdev\n",
       "                        <br/>Last Modified: July 07, 2023\n",
       "                        <br/>0 comments, 0 views\n",
       "                    </div>\n",
       "                </div>\n",
       "                "
      ],
      "text/plain": [
       "<Item title:\"A sample Hub Initiative1\" type:Hub Initiative owner:mmajumdar_dcdev>"
      ]
     },
     "execution_count": 5,
     "metadata": {},
     "output_type": "execute_result"
    }
   ],
   "source": [
    "i1 = myhub.initiatives.add(title='A sample Hub Initiative1')\n",
    "i1.item"
   ]
  },
  {
   "cell_type": "markdown",
   "metadata": {},
   "source": [
    "A Hub Initiative comes with an Initiative item and a Site item. You also get a Content Team group created to manage the content in your initiative's content library and a Followers Team group that maintains a list of the followers of the initiative. Users with Administrative privileges that create an initiative will also have a Core Team group created as part of the initiative, to allow collaboration among members of that team."
   ]
  },
  {
   "cell_type": "markdown",
   "metadata": {},
   "source": [
    "### Fetching the site for this initiative \n",
    "\n",
    "The site can be fetched using the `site_id` property of the initiative."
   ]
  },
  {
   "cell_type": "code",
   "execution_count": 6,
   "metadata": {},
   "outputs": [
    {
     "data": {
      "text/plain": [
       "<Site title:\"A sample Hub Initiative1\" owner:mmajumdar_dcdev>"
      ]
     },
     "execution_count": 6,
     "metadata": {},
     "output_type": "execute_result"
    }
   ],
   "source": [
    "s1 = myhub.sites.get(i1.site_id)\n",
    "s1"
   ]
  },
  {
   "cell_type": "markdown",
   "metadata": {},
   "source": [
    "Sites can also be fetched using the item id of the site for Hub Basic and Enterprise Sites."
   ]
  },
  {
   "cell_type": "code",
   "execution_count": 7,
   "metadata": {},
   "outputs": [
    {
     "data": {
      "text/html": [
       "<div class=\"item_container\" style=\"height: auto; overflow: hidden; border: 1px solid #cfcfcf; border-radius: 2px; background: #f6fafa; line-height: 1.21429em; padding: 10px;\">\n",
       "                    <div class=\"item_left\" style=\"width: 210px; float: left;\">\n",
       "                       <a href='https://dcdev.maps.arcgis.com/home/item.html?id=6c477621242e47259577b19c5cf04c0d' target='_blank'>\n",
       "                        <img src='data:image/png;base64,iVBORw0KGgoAAAANSUhEUgAAAMgAAACFCAYAAAAenrcsAAAACXBIWXMAAAsSAAALEgHS3X78AAACgklEQVR42u3dP27TUADH8V9oJqYs7HCDbFFmBpi4Qgp7ogapiE5V50q4cnaUXIGtG2PaKTfgCmFBsDEQZkL1HJvw+RzAsf3y1Xt2/riXBk1n80GS0ySTJMNAOZskqyTLRV1tm3qRXoNxnCW5TDIwljRom+RqUVc3/0Qgu1mj2s0ccCjLJPPSs0m/gR0VB234/Z57XXKjJw0sq94bK1oyHI3GX+/v1uvOLbF2S6svrjnowDXJs1JLrUeFpzhx0LZBySV+yUAmxoaOmHQxEJ9z0JlrkS4GAkdHICAQeJh+a6/84q2zz/5uP5hBwBILBAICAYGAQACBgEBAICAQEAgIBAQCAgGBAAIBgYBAQCBweK39Jv36+RNnn72d35pBwBILBAICAYGAQACBgEBAIHAg/WM7oG+f3nR+Hx+/+ujYzCAgEBAICAQQCAgEBAICAYGAQEAgIBAQCCAQEAgIBAQCAgGBgEBAICAQEAggEBAICAQEAgIBgYBA4Igc3eMPju3v9/+XYzODgEBAICAQQCAgEHgoT7ltgafcmkFAICAQEAggEBAICAQEAgIBgYBAQCAgEEAgIBAQCAgEBAICAYGAQEAgIBBAICAQEAgIBAQCAgGBwHHxlFvHhhkEBAICAYGAQEAgIBAQCAgEEAjsqbWvmpy/u3D2MYOAQEAgf7RxOumITRcDWRkXOmLVxUCWSbbGhpZtd+/FIk5Kbej+bv19NBr/SPLSGNGii0Vdfe5cILtI1qPR+GmSoXGiBctFXRX9/KCJu1jzklMc/MUSf156o72m9nY6m58luUwyMHY0fM1xtairmyY23mtyz6ez+SDJaZKJZReFbfLrbtVyUVeN3Rz6CdebXmXkLnGpAAAAAElFTkSuQmCC' width='200' height='133' class=\"itemThumbnail\">\n",
       "                       </a>\n",
       "                    </div>\n",
       "\n",
       "                    <div class=\"item_right\"     style=\"float: none; width: auto; overflow: hidden;\">\n",
       "                        <a href='https://dcdev.maps.arcgis.com/home/item.html?id=6c477621242e47259577b19c5cf04c0d' target='_blank'><b>Urban Analytics Techniques</b>\n",
       "                        </a>\n",
       "                        <br/>Create your own initiative by combining existing applications with a custom site. Use this initiative to form teams around a problem and invite your community to participate.<img src='https://dcdev.maps.arcgis.com/home/js/jsapi/esri/css/images/item_type_icons/layers16.png' style=\"vertical-align:middle;\" width=16 height=16>Hub Site Application by mmajumdar_dcdev\n",
       "                        <br/>Last Modified: March 10, 2022\n",
       "                        <br/>0 comments, 28 views\n",
       "                    </div>\n",
       "                </div>\n",
       "                "
      ],
      "text/plain": [
       "<Item title:\"Urban Analytics Techniques\" type:Hub Site Application owner:mmajumdar_dcdev>"
      ]
     },
     "execution_count": 7,
     "metadata": {},
     "output_type": "execute_result"
    }
   ],
   "source": [
    "s2 = myhub.sites.get('6c477621242e47259577b19c5cf04c0d')\n",
    "s2.item"
   ]
  },
  {
   "cell_type": "markdown",
   "metadata": {},
   "source": [
    "### Linking a page to this site\n",
    "\n",
    "Linking a page to a site is a two step process. First, you will fetch the page of interest, then you will link it to the site object with a slug for that page."
   ]
  },
  {
   "cell_type": "code",
   "execution_count": 8,
   "metadata": {},
   "outputs": [
    {
     "data": {
      "text/html": [
       "<div class=\"item_container\" style=\"height: auto; overflow: hidden; border: 1px solid #cfcfcf; border-radius: 2px; background: #f6fafa; line-height: 1.21429em; padding: 10px;\">\n",
       "                    <div class=\"item_left\" style=\"width: 210px; float: left;\">\n",
       "                       <a href='https://dcdev.maps.arcgis.com/home/item.html?id=1c75da020b2f4943a3f657ef59fc1bc8' target='_blank'>\n",
       "                        <img src='data:image/png;base64,iVBORw0KGgoAAAANSUhEUgAAAMgAAACFCAYAAAAenrcsAAAACXBIWXMAAAsSAAALEgHS3X78AAACVklEQVR42u3bMW7TUBzH8V9oDpCFvdwgm9WZAW6RcoBEDVIRnarOSLiyL5Acoxtj2ik34Aphg42BMFPQe7WpPp8D2JZfvnp/28okFS1X61mS8ySLJPNAOfsk2ySbvmsPtU4yqRjHRZLrJDNrSUWHJDd9197+F4Ecd432uHPAU9kkWZfeTaYVLlQcDOH3b+5dyYOeVBirPlorBjJvmrNvD/e73ehGrONo9dUzByN4JnlVatR6UXiLEwdDm5Uc8UsGsrA2jMRijIH4zsFonkXGGAg8OwIBgcC/mQ525jfv3X0e7+6zHQSMWCAQEAgIBAQCCAQEAgIBgYBAQCAgEBAICAQQCAgEBAICgac32H/SP71+6e7zaJd3dhAwYoFAQCAgEBAIIBAQCAgEBAICAYGAQEAgIBBAICAQEAgIBAQCAgGBgEBAICAQQCAgEBAICAQEAgIBgYBAQCCAQEAgIBAQCAgEBAICAYGAQEAggEBAICAQEAgIBAQCAgGBgEAAgYBAQCAgEBAICAQEAgIBgYBAAIGAQEAgIBAQCAgEBAICAYGAQACBgEBAICAQEAgIBAQCAgGBAAIBgYBAQCAgEBAICASeielQJ778cOXuYwcBgYBA/mjvdjIS+zEGsrUujMR2jIFskhysDQM7HH+LRZyUOtDD/e5705z9SPLWGjGgq75rv4wukGMku6Y5O00yt04MYNN3bdHvBzXeYq1LbnHwFyP+uvRBJ7WudrlaXyS5TjKzdlR+5rjpu/a2xsEnNa98uVrPkpwnWRi7KGyfX2+rNn3XVns59BNlG06FXiiUNQAAAABJRU5ErkJggg==' width='200' height='133' class=\"itemThumbnail\">\n",
       "                       </a>\n",
       "                    </div>\n",
       "\n",
       "                    <div class=\"item_right\"     style=\"float: none; width: auto; overflow: hidden;\">\n",
       "                        <a href='https://dcdev.maps.arcgis.com/home/item.html?id=1c75da020b2f4943a3f657ef59fc1bc8' target='_blank'><b>page space</b>\n",
       "                        </a>\n",
       "                        <br/><img src='https://dcdev.maps.arcgis.com/home/js/jsapi/esri/css/images/item_type_icons/layers16.png' style=\"vertical-align:middle;\" width=16 height=16>Hub Page by mmajumdar_dcdev\n",
       "                        <br/>Last Modified: May 30, 2023\n",
       "                        <br/>0 comments, 151 views\n",
       "                    </div>\n",
       "                </div>\n",
       "                "
      ],
      "text/plain": [
       "<Item title:\"page space\" type:Hub Page owner:mmajumdar_dcdev>"
      ]
     },
     "execution_count": 8,
     "metadata": {},
     "output_type": "execute_result"
    }
   ],
   "source": [
    "#Fetching a page\n",
    "new_page = myhub.pages.get('1c75da020b2f4943a3f657ef59fc1bc8')\n",
    "new_page.item"
   ]
  },
  {
   "cell_type": "code",
   "execution_count": 9,
   "metadata": {},
   "outputs": [
    {
     "data": {
      "text/plain": [
       "[<Page title:\"page space\" owner:mmajumdar_dcdev>]"
      ]
     },
     "execution_count": 9,
     "metadata": {},
     "output_type": "execute_result"
    }
   ],
   "source": [
    "s1.pages.link(new_page, slug='linked page space')\n",
    "s1.pages.search()"
   ]
  },
  {
   "cell_type": "markdown",
   "metadata": {},
   "source": [
    "### Unlinking a page from this site\n",
    "\n",
    "Unlinking is useful when you have a page that is no longer needed for a site, but you do not wish to delete that page from the other sites it is linked to."
   ]
  },
  {
   "cell_type": "code",
   "execution_count": 10,
   "metadata": {},
   "outputs": [
    {
     "data": {
      "text/plain": [
       "[]"
      ]
     },
     "execution_count": 10,
     "metadata": {},
     "output_type": "execute_result"
    }
   ],
   "source": [
    "s1.pages.unlink(new_page)\n",
    "s1.pages.search()"
   ]
  },
  {
   "cell_type": "markdown",
   "metadata": {},
   "source": [
    "### Editing the layout of this site\n",
    "\n",
    "To edit a layout of a site, first fetch the layout of that site."
   ]
  },
  {
   "cell_type": "code",
   "execution_count": 11,
   "metadata": {},
   "outputs": [],
   "source": [
    "layout = s1.layout"
   ]
  },
  {
   "cell_type": "code",
   "execution_count": 12,
   "metadata": {},
   "outputs": [
    {
     "data": {
      "text/plain": [
       "'#3276ae'"
      ]
     },
     "execution_count": 12,
     "metadata": {},
     "output_type": "execute_result"
    }
   ],
   "source": [
    "layout.sections[1].style.background.color"
   ]
  },
  {
   "cell_type": "markdown",
   "metadata": {},
   "source": [
    "As we can see, this section has a blue background color.\n",
    "\n",
    "![image](https://user-images.githubusercontent.com/13968196/158464500-fbb3fa83-f091-41ba-b2eb-740a633a2078.png)\n"
   ]
  },
  {
   "cell_type": "markdown",
   "metadata": {},
   "source": [
    "We can change it to a deep red by assigning the background color value and calling the `update_layout` method on the site object."
   ]
  },
  {
   "cell_type": "code",
   "execution_count": 13,
   "metadata": {},
   "outputs": [
    {
     "data": {
      "text/plain": [
       "'#800000'"
      ]
     },
     "execution_count": 13,
     "metadata": {},
     "output_type": "execute_result"
    }
   ],
   "source": [
    "layout.sections[1].style.background.color = '#800000'\n",
    "layout.sections[1].style.background.color"
   ]
  },
  {
   "cell_type": "code",
   "execution_count": 14,
   "metadata": {},
   "outputs": [
    {
     "data": {
      "text/plain": [
       "True"
      ]
     },
     "execution_count": 14,
     "metadata": {},
     "output_type": "execute_result"
    }
   ],
   "source": [
    "s1.update_layout(layout)"
   ]
  },
  {
   "cell_type": "markdown",
   "metadata": {},
   "source": [
    "The background color is now a dark red.\n",
    "\n",
    "![image](https://user-images.githubusercontent.com/13968196/158464917-76a90219-127b-4a74-ac3e-4c70de62f3e4.png)\n"
   ]
  },
  {
   "cell_type": "markdown",
   "metadata": {},
   "source": [
    "### Editing title on the site\n",
    "\n",
    "We can see the title of this site is 'New Initiative'.\n",
    "\n",
    "![image](https://user-images.githubusercontent.com/13968196/158465157-4a16a154-eccd-4050-a33b-1afaed08f5d3.png)"
   ]
  },
  {
   "cell_type": "markdown",
   "metadata": {},
   "source": [
    "To change this, we can fetch the card for this section and update it with the json for the new title 'A Sample Hub Initiative'."
   ]
  },
  {
   "cell_type": "code",
   "execution_count": 15,
   "metadata": {},
   "outputs": [
    {
     "data": {
      "text/plain": [
       "{'component': {'name': 'markdown-card', 'settings': {'schemaVersion': 1, 'markdown': '\\n<br>\\n<br>\\n<br>\\n<br>\\n<br><h1 style=\"text-align: center;\">New Initiative</h1><p style=\"text-align: center;\"><br></p><p style=\"text-align: center;\"><br></p><p style=\"text-align: center;\">What will this initiative achieve if successful?</p>\\n\\n\\n<br>\\n<br>\\n<br>\\n<br>\\n<br>'}}, 'width': 12, 'showEditor': False}"
      ]
     },
     "execution_count": 15,
     "metadata": {},
     "output_type": "execute_result"
    }
   ],
   "source": [
    "layout.sections[0].rows[0].cards[0]"
   ]
  },
  {
   "cell_type": "code",
   "execution_count": 16,
   "metadata": {},
   "outputs": [
    {
     "data": {
      "text/plain": [
       "{'component': {'name': 'markdown-card',\n",
       "  'settings': {'markdown': \" <br> <br> <br> <br> <br><h1 style='text-align: center; '>A sample Hub Initiative</h1><p style='text-align: center; '><br></p><p style='text-align: center; '><br></p><p style='text-align: center; '>What will this initiative achieve if successful?</p> <br> <br> <br> <br> <br>\"}},\n",
       " 'width': 12,\n",
       " 'showEditor': False}"
      ]
     },
     "execution_count": 16,
     "metadata": {},
     "output_type": "execute_result"
    }
   ],
   "source": [
    "layout.sections[0].rows[0].cards[0] = {'component': {'name': 'markdown-card', 'settings': {'markdown': \" <br> <br> <br> <br> <br><h1 style='text-align: center; '>A sample Hub Initiative</h1><p style='text-align: center; '><br></p><p style='text-align: center; '><br></p><p style='text-align: center; '>What will this initiative achieve if successful?</p> <br> <br> <br> <br> <br>\"}}, 'width': 12, 'showEditor': False}\n",
    "layout.sections[0].rows[0].cards[0]"
   ]
  },
  {
   "cell_type": "code",
   "execution_count": 17,
   "metadata": {},
   "outputs": [
    {
     "data": {
      "text/plain": [
       "True"
      ]
     },
     "execution_count": 17,
     "metadata": {},
     "output_type": "execute_result"
    }
   ],
   "source": [
    "s1.update_layout(layout)"
   ]
  },
  {
   "cell_type": "markdown",
   "metadata": {},
   "source": [
    "Now the title has successfully been changed.\n",
    "\n",
    "![image](https://user-images.githubusercontent.com/13968196/213138931-409df3e5-019b-4805-a246-4ee00eb67ee7.png)"
   ]
  },
  {
   "cell_type": "markdown",
   "metadata": {},
   "source": [
    "### Fetching sites with site domain\n",
    "\n",
    "Sites can be fetched by their `itemid`. However, in cases where you do not have the `siteid` for a site that you have access to, you can fetch the item using the following command:"
   ]
  },
  {
   "cell_type": "code",
   "execution_count": 18,
   "metadata": {},
   "outputs": [
    {
     "data": {
      "text/html": [
       "<div class=\"item_container\" style=\"height: auto; overflow: hidden; border: 1px solid #cfcfcf; border-radius: 2px; background: #f6fafa; line-height: 1.21429em; padding: 10px;\">\n",
       "                    <div class=\"item_left\" style=\"width: 210px; float: left;\">\n",
       "                       <a href='https://dcdev.maps.arcgis.com/home/item.html?id=aab130d377984b0387a19b7daacb111c' target='_blank'>\n",
       "                        <img src='data:image/png;base64,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' width='200' height='133' class=\"itemThumbnail\">\n",
       "                       </a>\n",
       "                    </div>\n",
       "\n",
       "                    <div class=\"item_right\"     style=\"float: none; width: auto; overflow: hidden;\">\n",
       "                        <a href='https://dcdev.maps.arcgis.com/home/item.html?id=aab130d377984b0387a19b7daacb111c' target='_blank'><b>Aloha Challenge</b>\n",
       "                        </a>\n",
       "                        <br/>The Aloha+ Challenge is Hawai‘i's local framework to achieve the SDGs with a Dashboard to track progress, provide accountability and ensure transparency on Hawai‘i's sustainability goals.<img src='https://dcdev.maps.arcgis.com/home/js/jsapi/esri/css/images/item_type_icons/layers16.png' style=\"vertical-align:middle;\" width=16 height=16>Hub Site Application by bbutoaj\n",
       "                        <br/>Last Modified: July 05, 2023\n",
       "                        <br/>0 comments, 452198 views\n",
       "                    </div>\n",
       "                </div>\n",
       "                "
      ],
      "text/plain": [
       "<Item title:\"Aloha Challenge\" type:Hub Site Application owner:bbutoaj>"
      ]
     },
     "execution_count": 18,
     "metadata": {},
     "output_type": "execute_result"
    }
   ],
   "source": [
    "aloha = myhub.sites.get_by_domain('alohachallenge.hawaii.gov')\n",
    "aloha.item"
   ]
  },
  {
   "cell_type": "markdown",
   "metadata": {},
   "source": [
    "### Cloning an initiative/site in the same org\n",
    "\n",
    "We clone an initiaitve in the same organization by passing the initiative object to the clone method."
   ]
  },
  {
   "cell_type": "code",
   "execution_count": 19,
   "metadata": {},
   "outputs": [
    {
     "data": {
      "text/html": [
       "<div class=\"item_container\" style=\"height: auto; overflow: hidden; border: 1px solid #cfcfcf; border-radius: 2px; background: #f6fafa; line-height: 1.21429em; padding: 10px;\">\n",
       "                    <div class=\"item_left\" style=\"width: 210px; float: left;\">\n",
       "                       <a href='https://dcdev.maps.arcgis.com/home/item.html?id=2acae6b0e8e04e908f3e530b499556f6' target='_blank'>\n",
       "                        <img src='http://static.arcgis.com/images/desktopapp.png' class=\"itemThumbnail\">\n",
       "                       </a>\n",
       "                    </div>\n",
       "\n",
       "                    <div class=\"item_right\"     style=\"float: none; width: auto; overflow: hidden;\">\n",
       "                        <a href='https://dcdev.maps.arcgis.com/home/item.html?id=2acae6b0e8e04e908f3e530b499556f6' target='_blank'><b>A sample Hub Initiative1-copy-1688766859085</b>\n",
       "                        </a>\n",
       "                        <br/>Create your own initiative by combining existing applications with a custom site. Use this initiative to form teams around a problem and invite your community to participate.<img src='https://dcdev.maps.arcgis.com/home/js/jsapi/esri/css/images/item_type_icons/layers16.png' style=\"vertical-align:middle;\" width=16 height=16>Hub Initiative by mmajumdar_dcdev\n",
       "                        <br/>Last Modified: July 07, 2023\n",
       "                        <br/>0 comments, 0 views\n",
       "                    </div>\n",
       "                </div>\n",
       "                "
      ],
      "text/plain": [
       "<Item title:\"A sample Hub Initiative1-copy-1688766859085\" type:Hub Initiative owner:mmajumdar_dcdev>"
      ]
     },
     "execution_count": 19,
     "metadata": {},
     "output_type": "execute_result"
    }
   ],
   "source": [
    "i1_clone = myhub.initiatives.clone(i1)\n",
    "i1_clone.item"
   ]
  },
  {
   "cell_type": "markdown",
   "metadata": {},
   "source": [
    "### Cloning an initiative/site from Hub to Enterprise\n",
    "\n",
    "Cloning an initiative to Enterprise requires signing into that organization and then cloning the site into it. You can clone a site by calling the clone method on the `sites` property of the target `GIS` object and providing a reference to the site object and an optional title. \n",
    "\n",
    "Note: Enterprise Sites are supported via the `sites` submodule of the `GIS`, and not the `apps.hub` submodule. "
   ]
  },
  {
   "cell_type": "code",
   "execution_count": 21,
   "metadata": {},
   "outputs": [
    {
     "name": "stdout",
     "output_type": "stream",
     "text": [
      "Enter password: ········\n"
     ]
    }
   ],
   "source": [
    "gis_portal = GIS(profile='your_enterprise_profile')"
   ]
  },
  {
   "cell_type": "code",
   "execution_count": 22,
   "metadata": {},
   "outputs": [
    {
     "data": {
      "text/html": [
       "<div class=\"item_container\" style=\"height: auto; overflow: hidden; border: 1px solid #cfcfcf; border-radius: 2px; background: #f6fafa; line-height: 1.21429em; padding: 10px;\">\n",
       "                    <div class=\"item_left\" style=\"width: 210px; float: left;\">\n",
       "                       <a href='https://rpubs22001.ags.esri.com/portal/home//home/item.html?id=7e22db7812204685b96551c79a767fe2' target='_blank'>\n",
       "                        <img src='https://rpubs22001.ags.esri.com/portal/home//portalimages/desktopapp.png' class=\"itemThumbnail\">\n",
       "                       </a>\n",
       "                    </div>\n",
       "\n",
       "                    <div class=\"item_right\"     style=\"float: none; width: auto; overflow: hidden;\">\n",
       "                        <a href='https://rpubs22001.ags.esri.com/portal/home//home/item.html?id=7e22db7812204685b96551c79a767fe2' target='_blank'><b>Cloned Example Enterprise Site</b>\n",
       "                        </a>\n",
       "                        <br/><img src='https://rpubs22001.ags.esri.com/portal/home//home/js/jsapi/esri/css/images/item_type_icons/layers16.png' style=\"vertical-align:middle;\" width=16 height=16>Site Application by creator1\n",
       "                        <br/>Last Modified: July 07, 2023\n",
       "                        <br/>0 comments, 0 views\n",
       "                    </div>\n",
       "                </div>\n",
       "                "
      ],
      "text/plain": [
       "<Item title:\"Cloned Example Enterprise Site\" type:Site Application owner:creator1>"
      ]
     },
     "execution_count": 22,
     "metadata": {},
     "output_type": "execute_result"
    }
   ],
   "source": [
    "s1_enterprise = gis_portal.sites.clone(s1, title='Cloned Example Enterprise Site')\n",
    "s1_enterprise.item"
   ]
  },
  {
   "cell_type": "markdown",
   "metadata": {},
   "source": [
    "Only the site item has been cloned in the new organization as this is an Enterprise organization. The Enterprise Site also comes with a Content Team group that helps you manage the items in your site's Content Library. Users with Administrative privileges that create a site will also have a Core Team group created as part of the site, to allow collaboration among members of that team. The script will automatically determine whether to give you an initiative or a site for your particular Hub."
   ]
  },
  {
   "cell_type": "markdown",
   "metadata": {},
   "source": [
    "### Deleting initiatives and sites\n",
    "\n",
    "We will delete the initiatives and site created as part of this notebook to demonstrate the process of deletion. Deleting a site or initiative not only deletes the items but also the groups created initially. If a site has a page that is not linked to any other site, deleting the site also deletes the page."
   ]
  },
  {
   "cell_type": "code",
   "execution_count": 23,
   "metadata": {},
   "outputs": [
    {
     "data": {
      "text/plain": [
       "True"
      ]
     },
     "execution_count": 23,
     "metadata": {},
     "output_type": "execute_result"
    }
   ],
   "source": [
    "i1.delete()"
   ]
  },
  {
   "cell_type": "code",
   "execution_count": 24,
   "metadata": {},
   "outputs": [
    {
     "data": {
      "text/plain": [
       "True"
      ]
     },
     "execution_count": 24,
     "metadata": {},
     "output_type": "execute_result"
    }
   ],
   "source": [
    "i1_clone.delete()"
   ]
  },
  {
   "cell_type": "code",
   "execution_count": 25,
   "metadata": {
    "scrolled": false
   },
   "outputs": [
    {
     "data": {
      "text/plain": [
       "True"
      ]
     },
     "execution_count": 25,
     "metadata": {},
     "output_type": "execute_result"
    }
   ],
   "source": [
    "s1_enterprise.delete()"
   ]
  },
  {
   "cell_type": "code",
   "execution_count": null,
   "metadata": {},
   "outputs": [],
   "source": []
  }
 ],
 "metadata": {
  "esriNotebookRuntime": {
   "notebookRuntimeName": "ArcGIS Notebook Python 3 Standard",
   "notebookRuntimeVersion": "6.0"
  },
  "kernelspec": {
   "display_name": "Python 3 (ipykernel)",
   "language": "python",
   "name": "python3"
  },
  "language_info": {
   "codemirror_mode": {
    "name": "ipython",
    "version": 3
   },
   "file_extension": ".py",
   "mimetype": "text/x-python",
   "name": "python",
   "nbconvert_exporter": "python",
   "pygments_lexer": "ipython3",
   "version": "3.11.4"
  }
 },
 "nbformat": 4,
 "nbformat_minor": 2
}
