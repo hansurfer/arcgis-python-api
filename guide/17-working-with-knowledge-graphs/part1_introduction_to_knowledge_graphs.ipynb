{
 "cells": [
  {
   "cell_type": "markdown",
   "metadata": {},
   "source": [
    "# Introduction to Knowledge Graphs"
   ]
  },
  {
   "cell_type": "markdown",
   "metadata": {},
   "source": [
    "<h1>Table of Contents<span class=\"tocSkip\"></span></h1>\n",
    "<div class=\"toc\">\n",
    "    <ul class=\"toc-item\">\n",
    "        <li><span><a href=\"#Introduction\" data-toc-modified-id=\"Introduction-1\">Introduction</a></span>\n",
    "            <ul>\n",
    "                <li><span><a href=\"#What-is-a-knowledge-graph?\" data-toc-modified-id=\"What-is-a-knowledge-graph?-1.1\">What is a knowledge graph?</a></span></li>\n",
    "                <li><span><a href=\"#Key-Terms\" data-toc-modified-id=\"Key-Terms-1.2\">Key Terms</a></span></li>\n",
    "            </ul>\n",
    "        </li>\n",
    "        <li><span><a href=\"#Connect\" data-toc-modified-id=\"Connect-2\">Connect</a></span></li>\n",
    "        <li><span><a href=\"#Create\" data-toc-modified-id=\"Create-3\">Create</a></span></li>\n",
    "        <li><span><a href=\"#Data-Model\" data-toc-modified-id=\"Data-Model-4\">Data Model</a></span></li>\n",
    "        <li><span><a href=\"#Path-Forward\" data-toc-modified-id=\"Path-Forward-5\">Path Forward</a></span></li>\n",
    "    </ul>\n",
    "</div>"
   ]
  },
  {
   "cell_type": "markdown",
   "metadata": {},
   "source": [
    "## Introduction\n",
    "\n",
    "ArcGIS Knowledge integrates graph and spatial analytics to support data discovery, collaborative investigations, link analysis, and information sharing across organizations. An ArcGIS Enterprise portal configured for ArcGIS Knowledge is required. Find out more at [Configure ArcGIS Knowledge](https://enterprise.arcgis.com/en/knowledge/latest/introduction/configure-arcgis-knowledge.htm)\n",
    "\n",
    "In order to use the [`arcgis.graph`](https://developers.arcgis.com/python/api-reference/arcgis.graph.html) capabilities in the ArcGIS API for Python, you must have an existing knowledge graph. Learn more about [creating knowledge graphs](https://pro.arcgis.com/en/pro-app/latest/help/data/knowledge/create-an-investigation-in-a-project.htm)."
   ]
  },
  {
   "cell_type": "markdown",
   "metadata": {},
   "source": [
    "### What is a knowledge graph?\n",
    "A knowledge graph consists of entities and the relationships between them. Each of these entities and relationships can also have properties that contain information describing the entity or relationship. Entities in the model represent real-world objects, concepts, or events. Relationships in the model express how entities are associated with each other. \n",
    "\n",
    "### Key Terms\n",
    "A few key terms to understand are:\n",
    "- Knowledge Graph: A network that connects people, places, things, and events with each other through relationships.\n",
    "- Data Model: Defines the types of entities and relationships that can exist in the knowledge graph along with their properties.\n",
    "- Entity: Representation of a specific thing in the graph such as a person, building, vehicle, etc. These can have any number of properties and be either spatial or nonspatial.\n",
    "- Relationship: Connects two entities in the graph and represents their relationship such as knows, works_at, drives, etc. These can have any number of properties and are nonspatial.\n",
    "- Properties: key-value pairs that describe the entity or relationships such as name, start_date, make, model, etc."
   ]
  },
  {
   "cell_type": "markdown",
   "metadata": {},
   "source": [
    "## Connect\n",
    "\n",
    "Using the ArcGIS API for Python, you can connect to a `KnowledgeGraph` with `arcgis.graph`:"
   ]
  },
  {
   "cell_type": "code",
   "execution_count": null,
   "metadata": {},
   "outputs": [],
   "source": [
    "from arcgis.gis import GIS\n",
    "from arcgis.graph import KnowledgeGraph\n",
    "\n",
    "url = \"https://myHostName.domain.com/server/rest/services/Hosted/myServiceName/KnowledgeGraphServer\"\n",
    "gis = GIS(\"home\")\n",
    "knowledge_graph = KnowledgeGraph(url=url, gis=gis)"
   ]
  },
  {
   "cell_type": "markdown",
   "metadata": {},
   "source": [
    "A knowledge graph service is composed of two primary resources, the data and data model. The data contains entities and relationships with their associated properties. "
   ]
  },
  {
   "cell_type": "markdown",
   "metadata": {},
   "source": [
    "## Create\n",
    "Using the ArcGIS API for Python, you can create a new Knowledge Graph using [create_service()](https://developers.arcgis.com/python/api-reference/arcgis.gis.toc.html#arcgis.gis.ContentManager.create_service)."
   ]
  },
  {
   "cell_type": "code",
   "execution_count": null,
   "metadata": {},
   "outputs": [],
   "source": [
    "gis = GIS(\"home\")\n",
    "result = gis.content.create_service(\n",
    "    name=\"myKnowledgeGraph\",\n",
    "    capabilities=\"Query,Editing,Create,Update,Delete\",\n",
    "    service_type=\"KnowledgeGraph\",\n",
    ")"
   ]
  },
  {
   "cell_type": "markdown",
   "metadata": {},
   "source": [
    "Services can also be created using create parameters to choose more service options."
   ]
  },
  {
   "cell_type": "code",
   "execution_count": null,
   "metadata": {},
   "outputs": [],
   "source": [
    "result = gis.content.create_service(\n",
    "    name=\"\",\n",
    "    service_type=\"KnowledgeGraph\",\n",
    "    create_params={\n",
    "        \"name\": \"myKnowledgeGraph\",\n",
    "        \"capabilities\": \"Query\",\n",
    "        \"jsonProperties\": {\n",
    "            \"supportsProvenance\": False,\n",
    "            \"arcgisManagedData\": False,\n",
    "            \"dataSourceItemID\": \"f63a6725058c4c05a63480521acffe01\",\n",
    "        },\n",
    "    },\n",
    ")"
   ]
  },
  {
   "cell_type": "markdown",
   "metadata": {},
   "source": [
    "Finally, the result from create_service can be used to initialize the KnowledgeGraph."
   ]
  },
  {
   "cell_type": "code",
   "execution_count": null,
   "metadata": {},
   "outputs": [],
   "source": [
    "knowledge_graph = KnowledgeGraph(url=result.url, gis=gis)"
   ]
  },
  {
   "cell_type": "markdown",
   "metadata": {},
   "source": [
    "## Data Model\n",
    "\n",
    "The data model defines the schema of the knowledge graph by defining the entity types and relationship types in the graph:"
   ]
  },
  {
   "cell_type": "code",
   "execution_count": null,
   "metadata": {},
   "outputs": [],
   "source": [
    "knowledge_graph.datamodel"
   ]
  },
  {
   "cell_type": "markdown",
   "metadata": {},
   "source": [
    "The response from `datamodel` has many useful components that describe the schema of the knowledge graph. Important information to look for on the data model includes spatial reference, strictness, whether the service is arcgis managed, information on the unique identifier property, and search indexes. The data model also includes detailed information on each entity and relationship type.\n",
    "\n",
    "```\n",
    "{'data_model_timestamp': datetime.datetime(2023, 3, 22, 14, 4, 44, 432000),\n",
    " 'spatial_reference': {'wkid': 4326},\n",
    " 'entity_types': <dictionary of entity types>, # see below for more info on type dictionaries\n",
    " 'relationship_types': <dictionary of relationship types>, # see below for more info on type dictionaries\n",
    " 'strict': False,\n",
    " 'objectid_property': 'objectid',\n",
    " 'globalid_property': 'globalid',\n",
    " 'arcgis_managed': True,\n",
    " 'identifier_info': {'identifier_mapping_info': {'uniform_property': {'identifier_property_name': 'globalid'}},\n",
    "  'identifier_generation_info': {'uuid_method_hint': 'esriUUIDESRI'}},\n",
    " 'search_indexes': {'esri__search_idx': {'name': 'esri__search_idx',\n",
    "   'supported_category': 'Both',\n",
    "   'analyzers': [{'name': 'text_en'}, {'name': 'identity'}],\n",
    "   'search_properties': {'Document': {'property_names': ['metadata',\n",
    "      'keywords',\n",
    "      'fileExtension',\n",
    "      'globalid',\n",
    "      'name',\n",
    "      'text',\n",
    "      'title',\n",
    "      'contentType',\n",
    "      'url']},\n",
    "    'HasDocument': {'property_names': ['globalid']},\n",
    "    'Observation': {'property_names': ['quality_grade',\n",
    "      'globalid',\n",
    "      'time_observed',\n",
    "      'description',\n",
    "      'location',\n",
    "      'observation_url',\n",
    "      'photo_url',\n",
    "      'species_guess',\n",
    "      'most_disagree_with_identificati',\n",
    "      'place_guess']},\n",
    "    'Observed': {'property_names': ['globalid']},\n",
    "    'ObservedIn': {'property_names': ['globalid']},\n",
    "    'Reviewed': {'property_names': ['globalid']},\n",
    "    'Species': {'property_names': ['taxon_common_name',\n",
    "      'globalid',\n",
    "      'taxon_name',\n",
    "      'taxon_wikipedia',\n",
    "      'taxon_photo_url']},\n",
    "    'User': {'property_names': ['globalid', 'name', 'created_date']}}}}}\n",
    "```\n",
    "\n",
    "Entity and relationship types each have a format very similar to each other including basic information about the type like the name, role and strictness as well as properties and field indexes on the type. For a single type, this could look like:\n",
    "```\n",
    "{'Company': {\n",
    "    'name': 'Company',\n",
    "    'alias': '',\n",
    "    'role': 'esriGraphNamedObjectRegular',\n",
    "    'strict': False,\n",
    "    'properties': {\n",
    "        'name': {\n",
    "            'name': 'name',\n",
    "            'alias': 'name',\n",
    "            'fieldType': 'esriFieldTypeString',\n",
    "            'hasZ': False,\n",
    "            'hasM': False,\n",
    "            'nullable': True,\n",
    "            'editable': True,\n",
    "            'visible': True,\n",
    "            'required': False,\n",
    "            'isSystemMaintained': False,\n",
    "            'role': 'esriGraphPropertyRegular'\n",
    "        },\n",
    "        'objectid': {\n",
    "            'name': 'objectid',\n",
    "            'alias': 'objectid',\n",
    "            'fieldType': 'esriFieldTypeOID',\n",
    "            'hasZ': False,\n",
    "            'hasM': False,\n",
    "            'nullable': False,\n",
    "            'editable': False,\n",
    "            'visible': True,\n",
    "            'required': True,\n",
    "            'isSystemMaintained': True,\n",
    "            'role': 'esriGraphPropertyRegular'\n",
    "        },\n",
    "        'globalid': {\n",
    "            'name': 'globalid',\n",
    "            'alias': 'globalid',\n",
    "            'fieldType': 'esriFieldTypeGlobalID',\n",
    "            'hasZ': False,\n",
    "            'hasM': False,\n",
    "            'nullable': False,\n",
    "            'editable': False,\n",
    "            'visible': True,\n",
    "            'required': True,\n",
    "            'isSystemMaintained': True,\n",
    "            'role': 'esriGraphPropertyRegular'\n",
    "        },\n",
    "        'shape': {\n",
    "            'name': 'shape',\n",
    "            'alias': 'shape',\n",
    "            'fieldType': 'esriFieldTypeGeometry',\n",
    "            'geometryType': 'esriGeometryPoint',\n",
    "            'hasZ': False,\n",
    "            'hasM': False,\n",
    "            'nullable': True,\n",
    "            'editable': True,\n",
    "            'visible': True,\n",
    "            'required': False,\n",
    "            'isSystemMaintained': False,\n",
    "            'role': 'esriGraphPropertyRegular'\n",
    "        }\n",
    "    },\n",
    "   'field_indexes': {\n",
    "        'esri__oid_idx': {\n",
    "            'name': 'esri__oid_idx',\n",
    "            'fields': ['objectid'],\n",
    "            'isAscending': True,\n",
    "            'isUnique': True\n",
    "        },\n",
    "        'esri__globalid_idx': {\n",
    "            'name': 'esri__globalid_idx',\n",
    "            'fields': ['globalid'],\n",
    "            'isAscending': True,\n",
    "            'isUnique': True\n",
    "        },\n",
    "        'esri__shape_geo_idx': {\n",
    "            'name': 'esri__shape_geo_idx',\n",
    "            'fields': ['shape'],\n",
    "            'isAscending': True,\n",
    "            'isUnique': False\n",
    "        }\n",
    "    }\n",
    "}\n",
    "```"
   ]
  },
  {
   "cell_type": "markdown",
   "metadata": {},
   "source": [
    "## Path Forward\n",
    "\n",
    "The knowledge graph can be used to <a href=\"part2-search-query-knowledge-graph.ipynb\">search and query a knowledge graph</a> as well as <a href=\"part3-edit-knowledge-graph.ipynb\">add, update and delete</a> types and instances of the data. These will help you to create and use your knowledge graphs."
   ]
  }
 ],
 "metadata": {
  "kernelspec": {
   "display_name": "Python 3 (ipykernel)",
   "language": "python",
   "name": "python3"
  },
  "language_info": {
   "codemirror_mode": {
    "name": "ipython",
    "version": 3
   },
   "file_extension": ".py",
   "mimetype": "text/x-python",
   "name": "python",
   "nbconvert_exporter": "python",
   "pygments_lexer": "ipython3",
   "version": "3.9.16"
  },
  "vscode": {
   "interpreter": {
    "hash": "d622b5871f1605057390dea3c8b45e995d0d19bef8604acd7f5b2e1066a85139"
   }
  }
 },
 "nbformat": 4,
 "nbformat_minor": 2
}
