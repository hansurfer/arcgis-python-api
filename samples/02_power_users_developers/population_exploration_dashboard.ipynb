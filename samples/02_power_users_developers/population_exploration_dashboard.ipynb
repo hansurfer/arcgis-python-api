{
 "cells": [
  {
   "cell_type": "markdown",
   "metadata": {
    "extensions": {
     "jupyter_dashboards": {
      "version": 1,
      "views": {
       "grid_default": {},
       "report_default": {
        "hidden": true
       }
      }
     }
    }
   },
   "source": [
    "# A dashboard to explore world population\n",
    "\n",
    "The Python API, along with the [Jupyter Dashboard](http://jupyter-dashboards-layout.readthedocs.io/) project enables Python developers to quickly build and prototype interactive web apps. This sample illustrates one such app which can be used to detect the changes in vegetation between the two dates. Increases in vegetation are shown in green, and decreases are shown in magenta. \n",
    "\n",
    "This sample uses the fast on-the-fly processing power of raster functions available in the `raster` module of the Python API.\n",
    "\n",
    "> To run this sample you need `jupyter_dashboards` package in your conda environment. You can install it as shown below. For information on this, [refer to the install instructions](http://jupyter-dashboards-layout.readthedocs.io/en/latest/getting-started.html#installing-and-enabling).\n",
    "\n",
    "    conda install jupyter_dashboards -c conda-forge\n",
    "    \n",
    "This Dashboard uses the Geoenrichment API to alow users to pan around the world and explore the population of a selected AOI. Let's start by logging into ArcGIS Online and importing packages."
   ]
  },
  {
   "cell_type": "markdown",
   "metadata": {},
   "source": [
    "<img src=\"../../static/img/04_app_01.gif\">"
   ]
  },
  {
   "cell_type": "code",
   "execution_count": null,
   "metadata": {},
   "outputs": [],
   "source": [
    "!conda install jupyter_dashboards -c conda-forge -y"
   ]
  },
  {
   "cell_type": "code",
   "execution_count": 5,
   "metadata": {
    "extensions": {
     "jupyter_dashboards": {
      "version": 1,
      "views": {
       "grid_default": {
        "hidden": true
       },
       "report_default": {
        "hidden": true
       }
      }
     }
    }
   },
   "outputs": [],
   "source": [
    "from IPython.display import display, clear_output\n",
    "import ipywidgets as widgets\n",
    "\n",
    "from arcgis.geoenrichment import enrich\n",
    "from arcgis.raster import ImageryLayer\n",
    "from arcgis.geometry import Geometry\n",
    "from arcgis.gis import GIS\n",
    "\n",
    "gis = GIS(profile='your_online_profile')\n",
    "img_svc ='https://worldpop.arcgis.com/arcgis/rest/services/WorldPop_Population_Density_100m/ImageServer'\n",
    "img_lyr = ImageryLayer(img_svc, gis=gis)"
   ]
  },
  {
   "cell_type": "code",
   "execution_count": 6,
   "metadata": {
    "extensions": {
     "jupyter_dashboards": {
      "version": 1,
      "views": {
       "grid_default": {
        "col": 8,
        "height": 4,
        "hidden": false,
        "row": 24,
        "width": 4
       },
       "report_default": {
        "hidden": false
       }
      }
     }
    }
   },
   "outputs": [
    {
     "data": {
      "text/html": [
       "<style>\n",
       ".intro {\n",
       "    padding: 10px; \n",
       "    color: #202020;\n",
       "    font-family: 'Helvetica'\n",
       "}\n",
       ".map {\n",
       "    border: solid;\n",
       "    height: 450;\n",
       "}\n",
       "</style>\n"
      ],
      "text/plain": [
       "<IPython.core.display.HTML object>"
      ]
     },
     "metadata": {},
     "output_type": "display_data"
    }
   ],
   "source": [
    "%%html\n",
    "<style>\n",
    ".intro {\n",
    "    padding: 10px; \n",
    "    color: #202020;\n",
    "    font-family: 'Helvetica'\n",
    "}\n",
    ".map {\n",
    "    border: solid;\n",
    "    height: 450;\n",
    "}\n",
    "</style>"
   ]
  },
  {
   "cell_type": "code",
   "execution_count": 7,
   "metadata": {
    "extensions": {
     "jupyter_dashboards": {
      "version": 1,
      "views": {
       "grid_default": {
        "hidden": true
       },
       "report_default": {
        "hidden": true
       }
      }
     }
    }
   },
   "outputs": [],
   "source": [
    "def running(button_object):\n",
    "    viz_map.clear_graphics()\n",
    "    the_geom = Geometry(viz_map.extent)\n",
    "    enriched = enrich([the_geom], gis=gis)\n",
    "    \n",
    "    if 'TOTPOP' not in list(enriched):\n",
    "        enriched_pop = -1\n",
    "    else:\n",
    "        enriched_pop = enriched.TOTPOP[0]\n",
    "    \n",
    "    print('the Geom: {}'.format(the_geom))\n",
    "    print('Sample Count: {}'.format(img_lyr.properties.maxImageHeight))\n",
    "    \n",
    "    samples = img_lyr.get_samples(the_geom)\n",
    "    sample_sum = sum([float(sample['value']) for sample in samples])\n",
    "    print('GeoEnrichment Population Results: {}'.format(enriched_pop))\n",
    "\n",
    "    title = 'GeoEnriched Cell'\n",
    "    for feature in enriched.spatial.to_featureset():\n",
    "        # Expand Attributes With New Lines\n",
    "        content = \"{}\".format(\n",
    "            '<br/>'.join(['%s: %s' % (key.upper(), value) for (key, value) in feature.attributes.items()])\n",
    "        )\n",
    "        # Add Cell to Map\n",
    "        viz_map.draw(feature.geometry, popup={'title': title, 'content': content})"
   ]
  },
  {
   "cell_type": "code",
   "execution_count": 8,
   "metadata": {
    "extensions": {
     "jupyter_dashboards": {
      "version": 1,
      "views": {
       "grid_default": {
        "col": 0,
        "height": 24,
        "hidden": false,
        "row": 0,
        "width": null
       },
       "report_default": {
        "hidden": false
       }
      }
     }
    },
    "scrolled": false
   },
   "outputs": [
    {
     "data": {
      "application/vnd.jupyter.widget-view+json": {
       "model_id": "7a959e2569b04d00ac06d56a4db170ee",
       "version_major": 2,
       "version_minor": 0
      },
      "text/plain": [
       "MapView(layout=Layout(height='400px', width='100%'))"
      ]
     },
     "metadata": {},
     "output_type": "display_data"
    },
    {
     "data": {
      "text/html": [
       "<div class=\"map-static-img-preview-e9022f3d-dcc7-497f-aa85-633c7cfd58c0\"><img src=\"\"></img></div>"
      ],
      "text/plain": [
       "<IPython.core.display.HTML object>"
      ]
     },
     "metadata": {},
     "output_type": "display_data"
    },
    {
     "data": {
      "text/html": [
       "<div class=\"map-html-embed-preview-e9022f3d-dcc7-497f-aa85-633c7cfd58c0\"></div>"
      ],
      "text/plain": [
       "<IPython.core.display.HTML object>"
      ]
     },
     "metadata": {},
     "output_type": "display_data"
    },
    {
     "data": {
      "application/vnd.jupyter.widget-view+json": {
       "model_id": "6908b244ab9049998e14ec6084a6fd1a",
       "version_major": 2,
       "version_minor": 0
      },
      "text/plain": [
       "HBox(children=(Button(button_style='success', description='Fetch Extent', layout=Layout(justify_content='cente…"
      ]
     },
     "metadata": {},
     "output_type": "display_data"
    },
    {
     "name": "stdout",
     "output_type": "stream",
     "text": [
      "the Geom: {'spatialReference': {'latestWkid': 3857, 'wkid': 102100}, 'xmin': -10116183.12480997, 'ymin': 4637924.2856790265, 'xmax': -9965755.053144686, 'ymax': 4699073.90830719}\n",
      "Sample Count: 4100\n",
      "GeoEnrichment Population Results: -1\n"
     ]
    }
   ],
   "source": [
    "# Create & Display Map\n",
    "viz_map = gis.map('St Louis')\n",
    "viz_map.add_layer(img_lyr)\n",
    "display(viz_map)\n",
    "\n",
    "# Create Submit Button & Set on_click\n",
    "run_btn = widgets.Button(\n",
    "    description='Fetch Extent',\n",
    "    button_style='success',\n",
    "    tooltip='Collect GeoEnrichment for Extent',\n",
    "    layout=widgets.Layout(justify_content='center', margin='0px 0px 0px 10px')\n",
    ")\n",
    "run_btn.on_click(running)\n",
    "\n",
    "# Handle Widget Layout\n",
    "params = widgets.HBox(\n",
    "    [run_btn], \n",
    "    layout=widgets.Layout(justify_content='center', margin='10px')\n",
    ")\n",
    "display(params)"
   ]
  },
  {
   "cell_type": "markdown",
   "metadata": {},
   "source": [
    "![image](https://github.com/ManushiM/Esri_Tutorials/assets/13968196/e0584ffe-b8b9-4433-8085-2fb2799f6e0f)"
   ]
  },
  {
   "cell_type": "code",
   "execution_count": null,
   "metadata": {},
   "outputs": [],
   "source": []
  }
 ],
 "metadata": {
  "esriNotebookRuntime": {
   "notebookRuntimeName": "ArcGIS Notebook Python 3 Standard",
   "notebookRuntimeVersion": "9.0"
  },
  "extensions": {
   "jupyter_dashboards": {
    "activeView": "report_default",
    "version": 1,
    "views": {
     "grid_default": {
      "cellMargin": 10,
      "defaultCellHeight": 20,
      "maxColumns": 12,
      "name": "grid",
      "type": "grid"
     },
     "report_default": {
      "name": "report",
      "type": "report"
     }
    }
   }
  },
  "kernelspec": {
   "display_name": "Python 3 (ipykernel)",
   "language": "python",
   "name": "python3"
  },
  "language_info": {
   "codemirror_mode": {
    "name": "ipython",
    "version": 3
   },
   "file_extension": ".py",
   "mimetype": "text/x-python",
   "name": "python",
   "nbconvert_exporter": "python",
   "pygments_lexer": "ipython3",
   "version": "3.7.16"
  },
  "toc": {
   "base_numbering": 1,
   "nav_menu": {},
   "number_sections": false,
   "sideBar": true,
   "skip_h1_title": false,
   "title_cell": "Table of Contents",
   "title_sidebar": "Contents",
   "toc_cell": false,
   "toc_position": {},
   "toc_section_display": true,
   "toc_window_display": false
  }
 },
 "nbformat": 4,
 "nbformat_minor": 2
}
