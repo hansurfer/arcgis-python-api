{
 "cells": [
  {
   "cell_type": "markdown",
   "metadata": {
    "toc": true
   },
   "source": [
    "<h1>Table of Contents<span class=\"tocSkip\"></span></h1>\n",
    "<div class=\"toc\"><ul class=\"toc-item\"><li><span><a href=\"#Import-the-necessary-libraries-and-connect-to-the-GIS\" data-toc-modified-id=\"Import-the-necessary-libraries-and-connect-to-the-GIS-1\"><span class=\"toc-item-num\">1&nbsp;&nbsp;</span>Import the necessary libraries and connect to the GIS</a></span></li><li><span><a href=\"#Define-the-Organization's-valid-Metadata-Profile\" data-toc-modified-id=\"Define-the-Organization's-valid-Metadata-Profile-2\"><span class=\"toc-item-num\">2&nbsp;&nbsp;</span>Define the Organization's valid Metadata Profile</a></span></li><li><span><a href=\"#Define-a-function-to-inspect-the-metadata-of-an-item\" data-toc-modified-id=\"Define-a-function-to-inspect-the-metadata-of-an-item-3\"><span class=\"toc-item-num\">3&nbsp;&nbsp;</span>Define a function to inspect the metadata of an item</a></span></li><li><span><a href=\"#Create-a-Data-Structure-for-each-item's-metadata-status\" data-toc-modified-id=\"Create-a-Data-Structure-for-each-item's-metadata-status-4\"><span class=\"toc-item-num\">4&nbsp;&nbsp;</span>Create a Data Structure for each item's metadata status</a></span></li><li><span><a href=\"#Create-a-Pandas-Dataframe-for-writing-out-to-a-csv-file\" data-toc-modified-id=\"Create-a-Pandas-Dataframe-for-writing-out-to-a-csv-file-5\"><span class=\"toc-item-num\">5&nbsp;&nbsp;</span>Create a Pandas Dataframe for writing out to a csv file</a></span></li><li><span><a href=\"#Write-the-dataframe-to-a-csv-file-and-add-it-as-an-item\" data-toc-modified-id=\"Write-the-dataframe-to-a-csv-file-and-add-it-as-an-item-6\"><span class=\"toc-item-num\">6&nbsp;&nbsp;</span>Write the dataframe to a <code>csv</code> file and add it as an item</a></span></li></ul></div>"
   ]
  },
  {
   "cell_type": "markdown",
   "metadata": {},
   "source": [
    "# Content Management: Validate item metadata\n",
    "\n",
    "* 👟 Ready To Run!\n",
    "* 📦 Content Management\n",
    "* 🗃️ Administration\n",
    "\n",
    "__Requirements__\n",
    "* 🔒 Administrator Privileges\n",
    "\n",
    "Some organizations require specific background and descriptive information on data items before they'll consider it a valid data holding. This background and descriptive information is known as metadata. An item's metadata can record whatever information is important for the organization to know about that item. In addition to descriptive information, this might include information about how accurate and recent the item is, restrictions associated with using and sharing the item, and important processes in its life cycle. \n",
    "\n",
    "Each organization can define the metadata attributes necessary for the item to be considered valid. In addition, an organizaton may rely on specific [metadata standards and styles](http://enterprise.arcgis.com/en/portal/latest/use/metadata.htm#ESRI_SECTION2_9AB0CCA6A1C443C5A0AEA956D15C1E55) to help identify the information it needs to know about geospatial and relevant nonspatial resources and how to store and present that information. For more details and approaches for storing metatdata, see the [Enterprise Metadata documentation](http://enterprise.arcgis.com/en/portal/latest/use/metadata.htm). Note that while the item metadata is similar in concept to conventional metadata (information that describes and explains data), it follows certain standards and specifications in the form of _metadata properties_ to regard it as a valid ArcGIS item.\n",
    "\n",
    "This notebook demonstrates one potential method to inspect items to ensure they contain certain default Item Description metadata properties an organization has deemed necessary. The notebook outputs a csv file with a value of False for each property an Item does not have, True for those it does, plus some additional item attributes."
   ]
  },
  {
   "cell_type": "markdown",
   "metadata": {},
   "source": [
    "### Import the necessary libraries and connect to the GIS"
   ]
  },
  {
   "cell_type": "code",
   "execution_count": 1,
   "metadata": {},
   "outputs": [],
   "source": [
    "import os\n",
    "import datetime as dt\n",
    "\n",
    "import pandas as pd\n",
    "\n",
    "from arcgis.gis import GIS"
   ]
  },
  {
   "cell_type": "code",
   "execution_count": 2,
   "metadata": {},
   "outputs": [],
   "source": [
    "gis = GIS(\"home\")"
   ]
  },
  {
   "cell_type": "markdown",
   "metadata": {},
   "source": [
    "When you add an Item to your Organization, certain metadata properties are required, including an item `title` and `tags`. The item `type` is also required, and with that type a set of `typeKeywords` are automatically added to an item. No matter how you add items to the Organization, these metadata properties are present.\n",
    "\n",
    "Let's specify an additional list of properties that our organization will require to describe items in our Organization. We'll create a list of strings to make sure items have a description, a thumbnail (other than the default), and a snippet."
   ]
  },
  {
   "cell_type": "markdown",
   "metadata": {},
   "source": [
    "### Define the Organization's valid Metadata Profile"
   ]
  },
  {
   "cell_type": "code",
   "execution_count": 3,
   "metadata": {},
   "outputs": [],
   "source": [
    "item_profile = ['description', 'thumbnail', 'snippet']"
   ]
  },
  {
   "cell_type": "markdown",
   "metadata": {},
   "source": [
    "Next, we'll define a function that loops through our item profile list, and inspects the value for each profile attribute for the items each user in our Organization owns. For each thumbnail, we'll check to see whether the default thumbnail has been changed. \n",
    "\n",
    "We'll then create a list of True/False values for each item:\n",
    " * True if it has the property or has added a thumbnail\n",
    " * False if the property is missing or the item uses the default thumbnail.\n",
    " \n",
    "We'll then append the item id and url (if present) to this True/False list for later use to create an informative file."
   ]
  },
  {
   "cell_type": "markdown",
   "metadata": {},
   "source": [
    "### Define a function to inspect the metadata of an item"
   ]
  },
  {
   "cell_type": "code",
   "execution_count": 4,
   "metadata": {},
   "outputs": [],
   "source": [
    "def get_missing_item_attrs(portal_item):\n",
    "    \"\"\"Returns a list of True/False values for specific \n",
    "    properties as well as the item id and url (if \n",
    "    applicable for each item in the portal.\n",
    "    \"\"\"\n",
    "    non_compliance = []\n",
    "    for attr in item_profile:\n",
    "        if attr == 'thumbnail':\n",
    "            if getattr(portal_item, attr) is not None:\n",
    "                if 'ago_downloaded' in getattr(portal_item, attr):\n",
    "                    non_compliance.append(False)\n",
    "                else:\n",
    "                    non_compliance.append(True)\n",
    "            else:\n",
    "                non_compliance.append(False)\n",
    "        else:\n",
    "            if getattr(portal_item, attr) == None:\n",
    "                non_compliance.append(False)\n",
    "            else:\n",
    "                non_compliance.append(True)\n",
    "    non_compliance.append(portal_item.id)\n",
    "    non_compliance.append(portal_item.url)\n",
    "    return non_compliance"
   ]
  },
  {
   "cell_type": "markdown",
   "metadata": {},
   "source": [
    "### Create a Data Structure for each item's metadata status"
   ]
  },
  {
   "cell_type": "markdown",
   "metadata": {},
   "source": [
    "Now we'll use a Python `dictionary` to create a data structure so we can inspect each item. We'll create a list of users in the GIS.  While looping over the list of users, we'll examine each folder the user owns for items and call the function we defined above on each item to create a list of the status for each metadata attribute we're interested in.\n",
    "\n",
    "We'll then use the list for each item to populate a dictionary. Each _key_ will be a unique name for each item (Since item titles in an Organization can be indentical, we'll use string indexing and concatenation to combine item attributes into a name that uniquely identifies each item). Each _value_ will be a list with the True/False attributes regarding the metadata plus the item id and url.  \n",
    "\n",
    "In addition to this dictionary, the cell below prints information on each user, each folder the user owns, and number of items in each folder."
   ]
  },
  {
   "cell_type": "code",
   "execution_count": 5,
   "metadata": {},
   "outputs": [],
   "source": [
    "item_profile_status = {}\n",
    "for user in gis.users.search():\n",
    "    print(f\"{user.username.upper()}\\n{'-'*50}\")\n",
    "    print(f\"\\tRoot Folder: {user.username.lower()}\\n\\t{'='*25}\")\n",
    "    if user.items():\n",
    "        print(f\"\\t\\t- {len(user.items())} items\")\n",
    "        for item in user.items():\n",
    "            missing_item_atts = get_missing_item_attrs(item)\n",
    "            item_profile_status[item.title[:50] + '_' +\n",
    "                str(int(item.created/1000))] = missing_item_atts\n",
    "    else:\n",
    "        print(f\"\\t\\t- {len(user.items())} items\")\n",
    "    if user.folders:\n",
    "          for folder in user.folders:\n",
    "            if user.items(folder=folder):\n",
    "                print(f\"\\t{folder['title']}\\n\\t{'='*25}\")\n",
    "                print(f\"\\t\\t- {len(user.items(folder=folder))} items\")\n",
    "                for item in user.items(folder=folder):\n",
    "                    missing_item_atts = get_missing_item_attrs(item)\n",
    "                    item_profile_status[item.title[:50] + '_' +\n",
    "                        str(int(item.created/1000))] = missing_item_atts\n",
    "            else:\n",
    "                print(f\"\\t{folder['title'].capitalize()}\\n\\t{'='*25}\")\n",
    "                print(f\"\\t\\t-0 items\")\n",
    "    print(\"\\n\")"
   ]
  },
  {
   "cell_type": "markdown",
   "metadata": {},
   "source": [
    "\n",
    "![image](https://github.com/ManushiM/Esri_Tutorials/assets/13968196/cbed3e1b-c4c0-4f21-aaac-d482ee33a67a)"
   ]
  },
  {
   "cell_type": "markdown",
   "metadata": {},
   "source": [
    "### Create a Pandas Dataframe for writing out to a csv file "
   ]
  },
  {
   "cell_type": "markdown",
   "metadata": {},
   "source": [
    "Let's first inspect the first five elements from the dictionary of data items:"
   ]
  },
  {
   "cell_type": "code",
   "execution_count": 6,
   "metadata": {},
   "outputs": [
    {
     "data": {
      "text/plain": [
       "[('StreamOverlay178515_Buffer_1615887205',\n",
       "  [True, True, True, '8ace59c5a8be401bbddaccfae0a39305', '']),\n",
       " ('StreamOverlay178515_Buffer_1615887208',\n",
       "  [True,\n",
       "   True,\n",
       "   True,\n",
       "   'bc6a732940e84e67a07b4dc299e0f5cf',\n",
       "   'https://services7.arcgis.com/JEwYeAy2cc8qOe3o/arcgis/rest/services/StreamOverlay178515_Buffer/FeatureServer']),\n",
       " ('test1_1615944782',\n",
       "  [False,\n",
       "   False,\n",
       "   True,\n",
       "   '7c50884101b14a5986a419ed756a629c',\n",
       "   'https://geosaurus.maps.arcgis.com/apps/webappviewer/index.html?id=7c50884101b14a5986a419ed756a629c']),\n",
       " ('test1_1615944783',\n",
       "  [False,\n",
       "   False,\n",
       "   False,\n",
       "   '8a9aec45b9474b3eb61d940c0712f15f',\n",
       "   '//geosaurus.maps.arcgis.com/sharing/rest/content/items/7c50884101b14a5986a419ed756a629c/package']),\n",
       " ('澜沧江流域2010土地利用_1615962321',\n",
       "  [False, False, False, 'f83e5fe270a84d29abe9ce77c110e02f', None])]"
      ]
     },
     "execution_count": 6,
     "metadata": {},
     "output_type": "execute_result"
    }
   ],
   "source": [
    "list(item_profile_status.items())[:5]"
   ]
  },
  {
   "cell_type": "markdown",
   "metadata": {},
   "source": [
    "Now we'll create a list based upon our original item profile list. We'll add two members to the list corresponding to the item id and url values we recorded for each item."
   ]
  },
  {
   "cell_type": "code",
   "execution_count": 7,
   "metadata": {},
   "outputs": [],
   "source": [
    "new_item_profile = item_profile + ['itemID', 'url']"
   ]
  },
  {
   "cell_type": "code",
   "execution_count": 8,
   "metadata": {},
   "outputs": [
    {
     "data": {
      "text/plain": [
       "['description', 'thumbnail', 'snippet', 'itemID', 'url']"
      ]
     },
     "execution_count": 8,
     "metadata": {},
     "output_type": "execute_result"
    }
   ],
   "source": [
    "new_item_profile"
   ]
  },
  {
   "cell_type": "markdown",
   "metadata": {},
   "source": [
    "Next, we'll create the dataframe, using the new list as the `index` for transposing the dataframe to one with each item as a row:"
   ]
  },
  {
   "cell_type": "code",
   "execution_count": 9,
   "metadata": {},
   "outputs": [
    {
     "data": {
      "text/html": [
       "<div>\n",
       "<style scoped>\n",
       "    .dataframe tbody tr th:only-of-type {\n",
       "        vertical-align: middle;\n",
       "    }\n",
       "\n",
       "    .dataframe tbody tr th {\n",
       "        vertical-align: top;\n",
       "    }\n",
       "\n",
       "    .dataframe thead th {\n",
       "        text-align: right;\n",
       "    }\n",
       "</style>\n",
       "<table border=\"1\" class=\"dataframe\">\n",
       "  <thead>\n",
       "    <tr style=\"text-align: right;\">\n",
       "      <th></th>\n",
       "      <th>description</th>\n",
       "      <th>thumbnail</th>\n",
       "      <th>snippet</th>\n",
       "      <th>itemID</th>\n",
       "      <th>url</th>\n",
       "    </tr>\n",
       "  </thead>\n",
       "  <tbody>\n",
       "    <tr>\n",
       "      <th>StreamOverlay178515_Buffer_1615887205</th>\n",
       "      <td>True</td>\n",
       "      <td>True</td>\n",
       "      <td>True</td>\n",
       "      <td>8ace59c5a8be401bbddaccfae0a39305</td>\n",
       "      <td></td>\n",
       "    </tr>\n",
       "    <tr>\n",
       "      <th>StreamOverlay178515_Buffer_1615887208</th>\n",
       "      <td>True</td>\n",
       "      <td>True</td>\n",
       "      <td>True</td>\n",
       "      <td>bc6a732940e84e67a07b4dc299e0f5cf</td>\n",
       "      <td>https://services7.arcgis.com/JEwYeAy2cc8qOe3o/arcgis/rest/services/StreamOverlay178515_Buffer/FeatureServer</td>\n",
       "    </tr>\n",
       "    <tr>\n",
       "      <th>test1_1615944782</th>\n",
       "      <td>False</td>\n",
       "      <td>False</td>\n",
       "      <td>True</td>\n",
       "      <td>7c50884101b14a5986a419ed756a629c</td>\n",
       "      <td>https://geosaurus.maps.arcgis.com/apps/webappviewer/index.html?id=7c50884101b14a5986a419ed756a629c</td>\n",
       "    </tr>\n",
       "    <tr>\n",
       "      <th>test1_1615944783</th>\n",
       "      <td>False</td>\n",
       "      <td>False</td>\n",
       "      <td>False</td>\n",
       "      <td>8a9aec45b9474b3eb61d940c0712f15f</td>\n",
       "      <td>//geosaurus.maps.arcgis.com/sharing/rest/content/items/7c50884101b14a5986a419ed756a629c/package</td>\n",
       "    </tr>\n",
       "    <tr>\n",
       "      <th>澜沧江流域2010土地利用_1615962321</th>\n",
       "      <td>False</td>\n",
       "      <td>False</td>\n",
       "      <td>False</td>\n",
       "      <td>f83e5fe270a84d29abe9ce77c110e02f</td>\n",
       "      <td>None</td>\n",
       "    </tr>\n",
       "  </tbody>\n",
       "</table>\n",
       "</div>"
      ],
      "text/plain": [
       "                                      description thumbnail snippet  \\\n",
       "StreamOverlay178515_Buffer_1615887205        True      True    True   \n",
       "StreamOverlay178515_Buffer_1615887208        True      True    True   \n",
       "test1_1615944782                            False     False    True   \n",
       "test1_1615944783                            False     False   False   \n",
       "澜沧江流域2010土地利用_1615962321                    False     False   False   \n",
       "\n",
       "                                                                 itemID  \\\n",
       "StreamOverlay178515_Buffer_1615887205  8ace59c5a8be401bbddaccfae0a39305   \n",
       "StreamOverlay178515_Buffer_1615887208  bc6a732940e84e67a07b4dc299e0f5cf   \n",
       "test1_1615944782                       7c50884101b14a5986a419ed756a629c   \n",
       "test1_1615944783                       8a9aec45b9474b3eb61d940c0712f15f   \n",
       "澜沧江流域2010土地利用_1615962321               f83e5fe270a84d29abe9ce77c110e02f   \n",
       "\n",
       "                                                                                                                                               url  \n",
       "StreamOverlay178515_Buffer_1615887205                                                                                                               \n",
       "StreamOverlay178515_Buffer_1615887208  https://services7.arcgis.com/JEwYeAy2cc8qOe3o/arcgis/rest/services/StreamOverlay178515_Buffer/FeatureServer  \n",
       "test1_1615944782                                https://geosaurus.maps.arcgis.com/apps/webappviewer/index.html?id=7c50884101b14a5986a419ed756a629c  \n",
       "test1_1615944783                                   //geosaurus.maps.arcgis.com/sharing/rest/content/items/7c50884101b14a5986a419ed756a629c/package  \n",
       "澜沧江流域2010土地利用_1615962321                                                                                                                      None  "
      ]
     },
     "execution_count": 9,
     "metadata": {},
     "output_type": "execute_result"
    }
   ],
   "source": [
    "pd.set_option('display.max_colwidth', 175) # for display of lengthy text values\n",
    "\n",
    "item_profile_df = pd.DataFrame(data=item_profile_status, \n",
    "                               index=new_item_profile).T\n",
    "item_profile_df.head()"
   ]
  },
  {
   "cell_type": "markdown",
   "metadata": {},
   "source": [
    "### Write the dataframe to a `csv` file and add it as an item\n",
    "\n",
    "We'll add a timestamp to the output file to ensure uniqueness when adding the csv item to the Organization."
   ]
  },
  {
   "cell_type": "code",
   "execution_count": 10,
   "metadata": {},
   "outputs": [],
   "source": [
    "output_dir = \"/arcgis/home/\"\n",
    "out_file = \"org_item_profile_status_\" + \\\n",
    "            str(int(dt.datetime.now().timestamp())) + \\\n",
    "            \".csv\"\n",
    "\n",
    "item_profile_df.to_csv(os.path.join(output_dir, out_file), \n",
    "                       index_label='item_name')"
   ]
  },
  {
   "cell_type": "code",
   "execution_count": 11,
   "metadata": {},
   "outputs": [
    {
     "data": {
      "text/html": [
       "<div class=\"item_container\" style=\"height: auto; overflow: hidden; border: 1px solid #cfcfcf; border-radius: 2px; background: #f6fafa; line-height: 1.21429em; padding: 10px;\">\n",
       "                    <div class=\"item_left\" style=\"width: 210px; float: left;\">\n",
       "                       <a href='https://geosaurus.maps.arcgis.com/home/item.html?id=de7a68e037684220a0292558cec06ae8' target='_blank'>\n",
       "                        <img src='http://static.arcgis.com/images/desktopapp.png' class=\"itemThumbnail\">\n",
       "                       </a>\n",
       "                    </div>\n",
       "\n",
       "                    <div class=\"item_right\"     style=\"float: none; width: auto; overflow: hidden;\">\n",
       "                        <a href='https://geosaurus.maps.arcgis.com/home/item.html?id=de7a68e037684220a0292558cec06ae8' target='_blank'><b>org_item_profile_status_1686348049</b>\n",
       "                        </a>\n",
       "                        <br/><img src='https://geosaurus.maps.arcgis.com/home/js/jsapi/esri/css/images/item_type_icons/layers16.png' style=\"vertical-align:middle;\">CSV by MMajumdar_geosaurus\n",
       "                        <br/>Last Modified: June 09, 2023\n",
       "                        <br/>0 comments, 0 views\n",
       "                    </div>\n",
       "                </div>\n",
       "                "
      ],
      "text/plain": [
       "<Item title:\"org_item_profile_status_1686348049\" type:CSV owner:MMajumdar_geosaurus>"
      ]
     },
     "execution_count": 11,
     "metadata": {},
     "output_type": "execute_result"
    }
   ],
   "source": [
    "gis.content.add({}, output_dir + out_file)"
   ]
  },
  {
   "cell_type": "markdown",
   "metadata": {},
   "source": [
    "You may download this item if you wish, and if you decide to delete this item after having used it, you may run the script below by updating the `item_id` with the id of this file in your organization."
   ]
  },
  {
   "cell_type": "code",
   "execution_count": null,
   "metadata": {},
   "outputs": [],
   "source": [
    "item = gis.content.get(item_id)\n",
    "item.delete()"
   ]
  },
  {
   "cell_type": "markdown",
   "metadata": {},
   "source": [
    "# Conclusion\n",
    "\n",
    "This notebook checked attribute values for an organization's items against a pre-defined list of properties for item metadata, and based upon those values recorded the status of the metadata property. It combined these values with the `id` and `url` for any service backing the item (if applicable) and then wrote the results to a `csv` file that was added to the Organization. This file can then be analyzed to message item owners to update the metadata for items to comply with organizational requirements."
   ]
  }
 ],
 "metadata": {
  "esriNotebookRuntime": {
   "notebookRuntimeName": "ArcGIS Notebook Python 3 Standard",
   "notebookRuntimeVersion": "7.0"
  },
  "kernelspec": {
   "display_name": "Python 3 (ipykernel)",
   "language": "python",
   "name": "python3"
  },
  "language_info": {
   "codemirror_mode": {
    "name": "ipython",
    "version": 3
   },
   "file_extension": ".py",
   "mimetype": "text/x-python",
   "name": "python",
   "nbconvert_exporter": "python",
   "pygments_lexer": "ipython3",
   "version": "3.7.16"
  },
  "toc": {
   "base_numbering": 1,
   "nav_menu": {},
   "number_sections": true,
   "sideBar": true,
   "skip_h1_title": true,
   "title_cell": "Table of Contents",
   "title_sidebar": "Contents",
   "toc_cell": true,
   "toc_position": {},
   "toc_section_display": true,
   "toc_window_display": true
  }
 },
 "nbformat": 4,
 "nbformat_minor": 2
}
