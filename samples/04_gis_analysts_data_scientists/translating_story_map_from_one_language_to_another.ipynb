{
 "cells": [
  {
   "cell_type": "markdown",
   "metadata": {},
   "source": [
    "# Translating Story Map from one language to another using Deep Learning"
   ]
  },
  {
   "cell_type": "markdown",
   "metadata": {},
   "source": [
    "<h1>Table of Contents<span class=\"tocSkip\"></span></h1>\n",
    "<div class=\"toc\">\n",
    "<ul class=\"toc-item\">\n",
    "<li><span><a href=\"#Introduction\" data-toc-modified-id=\"Introduction-1\">Introduction</a></span></li>\n",
    "<li><span><a href=\"#Prerequisites\" data-toc-modified-id=\"Prerequisites-2\">Prerequisites</a></span></li>\n",
    "<li><span><a href=\"#Imports\" data-toc-modified-id=\"Imports-3\">Imports</a></span></li>\n",
    "<li><span><a href=\"#Translate-Story-Map-from-English-to-Spanish\" data-toc-modified-id=\"Translate-Story-Map-from-English-to-Spanish-4\">Translate Story Map from English to Spanish</a></span></li>\n",
    "<ul class=\"toc-item\">\n",
    "    <li><span><a href=\"#Connect-to-GIS-and-clone-Story-Map\" data-toc-modified-id=\"Connect-to-GIS-and-clone-Story-Map-4.1\">Connect to GIS and clone Story Map</a></span></li>\n",
    "    <li><span><a href=\"#Instantiate-text-translator\" data-toc-modified-id=\"Instantiate-text-translator-4.2\">Instantiate text translator</a></span></li>\n",
    "    <li><span><a href=\"#Translate-Story-Map-content\" data-toc-modified-id=\"Translate-Story-Map-content-4.3\">Translate Story Map content</a></span></li>\n",
    "    <li><span><a href=\"#Update-cloned-Story-Map-item\" data-toc-modified-id=\"Update-cloned-Story-Map-item-4.4\">Update cloned Story Map item</a></span></li>\n",
    "</ul>\n",
    "<li><span><a href=\"#Conclusion\" data-toc-modified-id=\"Conclusion-5\">Conclusion</a></span></li>    \n",
    "<li><span><a href=\"#References\" data-toc-modified-id=\"References-6\">References</a></span></li>\n",
    "</ul>\n",
    "</div>"
   ]
  },
  {
   "cell_type": "markdown",
   "metadata": {},
   "source": [
    "# Introduction"
   ]
  },
  {
   "cell_type": "markdown",
   "metadata": {},
   "source": [
    "A [story map](https://www.esri.com/en-us/arcgis/products/arcgis-storymaps/overview) is a web map that is created for a given context with supporting information so that it becomes a stand-alone resource. It integrates maps, legends, text, photos, and video. Story maps can be built using Esri's story map templates and are a great way to quickly build useful information products tailored to one's organization needs. Using the templates, one can publish a story map without writing any code. One can simply create a web map, supply the text and images for the story, and configure the template files to create a story map. \n",
    "\n",
    "Sometimes, there is a need to convert the text of a story map from one language to another so that it can be understood by nonnative language speaker as well. This can be done either by employing a human translator or by using a machine translation system to automatically convert the text from one language to another.\n",
    "\n",
    "Machine translation is a sub-field of computational linguistics that deals with the problem of translating an input text or speech from one language to another. With the recent advancements in **Natural Language Processing (NLP)** and **Deep Learning**, it is now possible for a machine translation system to reach human like performance in translating a text from one language to another.\n",
    "\n",
    "In this notebook, we will pick a story map written in English language, and create another story map with the text translated to Spanish language using the `arcgis.learn.text`'s **TextTranslator** class. The **TextTranslator** class is part of inference-only classes offerered by the `arcgis.learn.text` submodule. These inference-only classes offer a simple API dedicated to several **Natural Language Processing (NLP)** tasks including **Masked Language Modeling**, **Text Generation**, **Sentiment Analysis**, **Summarization**, **Machine Translation** and **Question Answering**."
   ]
  },
  {
   "cell_type": "markdown",
   "metadata": {},
   "source": [
    "# Prerequisites"
   ]
  },
  {
   "cell_type": "markdown",
   "metadata": {},
   "source": [
    "- Inferencing workflows for Inference-only Text models of `arcgis.learn.text` submodule is based on [Hugging Face Transformers](https://huggingface.co/transformers/v3.0.2/index.html) library. \n",
    "- Refer to the section [Install deep learning dependencies of arcgis.learn module](https://developers.arcgis.com/python/guide/install-and-set-up/#Install-deep-learning-dependencies) for detailed explanation about deep learning dependencies.\n",
    "- [Beautiful Soup](https://anaconda.org/anaconda/beautifulsoup4) python library to pull text out from the HTML content of the story map.\n",
    "- **Choosing a pretrained model**: Depending on the task and the language of the input text, user might need to choose an appropriate transformer backbone to generate desired inference. This [link](https://huggingface.co/models?search=helsinki) lists out all the pretrained models offered by [Hugging Face Transformers](https://huggingface.co/transformers/v3.0.2/index.html) library that allows translation from a source language to one or more target languages."
   ]
  },
  {
   "cell_type": "markdown",
   "metadata": {},
   "source": [
    "# Imports"
   ]
  },
  {
   "cell_type": "code",
   "execution_count": 1,
   "metadata": {},
   "outputs": [],
   "source": [
    "from arcgis import GIS\n",
    "from bs4 import BeautifulSoup\n",
    "from arcgis.learn.text import TextTranslator"
   ]
  },
  {
   "cell_type": "markdown",
   "metadata": {},
   "source": [
    "# Translate Story Map from English to Spanish"
   ]
  },
  {
   "cell_type": "markdown",
   "metadata": {},
   "source": [
    "In this notebook we have picked up a story map written in **English** language, which talks about the near-term interim improvements (for the new bicycle and pedestrian bridge design over Lady Bird Lake) to South Pleasant Valley Road. Our goal will be to create a clone of this story map with the text translated to **Spanish** language"
   ]
  },
  {
   "cell_type": "markdown",
   "metadata": {},
   "source": [
    "## Connect to GIS and clone Story Map"
   ]
  },
  {
   "cell_type": "markdown",
   "metadata": {},
   "source": [
    "To achieve our goal, we will first connect to an ArcGIS online account, get the desired content by passing the appropriate item-id and cloning the item into our GIS account. We will then apply the `TextTranslator` model of `arcgis.learn.text` submodule to this cloned item to convert the content of the story map to **Spanish** language."
   ]
  },
  {
   "cell_type": "code",
   "execution_count": 2,
   "metadata": {},
   "outputs": [],
   "source": [
    "agol = GIS()\n",
    "\n",
    "gis = GIS('home')"
   ]
  },
  {
   "cell_type": "code",
   "execution_count": 3,
   "metadata": {},
   "outputs": [
    {
     "data": {
      "text/html": [
       "<div class=\"item_container\" style=\"height: auto; overflow: hidden; border: 1px solid #cfcfcf; border-radius: 2px; background: #f6fafa; line-height: 1.21429em; padding: 10px;\">\n",
       "                    <div class=\"item_left\" style=\"width: 210px; float: left;\">\n",
       "                       <a href='https://www.arcgis.com/home/item.html?id=c8eef2a96c88489c92010a63d0944881' target='_blank'>\n",
       "                        <img src='https://www.arcgis.com/sharing/rest//content/items/c8eef2a96c88489c92010a63d0944881/info/thumbnail/ago_downloaded.jpg' class=\"itemThumbnail\">\n",
       "                       </a>\n",
       "                    </div>\n",
       "\n",
       "                    <div class=\"item_right\"     style=\"float: none; width: auto; overflow: hidden;\">\n",
       "                        <a href='https://www.arcgis.com/home/item.html?id=c8eef2a96c88489c92010a63d0944881' target='_blank'><b>South Pleasant Valley Road</b>\n",
       "                        </a>\n",
       "                        <br/>(Cesar Chavez Street to Elmont Drive)<img src='https://www.arcgis.com/home/js/jsapi/esri/css/images/item_type_icons/layers16.png' style=\"vertical-align:middle;\">StoryMap by ATD_Publisher\n",
       "                        <br/>Last Modified: September 08, 2020\n",
       "                        <br/>0 comments, 2,332 views\n",
       "                    </div>\n",
       "                </div>\n",
       "                "
      ],
      "text/plain": [
       "<Item title:\"South Pleasant Valley Road\" type:StoryMap owner:ATD_Publisher>"
      ]
     },
     "execution_count": 3,
     "metadata": {},
     "output_type": "execute_result"
    }
   ],
   "source": [
    "storymapitem = agol.content.get('c8eef2a96c88489c92010a63d0944881')\n",
    "storymapitem"
   ]
  },
  {
   "cell_type": "code",
   "execution_count": 4,
   "metadata": {},
   "outputs": [
    {
     "data": {
      "text/plain": [
       "[<Item title:\"South Pleasant Valley Road\" type:StoryMap owner:arcgis_python>]"
      ]
     },
     "execution_count": 4,
     "metadata": {},
     "output_type": "execute_result"
    }
   ],
   "source": [
    "cloned_items = gis.content.clone_items([storymapitem], search_existing_items=False)\n",
    "cloned_items"
   ]
  },
  {
   "cell_type": "code",
   "execution_count": 5,
   "metadata": {},
   "outputs": [
    {
     "data": {
      "text/html": [
       "<div class=\"item_container\" style=\"height: auto; overflow: hidden; border: 1px solid #cfcfcf; border-radius: 2px; background: #f6fafa; line-height: 1.21429em; padding: 10px;\">\n",
       "                    <div class=\"item_left\" style=\"width: 210px; float: left;\">\n",
       "                       <a href='https://geosaurus.maps.arcgis.com/home/item.html?id=a5af5750f9d143238d72bac224f204fb' target='_blank'>\n",
       "                        <img src='data:image/png;base64,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' width='200' height='133' class=\"itemThumbnail\">\n",
       "                       </a>\n",
       "                    </div>\n",
       "\n",
       "                    <div class=\"item_right\"     style=\"float: none; width: auto; overflow: hidden;\">\n",
       "                        <a href='https://geosaurus.maps.arcgis.com/home/item.html?id=a5af5750f9d143238d72bac224f204fb' target='_blank'><b>South Pleasant Valley Road</b>\n",
       "                        </a>\n",
       "                        <br/>(Cesar Chavez Street to Elmont Drive)<img src='https://geosaurus.maps.arcgis.com/home/js/jsapi/esri/css/images/item_type_icons/layers16.png' style=\"vertical-align:middle;\">StoryMap by arcgis_python\n",
       "                        <br/>Last Modified: December 07, 2020\n",
       "                        <br/>0 comments, 0 views\n",
       "                    </div>\n",
       "                </div>\n",
       "                "
      ],
      "text/plain": [
       "<Item title:\"South Pleasant Valley Road\" type:StoryMap owner:arcgis_python>"
      ]
     },
     "execution_count": 5,
     "metadata": {},
     "output_type": "execute_result"
    }
   ],
   "source": [
    "cloned_item = cloned_items[0]\n",
    "cloned_item"
   ]
  },
  {
   "cell_type": "code",
   "execution_count": 6,
   "metadata": {},
   "outputs": [
    {
     "data": {
      "text/plain": [
       "'a5af5750f9d143238d72bac224f204fb'"
      ]
     },
     "execution_count": 6,
     "metadata": {},
     "output_type": "execute_result"
    }
   ],
   "source": [
    "cloned_item.id"
   ]
  },
  {
   "cell_type": "markdown",
   "metadata": {},
   "source": [
    "## Instantiate text translator"
   ]
  },
  {
   "cell_type": "markdown",
   "metadata": {},
   "source": [
    "Next, we will instantiate the class object for the `TextTranslator` model. We wish to translate text from **English** language into **Spanish** language. So will invoke the object by passing the corresponding ISO language codes [[1]](#References) in the model constructor."
   ]
  },
  {
   "cell_type": "code",
   "execution_count": 7,
   "metadata": {},
   "outputs": [],
   "source": [
    "translator = TextTranslator(source_language='en', target_language='es')"
   ]
  },
  {
   "cell_type": "markdown",
   "metadata": {},
   "source": [
    "We will also write some helper functions to help translate the content of story map into the desired language. The `replace` function is a recursive [[2]](#References) function that accepts a json (story map item dictionary) object `obj` and applies the function `func` on the values `v` of the `keys` list passed in the `replace` function argument. "
   ]
  },
  {
   "cell_type": "code",
   "execution_count": 8,
   "metadata": {},
   "outputs": [],
   "source": [
    "def replace(obj, keys, func):\n",
    "    return {k: replace(func(v) if k in keys else v, keys, func) \n",
    "        for k,v in obj.items()} if isinstance(obj, dict) else obj"
   ]
  },
  {
   "cell_type": "markdown",
   "metadata": {},
   "source": [
    "The `translate` function will translate the English `text` (passed in the function argument) into Spanish language. The story map text sometimes contain text wrapped inside HTML [[3]](#References) tags. We will use `BeautifulSoup` library to get the non-HTML part of the input text content and use the `translator`'s `translate` method to translate the non-HTML part of the input text into desired language (Spanish in this case). "
   ]
  },
  {
   "cell_type": "code",
   "execution_count": 9,
   "metadata": {},
   "outputs": [],
   "source": [
    "def translate(text):\n",
    "    if text == '': \n",
    "        return text\n",
    "    \n",
    "    soup = BeautifulSoup(text, \"html.parser\") \n",
    "\n",
    "    for txt in soup.find_all(text=True):\n",
    "        \n",
    "        translation = translator.translate(txt)[0]['translated_text'] if txt.strip() != '' else txt\n",
    "        txt.string.replace_with(\" \" + translation + \" \")\n",
    "    \n",
    "    return str(soup)"
   ]
  },
  {
   "cell_type": "markdown",
   "metadata": {},
   "source": [
    "## Translate Story Map content"
   ]
  },
  {
   "cell_type": "markdown",
   "metadata": {},
   "source": [
    "We will call the story map item's `get_data()` method to retrieves the data associated with the item."
   ]
  },
  {
   "cell_type": "code",
   "execution_count": 10,
   "metadata": {},
   "outputs": [],
   "source": [
    "smdata = storymapitem.get_data()"
   ]
  },
  {
   "cell_type": "markdown",
   "metadata": {},
   "source": [
    "The call to the above method will return a python dictionary containing the contents of the story map which we wish to translate. We wish to translate not only the `text` content of the story map but also things like `title`, `summary`, `captions`, etc. To do so we will call the `replace` function defined above with the desired arguments. "
   ]
  },
  {
   "cell_type": "code",
   "execution_count": 11,
   "metadata": {
    "scrolled": true
   },
   "outputs": [],
   "source": [
    "result = replace(smdata, ['text', 'alt', 'title', 'summary', 'byline', 'caption', 'storyLogoAlt'], translate)"
   ]
  },
  {
   "cell_type": "markdown",
   "metadata": {},
   "source": [
    "## Update cloned Story Map item"
   ]
  },
  {
   "cell_type": "markdown",
   "metadata": {},
   "source": [
    "This cloned story map item doesn't contain the translated version of the story map until this point. But this can be achieved by calling the `update()` method of the cloned item and passing a dictionary of the item attributes we wish to translate."
   ]
  },
  {
   "cell_type": "code",
   "execution_count": 12,
   "metadata": {},
   "outputs": [
    {
     "data": {
      "text/html": [
       "\n",
       "    <div>\n",
       "        <style>\n",
       "            /* Turns off some styling */\n",
       "            progress {\n",
       "                /* gets rid of default border in Firefox and Opera. */\n",
       "                border: none;\n",
       "                /* Needs to be in here for Safari polyfill so background images work as expected. */\n",
       "                background-size: auto;\n",
       "            }\n",
       "            .progress-bar-interrupted, .progress-bar-interrupted::-webkit-progress-bar {\n",
       "                background: #F44336;\n",
       "            }\n",
       "        </style>\n",
       "      <progress value='1' class='' max='1' style='width:300px; height:20px; vertical-align: middle;'></progress>\n",
       "      100.00% [1/1 00:00<00:00]\n",
       "    </div>\n",
       "    "
      ],
      "text/plain": [
       "<IPython.core.display.HTML object>"
      ]
     },
     "metadata": {},
     "output_type": "display_data"
    },
    {
     "data": {
      "text/html": [
       "\n",
       "    <div>\n",
       "        <style>\n",
       "            /* Turns off some styling */\n",
       "            progress {\n",
       "                /* gets rid of default border in Firefox and Opera. */\n",
       "                border: none;\n",
       "                /* Needs to be in here for Safari polyfill so background images work as expected. */\n",
       "                background-size: auto;\n",
       "            }\n",
       "            .progress-bar-interrupted, .progress-bar-interrupted::-webkit-progress-bar {\n",
       "                background: #F44336;\n",
       "            }\n",
       "        </style>\n",
       "      <progress value='1' class='' max='1' style='width:300px; height:20px; vertical-align: middle;'></progress>\n",
       "      100.00% [1/1 00:06<00:00]\n",
       "    </div>\n",
       "    "
      ],
      "text/plain": [
       "<IPython.core.display.HTML object>"
      ]
     },
     "metadata": {},
     "output_type": "display_data"
    },
    {
     "data": {
      "text/html": [
       "\n",
       "    <div>\n",
       "        <style>\n",
       "            /* Turns off some styling */\n",
       "            progress {\n",
       "                /* gets rid of default border in Firefox and Opera. */\n",
       "                border: none;\n",
       "                /* Needs to be in here for Safari polyfill so background images work as expected. */\n",
       "                background-size: auto;\n",
       "            }\n",
       "            .progress-bar-interrupted, .progress-bar-interrupted::-webkit-progress-bar {\n",
       "                background: #F44336;\n",
       "            }\n",
       "        </style>\n",
       "      <progress value='1' class='' max='1' style='width:300px; height:20px; vertical-align: middle;'></progress>\n",
       "      100.00% [1/1 00:00<00:00]\n",
       "    </div>\n",
       "    "
      ],
      "text/plain": [
       "<IPython.core.display.HTML object>"
      ]
     },
     "metadata": {},
     "output_type": "display_data"
    },
    {
     "data": {
      "text/plain": [
       "True"
      ]
     },
     "execution_count": 12,
     "metadata": {},
     "output_type": "execute_result"
    }
   ],
   "source": [
    "cloned_item.update({'url': cloned_item.url.replace(storymapitem.id, cloned_item.id), \n",
    "    'text': result,\n",
    "    'title': translator.translate(storymapitem['title'])[0]['translated_text'],\n",
    "    'description': translator.translate(storymapitem['description'])[0]['translated_text'],\n",
    "    'snippet': translator.translate(storymapitem['snippet'])[0]['translated_text']})"
   ]
  },
  {
   "cell_type": "markdown",
   "metadata": {},
   "source": [
    "The cloned story map text is now translated into Spanish language and is ready to be shared."
   ]
  },
  {
   "cell_type": "code",
   "execution_count": 13,
   "metadata": {},
   "outputs": [
    {
     "data": {
      "text/html": [
       "<div class=\"item_container\" style=\"height: auto; overflow: hidden; border: 1px solid #cfcfcf; border-radius: 2px; background: #f6fafa; line-height: 1.21429em; padding: 10px;\">\n",
       "                    <div class=\"item_left\" style=\"width: 210px; float: left;\">\n",
       "                       <a href='https://geosaurus.maps.arcgis.com/home/item.html?id=a5af5750f9d143238d72bac224f204fb' target='_blank'>\n",
       "                        <img src='data:image/png;base64,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' width='200' height='133' class=\"itemThumbnail\">\n",
       "                       </a>\n",
       "                    </div>\n",
       "\n",
       "                    <div class=\"item_right\"     style=\"float: none; width: auto; overflow: hidden;\">\n",
       "                        <a href='https://geosaurus.maps.arcgis.com/home/item.html?id=a5af5750f9d143238d72bac224f204fb' target='_blank'><b>South Pleasant Valley Road</b>\n",
       "                        </a>\n",
       "                        <br/>(Cesar Chavez a Elmont Drive)<img src='https://geosaurus.maps.arcgis.com/home/js/jsapi/esri/css/images/item_type_icons/layers16.png' style=\"vertical-align:middle;\">StoryMap by arcgis_python\n",
       "                        <br/>Last Modified: December 07, 2020\n",
       "                        <br/>0 comments, 0 views\n",
       "                    </div>\n",
       "                </div>\n",
       "                "
      ],
      "text/plain": [
       "<Item title:\"South Pleasant Valley Road\" type:StoryMap owner:arcgis_python>"
      ]
     },
     "execution_count": 13,
     "metadata": {},
     "output_type": "execute_result"
    }
   ],
   "source": [
    "cloned_item"
   ]
  },
  {
   "cell_type": "code",
   "execution_count": 14,
   "metadata": {},
   "outputs": [
    {
     "data": {
      "text/plain": [
       "{'results': [{'itemId': 'a5af5750f9d143238d72bac224f204fb',\n",
       "   'success': True,\n",
       "   'notSharedWith': []}]}"
      ]
     },
     "execution_count": 14,
     "metadata": {},
     "output_type": "execute_result"
    }
   ],
   "source": [
    "cloned_item.share(True)"
   ]
  },
  {
   "cell_type": "markdown",
   "metadata": {},
   "source": [
    "# Conclusion"
   ]
  },
  {
   "cell_type": "markdown",
   "metadata": {},
   "source": [
    "This sample demonstrates how inference only `TextTranslator` class  of `arcgis.learn.text` submodule can be used to perform machine translation task to translate text from one language to another. We showed, how easy it is to translate a story map which is written in English language into Spanish language. Similar workflow can be followed to automate the task of translating story maps or other ArcGIS items into various languages. "
   ]
  },
  {
   "cell_type": "markdown",
   "metadata": {},
   "source": [
    "# References"
   ]
  },
  {
   "cell_type": "markdown",
   "metadata": {},
   "source": [
    "[1] [ISO Language Codes](https://en.wikipedia.org/wiki/List_of_ISO_639-1_codes)\n",
    "\n",
    "[2] [Recursion](https://en.wikipedia.org/wiki/Recursion_(computer_science))\n",
    "\n",
    "[3] [HTML](https://en.wikipedia.org/wiki/HTML)"
   ]
  }
 ],
 "metadata": {
  "esriNotebookRuntime": {
   "notebookRuntimeName": "ArcGIS Notebook Python 3 Advanced with GPU support",
   "notebookRuntimeVersion": "5.0"
  },
  "kernelspec": {
   "display_name": "Python 3",
   "language": "python",
   "name": "python3"
  },
  "language_info": {
   "codemirror_mode": {
    "name": "ipython",
    "version": 3
   },
   "file_extension": ".py",
   "mimetype": "text/x-python",
   "name": "python",
   "nbconvert_exporter": "python",
   "pygments_lexer": "ipython3",
   "version": "3.6.10"
  }
 },
 "nbformat": 4,
 "nbformat_minor": 4
}
